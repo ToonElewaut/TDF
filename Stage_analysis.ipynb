{
 "cells": [
  {
   "cell_type": "code",
   "execution_count": 75,
   "metadata": {},
   "outputs": [],
   "source": [
    "import numpy as np\n",
    "import pandas as pd\n",
    "import os\n",
    "import pickle \n",
    "import procyclingstats\n",
    "import power_helper as ph\n",
    "import plotly.express as px"
   ]
  },
  {
   "cell_type": "code",
   "execution_count": 76,
   "metadata": {},
   "outputs": [],
   "source": [
    "df = pd.read_csv(\"Data_edited.csv\")\n",
    "# Riders strikes\n",
    "df = df.drop(axis=0, index=248) # 1996 stage 9\n",
    "df = df.drop(axis=0, index=234) # 1995 stage 16\n",
    "# Calculate power for full tour with fixed grade\n",
    "total_climbed = df.groupby(\"year\").stage_vertical_meters.sum()\n",
    "total_distance = df.groupby(\"year\").stage_distance.sum()\n",
    "gc_weights = df.groupby(\"year\").gc_weight.mean()\n",
    "gc_time = df.groupby(\"year\").gc_stage_time.sum()\n",
    "total_grades = total_climbed/(total_distance*1000)\n",
    "velocity = (total_distance*1000)/gc_time\n",
    "year_power = ph.cycling_power(total_grades, gc_weights, velocity)"
   ]
  },
  {
   "cell_type": "code",
   "execution_count": 77,
   "metadata": {},
   "outputs": [
    {
     "data": {
      "application/vnd.plotly.v1+json": {
       "config": {
        "plotlyServerURL": "https://plot.ly"
       },
       "data": [
        {
         "name": "power",
         "type": "scatter",
         "x": [
          1985,
          1986,
          1987,
          1988,
          1989,
          1990,
          1991,
          1992,
          1993,
          1994,
          1995,
          1996,
          1997,
          1998,
          1999,
          2000,
          2001,
          2002,
          2003,
          2004,
          2005,
          2006,
          2007,
          2008,
          2009,
          2010,
          2011,
          2012,
          2013,
          2014,
          2015,
          2016,
          2017,
          2018,
          2019,
          2020,
          2021,
          2022,
          2023
         ],
         "xaxis": "x",
         "y": [
          315.7750620808185,
          332.28861922416195,
          339.4664216184572,
          372.8970418329038,
          358.98847703661346,
          320.7015173947924,
          399.01180736076293,
          347.6460891851667,
          432.14789574002555,
          431.73122072959563,
          442.8182180880781,
          354.8078870668057,
          394.62315650678084,
          428.93105872390447,
          429.75832742068997,
          410.2750206876366,
          381.27674049005185,
          428.69336797116375,
          438.6069942264122,
          413.81059295422403,
          370.5176454505014,
          358.5697469996105,
          342.23578351419565,
          371.09530768875754,
          337.4700297229531,
          343.72399775391995,
          339.97542683742216,
          400.61003379495776,
          364.79736650998694,
          350.3907812419315,
          357.6591471413637,
          330.9065811319907,
          398.96993800356165,
          370.7787607611973,
          317.46021858241886,
          352.69365562837595,
          368.06025664984935,
          370.3252616466596,
          349.5246970178848
         ],
         "yaxis": "y"
        },
        {
         "name": "speed",
         "type": "scatter",
         "x": [
          1985,
          1986,
          1987,
          1988,
          1989,
          1990,
          1991,
          1992,
          1993,
          1994,
          1995,
          1996,
          1997,
          1998,
          1999,
          2000,
          2001,
          2002,
          2003,
          2004,
          2005,
          2006,
          2007,
          2008,
          2009,
          2010,
          2011,
          2012,
          2013,
          2014,
          2015,
          2016,
          2017,
          2018,
          2019,
          2020,
          2021,
          2022,
          2023
         ],
         "xaxis": "x",
         "y": [
          36.21475223855402,
          36.864384821342384,
          36.3860985861117,
          38.75390402825868,
          37.396315359084134,
          37.41834887929834,
          39.019156407937736,
          38.64945859365618,
          38.51107066494673,
          38.251564401181994,
          38.65453374455131,
          38.45296819919959,
          39.239475626238594,
          39.982846878401766,
          40.279040411702944,
          39.47064749519187,
          39.995536622667395,
          39.69664138678223,
          40.78733355379932,
          40.39151140671587,
          40.96000627198871,
          39.1855387427643,
          39.09359168983574,
          40.34523167351798,
          40.118054712381735,
          39.64548143041167,
          39.62253148810449,
          39.90053285968029,
          40.273439449129285,
          40.750204699593695,
          39.56491482660247,
          39.640151456031866,
          41.02240738655557,
          40.12642480078007,
          40.501895758556195,
          39.87518250264808,
          41.188976166858794,
          42.10510144583445,
          41.41981524155781
         ],
         "yaxis": "y2"
        },
        {
         "name": "year_power",
         "type": "scatter",
         "x": [
          1985,
          1986,
          1987,
          1988,
          1989,
          1990,
          1991,
          1992,
          1993,
          1994,
          1995,
          1996,
          1997,
          1998,
          1999,
          2000,
          2001,
          2002,
          2003,
          2004,
          2005,
          2006,
          2007,
          2008,
          2009,
          2010,
          2011,
          2012,
          2013,
          2014,
          2015,
          2016,
          2017,
          2018,
          2019,
          2020,
          2021,
          2022,
          2023
         ],
         "y": [
          309.6652301241952,
          310.3202043645262,
          319.2884990484997,
          356.06643929381534,
          342.46295589909624,
          297.2733144706971,
          366.76022695068315,
          380.10701416621174,
          377.4457166423889,
          375.21289433441285,
          397.6893881287055,
          359.56551255146866,
          388.63825703320737,
          402.7048141371477,
          402.92448143856996,
          361.3958495461908,
          409.08985663967957,
          404.6312850765866,
          427.89167557668793,
          418.0564733439319,
          388.5917277106127,
          344.63187271066886,
          343.41392193574274,
          369.69108326978727,
          368.03317417998727,
          358.85082626491123,
          374.26594895378116,
          377.2305842099521,
          382.4802285749177,
          378.40590461081126,
          364.0135730337847,
          374.33422115050524,
          387.81587869681994,
          379.1486694267757,
          379.7226441954829,
          380.32020099834057,
          402.94382435816476,
          414.8222538677658,
          404.45357356968736
         ]
        }
       ],
       "layout": {
        "template": {
         "data": {
          "bar": [
           {
            "error_x": {
             "color": "#2a3f5f"
            },
            "error_y": {
             "color": "#2a3f5f"
            },
            "marker": {
             "line": {
              "color": "#E5ECF6",
              "width": 0.5
             },
             "pattern": {
              "fillmode": "overlay",
              "size": 10,
              "solidity": 0.2
             }
            },
            "type": "bar"
           }
          ],
          "barpolar": [
           {
            "marker": {
             "line": {
              "color": "#E5ECF6",
              "width": 0.5
             },
             "pattern": {
              "fillmode": "overlay",
              "size": 10,
              "solidity": 0.2
             }
            },
            "type": "barpolar"
           }
          ],
          "carpet": [
           {
            "aaxis": {
             "endlinecolor": "#2a3f5f",
             "gridcolor": "white",
             "linecolor": "white",
             "minorgridcolor": "white",
             "startlinecolor": "#2a3f5f"
            },
            "baxis": {
             "endlinecolor": "#2a3f5f",
             "gridcolor": "white",
             "linecolor": "white",
             "minorgridcolor": "white",
             "startlinecolor": "#2a3f5f"
            },
            "type": "carpet"
           }
          ],
          "choropleth": [
           {
            "colorbar": {
             "outlinewidth": 0,
             "ticks": ""
            },
            "type": "choropleth"
           }
          ],
          "contour": [
           {
            "colorbar": {
             "outlinewidth": 0,
             "ticks": ""
            },
            "colorscale": [
             [
              0,
              "#0d0887"
             ],
             [
              0.1111111111111111,
              "#46039f"
             ],
             [
              0.2222222222222222,
              "#7201a8"
             ],
             [
              0.3333333333333333,
              "#9c179e"
             ],
             [
              0.4444444444444444,
              "#bd3786"
             ],
             [
              0.5555555555555556,
              "#d8576b"
             ],
             [
              0.6666666666666666,
              "#ed7953"
             ],
             [
              0.7777777777777778,
              "#fb9f3a"
             ],
             [
              0.8888888888888888,
              "#fdca26"
             ],
             [
              1,
              "#f0f921"
             ]
            ],
            "type": "contour"
           }
          ],
          "contourcarpet": [
           {
            "colorbar": {
             "outlinewidth": 0,
             "ticks": ""
            },
            "type": "contourcarpet"
           }
          ],
          "heatmap": [
           {
            "colorbar": {
             "outlinewidth": 0,
             "ticks": ""
            },
            "colorscale": [
             [
              0,
              "#0d0887"
             ],
             [
              0.1111111111111111,
              "#46039f"
             ],
             [
              0.2222222222222222,
              "#7201a8"
             ],
             [
              0.3333333333333333,
              "#9c179e"
             ],
             [
              0.4444444444444444,
              "#bd3786"
             ],
             [
              0.5555555555555556,
              "#d8576b"
             ],
             [
              0.6666666666666666,
              "#ed7953"
             ],
             [
              0.7777777777777778,
              "#fb9f3a"
             ],
             [
              0.8888888888888888,
              "#fdca26"
             ],
             [
              1,
              "#f0f921"
             ]
            ],
            "type": "heatmap"
           }
          ],
          "heatmapgl": [
           {
            "colorbar": {
             "outlinewidth": 0,
             "ticks": ""
            },
            "colorscale": [
             [
              0,
              "#0d0887"
             ],
             [
              0.1111111111111111,
              "#46039f"
             ],
             [
              0.2222222222222222,
              "#7201a8"
             ],
             [
              0.3333333333333333,
              "#9c179e"
             ],
             [
              0.4444444444444444,
              "#bd3786"
             ],
             [
              0.5555555555555556,
              "#d8576b"
             ],
             [
              0.6666666666666666,
              "#ed7953"
             ],
             [
              0.7777777777777778,
              "#fb9f3a"
             ],
             [
              0.8888888888888888,
              "#fdca26"
             ],
             [
              1,
              "#f0f921"
             ]
            ],
            "type": "heatmapgl"
           }
          ],
          "histogram": [
           {
            "marker": {
             "pattern": {
              "fillmode": "overlay",
              "size": 10,
              "solidity": 0.2
             }
            },
            "type": "histogram"
           }
          ],
          "histogram2d": [
           {
            "colorbar": {
             "outlinewidth": 0,
             "ticks": ""
            },
            "colorscale": [
             [
              0,
              "#0d0887"
             ],
             [
              0.1111111111111111,
              "#46039f"
             ],
             [
              0.2222222222222222,
              "#7201a8"
             ],
             [
              0.3333333333333333,
              "#9c179e"
             ],
             [
              0.4444444444444444,
              "#bd3786"
             ],
             [
              0.5555555555555556,
              "#d8576b"
             ],
             [
              0.6666666666666666,
              "#ed7953"
             ],
             [
              0.7777777777777778,
              "#fb9f3a"
             ],
             [
              0.8888888888888888,
              "#fdca26"
             ],
             [
              1,
              "#f0f921"
             ]
            ],
            "type": "histogram2d"
           }
          ],
          "histogram2dcontour": [
           {
            "colorbar": {
             "outlinewidth": 0,
             "ticks": ""
            },
            "colorscale": [
             [
              0,
              "#0d0887"
             ],
             [
              0.1111111111111111,
              "#46039f"
             ],
             [
              0.2222222222222222,
              "#7201a8"
             ],
             [
              0.3333333333333333,
              "#9c179e"
             ],
             [
              0.4444444444444444,
              "#bd3786"
             ],
             [
              0.5555555555555556,
              "#d8576b"
             ],
             [
              0.6666666666666666,
              "#ed7953"
             ],
             [
              0.7777777777777778,
              "#fb9f3a"
             ],
             [
              0.8888888888888888,
              "#fdca26"
             ],
             [
              1,
              "#f0f921"
             ]
            ],
            "type": "histogram2dcontour"
           }
          ],
          "mesh3d": [
           {
            "colorbar": {
             "outlinewidth": 0,
             "ticks": ""
            },
            "type": "mesh3d"
           }
          ],
          "parcoords": [
           {
            "line": {
             "colorbar": {
              "outlinewidth": 0,
              "ticks": ""
             }
            },
            "type": "parcoords"
           }
          ],
          "pie": [
           {
            "automargin": true,
            "type": "pie"
           }
          ],
          "scatter": [
           {
            "fillpattern": {
             "fillmode": "overlay",
             "size": 10,
             "solidity": 0.2
            },
            "type": "scatter"
           }
          ],
          "scatter3d": [
           {
            "line": {
             "colorbar": {
              "outlinewidth": 0,
              "ticks": ""
             }
            },
            "marker": {
             "colorbar": {
              "outlinewidth": 0,
              "ticks": ""
             }
            },
            "type": "scatter3d"
           }
          ],
          "scattercarpet": [
           {
            "marker": {
             "colorbar": {
              "outlinewidth": 0,
              "ticks": ""
             }
            },
            "type": "scattercarpet"
           }
          ],
          "scattergeo": [
           {
            "marker": {
             "colorbar": {
              "outlinewidth": 0,
              "ticks": ""
             }
            },
            "type": "scattergeo"
           }
          ],
          "scattergl": [
           {
            "marker": {
             "colorbar": {
              "outlinewidth": 0,
              "ticks": ""
             }
            },
            "type": "scattergl"
           }
          ],
          "scattermapbox": [
           {
            "marker": {
             "colorbar": {
              "outlinewidth": 0,
              "ticks": ""
             }
            },
            "type": "scattermapbox"
           }
          ],
          "scatterpolar": [
           {
            "marker": {
             "colorbar": {
              "outlinewidth": 0,
              "ticks": ""
             }
            },
            "type": "scatterpolar"
           }
          ],
          "scatterpolargl": [
           {
            "marker": {
             "colorbar": {
              "outlinewidth": 0,
              "ticks": ""
             }
            },
            "type": "scatterpolargl"
           }
          ],
          "scatterternary": [
           {
            "marker": {
             "colorbar": {
              "outlinewidth": 0,
              "ticks": ""
             }
            },
            "type": "scatterternary"
           }
          ],
          "surface": [
           {
            "colorbar": {
             "outlinewidth": 0,
             "ticks": ""
            },
            "colorscale": [
             [
              0,
              "#0d0887"
             ],
             [
              0.1111111111111111,
              "#46039f"
             ],
             [
              0.2222222222222222,
              "#7201a8"
             ],
             [
              0.3333333333333333,
              "#9c179e"
             ],
             [
              0.4444444444444444,
              "#bd3786"
             ],
             [
              0.5555555555555556,
              "#d8576b"
             ],
             [
              0.6666666666666666,
              "#ed7953"
             ],
             [
              0.7777777777777778,
              "#fb9f3a"
             ],
             [
              0.8888888888888888,
              "#fdca26"
             ],
             [
              1,
              "#f0f921"
             ]
            ],
            "type": "surface"
           }
          ],
          "table": [
           {
            "cells": {
             "fill": {
              "color": "#EBF0F8"
             },
             "line": {
              "color": "white"
             }
            },
            "header": {
             "fill": {
              "color": "#C8D4E3"
             },
             "line": {
              "color": "white"
             }
            },
            "type": "table"
           }
          ]
         },
         "layout": {
          "annotationdefaults": {
           "arrowcolor": "#2a3f5f",
           "arrowhead": 0,
           "arrowwidth": 1
          },
          "autotypenumbers": "strict",
          "coloraxis": {
           "colorbar": {
            "outlinewidth": 0,
            "ticks": ""
           }
          },
          "colorscale": {
           "diverging": [
            [
             0,
             "#8e0152"
            ],
            [
             0.1,
             "#c51b7d"
            ],
            [
             0.2,
             "#de77ae"
            ],
            [
             0.3,
             "#f1b6da"
            ],
            [
             0.4,
             "#fde0ef"
            ],
            [
             0.5,
             "#f7f7f7"
            ],
            [
             0.6,
             "#e6f5d0"
            ],
            [
             0.7,
             "#b8e186"
            ],
            [
             0.8,
             "#7fbc41"
            ],
            [
             0.9,
             "#4d9221"
            ],
            [
             1,
             "#276419"
            ]
           ],
           "sequential": [
            [
             0,
             "#0d0887"
            ],
            [
             0.1111111111111111,
             "#46039f"
            ],
            [
             0.2222222222222222,
             "#7201a8"
            ],
            [
             0.3333333333333333,
             "#9c179e"
            ],
            [
             0.4444444444444444,
             "#bd3786"
            ],
            [
             0.5555555555555556,
             "#d8576b"
            ],
            [
             0.6666666666666666,
             "#ed7953"
            ],
            [
             0.7777777777777778,
             "#fb9f3a"
            ],
            [
             0.8888888888888888,
             "#fdca26"
            ],
            [
             1,
             "#f0f921"
            ]
           ],
           "sequentialminus": [
            [
             0,
             "#0d0887"
            ],
            [
             0.1111111111111111,
             "#46039f"
            ],
            [
             0.2222222222222222,
             "#7201a8"
            ],
            [
             0.3333333333333333,
             "#9c179e"
            ],
            [
             0.4444444444444444,
             "#bd3786"
            ],
            [
             0.5555555555555556,
             "#d8576b"
            ],
            [
             0.6666666666666666,
             "#ed7953"
            ],
            [
             0.7777777777777778,
             "#fb9f3a"
            ],
            [
             0.8888888888888888,
             "#fdca26"
            ],
            [
             1,
             "#f0f921"
            ]
           ]
          },
          "colorway": [
           "#636efa",
           "#EF553B",
           "#00cc96",
           "#ab63fa",
           "#FFA15A",
           "#19d3f3",
           "#FF6692",
           "#B6E880",
           "#FF97FF",
           "#FECB52"
          ],
          "font": {
           "color": "#2a3f5f"
          },
          "geo": {
           "bgcolor": "white",
           "lakecolor": "white",
           "landcolor": "#E5ECF6",
           "showlakes": true,
           "showland": true,
           "subunitcolor": "white"
          },
          "hoverlabel": {
           "align": "left"
          },
          "hovermode": "closest",
          "mapbox": {
           "style": "light"
          },
          "paper_bgcolor": "white",
          "plot_bgcolor": "#E5ECF6",
          "polar": {
           "angularaxis": {
            "gridcolor": "white",
            "linecolor": "white",
            "ticks": ""
           },
           "bgcolor": "#E5ECF6",
           "radialaxis": {
            "gridcolor": "white",
            "linecolor": "white",
            "ticks": ""
           }
          },
          "scene": {
           "xaxis": {
            "backgroundcolor": "#E5ECF6",
            "gridcolor": "white",
            "gridwidth": 2,
            "linecolor": "white",
            "showbackground": true,
            "ticks": "",
            "zerolinecolor": "white"
           },
           "yaxis": {
            "backgroundcolor": "#E5ECF6",
            "gridcolor": "white",
            "gridwidth": 2,
            "linecolor": "white",
            "showbackground": true,
            "ticks": "",
            "zerolinecolor": "white"
           },
           "zaxis": {
            "backgroundcolor": "#E5ECF6",
            "gridcolor": "white",
            "gridwidth": 2,
            "linecolor": "white",
            "showbackground": true,
            "ticks": "",
            "zerolinecolor": "white"
           }
          },
          "shapedefaults": {
           "line": {
            "color": "#2a3f5f"
           }
          },
          "ternary": {
           "aaxis": {
            "gridcolor": "white",
            "linecolor": "white",
            "ticks": ""
           },
           "baxis": {
            "gridcolor": "white",
            "linecolor": "white",
            "ticks": ""
           },
           "bgcolor": "#E5ECF6",
           "caxis": {
            "gridcolor": "white",
            "linecolor": "white",
            "ticks": ""
           }
          },
          "title": {
           "x": 0.05
          },
          "xaxis": {
           "automargin": true,
           "gridcolor": "white",
           "linecolor": "white",
           "ticks": "",
           "title": {
            "standoff": 15
           },
           "zerolinecolor": "white",
           "zerolinewidth": 2
          },
          "yaxis": {
           "automargin": true,
           "gridcolor": "white",
           "linecolor": "white",
           "ticks": "",
           "title": {
            "standoff": 15
           },
           "zerolinecolor": "white",
           "zerolinewidth": 2
          }
         }
        },
        "title": {
         "text": "Power and speed by year"
        },
        "xaxis": {
         "anchor": "y",
         "domain": [
          0,
          0.94
         ],
         "title": {
          "text": "Year"
         }
        },
        "yaxis": {
         "anchor": "x",
         "domain": [
          0,
          1
         ],
         "range": [
          0,
          500
         ],
         "title": {
          "text": "<b>Power</b>"
         }
        },
        "yaxis2": {
         "anchor": "x",
         "overlaying": "y",
         "range": [
          30,
          50
         ],
         "side": "right",
         "title": {
          "text": "<b>Grade</b>"
         }
        }
       }
      }
     },
     "metadata": {},
     "output_type": "display_data"
    }
   ],
   "source": [
    "# Power to speed\n",
    "\n",
    "# avg_grades =  df.groupby(\"year\").stage_vertical_meters.sum() / (df.groupby(\"year\").stage_distance.sum()*1000) \n",
    "avg_speed = ((df.groupby(\"year\").stage_distance.sum()*1000) / df.groupby(\"year\").gc_stage_time.sum()) * 3.6\n",
    "\n",
    "import plotly.graph_objects as go\n",
    "from plotly.subplots import make_subplots\n",
    "\n",
    "# Create figure with secondary y-axis\n",
    "fig = make_subplots(specs=[[{\"secondary_y\": True}]])\n",
    "\n",
    "# Add traces\n",
    "fig.add_trace(\n",
    "    go.Scatter(x=df.year.unique(), y=df.groupby(\"year\").power.mean(), name=\"power\"),\n",
    "    secondary_y=False,\n",
    ")\n",
    "\n",
    "fig.add_trace(\n",
    "    go.Scatter(x=df.year.unique(), y=avg_speed, name=\"speed\"),\n",
    "    secondary_y=True,\n",
    ")\n",
    "\n",
    "fig.add_trace(\n",
    "    go.Scatter(x=df.year.unique(), y=year_power, name=\"year_power\")\n",
    ")\n",
    "\n",
    "# Add figure title\n",
    "fig.update_layout(\n",
    "    title_text=\"Power and speed by year\"\n",
    ")\n",
    "\n",
    "# Set x-axis title\n",
    "fig.update_xaxes(title_text=\"Year\")\n",
    "\n",
    "# Set y-axes titles\n",
    "fig.update_yaxes(title_text=\"<b>Power</b>\", secondary_y=False)\n",
    "fig.update_yaxes(title_text=\"<b>Grade</b>\", secondary_y=True)\n",
    "fig.update_yaxes(range = [0,500])\n",
    "fig.update_yaxes(range = [30,50], secondary_y=True)\n",
    "\n",
    "fig.show()"
   ]
  },
  {
   "cell_type": "code",
   "execution_count": 78,
   "metadata": {},
   "outputs": [
    {
     "data": {
      "application/vnd.plotly.v1+json": {
       "config": {
        "plotlyServerURL": "https://plot.ly"
       },
       "data": [
        {
         "hovertemplate": "x=%{x}<br>y=%{y}<br>color=%{marker.color}<extra></extra>",
         "legendgroup": "",
         "marker": {
          "color": [
           1985,
           1986,
           1987,
           1988,
           1989,
           1990,
           1991,
           1992,
           1993,
           1994,
           1995,
           1996,
           1997,
           1998,
           1999,
           2000,
           2001,
           2002,
           2003,
           2004,
           2005,
           2006,
           2007,
           2008,
           2009,
           2010,
           2011,
           2012,
           2013,
           2014,
           2015,
           2016,
           2017,
           2018,
           2019,
           2020,
           2021,
           2022,
           2023
          ],
          "coloraxis": "coloraxis",
          "symbol": "circle"
         },
         "mode": "markers",
         "name": "",
         "orientation": "v",
         "showlegend": false,
         "type": "scatter",
         "x": [
          70881,
          62793,
          73513,
          52704,
          58343,
          39747,
          61158,
          70049,
          63113,
          68900,
          62620,
          61954,
          69124,
          69249,
          59938,
          50999,
          61343,
          58812,
          61877,
          59873,
          47078,
          49379,
          53369,
          59572,
          51770,
          49934,
          50154,
          48365,
          50707,
          50814,
          48298,
          54353,
          49124,
          47613,
          52008,
          58915,
          51634,
          48883,
          56609
         ],
         "xaxis": "x",
         "y": [
          4052.3,
          4031.1,
          4162.6,
          3236.5,
          3239.3,
          3359.7,
          3907.4,
          3844,
          3632.3,
          3912.2,
          3234.3,
          3717.9,
          3943.6,
          3703.6,
          3687.3,
          3591.5,
          3385.2,
          3206,
          3357.5,
          3326.6,
          3483,
          3858.6,
          3819.9,
          4217.5,
          3579.5,
          3641.9,
          3397.5,
          3494.4,
          3363,
          3663.5,
          3332.3,
          3527.5,
          3542,
          3315,
          3338.2,
          3482.2,
          3414.2,
          3349.8,
          3405.1
         ],
         "yaxis": "y"
        }
       ],
       "layout": {
        "coloraxis": {
         "colorbar": {
          "title": {
           "text": "color"
          }
         },
         "colorscale": [
          [
           0,
           "#0d0887"
          ],
          [
           0.1111111111111111,
           "#46039f"
          ],
          [
           0.2222222222222222,
           "#7201a8"
          ],
          [
           0.3333333333333333,
           "#9c179e"
          ],
          [
           0.4444444444444444,
           "#bd3786"
          ],
          [
           0.5555555555555556,
           "#d8576b"
          ],
          [
           0.6666666666666666,
           "#ed7953"
          ],
          [
           0.7777777777777778,
           "#fb9f3a"
          ],
          [
           0.8888888888888888,
           "#fdca26"
          ],
          [
           1,
           "#f0f921"
          ]
         ]
        },
        "legend": {
         "tracegroupgap": 0
        },
        "template": {
         "data": {
          "bar": [
           {
            "error_x": {
             "color": "#2a3f5f"
            },
            "error_y": {
             "color": "#2a3f5f"
            },
            "marker": {
             "line": {
              "color": "#E5ECF6",
              "width": 0.5
             },
             "pattern": {
              "fillmode": "overlay",
              "size": 10,
              "solidity": 0.2
             }
            },
            "type": "bar"
           }
          ],
          "barpolar": [
           {
            "marker": {
             "line": {
              "color": "#E5ECF6",
              "width": 0.5
             },
             "pattern": {
              "fillmode": "overlay",
              "size": 10,
              "solidity": 0.2
             }
            },
            "type": "barpolar"
           }
          ],
          "carpet": [
           {
            "aaxis": {
             "endlinecolor": "#2a3f5f",
             "gridcolor": "white",
             "linecolor": "white",
             "minorgridcolor": "white",
             "startlinecolor": "#2a3f5f"
            },
            "baxis": {
             "endlinecolor": "#2a3f5f",
             "gridcolor": "white",
             "linecolor": "white",
             "minorgridcolor": "white",
             "startlinecolor": "#2a3f5f"
            },
            "type": "carpet"
           }
          ],
          "choropleth": [
           {
            "colorbar": {
             "outlinewidth": 0,
             "ticks": ""
            },
            "type": "choropleth"
           }
          ],
          "contour": [
           {
            "colorbar": {
             "outlinewidth": 0,
             "ticks": ""
            },
            "colorscale": [
             [
              0,
              "#0d0887"
             ],
             [
              0.1111111111111111,
              "#46039f"
             ],
             [
              0.2222222222222222,
              "#7201a8"
             ],
             [
              0.3333333333333333,
              "#9c179e"
             ],
             [
              0.4444444444444444,
              "#bd3786"
             ],
             [
              0.5555555555555556,
              "#d8576b"
             ],
             [
              0.6666666666666666,
              "#ed7953"
             ],
             [
              0.7777777777777778,
              "#fb9f3a"
             ],
             [
              0.8888888888888888,
              "#fdca26"
             ],
             [
              1,
              "#f0f921"
             ]
            ],
            "type": "contour"
           }
          ],
          "contourcarpet": [
           {
            "colorbar": {
             "outlinewidth": 0,
             "ticks": ""
            },
            "type": "contourcarpet"
           }
          ],
          "heatmap": [
           {
            "colorbar": {
             "outlinewidth": 0,
             "ticks": ""
            },
            "colorscale": [
             [
              0,
              "#0d0887"
             ],
             [
              0.1111111111111111,
              "#46039f"
             ],
             [
              0.2222222222222222,
              "#7201a8"
             ],
             [
              0.3333333333333333,
              "#9c179e"
             ],
             [
              0.4444444444444444,
              "#bd3786"
             ],
             [
              0.5555555555555556,
              "#d8576b"
             ],
             [
              0.6666666666666666,
              "#ed7953"
             ],
             [
              0.7777777777777778,
              "#fb9f3a"
             ],
             [
              0.8888888888888888,
              "#fdca26"
             ],
             [
              1,
              "#f0f921"
             ]
            ],
            "type": "heatmap"
           }
          ],
          "heatmapgl": [
           {
            "colorbar": {
             "outlinewidth": 0,
             "ticks": ""
            },
            "colorscale": [
             [
              0,
              "#0d0887"
             ],
             [
              0.1111111111111111,
              "#46039f"
             ],
             [
              0.2222222222222222,
              "#7201a8"
             ],
             [
              0.3333333333333333,
              "#9c179e"
             ],
             [
              0.4444444444444444,
              "#bd3786"
             ],
             [
              0.5555555555555556,
              "#d8576b"
             ],
             [
              0.6666666666666666,
              "#ed7953"
             ],
             [
              0.7777777777777778,
              "#fb9f3a"
             ],
             [
              0.8888888888888888,
              "#fdca26"
             ],
             [
              1,
              "#f0f921"
             ]
            ],
            "type": "heatmapgl"
           }
          ],
          "histogram": [
           {
            "marker": {
             "pattern": {
              "fillmode": "overlay",
              "size": 10,
              "solidity": 0.2
             }
            },
            "type": "histogram"
           }
          ],
          "histogram2d": [
           {
            "colorbar": {
             "outlinewidth": 0,
             "ticks": ""
            },
            "colorscale": [
             [
              0,
              "#0d0887"
             ],
             [
              0.1111111111111111,
              "#46039f"
             ],
             [
              0.2222222222222222,
              "#7201a8"
             ],
             [
              0.3333333333333333,
              "#9c179e"
             ],
             [
              0.4444444444444444,
              "#bd3786"
             ],
             [
              0.5555555555555556,
              "#d8576b"
             ],
             [
              0.6666666666666666,
              "#ed7953"
             ],
             [
              0.7777777777777778,
              "#fb9f3a"
             ],
             [
              0.8888888888888888,
              "#fdca26"
             ],
             [
              1,
              "#f0f921"
             ]
            ],
            "type": "histogram2d"
           }
          ],
          "histogram2dcontour": [
           {
            "colorbar": {
             "outlinewidth": 0,
             "ticks": ""
            },
            "colorscale": [
             [
              0,
              "#0d0887"
             ],
             [
              0.1111111111111111,
              "#46039f"
             ],
             [
              0.2222222222222222,
              "#7201a8"
             ],
             [
              0.3333333333333333,
              "#9c179e"
             ],
             [
              0.4444444444444444,
              "#bd3786"
             ],
             [
              0.5555555555555556,
              "#d8576b"
             ],
             [
              0.6666666666666666,
              "#ed7953"
             ],
             [
              0.7777777777777778,
              "#fb9f3a"
             ],
             [
              0.8888888888888888,
              "#fdca26"
             ],
             [
              1,
              "#f0f921"
             ]
            ],
            "type": "histogram2dcontour"
           }
          ],
          "mesh3d": [
           {
            "colorbar": {
             "outlinewidth": 0,
             "ticks": ""
            },
            "type": "mesh3d"
           }
          ],
          "parcoords": [
           {
            "line": {
             "colorbar": {
              "outlinewidth": 0,
              "ticks": ""
             }
            },
            "type": "parcoords"
           }
          ],
          "pie": [
           {
            "automargin": true,
            "type": "pie"
           }
          ],
          "scatter": [
           {
            "fillpattern": {
             "fillmode": "overlay",
             "size": 10,
             "solidity": 0.2
            },
            "type": "scatter"
           }
          ],
          "scatter3d": [
           {
            "line": {
             "colorbar": {
              "outlinewidth": 0,
              "ticks": ""
             }
            },
            "marker": {
             "colorbar": {
              "outlinewidth": 0,
              "ticks": ""
             }
            },
            "type": "scatter3d"
           }
          ],
          "scattercarpet": [
           {
            "marker": {
             "colorbar": {
              "outlinewidth": 0,
              "ticks": ""
             }
            },
            "type": "scattercarpet"
           }
          ],
          "scattergeo": [
           {
            "marker": {
             "colorbar": {
              "outlinewidth": 0,
              "ticks": ""
             }
            },
            "type": "scattergeo"
           }
          ],
          "scattergl": [
           {
            "marker": {
             "colorbar": {
              "outlinewidth": 0,
              "ticks": ""
             }
            },
            "type": "scattergl"
           }
          ],
          "scattermapbox": [
           {
            "marker": {
             "colorbar": {
              "outlinewidth": 0,
              "ticks": ""
             }
            },
            "type": "scattermapbox"
           }
          ],
          "scatterpolar": [
           {
            "marker": {
             "colorbar": {
              "outlinewidth": 0,
              "ticks": ""
             }
            },
            "type": "scatterpolar"
           }
          ],
          "scatterpolargl": [
           {
            "marker": {
             "colorbar": {
              "outlinewidth": 0,
              "ticks": ""
             }
            },
            "type": "scatterpolargl"
           }
          ],
          "scatterternary": [
           {
            "marker": {
             "colorbar": {
              "outlinewidth": 0,
              "ticks": ""
             }
            },
            "type": "scatterternary"
           }
          ],
          "surface": [
           {
            "colorbar": {
             "outlinewidth": 0,
             "ticks": ""
            },
            "colorscale": [
             [
              0,
              "#0d0887"
             ],
             [
              0.1111111111111111,
              "#46039f"
             ],
             [
              0.2222222222222222,
              "#7201a8"
             ],
             [
              0.3333333333333333,
              "#9c179e"
             ],
             [
              0.4444444444444444,
              "#bd3786"
             ],
             [
              0.5555555555555556,
              "#d8576b"
             ],
             [
              0.6666666666666666,
              "#ed7953"
             ],
             [
              0.7777777777777778,
              "#fb9f3a"
             ],
             [
              0.8888888888888888,
              "#fdca26"
             ],
             [
              1,
              "#f0f921"
             ]
            ],
            "type": "surface"
           }
          ],
          "table": [
           {
            "cells": {
             "fill": {
              "color": "#EBF0F8"
             },
             "line": {
              "color": "white"
             }
            },
            "header": {
             "fill": {
              "color": "#C8D4E3"
             },
             "line": {
              "color": "white"
             }
            },
            "type": "table"
           }
          ]
         },
         "layout": {
          "annotationdefaults": {
           "arrowcolor": "#2a3f5f",
           "arrowhead": 0,
           "arrowwidth": 1
          },
          "autotypenumbers": "strict",
          "coloraxis": {
           "colorbar": {
            "outlinewidth": 0,
            "ticks": ""
           }
          },
          "colorscale": {
           "diverging": [
            [
             0,
             "#8e0152"
            ],
            [
             0.1,
             "#c51b7d"
            ],
            [
             0.2,
             "#de77ae"
            ],
            [
             0.3,
             "#f1b6da"
            ],
            [
             0.4,
             "#fde0ef"
            ],
            [
             0.5,
             "#f7f7f7"
            ],
            [
             0.6,
             "#e6f5d0"
            ],
            [
             0.7,
             "#b8e186"
            ],
            [
             0.8,
             "#7fbc41"
            ],
            [
             0.9,
             "#4d9221"
            ],
            [
             1,
             "#276419"
            ]
           ],
           "sequential": [
            [
             0,
             "#0d0887"
            ],
            [
             0.1111111111111111,
             "#46039f"
            ],
            [
             0.2222222222222222,
             "#7201a8"
            ],
            [
             0.3333333333333333,
             "#9c179e"
            ],
            [
             0.4444444444444444,
             "#bd3786"
            ],
            [
             0.5555555555555556,
             "#d8576b"
            ],
            [
             0.6666666666666666,
             "#ed7953"
            ],
            [
             0.7777777777777778,
             "#fb9f3a"
            ],
            [
             0.8888888888888888,
             "#fdca26"
            ],
            [
             1,
             "#f0f921"
            ]
           ],
           "sequentialminus": [
            [
             0,
             "#0d0887"
            ],
            [
             0.1111111111111111,
             "#46039f"
            ],
            [
             0.2222222222222222,
             "#7201a8"
            ],
            [
             0.3333333333333333,
             "#9c179e"
            ],
            [
             0.4444444444444444,
             "#bd3786"
            ],
            [
             0.5555555555555556,
             "#d8576b"
            ],
            [
             0.6666666666666666,
             "#ed7953"
            ],
            [
             0.7777777777777778,
             "#fb9f3a"
            ],
            [
             0.8888888888888888,
             "#fdca26"
            ],
            [
             1,
             "#f0f921"
            ]
           ]
          },
          "colorway": [
           "#636efa",
           "#EF553B",
           "#00cc96",
           "#ab63fa",
           "#FFA15A",
           "#19d3f3",
           "#FF6692",
           "#B6E880",
           "#FF97FF",
           "#FECB52"
          ],
          "font": {
           "color": "#2a3f5f"
          },
          "geo": {
           "bgcolor": "white",
           "lakecolor": "white",
           "landcolor": "#E5ECF6",
           "showlakes": true,
           "showland": true,
           "subunitcolor": "white"
          },
          "hoverlabel": {
           "align": "left"
          },
          "hovermode": "closest",
          "mapbox": {
           "style": "light"
          },
          "paper_bgcolor": "white",
          "plot_bgcolor": "#E5ECF6",
          "polar": {
           "angularaxis": {
            "gridcolor": "white",
            "linecolor": "white",
            "ticks": ""
           },
           "bgcolor": "#E5ECF6",
           "radialaxis": {
            "gridcolor": "white",
            "linecolor": "white",
            "ticks": ""
           }
          },
          "scene": {
           "xaxis": {
            "backgroundcolor": "#E5ECF6",
            "gridcolor": "white",
            "gridwidth": 2,
            "linecolor": "white",
            "showbackground": true,
            "ticks": "",
            "zerolinecolor": "white"
           },
           "yaxis": {
            "backgroundcolor": "#E5ECF6",
            "gridcolor": "white",
            "gridwidth": 2,
            "linecolor": "white",
            "showbackground": true,
            "ticks": "",
            "zerolinecolor": "white"
           },
           "zaxis": {
            "backgroundcolor": "#E5ECF6",
            "gridcolor": "white",
            "gridwidth": 2,
            "linecolor": "white",
            "showbackground": true,
            "ticks": "",
            "zerolinecolor": "white"
           }
          },
          "shapedefaults": {
           "line": {
            "color": "#2a3f5f"
           }
          },
          "ternary": {
           "aaxis": {
            "gridcolor": "white",
            "linecolor": "white",
            "ticks": ""
           },
           "baxis": {
            "gridcolor": "white",
            "linecolor": "white",
            "ticks": ""
           },
           "bgcolor": "#E5ECF6",
           "caxis": {
            "gridcolor": "white",
            "linecolor": "white",
            "ticks": ""
           }
          },
          "title": {
           "x": 0.05
          },
          "xaxis": {
           "automargin": true,
           "gridcolor": "white",
           "linecolor": "white",
           "ticks": "",
           "title": {
            "standoff": 15
           },
           "zerolinecolor": "white",
           "zerolinewidth": 2
          },
          "yaxis": {
           "automargin": true,
           "gridcolor": "white",
           "linecolor": "white",
           "ticks": "",
           "title": {
            "standoff": 15
           },
           "zerolinecolor": "white",
           "zerolinewidth": 2
          }
         }
        },
        "title": {
         "text": "Distance compared to elevation gain over the years"
        },
        "xaxis": {
         "anchor": "y",
         "domain": [
          0,
          1
         ],
         "title": {
          "text": "x"
         }
        },
        "yaxis": {
         "anchor": "x",
         "domain": [
          0,
          1
         ],
         "title": {
          "text": "y"
         }
        }
       }
      }
     },
     "metadata": {},
     "output_type": "display_data"
    }
   ],
   "source": [
    "px.scatter(color=df.year.unique(), x=df.groupby(\"year\").stage_vertical_meters.sum(), y=df.groupby(\"year\").stage_distance.sum(), title=\"Distance compared to elevation gain over the years\")\n"
   ]
  },
  {
   "cell_type": "code",
   "execution_count": 79,
   "metadata": {},
   "outputs": [
    {
     "data": {
      "application/vnd.plotly.v1+json": {
       "config": {
        "plotlyServerURL": "https://plot.ly"
       },
       "data": [
        {
         "hovertemplate": "year=%{x}<br>stage_grade=%{y}<extra></extra>",
         "legendgroup": "",
         "marker": {
          "color": "#636efa",
          "symbol": "circle"
         },
         "mode": "markers",
         "name": "",
         "orientation": "v",
         "showlegend": false,
         "type": "scatter",
         "x": [
          1985,
          1985,
          1985,
          1985,
          1985,
          1985,
          1985,
          1985,
          1985,
          1985,
          1985,
          1985,
          1985,
          1985,
          1985,
          1985,
          1985,
          1985,
          1985,
          1985,
          1985,
          1985,
          1985,
          1986,
          1986,
          1986,
          1986,
          1986,
          1986,
          1986,
          1986,
          1986,
          1986,
          1986,
          1986,
          1986,
          1986,
          1986,
          1986,
          1986,
          1986,
          1986,
          1986,
          1986,
          1986,
          1986,
          1987,
          1987,
          1987,
          1987,
          1987,
          1987,
          1987,
          1987,
          1987,
          1987,
          1987,
          1987,
          1987,
          1987,
          1987,
          1987,
          1987,
          1987,
          1987,
          1987,
          1987,
          1987,
          1987,
          1987,
          1987,
          1988,
          1988,
          1988,
          1988,
          1988,
          1988,
          1988,
          1988,
          1988,
          1988,
          1988,
          1988,
          1988,
          1988,
          1988,
          1988,
          1988,
          1988,
          1988,
          1988,
          1988,
          1988,
          1989,
          1989,
          1989,
          1989,
          1989,
          1989,
          1989,
          1989,
          1989,
          1989,
          1989,
          1989,
          1989,
          1989,
          1989,
          1989,
          1989,
          1989,
          1989,
          1989,
          1989,
          1990,
          1990,
          1990,
          1990,
          1990,
          1990,
          1990,
          1990,
          1990,
          1990,
          1990,
          1990,
          1990,
          1990,
          1990,
          1990,
          1990,
          1990,
          1990,
          1990,
          1990,
          1991,
          1991,
          1991,
          1991,
          1991,
          1991,
          1991,
          1991,
          1991,
          1991,
          1991,
          1991,
          1991,
          1991,
          1991,
          1991,
          1991,
          1991,
          1991,
          1991,
          1991,
          1991,
          1992,
          1992,
          1992,
          1992,
          1992,
          1992,
          1992,
          1992,
          1992,
          1992,
          1992,
          1992,
          1992,
          1992,
          1992,
          1992,
          1992,
          1992,
          1992,
          1992,
          1992,
          1993,
          1993,
          1993,
          1993,
          1993,
          1993,
          1993,
          1993,
          1993,
          1993,
          1993,
          1993,
          1993,
          1993,
          1993,
          1993,
          1993,
          1993,
          1993,
          1993,
          1994,
          1994,
          1994,
          1994,
          1994,
          1994,
          1994,
          1994,
          1994,
          1994,
          1994,
          1994,
          1994,
          1994,
          1994,
          1994,
          1994,
          1994,
          1994,
          1994,
          1994,
          1995,
          1995,
          1995,
          1995,
          1995,
          1995,
          1995,
          1995,
          1995,
          1995,
          1995,
          1995,
          1995,
          1995,
          1995,
          1995,
          1995,
          1995,
          1995,
          1996,
          1996,
          1996,
          1996,
          1996,
          1996,
          1996,
          1996,
          1996,
          1996,
          1996,
          1996,
          1996,
          1996,
          1996,
          1996,
          1996,
          1996,
          1996,
          1996,
          1996,
          1997,
          1997,
          1997,
          1997,
          1997,
          1997,
          1997,
          1997,
          1997,
          1997,
          1997,
          1997,
          1997,
          1997,
          1997,
          1997,
          1997,
          1997,
          1997,
          1997,
          1997,
          1997,
          1998,
          1998,
          1998,
          1998,
          1998,
          1998,
          1998,
          1998,
          1998,
          1998,
          1998,
          1998,
          1998,
          1998,
          1998,
          1998,
          1998,
          1998,
          1998,
          1998,
          1998,
          1999,
          1999,
          1999,
          1999,
          1999,
          1999,
          1999,
          1999,
          1999,
          1999,
          1999,
          1999,
          1999,
          1999,
          1999,
          1999,
          1999,
          1999,
          1999,
          1999,
          1999,
          2000,
          2000,
          2000,
          2000,
          2000,
          2000,
          2000,
          2000,
          2000,
          2000,
          2000,
          2000,
          2000,
          2000,
          2000,
          2000,
          2000,
          2000,
          2000,
          2000,
          2001,
          2001,
          2001,
          2001,
          2001,
          2001,
          2001,
          2001,
          2001,
          2001,
          2001,
          2001,
          2001,
          2001,
          2001,
          2001,
          2001,
          2001,
          2001,
          2001,
          2002,
          2002,
          2002,
          2002,
          2002,
          2002,
          2002,
          2002,
          2002,
          2002,
          2002,
          2002,
          2002,
          2002,
          2002,
          2002,
          2002,
          2002,
          2002,
          2002,
          2003,
          2003,
          2003,
          2003,
          2003,
          2003,
          2003,
          2003,
          2003,
          2003,
          2003,
          2003,
          2003,
          2003,
          2003,
          2003,
          2003,
          2003,
          2003,
          2003,
          2004,
          2004,
          2004,
          2004,
          2004,
          2004,
          2004,
          2004,
          2004,
          2004,
          2004,
          2004,
          2004,
          2004,
          2004,
          2004,
          2004,
          2004,
          2004,
          2004,
          2005,
          2005,
          2005,
          2005,
          2005,
          2005,
          2005,
          2005,
          2005,
          2005,
          2005,
          2005,
          2005,
          2005,
          2005,
          2005,
          2005,
          2005,
          2005,
          2005,
          2006,
          2006,
          2006,
          2006,
          2006,
          2006,
          2006,
          2006,
          2006,
          2006,
          2006,
          2006,
          2006,
          2006,
          2006,
          2006,
          2006,
          2006,
          2006,
          2006,
          2006,
          2006,
          2007,
          2007,
          2007,
          2007,
          2007,
          2007,
          2007,
          2007,
          2007,
          2007,
          2007,
          2007,
          2007,
          2007,
          2007,
          2007,
          2007,
          2007,
          2007,
          2007,
          2007,
          2007,
          2007,
          2008,
          2008,
          2008,
          2008,
          2008,
          2008,
          2008,
          2008,
          2008,
          2008,
          2008,
          2008,
          2008,
          2008,
          2008,
          2008,
          2008,
          2008,
          2008,
          2008,
          2008,
          2008,
          2008,
          2008,
          2008,
          2008,
          2009,
          2009,
          2009,
          2009,
          2009,
          2009,
          2009,
          2009,
          2009,
          2009,
          2009,
          2009,
          2009,
          2009,
          2009,
          2009,
          2009,
          2009,
          2009,
          2009,
          2009,
          2010,
          2010,
          2010,
          2010,
          2010,
          2010,
          2010,
          2010,
          2010,
          2010,
          2010,
          2010,
          2010,
          2010,
          2010,
          2010,
          2010,
          2010,
          2010,
          2010,
          2010,
          2011,
          2011,
          2011,
          2011,
          2011,
          2011,
          2011,
          2011,
          2011,
          2011,
          2011,
          2011,
          2011,
          2011,
          2011,
          2011,
          2011,
          2011,
          2011,
          2011,
          2012,
          2012,
          2012,
          2012,
          2012,
          2012,
          2012,
          2012,
          2012,
          2012,
          2012,
          2012,
          2012,
          2012,
          2012,
          2012,
          2012,
          2012,
          2012,
          2012,
          2012,
          2013,
          2013,
          2013,
          2013,
          2013,
          2013,
          2013,
          2013,
          2013,
          2013,
          2013,
          2013,
          2013,
          2013,
          2013,
          2013,
          2013,
          2013,
          2013,
          2013,
          2014,
          2014,
          2014,
          2014,
          2014,
          2014,
          2014,
          2014,
          2014,
          2014,
          2014,
          2014,
          2014,
          2014,
          2014,
          2014,
          2014,
          2014,
          2014,
          2014,
          2014,
          2015,
          2015,
          2015,
          2015,
          2015,
          2015,
          2015,
          2015,
          2015,
          2015,
          2015,
          2015,
          2015,
          2015,
          2015,
          2015,
          2015,
          2015,
          2015,
          2015,
          2016,
          2016,
          2016,
          2016,
          2016,
          2016,
          2016,
          2016,
          2016,
          2016,
          2016,
          2016,
          2016,
          2016,
          2016,
          2016,
          2016,
          2016,
          2016,
          2016,
          2016,
          2017,
          2017,
          2017,
          2017,
          2017,
          2017,
          2017,
          2017,
          2017,
          2017,
          2017,
          2017,
          2017,
          2017,
          2017,
          2017,
          2017,
          2017,
          2017,
          2017,
          2017,
          2018,
          2018,
          2018,
          2018,
          2018,
          2018,
          2018,
          2018,
          2018,
          2018,
          2018,
          2018,
          2018,
          2018,
          2018,
          2018,
          2018,
          2018,
          2018,
          2018,
          2019,
          2019,
          2019,
          2019,
          2019,
          2019,
          2019,
          2019,
          2019,
          2019,
          2019,
          2019,
          2019,
          2019,
          2019,
          2019,
          2019,
          2019,
          2019,
          2019,
          2020,
          2020,
          2020,
          2020,
          2020,
          2020,
          2020,
          2020,
          2020,
          2020,
          2020,
          2020,
          2020,
          2020,
          2020,
          2020,
          2020,
          2020,
          2020,
          2020,
          2020,
          2021,
          2021,
          2021,
          2021,
          2021,
          2021,
          2021,
          2021,
          2021,
          2021,
          2021,
          2021,
          2021,
          2021,
          2021,
          2021,
          2021,
          2021,
          2021,
          2021,
          2021,
          2022,
          2022,
          2022,
          2022,
          2022,
          2022,
          2022,
          2022,
          2022,
          2022,
          2022,
          2022,
          2022,
          2022,
          2022,
          2022,
          2022,
          2022,
          2022,
          2022,
          2022,
          2023,
          2023,
          2023,
          2023,
          2023,
          2023,
          2023,
          2023,
          2023,
          2023,
          2023,
          2023,
          2023,
          2023,
          2023,
          2023,
          2023,
          2023,
          2023,
          2023,
          2023
         ],
         "xaxis": "x",
         "y": [
          0.0188235294117647,
          0.01250390625,
          0.0113719008264462,
          0.0127223382045929,
          0.0084732142857142,
          0.010627539503386,
          0.0107880184331797,
          0.01588,
          0.0166570605187319,
          0.0192665036674816,
          0.0247333333333333,
          0.0310929368029739,
          0.0234591194968553,
          0.0208547486033519,
          0.0239410526315789,
          0.0175020242914979,
          0.0281957040572792,
          0.0459428571428571,
          0.0357485029940119,
          0.008185,
          0.0156488888888888,
          0.0219693654266958,
          0.0092073732718894,
          0.013695652173913,
          0.0110117647058823,
          0.0086962616822429,
          0.0093415637860082,
          0.009156626506024,
          0.009285,
          0.0122338308457711,
          0.0097598039215686,
          0.0075772357723577,
          0.0088852459016393,
          0.0075280464216634,
          0.0288,
          0.0364569892473118,
          0.0076038961038961,
          0.0089667405764966,
          0.0162150101419878,
          0.0350315789473684,
          0.0425107692307692,
          0.0211810584958217,
          0.0178448275862068,
          0.0222052631578947,
          0.0066938775510204,
          0.0081582150101419,
          0.0118032786885245,
          0.0068530805687203,
          null,
          0.0128734177215189,
          0.01376,
          0.0156568047337278,
          0.0089763033175355,
          0.006574209245742,
          0.0064423076923076,
          0.0092342857142857,
          0.0138509803921568,
          0.0096973684210526,
          0.0299223744292237,
          0.0394457831325301,
          0.0107682926829268,
          0.0134826789838337,
          0.0186069868995633,
          0.0544657534246575,
          0.0261729729729729,
          0.0323681592039801,
          0.0417789757412398,
          0.0395913978494623,
          0.0147641509433962,
          0.0124210526315789,
          0.0104139784946236,
          0.044,
          0.0050163934426229,
          0.0069508196721311,
          0.0099177215189873,
          0.009057627118644,
          0.0051153846153846,
          0.0095688888888888,
          0.008310502283105,
          0.0141495327102803,
          0.0155317725752508,
          0.0216810344827586,
          0.0388678414096916,
          0.0372368421052631,
          0.0259815950920245,
          0.0413493333333333,
          0.0053421052631578,
          0.0055,
          0.0159251336898395,
          0.0216968085106382,
          0.0105816554809843,
          0.0125217391304347,
          0.0107768115942029,
          0.0194871794871794,
          0.0149667896678966,
          0.016161825726141,
          0.0081411764705882,
          0.0107534246575342,
          0.0071583011583011,
          0.0062630560928433,
          0.0117070063694267,
          0.0408231292517006,
          0.0460735294117647,
          0.0120567823343848,
          0.0109421487603305,
          0.0081061452513966,
          0.0192125,
          0.0372564102564102,
          0.0306914285714285,
          0.0417757575757575,
          0.0279781420765027,
          0.02756,
          0.0098923076923076,
          0.0081632653061224,
          0.0292063492063492,
          0.0088953068592057,
          0.0080429184549356,
          0.009615763546798,
          0.0111794019933554,
          0.0102814814814814,
          0.0137398373983739,
          0.0044255085211654,
          0.0121479591836734,
          0.0211054852320675,
          0.0267232876712328,
          0.028955223880597,
          0.0116375838926174,
          0.0137170731707317,
          0.0101823529411764,
          0.0186,
          0.01724,
          0.001589108910891,
          0.006104109589041,
          0.0241098901098901,
          0.0070410958904109,
          0.0116666666666666,
          0.0144366812227074,
          0.0072779097387173,
          0.0103146853146853,
          0.0079665551839464,
          0.010011583011583,
          0.0086870229007633,
          0.0127945205479452,
          0.0104285714285714,
          0.0098650602409638,
          0.0097642276422764,
          0.0314635416666666,
          0.038603448275862,
          0.0110840579710144,
          0.0193191489361702,
          0.0157581395348837,
          null,
          0.0280980392156862,
          0.0238361581920903,
          0.0181875,
          0.0151578947368421,
          0.0135505617977528,
          0.0185,
          0.0228688946015424,
          0.0246666666666666,
          0.005894495412844,
          0.0078469387755102,
          0.0129820359281437,
          0.0102290076335877,
          0.0126343825665859,
          0.0135384615384615,
          0.0131244239631336,
          0.024693386773547,
          0.0283125,
          0.0393673870333988,
          0.0426327077747989,
          0.0134444444444444,
          0.0231839622641509,
          0.0166666666666666,
          0.0075943396226415,
          0.00975,
          0.0067072072072072,
          0.0128226950354609,
          0.0161764705882352,
          0.0086465116279069,
          0.0059296703296703,
          0.0122269129287598,
          0.0104212860310421,
          0.0097025316455696,
          0.0110703517587939,
          0.0099891598915989,
          0.011,
          0.0359014778325123,
          0.0298268156424581,
          0.0242937062937062,
          0.0071019283746556,
          0.0103452914798206,
          0.0353434125269978,
          0.0338347826086956,
          0.0292717678100263,
          0.0060902255639097,
          0.0126666666666666,
          0.0121882951653944,
          0.0108333333333333,
          0.0076153846153846,
          0.0095724815724815,
          0.0131687041564792,
          0.0118877005347593,
          0.0102365988909427,
          0.0076801541425818,
          0.0123661327231121,
          0.012953125,
          0.0159003115264797,
          0.015066413662239,
          0.0341662591687041,
          0.008286995515695,
          0.0182128712871287,
          0.0167792207792207,
          0.0311046770601336,
          0.0498590604026845,
          0.0371919770773638,
          0.0502315789473684,
          0.0178321342925659,
          0.0112285714285714,
          0.0383561643835616,
          0.012969298245614,
          0.0112987551867219,
          0.0119805194805194,
          0.008310606060606,
          0.0068586387434554,
          0.01786,
          0.0173518518518518,
          0.0411506024096385,
          0.0486163522012578,
          0.0166010101010101,
          0.0202780269058295,
          0.0190582959641255,
          0.0247044025157232,
          0.0413816425120772,
          0.0106523809523809,
          0.016077922077922,
          0.0238478260869565,
          0.01252,
          0.0089361702127659,
          0.0054497607655502,
          0.0055838383838383,
          0.0077538461538461,
          0.0100215517241379,
          0.0104049586776859,
          0.0057101449275362,
          0.0354924623115577,
          0.0510163934426229,
          0.0193285371702637,
          0.0218366336633663,
          0.0282996515679442,
          0.0198587570621468,
          0.0208257372654155,
          0.0149375,
          0.0177939698492462,
          0.0332824427480916,
          0.0276245954692556,
          0.0077439293598233,
          0.0100787401574803,
          0.0117966101694915,
          0.0175342465753424,
          0.0108333333333333,
          0.0107175572519083,
          0.0114642857142857,
          0.0081121076233183,
          0.0084653654802908,
          0.0066344827586206,
          0.0083298969072164,
          0.0083343653250773,
          0.0377857142857142,
          0.0339485148514851,
          0.0216822916666666,
          0.025090909090909,
          0.0201425061425061,
          0.0480472972972973,
          0.0327482014388489,
          0.0307624309392265,
          0.00006864988558352403,
          0.0259487179487179,
          0.0103255813953488,
          0.0085873015873015,
          0.0109030100334448,
          0.0142857142857142,
          0.0128388888888888,
          0.0097518248175182,
          0.0126863905325443,
          0.0100714285714285,
          0.0073920704845814,
          0.0167333333333333,
          0.0227241379310344,
          0.01605291005291,
          0.0132285714285714,
          0.0383816793893129,
          0.0392470588235294,
          0.0140388349514563,
          0.009261780104712,
          0.0251405405405405,
          0.0434285714285714,
          0.0348578431372549,
          0.0190504587155963,
          0.0103739495798319,
          0.0149056603773584,
          0.0108367346938775,
          0.0161764705882352,
          0.0087932692307692,
          0.0053181818181818,
          0.0077429305912596,
          0.0059537275064267,
          0.0082398286937901,
          0.0089912536443148,
          0.0103392070484581,
          0.0125309734513274,
          0.0308837209302325,
          0.0363394495412844,
          0.0143165829145728,
          0.0215380710659898,
          0.0210970464135021,
          0.0133015873015873,
          0.041,
          0.0323020833333333,
          0.0072562814070351,
          0.0092912087912087,
          0.0095263157894736,
          0.0106,
          0.0124242424242424,
          0.0071288659793814,
          0.0082414860681114,
          0.0099702970297029,
          0.0076675062972292,
          0.0097177615571776,
          0.0126289926289926,
          0.0097348066298342,
          0.0253756097560975,
          0.012045766590389,
          0.0257046979865771,
          0.0122371967654986,
          0.0258032128514056,
          0.0301498559077809,
          0.025469387755102,
          0.0158387096774193,
          0.0086693711967545,
          0.004017094017094,
          0.0094459724950884,
          0.0029130434782608,
          0.0080487804878048,
          0.0096915167095115,
          0.004734693877551,
          0.0105692695214105,
          0.0134930232558139,
          0.0120141843971631,
          0.0243888888888888,
          0.0141168539325842,
          0.0196972972972972,
          0.0280574162679425,
          0.05821875,
          0.0327048192771084,
          0.0365721649484536,
          0.0365653710247349,
          0.0141935483870967,
          0.0188747252747252,
          0.0186443298969072,
          0.0088688524590163,
          0.0068361204013377,
          0.0116697819314641,
          0.0295714285714285,
          0.0191844155844155,
          0.0158011049723756,
          0.0077421203438395,
          0.0077076923076923,
          0.0104310776942355,
          0.0126931818181818,
          0.0112,
          0.0118461538461538,
          0.008047619047619,
          0.0336202531645569,
          0.034125313283208,
          0.0127485380116959,
          0.0207420814479638,
          0.0203929359823399,
          0.0287520891364902,
          0.0414788732394366,
          0.0216090651558073,
          0.01714,
          0.0101642857142857,
          0.0283076923076923,
          0.0087857142857142,
          0.0120342298288508,
          0.0095820895522388,
          0.0117862595419847,
          0.0114826086956521,
          0.0244208242950108,
          0.0333287671232876,
          0.0321463414634146,
          0.0125968109339407,
          0.0121042345276872,
          0.0151489361702127,
          0.0267443037974683,
          0.0371122715404699,
          0.0336175548589341,
          0.0284101265822784,
          0.00446408839779,
          0.0082864197530864,
          0.0080612244897959,
          0.0049802631578947,
          0.0290163934426229,
          0.0141432098765432,
          0.0094010152284263,
          0.0076904761904761,
          0.0101047381546134,
          0.0071326530612244,
          0.0112762836185819,
          0.0137261904761904,
          0.0175576323987538,
          0.0244135021097046,
          0.0198048780487804,
          0.019579746835443,
          0.036574209245742,
          0.0093922077922077,
          0.0266925207756232,
          0.0892903225806451,
          0.0393545232273838,
          0.0212672672672672,
          0.0189454545454545,
          0.0089141104294478,
          0.0014210526315789,
          0.0023736263736263,
          0.0069103773584905,
          0.0055628415300546,
          0.0087939698492462,
          0.0057631578947368,
          0.0107922077922077,
          0.0164035087719298,
          0.0231878453038674,
          0.0247398843930635,
          0.0161550802139037,
          0.006419540229885,
          0.0240689655172413,
          0.0273446601941747,
          0.0196685082872928,
          0.0117916666666666,
          0.0155925925925925,
          0.0152207792207792,
          0.0146545454545454,
          0.0059097222222222,
          0.0007042253521126,
          0.0049485094850948,
          0.0117242888402625,
          0.0111916859122401,
          0.0083864734299516,
          0.0070888888888888,
          0.0072910052910052,
          0.0074807692307692,
          0.0080939226519337,
          0.0019233038348082,
          0.0188713910761154,
          0.0277046004842615,
          0.0082742316784869,
          0.0071298701298701,
          0.0146481994459833,
          0.0237540106951871,
          0.0299780219780219,
          0.0217256857855361,
          0.0217256857855361,
          0.0088883248730964,
          0.0065964912280701,
          0.0024336569579288,
          0.0041772151898734,
          0.0084187192118226,
          0.002,
          0.005906976744186,
          0.0085595854922279,
          0.0148109589041095,
          0.007438596491228,
          0.0164556962025316,
          0.0298969696969696,
          0.021680250783699,
          0.0083529411764705,
          0.0046794520547945,
          0.0130924369747899,
          0.0098703703703703,
          0.0098703703703703,
          0.0221827411167512,
          0.0277806122448979,
          0.0277806122448979,
          0.0276018306636155,
          0.0091989389920424,
          0.0091848341232227,
          0.0086486486486486,
          0.0054520547945205,
          0.0117670886075949,
          0.0114772036474164,
          0.0072451923076923,
          0.011457627118644,
          0.011457627118644,
          0.0055991379310344,
          0.0167774936061381,
          0.0167774936061381,
          0.0152893081761006,
          0.0109681159420289,
          0.0168660714285714,
          0.0168660714285714,
          0.0243205128205128,
          0.0243205128205128,
          0.0170925373134328,
          0.0071038575667655,
          0.0077197802197802,
          0.0088740359897172,
          0.020431693989071,
          0.0265859872611464,
          0.0256769596199524,
          0.0096946564885496,
          0.0109607250755287,
          0.0076981132075471,
          0.0076981132075471,
          0.0056433566433566,
          0.0203870967741935,
          0.0127647058823529,
          0.0050229007633587,
          0.0051603053435114,
          0.0122699724517906,
          0.0219196428571428,
          0.0202946175637393,
          0.0181619937694704,
          0.0106735218508997,
          0.0079947916666666,
          0.011063829787234,
          0.015095,
          0.0085879396984924,
          0.017633734939759,
          0.0244968553459119,
          0.0244968553459119,
          0.0282064896755162,
          0.0084938271604938,
          0.0106235955056179,
          0.0225568862275449,
          0.0031768292682926,
          0.0048314606741573,
          0.0018791946308724,
          0.0134726368159203,
          0.0054835680751173,
          0.0072117263843648,
          0.007328,
          0.0103076923076923,
          0.020821752265861,
          0.0192380952380952,
          0.0251540342298288,
          0.017804469273743,
          0.006850948509485,
          0.0165558194774346,
          0.0110357142857142,
          0.0205745257452574,
          0.0188906666666666,
          0.0236641604010025,
          0.0269022988505747,
          0.0053333333333333,
          0.0032115384615384,
          0.0046926829268292,
          0.0067154046997389,
          0.0053838383838383,
          0.0130434782608695,
          0.0100425531914893,
          0.0104768211920529,
          0.0060651162790697,
          0.0158894736842105,
          0.0191105769230769,
          0.0120062111801242,
          0.0100593471810089,
          0.0216255924170616,
          0.0170819672131147,
          0.0321661721068249,
          0.0076051948051948,
          0.014596923076923,
          0.0178379888268156,
          0.0278730158730158,
          0.0326118721461187,
          0.0166823529411764,
          0.0045894736842105,
          0.01234375,
          0.0135353535353535,
          0.0072722891566265,
          0.0078730964467005,
          0.0079160839160839,
          0.0063613231552162,
          0.0074878048780487,
          0.0137487437185929,
          0.0195047619047619,
          0.0120240963855421,
          0.0172236503856041,
          0.0336959459459459,
          0.0150398230088495,
          0.0082718894009216,
          0.0171937172774869,
          0.0137097791798107,
          0.0268578680203045,
          0.0305435540069686,
          0.0096449438202247,
          0.0046542056074766,
          0.005825,
          0.0071784037558685,
          0.0152115384615384,
          0.0166735395189003,
          0.012144420131291,
          0.004742209631728,
          0.0130170316301703,
          0.0196871794871794,
          0.0261780415430267,
          0.0089441624365482,
          0.0085757575757575,
          0.0065366972477064,
          0.0059884393063583,
          0.0112984293193717,
          0.0170969072164948,
          0.0182916666666666,
          0.029,
          0.0277623188405797,
          0.0272224938875305,
          0.031272,
          0.0064915254237288,
          0.0109816272965879,
          0.0166517412935323,
          0.0053806451612903,
          0.0068379204892966,
          0.0030546623794212,
          0.0073298969072164,
          0.0088528784648187,
          0.0116273291925465,
          0.0198411764705882,
          0.0241857585139318,
          0.0144586666666666,
          0.0136388140161725,
          0.0195696202531645,
          0.0273333333333333,
          0.007545045045045,
          0.01704,
          0.0306024096385542,
          0.0257594501718213,
          0.0079568345323741,
          0.0113148148148148,
          0.0058545454545454,
          0.0020289855072463,
          0.0014518072289156,
          0.0089968652037617,
          0.0069440715883668,
          0.0084749340369393,
          0.0088459530026109,
          0.0088923884514435,
          0.0113333333333333,
          0.0158982035928143,
          0.0218031914893617,
          0.0253743589743589,
          0.0115818639798488,
          0.0155294117647058,
          0.0108907103825136,
          0.0115522388059701,
          0.0261366459627329,
          0.0237211796246648,
          0.0329347826086956,
          0.0286334841628959,
          0.0051324200913242,
          0.0056968085106382,
          0.0108469945355191,
          0.0088366890380313,
          0.0081431578947368,
          0.0190046296296296,
          0.0106299212598425,
          0.0158646153846153,
          0.0249836956521739,
          0.026891304347826,
          0.0123451776649746,
          0.0084984615384615,
          0.0135730337078651,
          0.0200533333333333,
          0.0093908872901678,
          0.0275849056603773,
          0.0094114832535885,
          0.0210894308943089,
          0.0397647058823529,
          0.0303835616438356,
          0.0281706484641638,
          0.0063097345132743,
          0.0043571428571428,
          0.0062800982800982,
          0.0127341176470588,
          0.0067662650602409,
          0.0146292834890965,
          0.0080324074074074,
          0.0073911007025761,
          0.019152,
          0.0258732782369146,
          0.0079044943820224,
          0.0057149877149877,
          0.0228578088578088,
          0.0282772277227722,
          0.0098402203856749,
          0.0166965699208443,
          0.0123212121212121,
          0.0276721311475409,
          0.0226128133704735,
          0.0117438202247191,
          0.0071111111111111,
          0.0049428571428571,
          0.0022587064676616,
          0.0076438356164383,
          0.0059230769230769,
          0.0132224938875305,
          0.0111988950276243,
          0.0097619047619047,
          0.0070939226519337,
          0.0039488817891373,
          0.0268391167192429,
          0.0377235023041474,
          0.0305527065527065,
          0.0076814159292035,
          0.0178989361702127,
          0.0161160220994475,
          0.0161513761467889,
          0.0503692307692307,
          0.007672514619883,
          0.0251670822942643,
          0.017516129032258,
          0.0063103448275862,
          0.0081336760925449,
          0.0106930232558139,
          0.0072833723653395,
          0.0132478632478632,
          0.0245732087227414,
          0.010291304347826,
          0.01922,
          0.0159354838709677,
          0.013935632183908,
          0.010940119760479,
          0.0147398568019093,
          0.014375,
          0.0304144144144144,
          0.0234864864864864,
          0.0091864406779661,
          0.01236,
          0.0250721153846153,
          0.0336516853932584,
          0.0374453781512605,
          0.0061015625,
          0.0102371794871794,
          0.0219783783783783,
          0.0151666666666666,
          0.0199376947040498,
          0.0075846994535519,
          0.0161623036649214,
          0.011970238095238,
          0.0270992907801418,
          0.022875816993464,
          0.0031513353115727,
          0.006054054054054,
          0.015545871559633,
          0.023284595300261,
          0.0136391752577319,
          0.0213409742120343,
          0.0237987804878048,
          0.0260588235294117,
          0.02952,
          0.0132612612612612,
          0.0265745856353591,
          0.0066885245901639,
          0.0143731041456016,
          0.0120435967302452,
          0.0083870967741935,
          0.0093351063829787,
          0.0130882352941176,
          0.0060910224438902,
          0.0125250903251706,
          0.0235875331564986,
          0.0319392684610075,
          0.0078028316727844,
          0.0234841628959276,
          0.0128732747804266,
          0.0091996361982719,
          0.0156614044637996,
          0.0238996340825927,
          0.0192899408284023,
          0.0245235426008968,
          0.02745566692367,
          0.0057053140096618,
          0.0079870129870129,
          0.0064483394833948,
          0.001590909090909,
          0.0056824925816023,
          0.007032967032967,
          0.0104081632653061,
          0.003828025477707,
          0.0112642110050022,
          0.0143278502552467,
          0.013719806763285,
          0.0194038361845515,
          0.018453747467927,
          0.0268292682926829,
          0.0282253179890975,
          0.0109501557632398,
          0.0178753246753246,
          0.0119308641975308,
          0.0191484593837535,
          0.0259367771781033,
          0.0281843575418994,
          0.0069888475836431,
          0.0106633906633906,
          0.0064705882352941,
          0.0176978021978021,
          0.0141168022977501,
          0.0137829457364341,
          0.0078492849284928,
          0.0224462200368776,
          0.0268737060041407,
          0.0047557386698057,
          0.0099451918285999,
          0.0188651315789473,
          0.0188456937799043,
          0.0104461795872838,
          0.0184834123222748,
          0.017510885341074,
          0.0282015810276679,
          0.0250446927374301,
          0.0283928571428571,
          0.0325829812914906,
          0.0065765278528934,
          0.0111921296296296,
          0.026,
          0.00501303214596
         ],
         "yaxis": "y"
        }
       ],
       "layout": {
        "legend": {
         "tracegroupgap": 0
        },
        "template": {
         "data": {
          "bar": [
           {
            "error_x": {
             "color": "#2a3f5f"
            },
            "error_y": {
             "color": "#2a3f5f"
            },
            "marker": {
             "line": {
              "color": "#E5ECF6",
              "width": 0.5
             },
             "pattern": {
              "fillmode": "overlay",
              "size": 10,
              "solidity": 0.2
             }
            },
            "type": "bar"
           }
          ],
          "barpolar": [
           {
            "marker": {
             "line": {
              "color": "#E5ECF6",
              "width": 0.5
             },
             "pattern": {
              "fillmode": "overlay",
              "size": 10,
              "solidity": 0.2
             }
            },
            "type": "barpolar"
           }
          ],
          "carpet": [
           {
            "aaxis": {
             "endlinecolor": "#2a3f5f",
             "gridcolor": "white",
             "linecolor": "white",
             "minorgridcolor": "white",
             "startlinecolor": "#2a3f5f"
            },
            "baxis": {
             "endlinecolor": "#2a3f5f",
             "gridcolor": "white",
             "linecolor": "white",
             "minorgridcolor": "white",
             "startlinecolor": "#2a3f5f"
            },
            "type": "carpet"
           }
          ],
          "choropleth": [
           {
            "colorbar": {
             "outlinewidth": 0,
             "ticks": ""
            },
            "type": "choropleth"
           }
          ],
          "contour": [
           {
            "colorbar": {
             "outlinewidth": 0,
             "ticks": ""
            },
            "colorscale": [
             [
              0,
              "#0d0887"
             ],
             [
              0.1111111111111111,
              "#46039f"
             ],
             [
              0.2222222222222222,
              "#7201a8"
             ],
             [
              0.3333333333333333,
              "#9c179e"
             ],
             [
              0.4444444444444444,
              "#bd3786"
             ],
             [
              0.5555555555555556,
              "#d8576b"
             ],
             [
              0.6666666666666666,
              "#ed7953"
             ],
             [
              0.7777777777777778,
              "#fb9f3a"
             ],
             [
              0.8888888888888888,
              "#fdca26"
             ],
             [
              1,
              "#f0f921"
             ]
            ],
            "type": "contour"
           }
          ],
          "contourcarpet": [
           {
            "colorbar": {
             "outlinewidth": 0,
             "ticks": ""
            },
            "type": "contourcarpet"
           }
          ],
          "heatmap": [
           {
            "colorbar": {
             "outlinewidth": 0,
             "ticks": ""
            },
            "colorscale": [
             [
              0,
              "#0d0887"
             ],
             [
              0.1111111111111111,
              "#46039f"
             ],
             [
              0.2222222222222222,
              "#7201a8"
             ],
             [
              0.3333333333333333,
              "#9c179e"
             ],
             [
              0.4444444444444444,
              "#bd3786"
             ],
             [
              0.5555555555555556,
              "#d8576b"
             ],
             [
              0.6666666666666666,
              "#ed7953"
             ],
             [
              0.7777777777777778,
              "#fb9f3a"
             ],
             [
              0.8888888888888888,
              "#fdca26"
             ],
             [
              1,
              "#f0f921"
             ]
            ],
            "type": "heatmap"
           }
          ],
          "heatmapgl": [
           {
            "colorbar": {
             "outlinewidth": 0,
             "ticks": ""
            },
            "colorscale": [
             [
              0,
              "#0d0887"
             ],
             [
              0.1111111111111111,
              "#46039f"
             ],
             [
              0.2222222222222222,
              "#7201a8"
             ],
             [
              0.3333333333333333,
              "#9c179e"
             ],
             [
              0.4444444444444444,
              "#bd3786"
             ],
             [
              0.5555555555555556,
              "#d8576b"
             ],
             [
              0.6666666666666666,
              "#ed7953"
             ],
             [
              0.7777777777777778,
              "#fb9f3a"
             ],
             [
              0.8888888888888888,
              "#fdca26"
             ],
             [
              1,
              "#f0f921"
             ]
            ],
            "type": "heatmapgl"
           }
          ],
          "histogram": [
           {
            "marker": {
             "pattern": {
              "fillmode": "overlay",
              "size": 10,
              "solidity": 0.2
             }
            },
            "type": "histogram"
           }
          ],
          "histogram2d": [
           {
            "colorbar": {
             "outlinewidth": 0,
             "ticks": ""
            },
            "colorscale": [
             [
              0,
              "#0d0887"
             ],
             [
              0.1111111111111111,
              "#46039f"
             ],
             [
              0.2222222222222222,
              "#7201a8"
             ],
             [
              0.3333333333333333,
              "#9c179e"
             ],
             [
              0.4444444444444444,
              "#bd3786"
             ],
             [
              0.5555555555555556,
              "#d8576b"
             ],
             [
              0.6666666666666666,
              "#ed7953"
             ],
             [
              0.7777777777777778,
              "#fb9f3a"
             ],
             [
              0.8888888888888888,
              "#fdca26"
             ],
             [
              1,
              "#f0f921"
             ]
            ],
            "type": "histogram2d"
           }
          ],
          "histogram2dcontour": [
           {
            "colorbar": {
             "outlinewidth": 0,
             "ticks": ""
            },
            "colorscale": [
             [
              0,
              "#0d0887"
             ],
             [
              0.1111111111111111,
              "#46039f"
             ],
             [
              0.2222222222222222,
              "#7201a8"
             ],
             [
              0.3333333333333333,
              "#9c179e"
             ],
             [
              0.4444444444444444,
              "#bd3786"
             ],
             [
              0.5555555555555556,
              "#d8576b"
             ],
             [
              0.6666666666666666,
              "#ed7953"
             ],
             [
              0.7777777777777778,
              "#fb9f3a"
             ],
             [
              0.8888888888888888,
              "#fdca26"
             ],
             [
              1,
              "#f0f921"
             ]
            ],
            "type": "histogram2dcontour"
           }
          ],
          "mesh3d": [
           {
            "colorbar": {
             "outlinewidth": 0,
             "ticks": ""
            },
            "type": "mesh3d"
           }
          ],
          "parcoords": [
           {
            "line": {
             "colorbar": {
              "outlinewidth": 0,
              "ticks": ""
             }
            },
            "type": "parcoords"
           }
          ],
          "pie": [
           {
            "automargin": true,
            "type": "pie"
           }
          ],
          "scatter": [
           {
            "fillpattern": {
             "fillmode": "overlay",
             "size": 10,
             "solidity": 0.2
            },
            "type": "scatter"
           }
          ],
          "scatter3d": [
           {
            "line": {
             "colorbar": {
              "outlinewidth": 0,
              "ticks": ""
             }
            },
            "marker": {
             "colorbar": {
              "outlinewidth": 0,
              "ticks": ""
             }
            },
            "type": "scatter3d"
           }
          ],
          "scattercarpet": [
           {
            "marker": {
             "colorbar": {
              "outlinewidth": 0,
              "ticks": ""
             }
            },
            "type": "scattercarpet"
           }
          ],
          "scattergeo": [
           {
            "marker": {
             "colorbar": {
              "outlinewidth": 0,
              "ticks": ""
             }
            },
            "type": "scattergeo"
           }
          ],
          "scattergl": [
           {
            "marker": {
             "colorbar": {
              "outlinewidth": 0,
              "ticks": ""
             }
            },
            "type": "scattergl"
           }
          ],
          "scattermapbox": [
           {
            "marker": {
             "colorbar": {
              "outlinewidth": 0,
              "ticks": ""
             }
            },
            "type": "scattermapbox"
           }
          ],
          "scatterpolar": [
           {
            "marker": {
             "colorbar": {
              "outlinewidth": 0,
              "ticks": ""
             }
            },
            "type": "scatterpolar"
           }
          ],
          "scatterpolargl": [
           {
            "marker": {
             "colorbar": {
              "outlinewidth": 0,
              "ticks": ""
             }
            },
            "type": "scatterpolargl"
           }
          ],
          "scatterternary": [
           {
            "marker": {
             "colorbar": {
              "outlinewidth": 0,
              "ticks": ""
             }
            },
            "type": "scatterternary"
           }
          ],
          "surface": [
           {
            "colorbar": {
             "outlinewidth": 0,
             "ticks": ""
            },
            "colorscale": [
             [
              0,
              "#0d0887"
             ],
             [
              0.1111111111111111,
              "#46039f"
             ],
             [
              0.2222222222222222,
              "#7201a8"
             ],
             [
              0.3333333333333333,
              "#9c179e"
             ],
             [
              0.4444444444444444,
              "#bd3786"
             ],
             [
              0.5555555555555556,
              "#d8576b"
             ],
             [
              0.6666666666666666,
              "#ed7953"
             ],
             [
              0.7777777777777778,
              "#fb9f3a"
             ],
             [
              0.8888888888888888,
              "#fdca26"
             ],
             [
              1,
              "#f0f921"
             ]
            ],
            "type": "surface"
           }
          ],
          "table": [
           {
            "cells": {
             "fill": {
              "color": "#EBF0F8"
             },
             "line": {
              "color": "white"
             }
            },
            "header": {
             "fill": {
              "color": "#C8D4E3"
             },
             "line": {
              "color": "white"
             }
            },
            "type": "table"
           }
          ]
         },
         "layout": {
          "annotationdefaults": {
           "arrowcolor": "#2a3f5f",
           "arrowhead": 0,
           "arrowwidth": 1
          },
          "autotypenumbers": "strict",
          "coloraxis": {
           "colorbar": {
            "outlinewidth": 0,
            "ticks": ""
           }
          },
          "colorscale": {
           "diverging": [
            [
             0,
             "#8e0152"
            ],
            [
             0.1,
             "#c51b7d"
            ],
            [
             0.2,
             "#de77ae"
            ],
            [
             0.3,
             "#f1b6da"
            ],
            [
             0.4,
             "#fde0ef"
            ],
            [
             0.5,
             "#f7f7f7"
            ],
            [
             0.6,
             "#e6f5d0"
            ],
            [
             0.7,
             "#b8e186"
            ],
            [
             0.8,
             "#7fbc41"
            ],
            [
             0.9,
             "#4d9221"
            ],
            [
             1,
             "#276419"
            ]
           ],
           "sequential": [
            [
             0,
             "#0d0887"
            ],
            [
             0.1111111111111111,
             "#46039f"
            ],
            [
             0.2222222222222222,
             "#7201a8"
            ],
            [
             0.3333333333333333,
             "#9c179e"
            ],
            [
             0.4444444444444444,
             "#bd3786"
            ],
            [
             0.5555555555555556,
             "#d8576b"
            ],
            [
             0.6666666666666666,
             "#ed7953"
            ],
            [
             0.7777777777777778,
             "#fb9f3a"
            ],
            [
             0.8888888888888888,
             "#fdca26"
            ],
            [
             1,
             "#f0f921"
            ]
           ],
           "sequentialminus": [
            [
             0,
             "#0d0887"
            ],
            [
             0.1111111111111111,
             "#46039f"
            ],
            [
             0.2222222222222222,
             "#7201a8"
            ],
            [
             0.3333333333333333,
             "#9c179e"
            ],
            [
             0.4444444444444444,
             "#bd3786"
            ],
            [
             0.5555555555555556,
             "#d8576b"
            ],
            [
             0.6666666666666666,
             "#ed7953"
            ],
            [
             0.7777777777777778,
             "#fb9f3a"
            ],
            [
             0.8888888888888888,
             "#fdca26"
            ],
            [
             1,
             "#f0f921"
            ]
           ]
          },
          "colorway": [
           "#636efa",
           "#EF553B",
           "#00cc96",
           "#ab63fa",
           "#FFA15A",
           "#19d3f3",
           "#FF6692",
           "#B6E880",
           "#FF97FF",
           "#FECB52"
          ],
          "font": {
           "color": "#2a3f5f"
          },
          "geo": {
           "bgcolor": "white",
           "lakecolor": "white",
           "landcolor": "#E5ECF6",
           "showlakes": true,
           "showland": true,
           "subunitcolor": "white"
          },
          "hoverlabel": {
           "align": "left"
          },
          "hovermode": "closest",
          "mapbox": {
           "style": "light"
          },
          "paper_bgcolor": "white",
          "plot_bgcolor": "#E5ECF6",
          "polar": {
           "angularaxis": {
            "gridcolor": "white",
            "linecolor": "white",
            "ticks": ""
           },
           "bgcolor": "#E5ECF6",
           "radialaxis": {
            "gridcolor": "white",
            "linecolor": "white",
            "ticks": ""
           }
          },
          "scene": {
           "xaxis": {
            "backgroundcolor": "#E5ECF6",
            "gridcolor": "white",
            "gridwidth": 2,
            "linecolor": "white",
            "showbackground": true,
            "ticks": "",
            "zerolinecolor": "white"
           },
           "yaxis": {
            "backgroundcolor": "#E5ECF6",
            "gridcolor": "white",
            "gridwidth": 2,
            "linecolor": "white",
            "showbackground": true,
            "ticks": "",
            "zerolinecolor": "white"
           },
           "zaxis": {
            "backgroundcolor": "#E5ECF6",
            "gridcolor": "white",
            "gridwidth": 2,
            "linecolor": "white",
            "showbackground": true,
            "ticks": "",
            "zerolinecolor": "white"
           }
          },
          "shapedefaults": {
           "line": {
            "color": "#2a3f5f"
           }
          },
          "ternary": {
           "aaxis": {
            "gridcolor": "white",
            "linecolor": "white",
            "ticks": ""
           },
           "baxis": {
            "gridcolor": "white",
            "linecolor": "white",
            "ticks": ""
           },
           "bgcolor": "#E5ECF6",
           "caxis": {
            "gridcolor": "white",
            "linecolor": "white",
            "ticks": ""
           }
          },
          "title": {
           "x": 0.05
          },
          "xaxis": {
           "automargin": true,
           "gridcolor": "white",
           "linecolor": "white",
           "ticks": "",
           "title": {
            "standoff": 15
           },
           "zerolinecolor": "white",
           "zerolinewidth": 2
          },
          "yaxis": {
           "automargin": true,
           "gridcolor": "white",
           "linecolor": "white",
           "ticks": "",
           "title": {
            "standoff": 15
           },
           "zerolinecolor": "white",
           "zerolinewidth": 2
          }
         }
        },
        "title": {
         "text": "Stage grades per year"
        },
        "xaxis": {
         "anchor": "y",
         "domain": [
          0,
          1
         ],
         "title": {
          "text": "year"
         }
        },
        "yaxis": {
         "anchor": "x",
         "domain": [
          0,
          1
         ],
         "title": {
          "text": "stage_grade"
         }
        }
       }
      }
     },
     "metadata": {},
     "output_type": "display_data"
    }
   ],
   "source": [
    "px.scatter(df,x=\"year\", y=\"stage_grade\", title=\"Stage grades per year\")\n"
   ]
  },
  {
   "cell_type": "code",
   "execution_count": 80,
   "metadata": {},
   "outputs": [
    {
     "data": {
      "application/vnd.plotly.v1+json": {
       "config": {
        "plotlyServerURL": "https://plot.ly"
       },
       "data": [
        {
         "hovertemplate": "variable=power<br>year=%{x}<br>value=%{y}<extra></extra>",
         "legendgroup": "power",
         "marker": {
          "color": "#636efa",
          "symbol": "circle"
         },
         "mode": "markers",
         "name": "power",
         "orientation": "v",
         "showlegend": true,
         "type": "scatter",
         "x": [
          1985,
          1986,
          1987,
          1988,
          1989,
          1990,
          1991,
          1992,
          1993,
          1994,
          1995,
          1996,
          1997,
          1998,
          1999,
          2000,
          2001,
          2002,
          2003,
          2004,
          2005,
          2006,
          2007,
          2008,
          2009,
          2010,
          2011,
          2012,
          2013,
          2014,
          2015,
          2016,
          2017,
          2018,
          2019,
          2020,
          2021,
          2022,
          2023
         ],
         "xaxis": "x",
         "y": [
          306.17701769835395,
          328.43899965285595,
          321.05636345456094,
          350.72508325855654,
          287.5877666616943,
          290.02850091386887,
          364.679022962087,
          284.8158468432912,
          424.25244767879883,
          395.9116710856207,
          430.1213970746932,
          334.06064220057,
          358.48075911202056,
          414.6456109010786,
          436.7770751565825,
          385.17223867621374,
          365.29284538419097,
          445.1318491561287,
          455.47111812907235,
          392.7319346776972,
          373.91060697576756,
          366.06427858865993,
          332.92376439981444,
          347.46403403056945,
          347.3978109729091,
          352.6067644084969,
          345.76277527125944,
          386.219088213825,
          377.696084375355,
          374.3938233037996,
          352.8848302562419,
          333.94988340256134,
          392.7167808650832,
          390.3400994498339,
          301.17576562187406,
          361.1289973619328,
          360.4376996353591,
          386.0180537565441,
          373.0859787649242
         ],
         "yaxis": "y"
        },
        {
         "type": "scatter",
         "x": [
          1985,
          1986,
          1987,
          1988,
          1989,
          1990,
          1991,
          1992,
          1993,
          1994,
          1995,
          1996,
          1997,
          1998,
          1999,
          2000,
          2001,
          2002,
          2003,
          2004,
          2005,
          2006,
          2007,
          2008,
          2009,
          2010,
          2011,
          2012,
          2013,
          2014,
          2015,
          2016,
          2017,
          2018,
          2019,
          2020,
          2021,
          2022,
          2023
         ],
         "y": [
          309.6652301241952,
          310.3202043645262,
          319.2884990484997,
          356.06643929381534,
          342.46295589909624,
          297.2733144706971,
          366.76022695068315,
          380.10701416621174,
          377.4457166423889,
          375.21289433441285,
          397.6893881287055,
          359.56551255146866,
          388.63825703320737,
          402.7048141371477,
          402.92448143856996,
          361.3958495461908,
          409.08985663967957,
          404.6312850765866,
          427.89167557668793,
          418.0564733439319,
          388.5917277106127,
          344.63187271066886,
          343.41392193574274,
          369.69108326978727,
          368.03317417998727,
          358.85082626491123,
          374.26594895378116,
          377.2305842099521,
          382.4802285749177,
          378.40590461081126,
          364.0135730337847,
          374.33422115050524,
          387.81587869681994,
          379.1486694267757,
          379.7226441954829,
          380.32020099834057,
          402.94382435816476,
          414.8222538677658,
          404.45357356968736
         ]
        }
       ],
       "layout": {
        "legend": {
         "title": {
          "text": "variable"
         },
         "tracegroupgap": 0
        },
        "template": {
         "data": {
          "bar": [
           {
            "error_x": {
             "color": "#2a3f5f"
            },
            "error_y": {
             "color": "#2a3f5f"
            },
            "marker": {
             "line": {
              "color": "#E5ECF6",
              "width": 0.5
             },
             "pattern": {
              "fillmode": "overlay",
              "size": 10,
              "solidity": 0.2
             }
            },
            "type": "bar"
           }
          ],
          "barpolar": [
           {
            "marker": {
             "line": {
              "color": "#E5ECF6",
              "width": 0.5
             },
             "pattern": {
              "fillmode": "overlay",
              "size": 10,
              "solidity": 0.2
             }
            },
            "type": "barpolar"
           }
          ],
          "carpet": [
           {
            "aaxis": {
             "endlinecolor": "#2a3f5f",
             "gridcolor": "white",
             "linecolor": "white",
             "minorgridcolor": "white",
             "startlinecolor": "#2a3f5f"
            },
            "baxis": {
             "endlinecolor": "#2a3f5f",
             "gridcolor": "white",
             "linecolor": "white",
             "minorgridcolor": "white",
             "startlinecolor": "#2a3f5f"
            },
            "type": "carpet"
           }
          ],
          "choropleth": [
           {
            "colorbar": {
             "outlinewidth": 0,
             "ticks": ""
            },
            "type": "choropleth"
           }
          ],
          "contour": [
           {
            "colorbar": {
             "outlinewidth": 0,
             "ticks": ""
            },
            "colorscale": [
             [
              0,
              "#0d0887"
             ],
             [
              0.1111111111111111,
              "#46039f"
             ],
             [
              0.2222222222222222,
              "#7201a8"
             ],
             [
              0.3333333333333333,
              "#9c179e"
             ],
             [
              0.4444444444444444,
              "#bd3786"
             ],
             [
              0.5555555555555556,
              "#d8576b"
             ],
             [
              0.6666666666666666,
              "#ed7953"
             ],
             [
              0.7777777777777778,
              "#fb9f3a"
             ],
             [
              0.8888888888888888,
              "#fdca26"
             ],
             [
              1,
              "#f0f921"
             ]
            ],
            "type": "contour"
           }
          ],
          "contourcarpet": [
           {
            "colorbar": {
             "outlinewidth": 0,
             "ticks": ""
            },
            "type": "contourcarpet"
           }
          ],
          "heatmap": [
           {
            "colorbar": {
             "outlinewidth": 0,
             "ticks": ""
            },
            "colorscale": [
             [
              0,
              "#0d0887"
             ],
             [
              0.1111111111111111,
              "#46039f"
             ],
             [
              0.2222222222222222,
              "#7201a8"
             ],
             [
              0.3333333333333333,
              "#9c179e"
             ],
             [
              0.4444444444444444,
              "#bd3786"
             ],
             [
              0.5555555555555556,
              "#d8576b"
             ],
             [
              0.6666666666666666,
              "#ed7953"
             ],
             [
              0.7777777777777778,
              "#fb9f3a"
             ],
             [
              0.8888888888888888,
              "#fdca26"
             ],
             [
              1,
              "#f0f921"
             ]
            ],
            "type": "heatmap"
           }
          ],
          "heatmapgl": [
           {
            "colorbar": {
             "outlinewidth": 0,
             "ticks": ""
            },
            "colorscale": [
             [
              0,
              "#0d0887"
             ],
             [
              0.1111111111111111,
              "#46039f"
             ],
             [
              0.2222222222222222,
              "#7201a8"
             ],
             [
              0.3333333333333333,
              "#9c179e"
             ],
             [
              0.4444444444444444,
              "#bd3786"
             ],
             [
              0.5555555555555556,
              "#d8576b"
             ],
             [
              0.6666666666666666,
              "#ed7953"
             ],
             [
              0.7777777777777778,
              "#fb9f3a"
             ],
             [
              0.8888888888888888,
              "#fdca26"
             ],
             [
              1,
              "#f0f921"
             ]
            ],
            "type": "heatmapgl"
           }
          ],
          "histogram": [
           {
            "marker": {
             "pattern": {
              "fillmode": "overlay",
              "size": 10,
              "solidity": 0.2
             }
            },
            "type": "histogram"
           }
          ],
          "histogram2d": [
           {
            "colorbar": {
             "outlinewidth": 0,
             "ticks": ""
            },
            "colorscale": [
             [
              0,
              "#0d0887"
             ],
             [
              0.1111111111111111,
              "#46039f"
             ],
             [
              0.2222222222222222,
              "#7201a8"
             ],
             [
              0.3333333333333333,
              "#9c179e"
             ],
             [
              0.4444444444444444,
              "#bd3786"
             ],
             [
              0.5555555555555556,
              "#d8576b"
             ],
             [
              0.6666666666666666,
              "#ed7953"
             ],
             [
              0.7777777777777778,
              "#fb9f3a"
             ],
             [
              0.8888888888888888,
              "#fdca26"
             ],
             [
              1,
              "#f0f921"
             ]
            ],
            "type": "histogram2d"
           }
          ],
          "histogram2dcontour": [
           {
            "colorbar": {
             "outlinewidth": 0,
             "ticks": ""
            },
            "colorscale": [
             [
              0,
              "#0d0887"
             ],
             [
              0.1111111111111111,
              "#46039f"
             ],
             [
              0.2222222222222222,
              "#7201a8"
             ],
             [
              0.3333333333333333,
              "#9c179e"
             ],
             [
              0.4444444444444444,
              "#bd3786"
             ],
             [
              0.5555555555555556,
              "#d8576b"
             ],
             [
              0.6666666666666666,
              "#ed7953"
             ],
             [
              0.7777777777777778,
              "#fb9f3a"
             ],
             [
              0.8888888888888888,
              "#fdca26"
             ],
             [
              1,
              "#f0f921"
             ]
            ],
            "type": "histogram2dcontour"
           }
          ],
          "mesh3d": [
           {
            "colorbar": {
             "outlinewidth": 0,
             "ticks": ""
            },
            "type": "mesh3d"
           }
          ],
          "parcoords": [
           {
            "line": {
             "colorbar": {
              "outlinewidth": 0,
              "ticks": ""
             }
            },
            "type": "parcoords"
           }
          ],
          "pie": [
           {
            "automargin": true,
            "type": "pie"
           }
          ],
          "scatter": [
           {
            "fillpattern": {
             "fillmode": "overlay",
             "size": 10,
             "solidity": 0.2
            },
            "type": "scatter"
           }
          ],
          "scatter3d": [
           {
            "line": {
             "colorbar": {
              "outlinewidth": 0,
              "ticks": ""
             }
            },
            "marker": {
             "colorbar": {
              "outlinewidth": 0,
              "ticks": ""
             }
            },
            "type": "scatter3d"
           }
          ],
          "scattercarpet": [
           {
            "marker": {
             "colorbar": {
              "outlinewidth": 0,
              "ticks": ""
             }
            },
            "type": "scattercarpet"
           }
          ],
          "scattergeo": [
           {
            "marker": {
             "colorbar": {
              "outlinewidth": 0,
              "ticks": ""
             }
            },
            "type": "scattergeo"
           }
          ],
          "scattergl": [
           {
            "marker": {
             "colorbar": {
              "outlinewidth": 0,
              "ticks": ""
             }
            },
            "type": "scattergl"
           }
          ],
          "scattermapbox": [
           {
            "marker": {
             "colorbar": {
              "outlinewidth": 0,
              "ticks": ""
             }
            },
            "type": "scattermapbox"
           }
          ],
          "scatterpolar": [
           {
            "marker": {
             "colorbar": {
              "outlinewidth": 0,
              "ticks": ""
             }
            },
            "type": "scatterpolar"
           }
          ],
          "scatterpolargl": [
           {
            "marker": {
             "colorbar": {
              "outlinewidth": 0,
              "ticks": ""
             }
            },
            "type": "scatterpolargl"
           }
          ],
          "scatterternary": [
           {
            "marker": {
             "colorbar": {
              "outlinewidth": 0,
              "ticks": ""
             }
            },
            "type": "scatterternary"
           }
          ],
          "surface": [
           {
            "colorbar": {
             "outlinewidth": 0,
             "ticks": ""
            },
            "colorscale": [
             [
              0,
              "#0d0887"
             ],
             [
              0.1111111111111111,
              "#46039f"
             ],
             [
              0.2222222222222222,
              "#7201a8"
             ],
             [
              0.3333333333333333,
              "#9c179e"
             ],
             [
              0.4444444444444444,
              "#bd3786"
             ],
             [
              0.5555555555555556,
              "#d8576b"
             ],
             [
              0.6666666666666666,
              "#ed7953"
             ],
             [
              0.7777777777777778,
              "#fb9f3a"
             ],
             [
              0.8888888888888888,
              "#fdca26"
             ],
             [
              1,
              "#f0f921"
             ]
            ],
            "type": "surface"
           }
          ],
          "table": [
           {
            "cells": {
             "fill": {
              "color": "#EBF0F8"
             },
             "line": {
              "color": "white"
             }
            },
            "header": {
             "fill": {
              "color": "#C8D4E3"
             },
             "line": {
              "color": "white"
             }
            },
            "type": "table"
           }
          ]
         },
         "layout": {
          "annotationdefaults": {
           "arrowcolor": "#2a3f5f",
           "arrowhead": 0,
           "arrowwidth": 1
          },
          "autotypenumbers": "strict",
          "coloraxis": {
           "colorbar": {
            "outlinewidth": 0,
            "ticks": ""
           }
          },
          "colorscale": {
           "diverging": [
            [
             0,
             "#8e0152"
            ],
            [
             0.1,
             "#c51b7d"
            ],
            [
             0.2,
             "#de77ae"
            ],
            [
             0.3,
             "#f1b6da"
            ],
            [
             0.4,
             "#fde0ef"
            ],
            [
             0.5,
             "#f7f7f7"
            ],
            [
             0.6,
             "#e6f5d0"
            ],
            [
             0.7,
             "#b8e186"
            ],
            [
             0.8,
             "#7fbc41"
            ],
            [
             0.9,
             "#4d9221"
            ],
            [
             1,
             "#276419"
            ]
           ],
           "sequential": [
            [
             0,
             "#0d0887"
            ],
            [
             0.1111111111111111,
             "#46039f"
            ],
            [
             0.2222222222222222,
             "#7201a8"
            ],
            [
             0.3333333333333333,
             "#9c179e"
            ],
            [
             0.4444444444444444,
             "#bd3786"
            ],
            [
             0.5555555555555556,
             "#d8576b"
            ],
            [
             0.6666666666666666,
             "#ed7953"
            ],
            [
             0.7777777777777778,
             "#fb9f3a"
            ],
            [
             0.8888888888888888,
             "#fdca26"
            ],
            [
             1,
             "#f0f921"
            ]
           ],
           "sequentialminus": [
            [
             0,
             "#0d0887"
            ],
            [
             0.1111111111111111,
             "#46039f"
            ],
            [
             0.2222222222222222,
             "#7201a8"
            ],
            [
             0.3333333333333333,
             "#9c179e"
            ],
            [
             0.4444444444444444,
             "#bd3786"
            ],
            [
             0.5555555555555556,
             "#d8576b"
            ],
            [
             0.6666666666666666,
             "#ed7953"
            ],
            [
             0.7777777777777778,
             "#fb9f3a"
            ],
            [
             0.8888888888888888,
             "#fdca26"
            ],
            [
             1,
             "#f0f921"
            ]
           ]
          },
          "colorway": [
           "#636efa",
           "#EF553B",
           "#00cc96",
           "#ab63fa",
           "#FFA15A",
           "#19d3f3",
           "#FF6692",
           "#B6E880",
           "#FF97FF",
           "#FECB52"
          ],
          "font": {
           "color": "#2a3f5f"
          },
          "geo": {
           "bgcolor": "white",
           "lakecolor": "white",
           "landcolor": "#E5ECF6",
           "showlakes": true,
           "showland": true,
           "subunitcolor": "white"
          },
          "hoverlabel": {
           "align": "left"
          },
          "hovermode": "closest",
          "mapbox": {
           "style": "light"
          },
          "paper_bgcolor": "white",
          "plot_bgcolor": "#E5ECF6",
          "polar": {
           "angularaxis": {
            "gridcolor": "white",
            "linecolor": "white",
            "ticks": ""
           },
           "bgcolor": "#E5ECF6",
           "radialaxis": {
            "gridcolor": "white",
            "linecolor": "white",
            "ticks": ""
           }
          },
          "scene": {
           "xaxis": {
            "backgroundcolor": "#E5ECF6",
            "gridcolor": "white",
            "gridwidth": 2,
            "linecolor": "white",
            "showbackground": true,
            "ticks": "",
            "zerolinecolor": "white"
           },
           "yaxis": {
            "backgroundcolor": "#E5ECF6",
            "gridcolor": "white",
            "gridwidth": 2,
            "linecolor": "white",
            "showbackground": true,
            "ticks": "",
            "zerolinecolor": "white"
           },
           "zaxis": {
            "backgroundcolor": "#E5ECF6",
            "gridcolor": "white",
            "gridwidth": 2,
            "linecolor": "white",
            "showbackground": true,
            "ticks": "",
            "zerolinecolor": "white"
           }
          },
          "shapedefaults": {
           "line": {
            "color": "#2a3f5f"
           }
          },
          "ternary": {
           "aaxis": {
            "gridcolor": "white",
            "linecolor": "white",
            "ticks": ""
           },
           "baxis": {
            "gridcolor": "white",
            "linecolor": "white",
            "ticks": ""
           },
           "bgcolor": "#E5ECF6",
           "caxis": {
            "gridcolor": "white",
            "linecolor": "white",
            "ticks": ""
           }
          },
          "title": {
           "x": 0.05
          },
          "xaxis": {
           "automargin": true,
           "gridcolor": "white",
           "linecolor": "white",
           "ticks": "",
           "title": {
            "standoff": 15
           },
           "zerolinecolor": "white",
           "zerolinewidth": 2
          },
          "yaxis": {
           "automargin": true,
           "gridcolor": "white",
           "linecolor": "white",
           "ticks": "",
           "title": {
            "standoff": 15
           },
           "zerolinecolor": "white",
           "zerolinewidth": 2
          }
         }
        },
        "title": {
         "text": "Median stage power compared to full tour power"
        },
        "xaxis": {
         "anchor": "y",
         "domain": [
          0,
          1
         ],
         "title": {
          "text": "year"
         }
        },
        "yaxis": {
         "anchor": "x",
         "domain": [
          0,
          1
         ],
         "title": {
          "text": "value"
         }
        }
       }
      }
     },
     "metadata": {},
     "output_type": "display_data"
    }
   ],
   "source": [
    "\n",
    "fig = px.scatter(df.groupby(\"year\").power.median(), title=\"Median stage power compared to full tour power\")\n",
    "fig.add_scatter(x=year_power.index, y=year_power.values)\n",
    "fig.show()"
   ]
  },
  {
   "cell_type": "code",
   "execution_count": 81,
   "metadata": {},
   "outputs": [
    {
     "data": {
      "application/vnd.plotly.v1+json": {
       "config": {
        "plotlyServerURL": "https://plot.ly"
       },
       "data": [
        {
         "customdata": [
          [
           "https://www.procyclingstats.com/race/tour-de-france/1985/stage-1"
          ],
          [
           "https://www.procyclingstats.com/race/tour-de-france/1985/stage-2"
          ],
          [
           "https://www.procyclingstats.com/race/tour-de-france/1985/stage-4"
          ],
          [
           "https://www.procyclingstats.com/race/tour-de-france/1985/stage-5"
          ],
          [
           "https://www.procyclingstats.com/race/tour-de-france/1985/stage-6"
          ],
          [
           "https://www.procyclingstats.com/race/tour-de-france/1985/stage-7"
          ],
          [
           "https://www.procyclingstats.com/race/tour-de-france/1985/stage-9"
          ],
          [
           "https://www.procyclingstats.com/race/tour-de-france/1985/stage-10"
          ],
          [
           "https://www.procyclingstats.com/race/tour-de-france/1985/stage-11"
          ],
          [
           "https://www.procyclingstats.com/race/tour-de-france/1985/stage-12"
          ],
          [
           "https://www.procyclingstats.com/race/tour-de-france/1985/stage-14"
          ],
          [
           "https://www.procyclingstats.com/race/tour-de-france/1985/stage-15"
          ],
          [
           "https://www.procyclingstats.com/race/tour-de-france/1985/stage-16"
          ],
          [
           "https://www.procyclingstats.com/race/tour-de-france/1985/stage-17"
          ],
          [
           "https://www.procyclingstats.com/race/tour-de-france/1985/stage-18a"
          ],
          [
           "https://www.procyclingstats.com/race/tour-de-france/1985/stage-18b"
          ],
          [
           "https://www.procyclingstats.com/race/tour-de-france/1985/stage-19"
          ],
          [
           "https://www.procyclingstats.com/race/tour-de-france/1985/stage-20"
          ],
          [
           "https://www.procyclingstats.com/race/tour-de-france/1985/stage-22"
          ],
          [
           "https://www.procyclingstats.com/race/tour-de-france/1986/stage-1"
          ],
          [
           "https://www.procyclingstats.com/race/tour-de-france/1986/stage-3"
          ],
          [
           "https://www.procyclingstats.com/race/tour-de-france/1986/stage-4"
          ],
          [
           "https://www.procyclingstats.com/race/tour-de-france/1986/stage-5"
          ],
          [
           "https://www.procyclingstats.com/race/tour-de-france/1986/stage-6"
          ],
          [
           "https://www.procyclingstats.com/race/tour-de-france/1986/stage-7"
          ],
          [
           "https://www.procyclingstats.com/race/tour-de-france/1986/stage-8"
          ],
          [
           "https://www.procyclingstats.com/race/tour-de-france/1986/stage-10"
          ],
          [
           "https://www.procyclingstats.com/race/tour-de-france/1986/stage-11"
          ],
          [
           "https://www.procyclingstats.com/race/tour-de-france/1986/stage-12"
          ],
          [
           "https://www.procyclingstats.com/race/tour-de-france/1986/stage-13"
          ],
          [
           "https://www.procyclingstats.com/race/tour-de-france/1986/stage-14"
          ],
          [
           "https://www.procyclingstats.com/race/tour-de-france/1986/stage-15"
          ],
          [
           "https://www.procyclingstats.com/race/tour-de-france/1986/stage-16"
          ],
          [
           "https://www.procyclingstats.com/race/tour-de-france/1986/stage-17"
          ],
          [
           "https://www.procyclingstats.com/race/tour-de-france/1986/stage-18"
          ],
          [
           "https://www.procyclingstats.com/race/tour-de-france/1986/stage-19"
          ],
          [
           "https://www.procyclingstats.com/race/tour-de-france/1986/stage-21"
          ],
          [
           "https://www.procyclingstats.com/race/tour-de-france/1986/stage-22"
          ],
          [
           "https://www.procyclingstats.com/race/tour-de-france/1986/stage-23"
          ],
          [
           "https://www.procyclingstats.com/race/tour-de-france/1987/stage-1"
          ],
          [
           "https://www.procyclingstats.com/race/tour-de-france/1987/stage-3"
          ],
          [
           "https://www.procyclingstats.com/race/tour-de-france/1987/stage-4"
          ],
          [
           "https://www.procyclingstats.com/race/tour-de-france/1987/stage-5"
          ],
          [
           "https://www.procyclingstats.com/race/tour-de-france/1987/stage-6"
          ],
          [
           "https://www.procyclingstats.com/race/tour-de-france/1987/stage-7"
          ],
          [
           "https://www.procyclingstats.com/race/tour-de-france/1987/stage-8"
          ],
          [
           "https://www.procyclingstats.com/race/tour-de-france/1987/stage-9"
          ],
          [
           "https://www.procyclingstats.com/race/tour-de-france/1987/stage-11"
          ],
          [
           "https://www.procyclingstats.com/race/tour-de-france/1987/stage-12"
          ],
          [
           "https://www.procyclingstats.com/race/tour-de-france/1987/stage-13"
          ],
          [
           "https://www.procyclingstats.com/race/tour-de-france/1987/stage-14"
          ],
          [
           "https://www.procyclingstats.com/race/tour-de-france/1987/stage-15"
          ],
          [
           "https://www.procyclingstats.com/race/tour-de-france/1987/stage-16"
          ],
          [
           "https://www.procyclingstats.com/race/tour-de-france/1987/stage-17"
          ],
          [
           "https://www.procyclingstats.com/race/tour-de-france/1987/stage-19"
          ],
          [
           "https://www.procyclingstats.com/race/tour-de-france/1987/stage-20"
          ],
          [
           "https://www.procyclingstats.com/race/tour-de-france/1987/stage-21"
          ],
          [
           "https://www.procyclingstats.com/race/tour-de-france/1987/stage-22"
          ],
          [
           "https://www.procyclingstats.com/race/tour-de-france/1987/stage-23"
          ],
          [
           "https://www.procyclingstats.com/race/tour-de-france/1987/stage-25"
          ],
          [
           "https://www.procyclingstats.com/race/tour-de-france/1988/stage-1"
          ],
          [
           "https://www.procyclingstats.com/race/tour-de-france/1988/stage-3"
          ],
          [
           "https://www.procyclingstats.com/race/tour-de-france/1988/stage-4"
          ],
          [
           "https://www.procyclingstats.com/race/tour-de-france/1988/stage-5"
          ],
          [
           "https://www.procyclingstats.com/race/tour-de-france/1988/stage-7"
          ],
          [
           "https://www.procyclingstats.com/race/tour-de-france/1988/stage-8"
          ],
          [
           "https://www.procyclingstats.com/race/tour-de-france/1988/stage-9"
          ],
          [
           "https://www.procyclingstats.com/race/tour-de-france/1988/stage-10"
          ],
          [
           "https://www.procyclingstats.com/race/tour-de-france/1988/stage-11"
          ],
          [
           "https://www.procyclingstats.com/race/tour-de-france/1988/stage-12"
          ],
          [
           "https://www.procyclingstats.com/race/tour-de-france/1988/stage-14"
          ],
          [
           "https://www.procyclingstats.com/race/tour-de-france/1988/stage-15"
          ],
          [
           "https://www.procyclingstats.com/race/tour-de-france/1988/stage-17"
          ],
          [
           "https://www.procyclingstats.com/race/tour-de-france/1988/stage-18"
          ],
          [
           "https://www.procyclingstats.com/race/tour-de-france/1988/stage-19"
          ],
          [
           "https://www.procyclingstats.com/race/tour-de-france/1988/stage-20"
          ],
          [
           "https://www.procyclingstats.com/race/tour-de-france/1988/stage-22"
          ],
          [
           "https://www.procyclingstats.com/race/tour-de-france/1989/stage-1"
          ],
          [
           "https://www.procyclingstats.com/race/tour-de-france/1989/stage-3"
          ],
          [
           "https://www.procyclingstats.com/race/tour-de-france/1989/stage-4"
          ],
          [
           "https://www.procyclingstats.com/race/tour-de-france/1989/stage-6"
          ],
          [
           "https://www.procyclingstats.com/race/tour-de-france/1989/stage-7"
          ],
          [
           "https://www.procyclingstats.com/race/tour-de-france/1989/stage-8"
          ],
          [
           "https://www.procyclingstats.com/race/tour-de-france/1989/stage-9"
          ],
          [
           "https://www.procyclingstats.com/race/tour-de-france/1989/stage-10"
          ],
          [
           "https://www.procyclingstats.com/race/tour-de-france/1989/stage-11"
          ],
          [
           "https://www.procyclingstats.com/race/tour-de-france/1989/stage-12"
          ],
          [
           "https://www.procyclingstats.com/race/tour-de-france/1989/stage-13"
          ],
          [
           "https://www.procyclingstats.com/race/tour-de-france/1989/stage-14"
          ],
          [
           "https://www.procyclingstats.com/race/tour-de-france/1989/stage-16"
          ],
          [
           "https://www.procyclingstats.com/race/tour-de-france/1989/stage-17"
          ],
          [
           "https://www.procyclingstats.com/race/tour-de-france/1989/stage-18"
          ],
          [
           "https://www.procyclingstats.com/race/tour-de-france/1989/stage-19"
          ],
          [
           "https://www.procyclingstats.com/race/tour-de-france/1989/stage-20"
          ],
          [
           "https://www.procyclingstats.com/race/tour-de-france/1990/stage-1"
          ],
          [
           "https://www.procyclingstats.com/race/tour-de-france/1990/stage-3"
          ],
          [
           "https://www.procyclingstats.com/race/tour-de-france/1990/stage-4"
          ],
          [
           "https://www.procyclingstats.com/race/tour-de-france/1990/stage-5"
          ],
          [
           "https://www.procyclingstats.com/race/tour-de-france/1990/stage-6"
          ],
          [
           "https://www.procyclingstats.com/race/tour-de-france/1990/stage-8"
          ],
          [
           "https://www.procyclingstats.com/race/tour-de-france/1990/stage-9"
          ],
          [
           "https://www.procyclingstats.com/race/tour-de-france/1990/stage-10"
          ],
          [
           "https://www.procyclingstats.com/race/tour-de-france/1990/stage-11"
          ],
          [
           "https://www.procyclingstats.com/race/tour-de-france/1990/stage-13"
          ],
          [
           "https://www.procyclingstats.com/race/tour-de-france/1990/stage-14"
          ],
          [
           "https://www.procyclingstats.com/race/tour-de-france/1990/stage-15"
          ],
          [
           "https://www.procyclingstats.com/race/tour-de-france/1990/stage-16"
          ],
          [
           "https://www.procyclingstats.com/race/tour-de-france/1990/stage-17"
          ],
          [
           "https://www.procyclingstats.com/race/tour-de-france/1990/stage-18"
          ],
          [
           "https://www.procyclingstats.com/race/tour-de-france/1990/stage-19"
          ],
          [
           "https://www.procyclingstats.com/race/tour-de-france/1990/stage-21"
          ],
          [
           "https://www.procyclingstats.com/race/tour-de-france/1991/stage-1"
          ],
          [
           "https://www.procyclingstats.com/race/tour-de-france/1991/stage-3"
          ],
          [
           "https://www.procyclingstats.com/race/tour-de-france/1991/stage-4"
          ],
          [
           "https://www.procyclingstats.com/race/tour-de-france/1991/stage-5"
          ],
          [
           "https://www.procyclingstats.com/race/tour-de-france/1991/stage-6"
          ],
          [
           "https://www.procyclingstats.com/race/tour-de-france/1991/stage-7"
          ],
          [
           "https://www.procyclingstats.com/race/tour-de-france/1991/stage-9"
          ],
          [
           "https://www.procyclingstats.com/race/tour-de-france/1991/stage-10"
          ],
          [
           "https://www.procyclingstats.com/race/tour-de-france/1991/stage-11"
          ],
          [
           "https://www.procyclingstats.com/race/tour-de-france/1991/stage-12"
          ],
          [
           "https://www.procyclingstats.com/race/tour-de-france/1991/stage-13"
          ],
          [
           "https://www.procyclingstats.com/race/tour-de-france/1991/stage-14"
          ],
          [
           "https://www.procyclingstats.com/race/tour-de-france/1991/stage-15"
          ],
          [
           "https://www.procyclingstats.com/race/tour-de-france/1991/stage-16"
          ],
          [
           "https://www.procyclingstats.com/race/tour-de-france/1991/stage-17"
          ],
          [
           "https://www.procyclingstats.com/race/tour-de-france/1991/stage-18"
          ],
          [
           "https://www.procyclingstats.com/race/tour-de-france/1991/stage-19"
          ],
          [
           "https://www.procyclingstats.com/race/tour-de-france/1991/stage-20"
          ],
          [
           "https://www.procyclingstats.com/race/tour-de-france/1991/stage-22"
          ],
          [
           "https://www.procyclingstats.com/race/tour-de-france/1992/stage-1"
          ],
          [
           "https://www.procyclingstats.com/race/tour-de-france/1992/stage-2"
          ],
          [
           "https://www.procyclingstats.com/race/tour-de-france/1992/stage-3"
          ],
          [
           "https://www.procyclingstats.com/race/tour-de-france/1992/stage-5"
          ],
          [
           "https://www.procyclingstats.com/race/tour-de-france/1992/stage-6"
          ],
          [
           "https://www.procyclingstats.com/race/tour-de-france/1992/stage-7"
          ],
          [
           "https://www.procyclingstats.com/race/tour-de-france/1992/stage-8"
          ],
          [
           "https://www.procyclingstats.com/race/tour-de-france/1992/stage-10"
          ],
          [
           "https://www.procyclingstats.com/race/tour-de-france/1992/stage-11"
          ],
          [
           "https://www.procyclingstats.com/race/tour-de-france/1992/stage-12"
          ],
          [
           "https://www.procyclingstats.com/race/tour-de-france/1992/stage-13"
          ],
          [
           "https://www.procyclingstats.com/race/tour-de-france/1992/stage-14"
          ],
          [
           "https://www.procyclingstats.com/race/tour-de-france/1992/stage-15"
          ],
          [
           "https://www.procyclingstats.com/race/tour-de-france/1992/stage-16"
          ],
          [
           "https://www.procyclingstats.com/race/tour-de-france/1992/stage-17"
          ],
          [
           "https://www.procyclingstats.com/race/tour-de-france/1992/stage-18"
          ],
          [
           "https://www.procyclingstats.com/race/tour-de-france/1992/stage-20"
          ],
          [
           "https://www.procyclingstats.com/race/tour-de-france/1992/stage-21"
          ],
          [
           "https://www.procyclingstats.com/race/tour-de-france/1993/stage-1"
          ],
          [
           "https://www.procyclingstats.com/race/tour-de-france/1993/stage-2"
          ],
          [
           "https://www.procyclingstats.com/race/tour-de-france/1993/stage-3"
          ],
          [
           "https://www.procyclingstats.com/race/tour-de-france/1993/stage-5"
          ],
          [
           "https://www.procyclingstats.com/race/tour-de-france/1993/stage-6"
          ],
          [
           "https://www.procyclingstats.com/race/tour-de-france/1993/stage-7"
          ],
          [
           "https://www.procyclingstats.com/race/tour-de-france/1993/stage-8"
          ],
          [
           "https://www.procyclingstats.com/race/tour-de-france/1993/stage-10"
          ],
          [
           "https://www.procyclingstats.com/race/tour-de-france/1993/stage-11"
          ],
          [
           "https://www.procyclingstats.com/race/tour-de-france/1993/stage-12"
          ],
          [
           "https://www.procyclingstats.com/race/tour-de-france/1993/stage-13"
          ],
          [
           "https://www.procyclingstats.com/race/tour-de-france/1993/stage-14"
          ],
          [
           "https://www.procyclingstats.com/race/tour-de-france/1993/stage-15"
          ],
          [
           "https://www.procyclingstats.com/race/tour-de-france/1993/stage-16"
          ],
          [
           "https://www.procyclingstats.com/race/tour-de-france/1993/stage-17"
          ],
          [
           "https://www.procyclingstats.com/race/tour-de-france/1993/stage-18"
          ],
          [
           "https://www.procyclingstats.com/race/tour-de-france/1993/stage-20"
          ],
          [
           "https://www.procyclingstats.com/race/tour-de-france/1994/stage-1"
          ],
          [
           "https://www.procyclingstats.com/race/tour-de-france/1994/stage-2"
          ],
          [
           "https://www.procyclingstats.com/race/tour-de-france/1994/stage-4"
          ],
          [
           "https://www.procyclingstats.com/race/tour-de-france/1994/stage-5"
          ],
          [
           "https://www.procyclingstats.com/race/tour-de-france/1994/stage-6"
          ],
          [
           "https://www.procyclingstats.com/race/tour-de-france/1994/stage-7"
          ],
          [
           "https://www.procyclingstats.com/race/tour-de-france/1994/stage-8"
          ],
          [
           "https://www.procyclingstats.com/race/tour-de-france/1994/stage-10"
          ],
          [
           "https://www.procyclingstats.com/race/tour-de-france/1994/stage-11"
          ],
          [
           "https://www.procyclingstats.com/race/tour-de-france/1994/stage-12"
          ],
          [
           "https://www.procyclingstats.com/race/tour-de-france/1994/stage-13"
          ],
          [
           "https://www.procyclingstats.com/race/tour-de-france/1994/stage-14"
          ],
          [
           "https://www.procyclingstats.com/race/tour-de-france/1994/stage-15"
          ],
          [
           "https://www.procyclingstats.com/race/tour-de-france/1994/stage-16"
          ],
          [
           "https://www.procyclingstats.com/race/tour-de-france/1994/stage-17"
          ],
          [
           "https://www.procyclingstats.com/race/tour-de-france/1994/stage-18"
          ],
          [
           "https://www.procyclingstats.com/race/tour-de-france/1994/stage-20"
          ],
          [
           "https://www.procyclingstats.com/race/tour-de-france/1994/stage-21"
          ],
          [
           "https://www.procyclingstats.com/race/tour-de-france/1995/stage-1"
          ],
          [
           "https://www.procyclingstats.com/race/tour-de-france/1995/stage-2"
          ],
          [
           "https://www.procyclingstats.com/race/tour-de-france/1995/stage-4"
          ],
          [
           "https://www.procyclingstats.com/race/tour-de-france/1995/stage-5"
          ],
          [
           "https://www.procyclingstats.com/race/tour-de-france/1995/stage-6"
          ],
          [
           "https://www.procyclingstats.com/race/tour-de-france/1995/stage-7"
          ],
          [
           "https://www.procyclingstats.com/race/tour-de-france/1995/stage-9"
          ],
          [
           "https://www.procyclingstats.com/race/tour-de-france/1995/stage-10"
          ],
          [
           "https://www.procyclingstats.com/race/tour-de-france/1995/stage-11"
          ],
          [
           "https://www.procyclingstats.com/race/tour-de-france/1995/stage-12"
          ],
          [
           "https://www.procyclingstats.com/race/tour-de-france/1995/stage-13"
          ],
          [
           "https://www.procyclingstats.com/race/tour-de-france/1995/stage-14"
          ],
          [
           "https://www.procyclingstats.com/race/tour-de-france/1995/stage-15"
          ],
          [
           "https://www.procyclingstats.com/race/tour-de-france/1995/stage-17"
          ],
          [
           "https://www.procyclingstats.com/race/tour-de-france/1995/stage-18"
          ],
          [
           "https://www.procyclingstats.com/race/tour-de-france/1995/stage-20"
          ],
          [
           "https://www.procyclingstats.com/race/tour-de-france/1996/stage-1"
          ],
          [
           "https://www.procyclingstats.com/race/tour-de-france/1996/stage-2"
          ],
          [
           "https://www.procyclingstats.com/race/tour-de-france/1996/stage-3"
          ],
          [
           "https://www.procyclingstats.com/race/tour-de-france/1996/stage-4"
          ],
          [
           "https://www.procyclingstats.com/race/tour-de-france/1996/stage-5"
          ],
          [
           "https://www.procyclingstats.com/race/tour-de-france/1996/stage-6"
          ],
          [
           "https://www.procyclingstats.com/race/tour-de-france/1996/stage-7"
          ],
          [
           "https://www.procyclingstats.com/race/tour-de-france/1996/stage-10"
          ],
          [
           "https://www.procyclingstats.com/race/tour-de-france/1996/stage-11"
          ],
          [
           "https://www.procyclingstats.com/race/tour-de-france/1996/stage-12"
          ],
          [
           "https://www.procyclingstats.com/race/tour-de-france/1996/stage-13"
          ],
          [
           "https://www.procyclingstats.com/race/tour-de-france/1996/stage-14"
          ],
          [
           "https://www.procyclingstats.com/race/tour-de-france/1996/stage-15"
          ],
          [
           "https://www.procyclingstats.com/race/tour-de-france/1996/stage-16"
          ],
          [
           "https://www.procyclingstats.com/race/tour-de-france/1996/stage-17"
          ],
          [
           "https://www.procyclingstats.com/race/tour-de-france/1996/stage-18"
          ],
          [
           "https://www.procyclingstats.com/race/tour-de-france/1996/stage-19"
          ],
          [
           "https://www.procyclingstats.com/race/tour-de-france/1996/stage-21"
          ],
          [
           "https://www.procyclingstats.com/race/tour-de-france/1997/stage-1"
          ],
          [
           "https://www.procyclingstats.com/race/tour-de-france/1997/stage-2"
          ],
          [
           "https://www.procyclingstats.com/race/tour-de-france/1997/stage-3"
          ],
          [
           "https://www.procyclingstats.com/race/tour-de-france/1997/stage-4"
          ],
          [
           "https://www.procyclingstats.com/race/tour-de-france/1997/stage-5"
          ],
          [
           "https://www.procyclingstats.com/race/tour-de-france/1997/stage-6"
          ],
          [
           "https://www.procyclingstats.com/race/tour-de-france/1997/stage-7"
          ],
          [
           "https://www.procyclingstats.com/race/tour-de-france/1997/stage-8"
          ],
          [
           "https://www.procyclingstats.com/race/tour-de-france/1997/stage-9"
          ],
          [
           "https://www.procyclingstats.com/race/tour-de-france/1997/stage-10"
          ],
          [
           "https://www.procyclingstats.com/race/tour-de-france/1997/stage-11"
          ],
          [
           "https://www.procyclingstats.com/race/tour-de-france/1997/stage-13"
          ],
          [
           "https://www.procyclingstats.com/race/tour-de-france/1997/stage-14"
          ],
          [
           "https://www.procyclingstats.com/race/tour-de-france/1997/stage-15"
          ],
          [
           "https://www.procyclingstats.com/race/tour-de-france/1997/stage-16"
          ],
          [
           "https://www.procyclingstats.com/race/tour-de-france/1997/stage-17"
          ],
          [
           "https://www.procyclingstats.com/race/tour-de-france/1997/stage-18"
          ],
          [
           "https://www.procyclingstats.com/race/tour-de-france/1997/stage-19"
          ],
          [
           "https://www.procyclingstats.com/race/tour-de-france/1997/stage-21"
          ],
          [
           "https://www.procyclingstats.com/race/tour-de-france/1998/stage-1"
          ],
          [
           "https://www.procyclingstats.com/race/tour-de-france/1998/stage-2"
          ],
          [
           "https://www.procyclingstats.com/race/tour-de-france/1998/stage-3"
          ],
          [
           "https://www.procyclingstats.com/race/tour-de-france/1998/stage-4"
          ],
          [
           "https://www.procyclingstats.com/race/tour-de-france/1998/stage-5"
          ],
          [
           "https://www.procyclingstats.com/race/tour-de-france/1998/stage-6"
          ],
          [
           "https://www.procyclingstats.com/race/tour-de-france/1998/stage-8"
          ],
          [
           "https://www.procyclingstats.com/race/tour-de-france/1998/stage-9"
          ],
          [
           "https://www.procyclingstats.com/race/tour-de-france/1998/stage-10"
          ],
          [
           "https://www.procyclingstats.com/race/tour-de-france/1998/stage-11"
          ],
          [
           "https://www.procyclingstats.com/race/tour-de-france/1998/stage-12"
          ],
          [
           "https://www.procyclingstats.com/race/tour-de-france/1998/stage-13"
          ],
          [
           "https://www.procyclingstats.com/race/tour-de-france/1998/stage-14"
          ],
          [
           "https://www.procyclingstats.com/race/tour-de-france/1998/stage-15"
          ],
          [
           "https://www.procyclingstats.com/race/tour-de-france/1998/stage-16"
          ],
          [
           "https://www.procyclingstats.com/race/tour-de-france/1998/stage-18"
          ],
          [
           "https://www.procyclingstats.com/race/tour-de-france/1998/stage-19"
          ],
          [
           "https://www.procyclingstats.com/race/tour-de-france/1998/stage-21"
          ],
          [
           "https://www.procyclingstats.com/race/tour-de-france/1999/stage-1"
          ],
          [
           "https://www.procyclingstats.com/race/tour-de-france/1999/stage-2"
          ],
          [
           "https://www.procyclingstats.com/race/tour-de-france/1999/stage-3"
          ],
          [
           "https://www.procyclingstats.com/race/tour-de-france/1999/stage-4"
          ],
          [
           "https://www.procyclingstats.com/race/tour-de-france/1999/stage-5"
          ],
          [
           "https://www.procyclingstats.com/race/tour-de-france/1999/stage-6"
          ],
          [
           "https://www.procyclingstats.com/race/tour-de-france/1999/stage-7"
          ],
          [
           "https://www.procyclingstats.com/race/tour-de-france/1999/stage-9"
          ],
          [
           "https://www.procyclingstats.com/race/tour-de-france/1999/stage-10"
          ],
          [
           "https://www.procyclingstats.com/race/tour-de-france/1999/stage-11"
          ],
          [
           "https://www.procyclingstats.com/race/tour-de-france/1999/stage-12"
          ],
          [
           "https://www.procyclingstats.com/race/tour-de-france/1999/stage-13"
          ],
          [
           "https://www.procyclingstats.com/race/tour-de-france/1999/stage-14"
          ],
          [
           "https://www.procyclingstats.com/race/tour-de-france/1999/stage-15"
          ],
          [
           "https://www.procyclingstats.com/race/tour-de-france/1999/stage-16"
          ],
          [
           "https://www.procyclingstats.com/race/tour-de-france/1999/stage-17"
          ],
          [
           "https://www.procyclingstats.com/race/tour-de-france/1999/stage-18"
          ],
          [
           "https://www.procyclingstats.com/race/tour-de-france/1999/stage-20"
          ],
          [
           "https://www.procyclingstats.com/race/tour-de-france/2000/stage-2"
          ],
          [
           "https://www.procyclingstats.com/race/tour-de-france/2000/stage-3"
          ],
          [
           "https://www.procyclingstats.com/race/tour-de-france/2000/stage-5"
          ],
          [
           "https://www.procyclingstats.com/race/tour-de-france/2000/stage-6"
          ],
          [
           "https://www.procyclingstats.com/race/tour-de-france/2000/stage-7"
          ],
          [
           "https://www.procyclingstats.com/race/tour-de-france/2000/stage-8"
          ],
          [
           "https://www.procyclingstats.com/race/tour-de-france/2000/stage-9"
          ],
          [
           "https://www.procyclingstats.com/race/tour-de-france/2000/stage-10"
          ],
          [
           "https://www.procyclingstats.com/race/tour-de-france/2000/stage-11"
          ],
          [
           "https://www.procyclingstats.com/race/tour-de-france/2000/stage-12"
          ],
          [
           "https://www.procyclingstats.com/race/tour-de-france/2000/stage-13"
          ],
          [
           "https://www.procyclingstats.com/race/tour-de-france/2000/stage-14"
          ],
          [
           "https://www.procyclingstats.com/race/tour-de-france/2000/stage-15"
          ],
          [
           "https://www.procyclingstats.com/race/tour-de-france/2000/stage-16"
          ],
          [
           "https://www.procyclingstats.com/race/tour-de-france/2000/stage-17"
          ],
          [
           "https://www.procyclingstats.com/race/tour-de-france/2000/stage-18"
          ],
          [
           "https://www.procyclingstats.com/race/tour-de-france/2000/stage-20"
          ],
          [
           "https://www.procyclingstats.com/race/tour-de-france/2000/stage-21"
          ],
          [
           "https://www.procyclingstats.com/race/tour-de-france/2001/stage-1"
          ],
          [
           "https://www.procyclingstats.com/race/tour-de-france/2001/stage-2"
          ],
          [
           "https://www.procyclingstats.com/race/tour-de-france/2001/stage-3"
          ],
          [
           "https://www.procyclingstats.com/race/tour-de-france/2001/stage-4"
          ],
          [
           "https://www.procyclingstats.com/race/tour-de-france/2001/stage-6"
          ],
          [
           "https://www.procyclingstats.com/race/tour-de-france/2001/stage-7"
          ],
          [
           "https://www.procyclingstats.com/race/tour-de-france/2001/stage-8"
          ],
          [
           "https://www.procyclingstats.com/race/tour-de-france/2001/stage-9"
          ],
          [
           "https://www.procyclingstats.com/race/tour-de-france/2001/stage-10"
          ],
          [
           "https://www.procyclingstats.com/race/tour-de-france/2001/stage-12"
          ],
          [
           "https://www.procyclingstats.com/race/tour-de-france/2001/stage-13"
          ],
          [
           "https://www.procyclingstats.com/race/tour-de-france/2001/stage-14"
          ],
          [
           "https://www.procyclingstats.com/race/tour-de-france/2001/stage-15"
          ],
          [
           "https://www.procyclingstats.com/race/tour-de-france/2001/stage-16"
          ],
          [
           "https://www.procyclingstats.com/race/tour-de-france/2001/stage-17"
          ],
          [
           "https://www.procyclingstats.com/race/tour-de-france/2001/stage-19"
          ],
          [
           "https://www.procyclingstats.com/race/tour-de-france/2001/stage-20"
          ],
          [
           "https://www.procyclingstats.com/race/tour-de-france/2002/stage-1"
          ],
          [
           "https://www.procyclingstats.com/race/tour-de-france/2002/stage-2"
          ],
          [
           "https://www.procyclingstats.com/race/tour-de-france/2002/stage-3"
          ],
          [
           "https://www.procyclingstats.com/race/tour-de-france/2002/stage-5"
          ],
          [
           "https://www.procyclingstats.com/race/tour-de-france/2002/stage-6"
          ],
          [
           "https://www.procyclingstats.com/race/tour-de-france/2002/stage-7"
          ],
          [
           "https://www.procyclingstats.com/race/tour-de-france/2002/stage-8"
          ],
          [
           "https://www.procyclingstats.com/race/tour-de-france/2002/stage-10"
          ],
          [
           "https://www.procyclingstats.com/race/tour-de-france/2002/stage-11"
          ],
          [
           "https://www.procyclingstats.com/race/tour-de-france/2002/stage-12"
          ],
          [
           "https://www.procyclingstats.com/race/tour-de-france/2002/stage-13"
          ],
          [
           "https://www.procyclingstats.com/race/tour-de-france/2002/stage-14"
          ],
          [
           "https://www.procyclingstats.com/race/tour-de-france/2002/stage-15"
          ],
          [
           "https://www.procyclingstats.com/race/tour-de-france/2002/stage-16"
          ],
          [
           "https://www.procyclingstats.com/race/tour-de-france/2002/stage-17"
          ],
          [
           "https://www.procyclingstats.com/race/tour-de-france/2002/stage-18"
          ],
          [
           "https://www.procyclingstats.com/race/tour-de-france/2002/stage-20"
          ],
          [
           "https://www.procyclingstats.com/race/tour-de-france/2003/stage-1"
          ],
          [
           "https://www.procyclingstats.com/race/tour-de-france/2003/stage-2"
          ],
          [
           "https://www.procyclingstats.com/race/tour-de-france/2003/stage-3"
          ],
          [
           "https://www.procyclingstats.com/race/tour-de-france/2003/stage-5"
          ],
          [
           "https://www.procyclingstats.com/race/tour-de-france/2003/stage-6"
          ],
          [
           "https://www.procyclingstats.com/race/tour-de-france/2003/stage-7"
          ],
          [
           "https://www.procyclingstats.com/race/tour-de-france/2003/stage-8"
          ],
          [
           "https://www.procyclingstats.com/race/tour-de-france/2003/stage-9"
          ],
          [
           "https://www.procyclingstats.com/race/tour-de-france/2003/stage-10"
          ],
          [
           "https://www.procyclingstats.com/race/tour-de-france/2003/stage-11"
          ],
          [
           "https://www.procyclingstats.com/race/tour-de-france/2003/stage-13"
          ],
          [
           "https://www.procyclingstats.com/race/tour-de-france/2003/stage-14"
          ],
          [
           "https://www.procyclingstats.com/race/tour-de-france/2003/stage-15"
          ],
          [
           "https://www.procyclingstats.com/race/tour-de-france/2003/stage-16"
          ],
          [
           "https://www.procyclingstats.com/race/tour-de-france/2003/stage-17"
          ],
          [
           "https://www.procyclingstats.com/race/tour-de-france/2003/stage-18"
          ],
          [
           "https://www.procyclingstats.com/race/tour-de-france/2003/stage-20"
          ],
          [
           "https://www.procyclingstats.com/race/tour-de-france/2004/stage-1"
          ],
          [
           "https://www.procyclingstats.com/race/tour-de-france/2004/stage-2"
          ],
          [
           "https://www.procyclingstats.com/race/tour-de-france/2004/stage-3"
          ],
          [
           "https://www.procyclingstats.com/race/tour-de-france/2004/stage-5"
          ],
          [
           "https://www.procyclingstats.com/race/tour-de-france/2004/stage-6"
          ],
          [
           "https://www.procyclingstats.com/race/tour-de-france/2004/stage-7"
          ],
          [
           "https://www.procyclingstats.com/race/tour-de-france/2004/stage-8"
          ],
          [
           "https://www.procyclingstats.com/race/tour-de-france/2004/stage-9"
          ],
          [
           "https://www.procyclingstats.com/race/tour-de-france/2004/stage-10"
          ],
          [
           "https://www.procyclingstats.com/race/tour-de-france/2004/stage-11"
          ],
          [
           "https://www.procyclingstats.com/race/tour-de-france/2004/stage-12"
          ],
          [
           "https://www.procyclingstats.com/race/tour-de-france/2004/stage-13"
          ],
          [
           "https://www.procyclingstats.com/race/tour-de-france/2004/stage-14"
          ],
          [
           "https://www.procyclingstats.com/race/tour-de-france/2004/stage-15"
          ],
          [
           "https://www.procyclingstats.com/race/tour-de-france/2004/stage-17"
          ],
          [
           "https://www.procyclingstats.com/race/tour-de-france/2004/stage-18"
          ],
          [
           "https://www.procyclingstats.com/race/tour-de-france/2004/stage-20"
          ],
          [
           "https://www.procyclingstats.com/race/tour-de-france/2005/stage-2"
          ],
          [
           "https://www.procyclingstats.com/race/tour-de-france/2005/stage-3"
          ],
          [
           "https://www.procyclingstats.com/race/tour-de-france/2005/stage-5"
          ],
          [
           "https://www.procyclingstats.com/race/tour-de-france/2005/stage-6"
          ],
          [
           "https://www.procyclingstats.com/race/tour-de-france/2005/stage-7"
          ],
          [
           "https://www.procyclingstats.com/race/tour-de-france/2005/stage-8"
          ],
          [
           "https://www.procyclingstats.com/race/tour-de-france/2005/stage-9"
          ],
          [
           "https://www.procyclingstats.com/race/tour-de-france/2005/stage-10"
          ],
          [
           "https://www.procyclingstats.com/race/tour-de-france/2005/stage-11"
          ],
          [
           "https://www.procyclingstats.com/race/tour-de-france/2005/stage-12"
          ],
          [
           "https://www.procyclingstats.com/race/tour-de-france/2005/stage-13"
          ],
          [
           "https://www.procyclingstats.com/race/tour-de-france/2005/stage-14"
          ],
          [
           "https://www.procyclingstats.com/race/tour-de-france/2005/stage-15"
          ],
          [
           "https://www.procyclingstats.com/race/tour-de-france/2005/stage-16"
          ],
          [
           "https://www.procyclingstats.com/race/tour-de-france/2005/stage-17"
          ],
          [
           "https://www.procyclingstats.com/race/tour-de-france/2005/stage-18"
          ],
          [
           "https://www.procyclingstats.com/race/tour-de-france/2005/stage-19"
          ],
          [
           "https://www.procyclingstats.com/race/tour-de-france/2005/stage-21"
          ],
          [
           "https://www.procyclingstats.com/race/tour-de-france/2006/stage-1"
          ],
          [
           "https://www.procyclingstats.com/race/tour-de-france/2006/stage-2"
          ],
          [
           "https://www.procyclingstats.com/race/tour-de-france/2006/stage-3"
          ],
          [
           "https://www.procyclingstats.com/race/tour-de-france/2006/stage-4"
          ],
          [
           "https://www.procyclingstats.com/race/tour-de-france/2006/stage-5"
          ],
          [
           "https://www.procyclingstats.com/race/tour-de-france/2006/stage-6"
          ],
          [
           "https://www.procyclingstats.com/race/tour-de-france/2006/stage-8"
          ],
          [
           "https://www.procyclingstats.com/race/tour-de-france/2006/stage-9"
          ],
          [
           "https://www.procyclingstats.com/race/tour-de-france/2006/stage-10"
          ],
          [
           "https://www.procyclingstats.com/race/tour-de-france/2006/stage-11"
          ],
          [
           "https://www.procyclingstats.com/race/tour-de-france/2006/stage-12"
          ],
          [
           "https://www.procyclingstats.com/race/tour-de-france/2006/stage-13"
          ],
          [
           "https://www.procyclingstats.com/race/tour-de-france/2006/stage-14"
          ],
          [
           "https://www.procyclingstats.com/race/tour-de-france/2006/stage-15"
          ],
          [
           "https://www.procyclingstats.com/race/tour-de-france/2006/stage-16"
          ],
          [
           "https://www.procyclingstats.com/race/tour-de-france/2006/stage-17"
          ],
          [
           "https://www.procyclingstats.com/race/tour-de-france/2006/stage-17"
          ],
          [
           "https://www.procyclingstats.com/race/tour-de-france/2006/stage-18"
          ],
          [
           "https://www.procyclingstats.com/race/tour-de-france/2006/stage-20"
          ],
          [
           "https://www.procyclingstats.com/race/tour-de-france/2007/stage-1"
          ],
          [
           "https://www.procyclingstats.com/race/tour-de-france/2007/stage-2"
          ],
          [
           "https://www.procyclingstats.com/race/tour-de-france/2007/stage-3"
          ],
          [
           "https://www.procyclingstats.com/race/tour-de-france/2007/stage-4"
          ],
          [
           "https://www.procyclingstats.com/race/tour-de-france/2007/stage-5"
          ],
          [
           "https://www.procyclingstats.com/race/tour-de-france/2007/stage-6"
          ],
          [
           "https://www.procyclingstats.com/race/tour-de-france/2007/stage-7"
          ],
          [
           "https://www.procyclingstats.com/race/tour-de-france/2007/stage-8"
          ],
          [
           "https://www.procyclingstats.com/race/tour-de-france/2007/stage-9"
          ],
          [
           "https://www.procyclingstats.com/race/tour-de-france/2007/stage-10"
          ],
          [
           "https://www.procyclingstats.com/race/tour-de-france/2007/stage-11"
          ],
          [
           "https://www.procyclingstats.com/race/tour-de-france/2007/stage-12"
          ],
          [
           "https://www.procyclingstats.com/race/tour-de-france/2007/stage-14"
          ],
          [
           "https://www.procyclingstats.com/race/tour-de-france/2007/stage-15"
          ],
          [
           "https://www.procyclingstats.com/race/tour-de-france/2007/stage-15"
          ],
          [
           "https://www.procyclingstats.com/race/tour-de-france/2007/stage-16"
          ],
          [
           "https://www.procyclingstats.com/race/tour-de-france/2007/stage-17"
          ],
          [
           "https://www.procyclingstats.com/race/tour-de-france/2007/stage-18"
          ],
          [
           "https://www.procyclingstats.com/race/tour-de-france/2007/stage-20"
          ],
          [
           "https://www.procyclingstats.com/race/tour-de-france/2008/stage-1"
          ],
          [
           "https://www.procyclingstats.com/race/tour-de-france/2008/stage-2"
          ],
          [
           "https://www.procyclingstats.com/race/tour-de-france/2008/stage-3"
          ],
          [
           "https://www.procyclingstats.com/race/tour-de-france/2008/stage-5"
          ],
          [
           "https://www.procyclingstats.com/race/tour-de-france/2008/stage-6"
          ],
          [
           "https://www.procyclingstats.com/race/tour-de-france/2008/stage-6"
          ],
          [
           "https://www.procyclingstats.com/race/tour-de-france/2008/stage-7"
          ],
          [
           "https://www.procyclingstats.com/race/tour-de-france/2008/stage-8"
          ],
          [
           "https://www.procyclingstats.com/race/tour-de-france/2008/stage-9"
          ],
          [
           "https://www.procyclingstats.com/race/tour-de-france/2008/stage-9"
          ],
          [
           "https://www.procyclingstats.com/race/tour-de-france/2008/stage-10"
          ],
          [
           "https://www.procyclingstats.com/race/tour-de-france/2008/stage-10"
          ],
          [
           "https://www.procyclingstats.com/race/tour-de-france/2008/stage-11"
          ],
          [
           "https://www.procyclingstats.com/race/tour-de-france/2008/stage-12"
          ],
          [
           "https://www.procyclingstats.com/race/tour-de-france/2008/stage-13"
          ],
          [
           "https://www.procyclingstats.com/race/tour-de-france/2008/stage-14"
          ],
          [
           "https://www.procyclingstats.com/race/tour-de-france/2008/stage-15"
          ],
          [
           "https://www.procyclingstats.com/race/tour-de-france/2008/stage-16"
          ],
          [
           "https://www.procyclingstats.com/race/tour-de-france/2008/stage-17"
          ],
          [
           "https://www.procyclingstats.com/race/tour-de-france/2008/stage-18"
          ],
          [
           "https://www.procyclingstats.com/race/tour-de-france/2008/stage-19"
          ],
          [
           "https://www.procyclingstats.com/race/tour-de-france/2008/stage-21"
          ],
          [
           "https://www.procyclingstats.com/race/tour-de-france/2009/stage-2"
          ],
          [
           "https://www.procyclingstats.com/race/tour-de-france/2009/stage-3"
          ],
          [
           "https://www.procyclingstats.com/race/tour-de-france/2009/stage-5"
          ],
          [
           "https://www.procyclingstats.com/race/tour-de-france/2009/stage-6"
          ],
          [
           "https://www.procyclingstats.com/race/tour-de-france/2009/stage-7"
          ],
          [
           "https://www.procyclingstats.com/race/tour-de-france/2009/stage-8"
          ],
          [
           "https://www.procyclingstats.com/race/tour-de-france/2009/stage-9"
          ],
          [
           "https://www.procyclingstats.com/race/tour-de-france/2009/stage-10"
          ],
          [
           "https://www.procyclingstats.com/race/tour-de-france/2009/stage-11"
          ],
          [
           "https://www.procyclingstats.com/race/tour-de-france/2009/stage-12"
          ],
          [
           "https://www.procyclingstats.com/race/tour-de-france/2009/stage-13"
          ],
          [
           "https://www.procyclingstats.com/race/tour-de-france/2009/stage-14"
          ],
          [
           "https://www.procyclingstats.com/race/tour-de-france/2009/stage-15"
          ],
          [
           "https://www.procyclingstats.com/race/tour-de-france/2009/stage-16"
          ],
          [
           "https://www.procyclingstats.com/race/tour-de-france/2009/stage-16"
          ],
          [
           "https://www.procyclingstats.com/race/tour-de-france/2009/stage-17"
          ],
          [
           "https://www.procyclingstats.com/race/tour-de-france/2009/stage-19"
          ],
          [
           "https://www.procyclingstats.com/race/tour-de-france/2009/stage-20"
          ],
          [
           "https://www.procyclingstats.com/race/tour-de-france/2009/stage-21"
          ],
          [
           "https://www.procyclingstats.com/race/tour-de-france/2010/stage-1"
          ],
          [
           "https://www.procyclingstats.com/race/tour-de-france/2010/stage-2"
          ],
          [
           "https://www.procyclingstats.com/race/tour-de-france/2010/stage-3"
          ],
          [
           "https://www.procyclingstats.com/race/tour-de-france/2010/stage-4"
          ],
          [
           "https://www.procyclingstats.com/race/tour-de-france/2010/stage-5"
          ],
          [
           "https://www.procyclingstats.com/race/tour-de-france/2010/stage-6"
          ],
          [
           "https://www.procyclingstats.com/race/tour-de-france/2010/stage-7"
          ],
          [
           "https://www.procyclingstats.com/race/tour-de-france/2010/stage-8"
          ],
          [
           "https://www.procyclingstats.com/race/tour-de-france/2010/stage-9"
          ],
          [
           "https://www.procyclingstats.com/race/tour-de-france/2010/stage-10"
          ],
          [
           "https://www.procyclingstats.com/race/tour-de-france/2010/stage-11"
          ],
          [
           "https://www.procyclingstats.com/race/tour-de-france/2010/stage-12"
          ],
          [
           "https://www.procyclingstats.com/race/tour-de-france/2010/stage-13"
          ],
          [
           "https://www.procyclingstats.com/race/tour-de-france/2010/stage-14"
          ],
          [
           "https://www.procyclingstats.com/race/tour-de-france/2010/stage-15"
          ],
          [
           "https://www.procyclingstats.com/race/tour-de-france/2010/stage-16"
          ],
          [
           "https://www.procyclingstats.com/race/tour-de-france/2010/stage-17"
          ],
          [
           "https://www.procyclingstats.com/race/tour-de-france/2010/stage-18"
          ],
          [
           "https://www.procyclingstats.com/race/tour-de-france/2010/stage-20"
          ],
          [
           "https://www.procyclingstats.com/race/tour-de-france/2011/stage-1"
          ],
          [
           "https://www.procyclingstats.com/race/tour-de-france/2011/stage-3"
          ],
          [
           "https://www.procyclingstats.com/race/tour-de-france/2011/stage-4"
          ],
          [
           "https://www.procyclingstats.com/race/tour-de-france/2011/stage-5"
          ],
          [
           "https://www.procyclingstats.com/race/tour-de-france/2011/stage-6"
          ],
          [
           "https://www.procyclingstats.com/race/tour-de-france/2011/stage-7"
          ],
          [
           "https://www.procyclingstats.com/race/tour-de-france/2011/stage-8"
          ],
          [
           "https://www.procyclingstats.com/race/tour-de-france/2011/stage-9"
          ],
          [
           "https://www.procyclingstats.com/race/tour-de-france/2011/stage-10"
          ],
          [
           "https://www.procyclingstats.com/race/tour-de-france/2011/stage-11"
          ],
          [
           "https://www.procyclingstats.com/race/tour-de-france/2011/stage-12"
          ],
          [
           "https://www.procyclingstats.com/race/tour-de-france/2011/stage-13"
          ],
          [
           "https://www.procyclingstats.com/race/tour-de-france/2011/stage-14"
          ],
          [
           "https://www.procyclingstats.com/race/tour-de-france/2011/stage-15"
          ],
          [
           "https://www.procyclingstats.com/race/tour-de-france/2011/stage-16"
          ],
          [
           "https://www.procyclingstats.com/race/tour-de-france/2011/stage-17"
          ],
          [
           "https://www.procyclingstats.com/race/tour-de-france/2011/stage-18"
          ],
          [
           "https://www.procyclingstats.com/race/tour-de-france/2011/stage-19"
          ],
          [
           "https://www.procyclingstats.com/race/tour-de-france/2011/stage-21"
          ],
          [
           "https://www.procyclingstats.com/race/tour-de-france/2012/stage-1"
          ],
          [
           "https://www.procyclingstats.com/race/tour-de-france/2012/stage-2"
          ],
          [
           "https://www.procyclingstats.com/race/tour-de-france/2012/stage-3"
          ],
          [
           "https://www.procyclingstats.com/race/tour-de-france/2012/stage-4"
          ],
          [
           "https://www.procyclingstats.com/race/tour-de-france/2012/stage-5"
          ],
          [
           "https://www.procyclingstats.com/race/tour-de-france/2012/stage-6"
          ],
          [
           "https://www.procyclingstats.com/race/tour-de-france/2012/stage-7"
          ],
          [
           "https://www.procyclingstats.com/race/tour-de-france/2012/stage-8"
          ],
          [
           "https://www.procyclingstats.com/race/tour-de-france/2012/stage-10"
          ],
          [
           "https://www.procyclingstats.com/race/tour-de-france/2012/stage-11"
          ],
          [
           "https://www.procyclingstats.com/race/tour-de-france/2012/stage-12"
          ],
          [
           "https://www.procyclingstats.com/race/tour-de-france/2012/stage-13"
          ],
          [
           "https://www.procyclingstats.com/race/tour-de-france/2012/stage-14"
          ],
          [
           "https://www.procyclingstats.com/race/tour-de-france/2012/stage-15"
          ],
          [
           "https://www.procyclingstats.com/race/tour-de-france/2012/stage-16"
          ],
          [
           "https://www.procyclingstats.com/race/tour-de-france/2012/stage-17"
          ],
          [
           "https://www.procyclingstats.com/race/tour-de-france/2012/stage-18"
          ],
          [
           "https://www.procyclingstats.com/race/tour-de-france/2012/stage-20"
          ],
          [
           "https://www.procyclingstats.com/race/tour-de-france/2013/stage-1"
          ],
          [
           "https://www.procyclingstats.com/race/tour-de-france/2013/stage-2"
          ],
          [
           "https://www.procyclingstats.com/race/tour-de-france/2013/stage-3"
          ],
          [
           "https://www.procyclingstats.com/race/tour-de-france/2013/stage-5"
          ],
          [
           "https://www.procyclingstats.com/race/tour-de-france/2013/stage-6"
          ],
          [
           "https://www.procyclingstats.com/race/tour-de-france/2013/stage-7"
          ],
          [
           "https://www.procyclingstats.com/race/tour-de-france/2013/stage-8"
          ],
          [
           "https://www.procyclingstats.com/race/tour-de-france/2013/stage-9"
          ],
          [
           "https://www.procyclingstats.com/race/tour-de-france/2013/stage-10"
          ],
          [
           "https://www.procyclingstats.com/race/tour-de-france/2013/stage-12"
          ],
          [
           "https://www.procyclingstats.com/race/tour-de-france/2013/stage-13"
          ],
          [
           "https://www.procyclingstats.com/race/tour-de-france/2013/stage-14"
          ],
          [
           "https://www.procyclingstats.com/race/tour-de-france/2013/stage-15"
          ],
          [
           "https://www.procyclingstats.com/race/tour-de-france/2013/stage-16"
          ],
          [
           "https://www.procyclingstats.com/race/tour-de-france/2013/stage-18"
          ],
          [
           "https://www.procyclingstats.com/race/tour-de-france/2013/stage-19"
          ],
          [
           "https://www.procyclingstats.com/race/tour-de-france/2013/stage-20"
          ],
          [
           "https://www.procyclingstats.com/race/tour-de-france/2013/stage-21"
          ],
          [
           "https://www.procyclingstats.com/race/tour-de-france/2014/stage-1"
          ],
          [
           "https://www.procyclingstats.com/race/tour-de-france/2014/stage-2"
          ],
          [
           "https://www.procyclingstats.com/race/tour-de-france/2014/stage-3"
          ],
          [
           "https://www.procyclingstats.com/race/tour-de-france/2014/stage-4"
          ],
          [
           "https://www.procyclingstats.com/race/tour-de-france/2014/stage-5"
          ],
          [
           "https://www.procyclingstats.com/race/tour-de-france/2014/stage-6"
          ],
          [
           "https://www.procyclingstats.com/race/tour-de-france/2014/stage-7"
          ],
          [
           "https://www.procyclingstats.com/race/tour-de-france/2014/stage-8"
          ],
          [
           "https://www.procyclingstats.com/race/tour-de-france/2014/stage-9"
          ],
          [
           "https://www.procyclingstats.com/race/tour-de-france/2014/stage-10"
          ],
          [
           "https://www.procyclingstats.com/race/tour-de-france/2014/stage-11"
          ],
          [
           "https://www.procyclingstats.com/race/tour-de-france/2014/stage-12"
          ],
          [
           "https://www.procyclingstats.com/race/tour-de-france/2014/stage-13"
          ],
          [
           "https://www.procyclingstats.com/race/tour-de-france/2014/stage-14"
          ],
          [
           "https://www.procyclingstats.com/race/tour-de-france/2014/stage-15"
          ],
          [
           "https://www.procyclingstats.com/race/tour-de-france/2014/stage-16"
          ],
          [
           "https://www.procyclingstats.com/race/tour-de-france/2014/stage-17"
          ],
          [
           "https://www.procyclingstats.com/race/tour-de-france/2014/stage-18"
          ],
          [
           "https://www.procyclingstats.com/race/tour-de-france/2014/stage-19"
          ],
          [
           "https://www.procyclingstats.com/race/tour-de-france/2014/stage-21"
          ],
          [
           "https://www.procyclingstats.com/race/tour-de-france/2015/stage-2"
          ],
          [
           "https://www.procyclingstats.com/race/tour-de-france/2015/stage-3"
          ],
          [
           "https://www.procyclingstats.com/race/tour-de-france/2015/stage-4"
          ],
          [
           "https://www.procyclingstats.com/race/tour-de-france/2015/stage-5"
          ],
          [
           "https://www.procyclingstats.com/race/tour-de-france/2015/stage-6"
          ],
          [
           "https://www.procyclingstats.com/race/tour-de-france/2015/stage-7"
          ],
          [
           "https://www.procyclingstats.com/race/tour-de-france/2015/stage-8"
          ],
          [
           "https://www.procyclingstats.com/race/tour-de-france/2015/stage-10"
          ],
          [
           "https://www.procyclingstats.com/race/tour-de-france/2015/stage-11"
          ],
          [
           "https://www.procyclingstats.com/race/tour-de-france/2015/stage-12"
          ],
          [
           "https://www.procyclingstats.com/race/tour-de-france/2015/stage-13"
          ],
          [
           "https://www.procyclingstats.com/race/tour-de-france/2015/stage-14"
          ],
          [
           "https://www.procyclingstats.com/race/tour-de-france/2015/stage-15"
          ],
          [
           "https://www.procyclingstats.com/race/tour-de-france/2015/stage-16"
          ],
          [
           "https://www.procyclingstats.com/race/tour-de-france/2015/stage-17"
          ],
          [
           "https://www.procyclingstats.com/race/tour-de-france/2015/stage-18"
          ],
          [
           "https://www.procyclingstats.com/race/tour-de-france/2015/stage-19"
          ],
          [
           "https://www.procyclingstats.com/race/tour-de-france/2015/stage-20"
          ],
          [
           "https://www.procyclingstats.com/race/tour-de-france/2015/stage-21"
          ],
          [
           "https://www.procyclingstats.com/race/tour-de-france/2016/stage-1"
          ],
          [
           "https://www.procyclingstats.com/race/tour-de-france/2016/stage-2"
          ],
          [
           "https://www.procyclingstats.com/race/tour-de-france/2016/stage-3"
          ],
          [
           "https://www.procyclingstats.com/race/tour-de-france/2016/stage-4"
          ],
          [
           "https://www.procyclingstats.com/race/tour-de-france/2016/stage-5"
          ],
          [
           "https://www.procyclingstats.com/race/tour-de-france/2016/stage-6"
          ],
          [
           "https://www.procyclingstats.com/race/tour-de-france/2016/stage-7"
          ],
          [
           "https://www.procyclingstats.com/race/tour-de-france/2016/stage-8"
          ],
          [
           "https://www.procyclingstats.com/race/tour-de-france/2016/stage-9"
          ],
          [
           "https://www.procyclingstats.com/race/tour-de-france/2016/stage-10"
          ],
          [
           "https://www.procyclingstats.com/race/tour-de-france/2016/stage-11"
          ],
          [
           "https://www.procyclingstats.com/race/tour-de-france/2016/stage-12"
          ],
          [
           "https://www.procyclingstats.com/race/tour-de-france/2016/stage-14"
          ],
          [
           "https://www.procyclingstats.com/race/tour-de-france/2016/stage-15"
          ],
          [
           "https://www.procyclingstats.com/race/tour-de-france/2016/stage-16"
          ],
          [
           "https://www.procyclingstats.com/race/tour-de-france/2016/stage-17"
          ],
          [
           "https://www.procyclingstats.com/race/tour-de-france/2016/stage-19"
          ],
          [
           "https://www.procyclingstats.com/race/tour-de-france/2016/stage-20"
          ],
          [
           "https://www.procyclingstats.com/race/tour-de-france/2016/stage-21"
          ],
          [
           "https://www.procyclingstats.com/race/tour-de-france/2017/stage-2"
          ],
          [
           "https://www.procyclingstats.com/race/tour-de-france/2017/stage-3"
          ],
          [
           "https://www.procyclingstats.com/race/tour-de-france/2017/stage-4"
          ],
          [
           "https://www.procyclingstats.com/race/tour-de-france/2017/stage-5"
          ],
          [
           "https://www.procyclingstats.com/race/tour-de-france/2017/stage-6"
          ],
          [
           "https://www.procyclingstats.com/race/tour-de-france/2017/stage-7"
          ],
          [
           "https://www.procyclingstats.com/race/tour-de-france/2017/stage-8"
          ],
          [
           "https://www.procyclingstats.com/race/tour-de-france/2017/stage-9"
          ],
          [
           "https://www.procyclingstats.com/race/tour-de-france/2017/stage-10"
          ],
          [
           "https://www.procyclingstats.com/race/tour-de-france/2017/stage-11"
          ],
          [
           "https://www.procyclingstats.com/race/tour-de-france/2017/stage-12"
          ],
          [
           "https://www.procyclingstats.com/race/tour-de-france/2017/stage-13"
          ],
          [
           "https://www.procyclingstats.com/race/tour-de-france/2017/stage-14"
          ],
          [
           "https://www.procyclingstats.com/race/tour-de-france/2017/stage-15"
          ],
          [
           "https://www.procyclingstats.com/race/tour-de-france/2017/stage-16"
          ],
          [
           "https://www.procyclingstats.com/race/tour-de-france/2017/stage-17"
          ],
          [
           "https://www.procyclingstats.com/race/tour-de-france/2017/stage-18"
          ],
          [
           "https://www.procyclingstats.com/race/tour-de-france/2017/stage-19"
          ],
          [
           "https://www.procyclingstats.com/race/tour-de-france/2017/stage-21"
          ],
          [
           "https://www.procyclingstats.com/race/tour-de-france/2018/stage-1"
          ],
          [
           "https://www.procyclingstats.com/race/tour-de-france/2018/stage-2"
          ],
          [
           "https://www.procyclingstats.com/race/tour-de-france/2018/stage-4"
          ],
          [
           "https://www.procyclingstats.com/race/tour-de-france/2018/stage-5"
          ],
          [
           "https://www.procyclingstats.com/race/tour-de-france/2018/stage-6"
          ],
          [
           "https://www.procyclingstats.com/race/tour-de-france/2018/stage-7"
          ],
          [
           "https://www.procyclingstats.com/race/tour-de-france/2018/stage-8"
          ],
          [
           "https://www.procyclingstats.com/race/tour-de-france/2018/stage-9"
          ],
          [
           "https://www.procyclingstats.com/race/tour-de-france/2018/stage-10"
          ],
          [
           "https://www.procyclingstats.com/race/tour-de-france/2018/stage-11"
          ],
          [
           "https://www.procyclingstats.com/race/tour-de-france/2018/stage-12"
          ],
          [
           "https://www.procyclingstats.com/race/tour-de-france/2018/stage-13"
          ],
          [
           "https://www.procyclingstats.com/race/tour-de-france/2018/stage-14"
          ],
          [
           "https://www.procyclingstats.com/race/tour-de-france/2018/stage-15"
          ],
          [
           "https://www.procyclingstats.com/race/tour-de-france/2018/stage-16"
          ],
          [
           "https://www.procyclingstats.com/race/tour-de-france/2018/stage-17"
          ],
          [
           "https://www.procyclingstats.com/race/tour-de-france/2018/stage-18"
          ],
          [
           "https://www.procyclingstats.com/race/tour-de-france/2018/stage-19"
          ],
          [
           "https://www.procyclingstats.com/race/tour-de-france/2018/stage-21"
          ],
          [
           "https://www.procyclingstats.com/race/tour-de-france/2019/stage-1"
          ],
          [
           "https://www.procyclingstats.com/race/tour-de-france/2019/stage-3"
          ],
          [
           "https://www.procyclingstats.com/race/tour-de-france/2019/stage-4"
          ],
          [
           "https://www.procyclingstats.com/race/tour-de-france/2019/stage-5"
          ],
          [
           "https://www.procyclingstats.com/race/tour-de-france/2019/stage-6"
          ],
          [
           "https://www.procyclingstats.com/race/tour-de-france/2019/stage-7"
          ],
          [
           "https://www.procyclingstats.com/race/tour-de-france/2019/stage-8"
          ],
          [
           "https://www.procyclingstats.com/race/tour-de-france/2019/stage-9"
          ],
          [
           "https://www.procyclingstats.com/race/tour-de-france/2019/stage-10"
          ],
          [
           "https://www.procyclingstats.com/race/tour-de-france/2019/stage-11"
          ],
          [
           "https://www.procyclingstats.com/race/tour-de-france/2019/stage-12"
          ],
          [
           "https://www.procyclingstats.com/race/tour-de-france/2019/stage-14"
          ],
          [
           "https://www.procyclingstats.com/race/tour-de-france/2019/stage-15"
          ],
          [
           "https://www.procyclingstats.com/race/tour-de-france/2019/stage-16"
          ],
          [
           "https://www.procyclingstats.com/race/tour-de-france/2019/stage-17"
          ],
          [
           "https://www.procyclingstats.com/race/tour-de-france/2019/stage-18"
          ],
          [
           "https://www.procyclingstats.com/race/tour-de-france/2019/stage-19"
          ],
          [
           "https://www.procyclingstats.com/race/tour-de-france/2019/stage-20"
          ],
          [
           "https://www.procyclingstats.com/race/tour-de-france/2019/stage-21"
          ],
          [
           "https://www.procyclingstats.com/race/tour-de-france/2020/stage-1"
          ],
          [
           "https://www.procyclingstats.com/race/tour-de-france/2020/stage-2"
          ],
          [
           "https://www.procyclingstats.com/race/tour-de-france/2020/stage-3"
          ],
          [
           "https://www.procyclingstats.com/race/tour-de-france/2020/stage-4"
          ],
          [
           "https://www.procyclingstats.com/race/tour-de-france/2020/stage-5"
          ],
          [
           "https://www.procyclingstats.com/race/tour-de-france/2020/stage-6"
          ],
          [
           "https://www.procyclingstats.com/race/tour-de-france/2020/stage-7"
          ],
          [
           "https://www.procyclingstats.com/race/tour-de-france/2020/stage-8"
          ],
          [
           "https://www.procyclingstats.com/race/tour-de-france/2020/stage-9"
          ],
          [
           "https://www.procyclingstats.com/race/tour-de-france/2020/stage-10"
          ],
          [
           "https://www.procyclingstats.com/race/tour-de-france/2020/stage-11"
          ],
          [
           "https://www.procyclingstats.com/race/tour-de-france/2020/stage-12"
          ],
          [
           "https://www.procyclingstats.com/race/tour-de-france/2020/stage-13"
          ],
          [
           "https://www.procyclingstats.com/race/tour-de-france/2020/stage-14"
          ],
          [
           "https://www.procyclingstats.com/race/tour-de-france/2020/stage-15"
          ],
          [
           "https://www.procyclingstats.com/race/tour-de-france/2020/stage-16"
          ],
          [
           "https://www.procyclingstats.com/race/tour-de-france/2020/stage-17"
          ],
          [
           "https://www.procyclingstats.com/race/tour-de-france/2020/stage-18"
          ],
          [
           "https://www.procyclingstats.com/race/tour-de-france/2020/stage-19"
          ],
          [
           "https://www.procyclingstats.com/race/tour-de-france/2020/stage-21"
          ],
          [
           "https://www.procyclingstats.com/race/tour-de-france/2021/stage-1"
          ],
          [
           "https://www.procyclingstats.com/race/tour-de-france/2021/stage-2"
          ],
          [
           "https://www.procyclingstats.com/race/tour-de-france/2021/stage-3"
          ],
          [
           "https://www.procyclingstats.com/race/tour-de-france/2021/stage-4"
          ],
          [
           "https://www.procyclingstats.com/race/tour-de-france/2021/stage-6"
          ],
          [
           "https://www.procyclingstats.com/race/tour-de-france/2021/stage-7"
          ],
          [
           "https://www.procyclingstats.com/race/tour-de-france/2021/stage-8"
          ],
          [
           "https://www.procyclingstats.com/race/tour-de-france/2021/stage-9"
          ],
          [
           "https://www.procyclingstats.com/race/tour-de-france/2021/stage-10"
          ],
          [
           "https://www.procyclingstats.com/race/tour-de-france/2021/stage-11"
          ],
          [
           "https://www.procyclingstats.com/race/tour-de-france/2021/stage-12"
          ],
          [
           "https://www.procyclingstats.com/race/tour-de-france/2021/stage-13"
          ],
          [
           "https://www.procyclingstats.com/race/tour-de-france/2021/stage-14"
          ],
          [
           "https://www.procyclingstats.com/race/tour-de-france/2021/stage-15"
          ],
          [
           "https://www.procyclingstats.com/race/tour-de-france/2021/stage-16"
          ],
          [
           "https://www.procyclingstats.com/race/tour-de-france/2021/stage-17"
          ],
          [
           "https://www.procyclingstats.com/race/tour-de-france/2021/stage-18"
          ],
          [
           "https://www.procyclingstats.com/race/tour-de-france/2021/stage-19"
          ],
          [
           "https://www.procyclingstats.com/race/tour-de-france/2021/stage-21"
          ],
          [
           "https://www.procyclingstats.com/race/tour-de-france/2022/stage-2"
          ],
          [
           "https://www.procyclingstats.com/race/tour-de-france/2022/stage-3"
          ],
          [
           "https://www.procyclingstats.com/race/tour-de-france/2022/stage-4"
          ],
          [
           "https://www.procyclingstats.com/race/tour-de-france/2022/stage-5"
          ],
          [
           "https://www.procyclingstats.com/race/tour-de-france/2022/stage-6"
          ],
          [
           "https://www.procyclingstats.com/race/tour-de-france/2022/stage-7"
          ],
          [
           "https://www.procyclingstats.com/race/tour-de-france/2022/stage-8"
          ],
          [
           "https://www.procyclingstats.com/race/tour-de-france/2022/stage-9"
          ],
          [
           "https://www.procyclingstats.com/race/tour-de-france/2022/stage-10"
          ],
          [
           "https://www.procyclingstats.com/race/tour-de-france/2022/stage-11"
          ],
          [
           "https://www.procyclingstats.com/race/tour-de-france/2022/stage-12"
          ],
          [
           "https://www.procyclingstats.com/race/tour-de-france/2022/stage-13"
          ],
          [
           "https://www.procyclingstats.com/race/tour-de-france/2022/stage-14"
          ],
          [
           "https://www.procyclingstats.com/race/tour-de-france/2022/stage-15"
          ],
          [
           "https://www.procyclingstats.com/race/tour-de-france/2022/stage-16"
          ],
          [
           "https://www.procyclingstats.com/race/tour-de-france/2022/stage-17"
          ],
          [
           "https://www.procyclingstats.com/race/tour-de-france/2022/stage-18"
          ],
          [
           "https://www.procyclingstats.com/race/tour-de-france/2022/stage-19"
          ],
          [
           "https://www.procyclingstats.com/race/tour-de-france/2022/stage-21"
          ],
          [
           "https://www.procyclingstats.com/race/tour-de-france/2023/stage-1"
          ],
          [
           "https://www.procyclingstats.com/race/tour-de-france/2023/stage-2"
          ],
          [
           "https://www.procyclingstats.com/race/tour-de-france/2023/stage-3"
          ],
          [
           "https://www.procyclingstats.com/race/tour-de-france/2023/stage-4"
          ],
          [
           "https://www.procyclingstats.com/race/tour-de-france/2023/stage-5"
          ],
          [
           "https://www.procyclingstats.com/race/tour-de-france/2023/stage-6"
          ],
          [
           "https://www.procyclingstats.com/race/tour-de-france/2023/stage-7"
          ],
          [
           "https://www.procyclingstats.com/race/tour-de-france/2023/stage-8"
          ],
          [
           "https://www.procyclingstats.com/race/tour-de-france/2023/stage-9"
          ],
          [
           "https://www.procyclingstats.com/race/tour-de-france/2023/stage-10"
          ],
          [
           "https://www.procyclingstats.com/race/tour-de-france/2023/stage-11"
          ],
          [
           "https://www.procyclingstats.com/race/tour-de-france/2023/stage-12"
          ],
          [
           "https://www.procyclingstats.com/race/tour-de-france/2023/stage-13"
          ],
          [
           "https://www.procyclingstats.com/race/tour-de-france/2023/stage-14"
          ],
          [
           "https://www.procyclingstats.com/race/tour-de-france/2023/stage-15"
          ],
          [
           "https://www.procyclingstats.com/race/tour-de-france/2023/stage-17"
          ],
          [
           "https://www.procyclingstats.com/race/tour-de-france/2023/stage-18"
          ],
          [
           "https://www.procyclingstats.com/race/tour-de-france/2023/stage-19"
          ],
          [
           "https://www.procyclingstats.com/race/tour-de-france/2023/stage-20"
          ],
          [
           "https://www.procyclingstats.com/race/tour-de-france/2023/stage-21"
          ]
         ],
         "hovertemplate": "year=%{x}<br>power=%{y}<br>stage_url=%{customdata[0]}<br>stage_distance=%{marker.color}<extra></extra>",
         "legendgroup": "",
         "marker": {
          "color": [
           256,
           242,
           239.5,
           224,
           221.5,
           217,
           173.5,
           204.5,
           195,
           269,
           179,
           237.5,
           247,
           209.5,
           52.5,
           83.5,
           200,
           225,
           217,
           85,
           214,
           243,
           124.5,
           200,
           201,
           204,
           183,
           258.5,
           217.5,
           186,
           154,
           225.5,
           246.5,
           190,
           162.5,
           179.5,
           190,
           196,
           246.5,
           105.5,
           219,
           79,
           112.5,
           169,
           211,
           205.5,
           260,
           255,
           228,
           219,
           166,
           164,
           216.5,
           229,
           185,
           201,
           185.5,
           186,
           212,
           186,
           91.5,
           213.5,
           158,
           147.5,
           225,
           219,
           160.5,
           149.5,
           232,
           227,
           163,
           187.5,
           210,
           93.5,
           188,
           223.5,
           172.5,
           135.5,
           241,
           255,
           259,
           258.5,
           157,
           147,
           136,
           158.5,
           242,
           179,
           240,
           175,
           165,
           91.5,
           125,
           130,
           138.5,
           233,
           203,
           301,
           202.5,
           181.9,
           196,
           118.5,
           182.5,
           149,
           205,
           170,
           215,
           150,
           202,
           182.5,
           182.5,
           114.5,
           210.5,
           286,
           149.5,
           259,
           196.5,
           161,
           207.5,
           246,
           192,
           232,
           172.5,
           235,
           215,
           125,
           255,
           177,
           160,
           178,
           194.5,
           255,
           218,
           196,
           167,
           196.5,
           206.5,
           217,
           249.5,
           192,
           254.5,
           186.5,
           198,
           212,
           189,
           212,
           222,
           141,
           215,
           227.5,
           189.5,
           225.5,
           158,
           199,
           184.5,
           203,
           179,
           286,
           181.5,
           223,
           231.5,
           230,
           189.5,
           199.5,
           196.5,
           234,
           203.5,
           204.5,
           187,
           270.5,
           259.5,
           218.5,
           160.5,
           263.5,
           204.5,
           223,
           202,
           231,
           224.5,
           149,
           174.5,
           208.5,
           175,
           228,
           241,
           154,
           264,
           191,
           200,
           166,
           159,
           198,
           223,
           223,
           159,
           207,
           210,
           154,
           150,
           209,
           247.5,
           195,
           232,
           242,
           207,
           199,
           208.5,
           202,
           143.5,
           177,
           186.5,
           176,
           199,
           262,
           154.5,
           226.5,
           147.5,
           192,
           262,
           224,
           223,
           261.3,
           217.5,
           194,
           161.5,
           182,
           252.5,
           192,
           203.5,
           148,
           208.5,
           181,
           218.5,
           175.5,
           172,
           149.5,
           180,
           205.5,
           169,
           252,
           227,
           210,
           189,
           210,
           196.5,
           170,
           206,
           191,
           185,
           189,
           204,
           218,
           238,
           147,
           208,
           176,
           194.5,
           194.5,
           233.5,
           171.5,
           227,
           215,
           218,
           199,
           197,
           237,
           189,
           174,
           192,
           199,
           182,
           160,
           194,
           161.5,
           202,
           198.5,
           205.5,
           203.5,
           181,
           205,
           218.5,
           149,
           185.5,
           249,
           173.5,
           196,
           155,
           246.5,
           254.5,
           138,
           194.5,
           220.5,
           198.5,
           215,
           211.5,
           162,
           222.5,
           185,
           209,
           166,
           194,
           141.5,
           232.5,
           227.5,
           194,
           149.5,
           160.5,
           192.5,
           181,
           174.5,
           195,
           199.5,
           176,
           217.5,
           147,
           158,
           199.5,
           171,
           221,
           226.5,
           179.5,
           142,
           176.5,
           140,
           168,
           204.5,
           167.5,
           196.5,
           230,
           230.5,
           219,
           184.5,
           219.5,
           153.5,
           197.5,
           191.5,
           159.5,
           197.5,
           181,
           202.5,
           152,
           202.5,
           197,
           210,
           200.5,
           196,
           204.5,
           168,
           160.5,
           237,
           164,
           197.5,
           205.5,
           192.5,
           180.5,
           204.5,
           166.5,
           163,
           182,
           212,
           183,
           199,
           228,
           231,
           171,
           181,
           173,
           187,
           174,
           174,
           206,
           181,
           240,
           189,
           154,
           144,
           184.5,
           228.5,
           216.5,
           207,
           225,
           189,
           181,
           169.5,
           190.5,
           206.5,
           211.5,
           231,
           180.5,
           187,
           182,
           200.5,
           200.5,
           197,
           154.5,
           203,
           168.5,
           236.5,
           193,
           182.5,
           199.5,
           197.5,
           165,
           159.5,
           229.5,
           182.5,
           178.5,
           197,
           196,
           196,
           218.5,
           188.5,
           211,
           146,
           197.5,
           164.5,
           208,
           232,
           195.5,
           195.5,
           159,
           172.5,
           224,
           224,
           156,
           156,
           167.5,
           168.5,
           182,
           194.5,
           183,
           157,
           210.5,
           196.5,
           165.5,
           143,
           187,
           196.5,
           196.5,
           181.5,
           224,
           176.5,
           160.5,
           194.5,
           192,
           211.5,
           200,
           199,
           207.5,
           159,
           159,
           169.5,
           178,
           167,
           164,
           223.5,
           201,
           213,
           153.5,
           187.5,
           227.5,
           165.5,
           189,
           204.5,
           179,
           184.5,
           210.5,
           196,
           184.5,
           187.5,
           199.5,
           174,
           198,
           102.5,
           191.5,
           198,
           172.5,
           164.5,
           226.5,
           215,
           190,
           208,
           161,
           168.5,
           211,
           152.5,
           168.5,
           192.5,
           162.5,
           179,
           189,
           109.5,
           95,
           198,
           207.5,
           197,
           214.5,
           196.5,
           205,
           199,
           157.5,
           194.5,
           148,
           226,
           217,
           191,
           158.5,
           197,
           143.5,
           222.5,
           120,
           213,
           156,
           145.5,
           228.5,
           176.5,
           205.5,
           195,
           168.5,
           197,
           218,
           173,
           191,
           242.5,
           168,
           172.5,
           204.5,
           125,
           118,
           190.5,
           201,
           155,
           163.5,
           155.5,
           194,
           234.5,
           161,
           170,
           161.5,
           187.5,
           185.5,
           197.5,
           177,
           222,
           237.5,
           124.5,
           145.5,
           208.5,
           137.5,
           166,
           159.5,
           223.5,
           189.5,
           191.5,
           190.5,
           181.5,
           167,
           188,
           195,
           198.5,
           178.5,
           183,
           201,
           161,
           186.5,
           138,
           110.5,
           109.5,
           188,
           183,
           223.5,
           237.5,
           216,
           190.5,
           162.5,
           184,
           184,
           197,
           162.5,
           178,
           208.5,
           159,
           209,
           184.5,
           146,
           146.5,
           113,
           203.5,
           212.5,
           207.5,
           160.5,
           216,
           213.5,
           187.5,
           181.5,
           178,
           203.5,
           214.5,
           101,
           181.5,
           189.5,
           165,
           183,
           179.5,
           222.5,
           105,
           201,
           182.5,
           195,
           204.5,
           181,
           231,
           181,
           156.5,
           158.5,
           108.5,
           175.5,
           169.5,
           188,
           181,
           218,
           65,
           171,
           200.5,
           116,
           194.5,
           215,
           213.5,
           175.5,
           160.5,
           230,
           200,
           170.5,
           217.5,
           167,
           209.5,
           111,
           185,
           177,
           200,
           208,
           89,
           59.5,
           128,
           156,
           185,
           198,
           160.5,
           183,
           191,
           168,
           141,
           153,
           168.5,
           166.5,
           218,
           191.5,
           194,
           174.5,
           164,
           170,
           175,
           166.5,
           122,
           197.8,
           183.5,
           182.9,
           150.4,
           160.4,
           249.1,
           150.8,
           144.9,
           190.7,
           198.9,
           159.4,
           219.9,
           183.7,
           191.3,
           169,
           178.4,
           129.7,
           207,
           108.4,
           202.2,
           182,
           171.5,
           157,
           219.9,
           176.3,
           186.3,
           192.9,
           148.1,
           151.7,
           165.1,
           192.6,
           192.5,
           202.5,
           178.5,
           129.7,
           143.2,
           188.3,
           115.6,
           182,
           208.9,
           193.5,
           181.8,
           162.7,
           144.9,
           169.9,
           200.7,
           182.4,
           167.2,
           179.3,
           168.8,
           137.8,
           151.8,
           179,
           165.7,
           184.9,
           172.8,
           133.5,
           115.1
          ],
          "coloraxis": "coloraxis",
          "symbol": "circle"
         },
         "mode": "markers",
         "name": "",
         "orientation": "v",
         "showlegend": false,
         "type": "scatter",
         "x": [
          1985,
          1985,
          1985,
          1985,
          1985,
          1985,
          1985,
          1985,
          1985,
          1985,
          1985,
          1985,
          1985,
          1985,
          1985,
          1985,
          1985,
          1985,
          1985,
          1986,
          1986,
          1986,
          1986,
          1986,
          1986,
          1986,
          1986,
          1986,
          1986,
          1986,
          1986,
          1986,
          1986,
          1986,
          1986,
          1986,
          1986,
          1986,
          1986,
          1987,
          1987,
          1987,
          1987,
          1987,
          1987,
          1987,
          1987,
          1987,
          1987,
          1987,
          1987,
          1987,
          1987,
          1987,
          1987,
          1987,
          1987,
          1987,
          1987,
          1987,
          1988,
          1988,
          1988,
          1988,
          1988,
          1988,
          1988,
          1988,
          1988,
          1988,
          1988,
          1988,
          1988,
          1988,
          1988,
          1988,
          1988,
          1989,
          1989,
          1989,
          1989,
          1989,
          1989,
          1989,
          1989,
          1989,
          1989,
          1989,
          1989,
          1989,
          1989,
          1989,
          1989,
          1989,
          1990,
          1990,
          1990,
          1990,
          1990,
          1990,
          1990,
          1990,
          1990,
          1990,
          1990,
          1990,
          1990,
          1990,
          1990,
          1990,
          1990,
          1991,
          1991,
          1991,
          1991,
          1991,
          1991,
          1991,
          1991,
          1991,
          1991,
          1991,
          1991,
          1991,
          1991,
          1991,
          1991,
          1991,
          1991,
          1991,
          1992,
          1992,
          1992,
          1992,
          1992,
          1992,
          1992,
          1992,
          1992,
          1992,
          1992,
          1992,
          1992,
          1992,
          1992,
          1992,
          1992,
          1992,
          1993,
          1993,
          1993,
          1993,
          1993,
          1993,
          1993,
          1993,
          1993,
          1993,
          1993,
          1993,
          1993,
          1993,
          1993,
          1993,
          1993,
          1994,
          1994,
          1994,
          1994,
          1994,
          1994,
          1994,
          1994,
          1994,
          1994,
          1994,
          1994,
          1994,
          1994,
          1994,
          1994,
          1994,
          1994,
          1995,
          1995,
          1995,
          1995,
          1995,
          1995,
          1995,
          1995,
          1995,
          1995,
          1995,
          1995,
          1995,
          1995,
          1995,
          1995,
          1996,
          1996,
          1996,
          1996,
          1996,
          1996,
          1996,
          1996,
          1996,
          1996,
          1996,
          1996,
          1996,
          1996,
          1996,
          1996,
          1996,
          1996,
          1997,
          1997,
          1997,
          1997,
          1997,
          1997,
          1997,
          1997,
          1997,
          1997,
          1997,
          1997,
          1997,
          1997,
          1997,
          1997,
          1997,
          1997,
          1997,
          1998,
          1998,
          1998,
          1998,
          1998,
          1998,
          1998,
          1998,
          1998,
          1998,
          1998,
          1998,
          1998,
          1998,
          1998,
          1998,
          1998,
          1998,
          1999,
          1999,
          1999,
          1999,
          1999,
          1999,
          1999,
          1999,
          1999,
          1999,
          1999,
          1999,
          1999,
          1999,
          1999,
          1999,
          1999,
          1999,
          2000,
          2000,
          2000,
          2000,
          2000,
          2000,
          2000,
          2000,
          2000,
          2000,
          2000,
          2000,
          2000,
          2000,
          2000,
          2000,
          2000,
          2000,
          2001,
          2001,
          2001,
          2001,
          2001,
          2001,
          2001,
          2001,
          2001,
          2001,
          2001,
          2001,
          2001,
          2001,
          2001,
          2001,
          2001,
          2002,
          2002,
          2002,
          2002,
          2002,
          2002,
          2002,
          2002,
          2002,
          2002,
          2002,
          2002,
          2002,
          2002,
          2002,
          2002,
          2002,
          2003,
          2003,
          2003,
          2003,
          2003,
          2003,
          2003,
          2003,
          2003,
          2003,
          2003,
          2003,
          2003,
          2003,
          2003,
          2003,
          2003,
          2004,
          2004,
          2004,
          2004,
          2004,
          2004,
          2004,
          2004,
          2004,
          2004,
          2004,
          2004,
          2004,
          2004,
          2004,
          2004,
          2004,
          2005,
          2005,
          2005,
          2005,
          2005,
          2005,
          2005,
          2005,
          2005,
          2005,
          2005,
          2005,
          2005,
          2005,
          2005,
          2005,
          2005,
          2005,
          2006,
          2006,
          2006,
          2006,
          2006,
          2006,
          2006,
          2006,
          2006,
          2006,
          2006,
          2006,
          2006,
          2006,
          2006,
          2006,
          2006,
          2006,
          2006,
          2007,
          2007,
          2007,
          2007,
          2007,
          2007,
          2007,
          2007,
          2007,
          2007,
          2007,
          2007,
          2007,
          2007,
          2007,
          2007,
          2007,
          2007,
          2007,
          2008,
          2008,
          2008,
          2008,
          2008,
          2008,
          2008,
          2008,
          2008,
          2008,
          2008,
          2008,
          2008,
          2008,
          2008,
          2008,
          2008,
          2008,
          2008,
          2008,
          2008,
          2008,
          2009,
          2009,
          2009,
          2009,
          2009,
          2009,
          2009,
          2009,
          2009,
          2009,
          2009,
          2009,
          2009,
          2009,
          2009,
          2009,
          2009,
          2009,
          2009,
          2010,
          2010,
          2010,
          2010,
          2010,
          2010,
          2010,
          2010,
          2010,
          2010,
          2010,
          2010,
          2010,
          2010,
          2010,
          2010,
          2010,
          2010,
          2010,
          2011,
          2011,
          2011,
          2011,
          2011,
          2011,
          2011,
          2011,
          2011,
          2011,
          2011,
          2011,
          2011,
          2011,
          2011,
          2011,
          2011,
          2011,
          2011,
          2012,
          2012,
          2012,
          2012,
          2012,
          2012,
          2012,
          2012,
          2012,
          2012,
          2012,
          2012,
          2012,
          2012,
          2012,
          2012,
          2012,
          2012,
          2013,
          2013,
          2013,
          2013,
          2013,
          2013,
          2013,
          2013,
          2013,
          2013,
          2013,
          2013,
          2013,
          2013,
          2013,
          2013,
          2013,
          2013,
          2014,
          2014,
          2014,
          2014,
          2014,
          2014,
          2014,
          2014,
          2014,
          2014,
          2014,
          2014,
          2014,
          2014,
          2014,
          2014,
          2014,
          2014,
          2014,
          2014,
          2015,
          2015,
          2015,
          2015,
          2015,
          2015,
          2015,
          2015,
          2015,
          2015,
          2015,
          2015,
          2015,
          2015,
          2015,
          2015,
          2015,
          2015,
          2015,
          2016,
          2016,
          2016,
          2016,
          2016,
          2016,
          2016,
          2016,
          2016,
          2016,
          2016,
          2016,
          2016,
          2016,
          2016,
          2016,
          2016,
          2016,
          2016,
          2017,
          2017,
          2017,
          2017,
          2017,
          2017,
          2017,
          2017,
          2017,
          2017,
          2017,
          2017,
          2017,
          2017,
          2017,
          2017,
          2017,
          2017,
          2017,
          2018,
          2018,
          2018,
          2018,
          2018,
          2018,
          2018,
          2018,
          2018,
          2018,
          2018,
          2018,
          2018,
          2018,
          2018,
          2018,
          2018,
          2018,
          2018,
          2019,
          2019,
          2019,
          2019,
          2019,
          2019,
          2019,
          2019,
          2019,
          2019,
          2019,
          2019,
          2019,
          2019,
          2019,
          2019,
          2019,
          2019,
          2019,
          2020,
          2020,
          2020,
          2020,
          2020,
          2020,
          2020,
          2020,
          2020,
          2020,
          2020,
          2020,
          2020,
          2020,
          2020,
          2020,
          2020,
          2020,
          2020,
          2020,
          2021,
          2021,
          2021,
          2021,
          2021,
          2021,
          2021,
          2021,
          2021,
          2021,
          2021,
          2021,
          2021,
          2021,
          2021,
          2021,
          2021,
          2021,
          2021,
          2022,
          2022,
          2022,
          2022,
          2022,
          2022,
          2022,
          2022,
          2022,
          2022,
          2022,
          2022,
          2022,
          2022,
          2022,
          2022,
          2022,
          2022,
          2022,
          2023,
          2023,
          2023,
          2023,
          2023,
          2023,
          2023,
          2023,
          2023,
          2023,
          2023,
          2023,
          2023,
          2023,
          2023,
          2023,
          2023,
          2023,
          2023,
          2023
         ],
         "xaxis": "x",
         "y": [
          343.0786959692436,
          297.7061528964386,
          285.7981541250865,
          221.2047367856856,
          227.34419739979663,
          165.84584435632996,
          234.97172593939467,
          396.40045233968624,
          397.51672024486095,
          374.70026006820456,
          306.17701769835395,
          283.2574275489217,
          193.25593456286288,
          315.4993932088043,
          493.4330946920642,
          419.1963600088864,
          222.95032693868575,
          196.3653295169792,
          350.8883973134021,
          254.81903490815705,
          264.3628911398,
          231.74637774748305,
          212.64256943795488,
          229.1403897577572,
          360.2406556332411,
          410.822506737042,
          334.20853011531744,
          341.995127636262,
          377.99995178618224,
          389.3073349893262,
          291.4133794419473,
          285.85346109532185,
          124.20085579782312,
          430.42778164595416,
          511.161564946936,
          307.7917459698285,
          336.8118043705938,
          258.33738660105223,
          240.52832087703976,
          499.2504541699037,
          null,
          257.5468326923848,
          284.530512741133,
          321.22050968442375,
          343.34538833185525,
          264.78896618786774,
          236.2637391776633,
          166.75797382940658,
          320.8922172246981,
          371.2774251992011,
          453.9495074002194,
          200.9568547592649,
          257.5101758985875,
          184.09900779950627,
          429.8763364477297,
          431.85605276833456,
          448.07122393516056,
          371.6045743253316,
          120.65430263562668,
          293.5832671729561,
          296.9863263175012,
          388.9676227303584,
          306.81066894873976,
          449.3231081988809,
          353.1952020036204,
          211.6538443718881,
          358.0726407720233,
          275.2930750132156,
          221.38659439520077,
          471.9377941150842,
          388.50459052144686,
          421.8866677695392,
          339.70571646268246,
          254.7480684924832,
          348.2549645134926,
          167.4304056022803,
          249.9988325216657,
          226.76401138914585,
          180.0952128826598,
          332.98375965238023,
          252.66379657259708,
          213.383812761596,
          222.4127803322144,
          493.91650219336935,
          512.494057235048,
          270.8701053328384,
          211.3159150712474,
          223.20691789995607,
          196.659949060782,
          469.9600662554796,
          495.1400398794032,
          444.8220788934216,
          420.2052974389888,
          287.5877666616943,
          364.9829321260492,
          321.6807560078995,
          287.3400851083018,
          319.32595711431,
          290.02850091386887,
          304.61229689657296,
          231.87848345433665,
          330.40865215776023,
          353.2439319319383,
          268.1936209406175,
          335.28574536597705,
          200.4124304274185,
          250.32962640802572,
          278.1150728635986,
          184.77910574412627,
          195.58818477644192,
          255.35146442083695,
          519.5396959073445,
          312.85248543040973,
          271.3480991042289,
          439.878568588808,
          309.1776887564065,
          532.7236838741464,
          415.3465685432608,
          300.1485405966169,
          504.7867313451552,
          424.2884405091627,
          537.9251080770727,
          359.75769781647733,
          364.679022962087,
          301.9533421037687,
          null,
          197.36339615536647,
          275.4072676975793,
          213.2708839501591,
          330.41270223458764,
          284.8158468432912,
          223.25316440145508,
          256.20114099461034,
          480.97402879653714,
          494.8178229515978,
          442.9762849295961,
          412.8804158028015,
          422.7625330342443,
          226.21715208807296,
          108.5378300132101,
          556.7918581443137,
          586.433377941663,
          251.12271117732627,
          204.58515335008923,
          221.80462137254776,
          224.36960983711376,
          149.4557371847177,
          231.16702202017427,
          425.1487695305152,
          296.66801116435005,
          354.3607602888218,
          408.0082296969763,
          579.8896817262973,
          450.4771922755564,
          382.93520196997,
          545.6689406588565,
          423.3561258270824,
          214.22048156633912,
          382.7719735506372,
          322.89337921316854,
          482.9843726572152,
          463.7644878497898,
          469.63664638496783,
          271.2895153695291,
          287.29510891640325,
          325.5393650266468,
          330.06227916034965,
          356.3722076393916,
          474.3520056038888,
          316.0719684332691,
          395.9116710856207,
          402.5972437837195,
          492.9496544822515,
          354.87713548300525,
          494.8285543105115,
          382.6584388425433,
          217.2696041689327,
          293.6223147545926,
          529.3995814962315,
          561.4830881004743,
          527.1657135924308,
          182.93938840114816,
          296.22438876239227,
          351.4476502339443,
          439.4376592400744,
          387.5690811806476,
          430.1213970746932,
          357.11584498303995,
          260.2071519867769,
          635.8725455971745,
          599.9911971673376,
          253.23837429548956,
          494.0878641813628,
          192.8951413237554,
          431.6844221757782,
          571.9715575717671,
          214.15619761030365,
          385.5850511235369,
          390.32801052792985,
          334.06064220057,
          262.62922446299,
          235.8888848398652,
          344.11869454992524,
          242.65802139699372,
          203.8245305934009,
          470.5464657596994,
          249.03458025588577,
          231.29498027471487,
          101.0343025803979,
          297.53651571414065,
          319.57642320498667,
          472.1143019992687,
          415.2132886886933,
          474.8520922381142,
          192.6174035806661,
          354.2411466676794,
          395.9473553070814,
          375.4726843015122,
          361.018711732591,
          307.9967227060929,
          296.9556295795982,
          355.9428064914501,
          240.0677869356975,
          469.4675898888784,
          510.27350983099535,
          446.61181172142864,
          462.4135802715565,
          216.9835125129284,
          451.3976873274145,
          607.2905034915487,
          441.3682327213017,
          283.21664070703923,
          329.42193502773665,
          248.2453706807128,
          330.9039527416193,
          310.55999856198963,
          359.4702013923878,
          251.2298650979789,
          524.9233798091042,
          414.6456109010786,
          373.62388364741975,
          427.0652024632924,
          386.17984526670847,
          288.5839576752854,
          533.7851121503668,
          511.1388827006109,
          380.2335078472335,
          230.8902142212831,
          502.4939812982809,
          428.8627059266863,
          415.6507315714359,
          302.4996640980854,
          406.3595590020244,
          312.6824561138636,
          372.21173115244216,
          459.4218841296531,
          397.31821916743,
          569.0505141494157,
          364.0577989198488,
          356.96085884174545,
          385.702239211727,
          497.56624238557765,
          481.9933362629465,
          228.3604222590901,
          227.4636534559272,
          216.76260550199515,
          343.3862346354567,
          529.6218897214326,
          459.07733020359217,
          438.06471763631214,
          371.1190459811312,
          436.7770751565825,
          329.7579741033189,
          427.3400337462825,
          492.1747429424749,
          409.2173311032101,
          314.98654795767663,
          483.6428376136464,
          334.5332291130874,
          379.69297538346655,
          403.7597764513511,
          416.1215226138673,
          449.2473308150706,
          349.4792788701959,
          390.6515019689609,
          369.1606835386549,
          317.9375665509888,
          296.00129724730584,
          349.220148852575,
          336.350655635504,
          323.5657637691977,
          479.73050129699874,
          264.0207735770904,
          230.4857977401707,
          273.9311920964359,
          253.7698291349764,
          291.42105291960934,
          356.5737598152655,
          375.9910469067095,
          433.4083556370632,
          512.6901203795346,
          474.0370044069856,
          421.7326604376256,
          220.34856347310068,
          337.2990918511353,
          463.8208678501255,
          363.7842902580091,
          240.17314061850885,
          431.5402760109645,
          341.33507930429806,
          458.7234223012929,
          472.0655337261318,
          250.71241103841132,
          515.9076075055066,
          512.7822037418803,
          531.1944697029438,
          473.8131477803368,
          215.25155694970448,
          418.9108467793838,
          399.51475951723467,
          372.39992653947104,
          514.8094372446698,
          216.92518666446105,
          335.4828996204669,
          282.5380975084299,
          217.072009827756,
          545.5904938077218,
          520.6395020704667,
          285.82141083602886,
          379.2924864057589,
          535.2444036999041,
          463.16487994660486,
          215.67111013344996,
          276.135012761057,
          473.61033242897867,
          472.2056008738291,
          516.5932205621723,
          475.6692559967578,
          393.1932876493204,
          447.7773563115398,
          326.15849330554687,
          280.48083422203126,
          479.0458318686496,
          439.1419453411018,
          322.91182731517927,
          373.93584370666,
          468.8621606935442,
          268.0859003636165,
          532.8681895109257,
          240.1072263721433,
          254.399690377826,
          403.5383951236794,
          498.7216673066455,
          381.92547423171504,
          244.45446043187872,
          464.5492545057826,
          234.0083612539459,
          313.6408949683628,
          430.8019490138466,
          445.5814064467533,
          505.2473106362088,
          324.7747679235912,
          273.8159135755319,
          379.600751925306,
          375.0299218730204,
          430.607955786952,
          374.4280487244798,
          373.3931652270553,
          463.7536718891068,
          317.6825376833993,
          401.6014500825052,
          363.25856358271,
          210.0312026001978,
          217.8152306103893,
          265.13783919162955,
          282.4016389884609,
          392.5022687458667,
          232.43887754460587,
          274.40639017948155,
          362.7238633672556,
          369.7264380120593,
          443.6729714267058,
          369.4046938100642,
          427.6447845205393,
          346.90919554103107,
          400.1744446445843,
          288.39550674842553,
          238.652609843862,
          261.25562204032786,
          439.0584668557389,
          392.1588325327342,
          335.73719043199185,
          335.73719043199185,
          278.0578055392209,
          39.10304979799676,
          412.708765660889,
          358.61917630121087,
          229.966442325278,
          368.3866072674186,
          220.0634536885721,
          269.07745612617657,
          356.45565259567377,
          387.2127056843932,
          326.681206430208,
          222.55222841136265,
          472.1472298747057,
          290.7694620783437,
          350.71456818000115,
          332.92376439981444,
          332.92376439981444,
          366.58440070893016,
          246.01544366933507,
          193.41834033971028,
          250.8263290832776,
          254.35616700515243,
          268.357974006719,
          322.1404389621178,
          349.2097293842126,
          376.2202619349307,
          376.2202619349307,
          344.961274308036,
          250.4700801014522,
          337.49440522213035,
          337.49440522213035,
          384.4964848799115,
          384.4964848799115,
          334.3689509407001,
          437.1972870988642,
          332.74836901778235,
          301.1027498490966,
          370.73522004141626,
          345.71833867692635,
          362.0880422767176,
          296.00882948225353,
          460.15980504978086,
          236.5962513717592,
          246.59067673561785,
          280.4120395082178,
          379.4933451650677,
          246.0405433752616,
          352.33015619173784,
          338.59460673394136,
          325.40669175562044,
          216.78748455595405,
          413.1164861201325,
          245.5791125508888,
          302.8106960025197,
          232.06420294569435,
          395.5338155806583,
          359.4273838478264,
          359.4273838478264,
          347.3978109729091,
          371.78189865255735,
          356.225491463902,
          284.73715886907786,
          335.38875460195953,
          267.4136385058446,
          392.6895361937741,
          381.0325243925831,
          352.6067644084969,
          357.95954888442753,
          412.3785635469213,
          378.31899420842825,
          371.2085834518308,
          145.75660041922762,
          187.36068159532817,
          264.14300109642386,
          275.2393981505324,
          391.1058352355952,
          334.43853506663214,
          320.02823717354704,
          375.2416695530385,
          349.464578049813,
          245.01040010121383,
          211.38532142811556,
          353.11474591061113,
          242.86861140909943,
          472.2410736825828,
          267.64929689745475,
          272.496295819818,
          439.3372166619452,
          212.91132619605804,
          308.6456114479024,
          283.69427191502325,
          364.94456628936615,
          338.4108046319078,
          428.42166501563815,
          412.6558960129191,
          418.2040707359432,
          380.1756529490728,
          357.3783958033632,
          451.1027338153162,
          261.69511830343447,
          223.6943798808404,
          360.4947003099427,
          231.3180112848912,
          334.17994207808414,
          350.33294142084446,
          420.8736642981789,
          368.0033515837179,
          397.7355014512349,
          375.93082837104896,
          446.7937488114555,
          322.7931122977058,
          408.066230092432,
          323.3436905914508,
          397.884421814552,
          386.219088213825,
          470.1016358410697,
          464.432927056432,
          269.0825021290224,
          386.97181014093775,
          358.6707510312815,
          220.40993312282157,
          231.0982389276944,
          384.2724392865578,
          248.57205082854864,
          397.09961844032273,
          371.1197294641521,
          329.6267506908931,
          419.0546197615601,
          459.92720356859047,
          268.74027731752426,
          424.78287651959977,
          385.6389681757889,
          424.6963637744428,
          343.36599278088016,
          444.11285206357616,
          262.02772123575454,
          221.1337160488193,
          214.03535294626116,
          345.6950553648264,
          423.0490892402348,
          429.807474270517,
          452.7608308776286,
          267.30182970358493,
          346.28125326111103,
          389.8844083123555,
          395.2046426616737,
          255.79353033658805,
          231.00500025045525,
          374.3938233037996,
          394.8834428928611,
          419.6971851253624,
          308.08993328848646,
          431.51423654705394,
          403.02824435396167,
          403.4228787592752,
          316.0642929128472,
          436.9462475683313,
          306.0655680583222,
          328.1525808571062,
          342.245637040366,
          194.99856053557755,
          383.1569955751872,
          237.6505658080997,
          345.39570413813334,
          387.68218634118745,
          374.05568452362127,
          242.36450469369709,
          371.5216962137755,
          315.88178508039465,
          316.749841867143,
          447.2395532900209,
          360.3739563743504,
          407.655369153142,
          400.8358417498148,
          267.2323424988304,
          262.0952539628529,
          246.7485958994789,
          172.27720245270905,
          256.9762522205851,
          371.1358586933227,
          216.71558759912543,
          387.87072931826987,
          383.50005060034334,
          398.274410580498,
          352.99380868567465,
          322.7968862154513,
          323.1054229925997,
          159.96391718893017,
          383.5965707515473,
          324.1749568740436,
          420.2659306426144,
          439.1519502334947,
          379.1256861036286,
          333.94988340256134,
          392.7814134845256,
          392.7167808650832,
          357.9057694104984,
          415.62062638395935,
          367.92539713656447,
          358.229792035753,
          397.8344172617474,
          364.0642855473409,
          411.6325260300346,
          395.448808090987,
          384.0628275254777,
          418.69764708620914,
          365.02969891223086,
          221.47018137927853,
          479.9383705033789,
          383.4083438073012,
          427.7858345082656,
          389.1459255668327,
          359.2620140260269,
          394.8478119416639,
          420.8356884257798,
          393.5757666452486,
          261.2598018833705,
          257.231860702174,
          344.0565483503185,
          337.9516826861264,
          417.5632047274837,
          397.280171556184,
          462.4554544886427,
          428.1872191149843,
          429.9019897447874,
          201.78293119892328,
          327.9243139346748,
          355.9472622114123,
          500.6700836441244,
          435.271842481322,
          387.1044322544191,
          340.824114631294,
          272.22907255170327,
          304.29621383054746,
          217.98694138439865,
          267.6408762697816,
          365.16371007132113,
          178.8006434505483,
          231.7019558290613,
          214.46708316600285,
          298.05531741320067,
          258.4472865758254,
          324.3010448325298,
          424.1654778116892,
          417.0745406388753,
          277.8721906449715,
          251.46787641169288,
          358.02692755786444,
          413.9050979817105,
          420.7236782559369,
          329.59011071077833,
          232.99765308069112,
          342.4065174696891,
          185.5011387537843,
          385.9912284717436,
          345.9788803609513,
          382.05778794813807,
          335.46476922630325,
          318.2515785958526,
          385.11215535896025,
          431.6474196575701,
          330.90230477558856,
          254.21451167698297,
          405.2821844995814,
          361.1289973619328,
          399.2892279714549,
          395.6629816167812,
          397.2612421106158,
          402.4791258691737,
          289.0546354975441,
          349.2307352936815,
          256.6593642335089,
          257.5687369925625,
          292.0673958603121,
          451.9056189583087,
          516.906314097867,
          305.4304975226749,
          385.31852001338143,
          399.1544448479607,
          279.03588207030674,
          366.31196917223264,
          276.2087192903501,
          255.26744176535877,
          360.4376996353591,
          351.2895384867418,
          361.5212485220742,
          385.1079340746912,
          437.9902814211687,
          260.117625125823,
          316.52838050969024,
          394.8947165762118,
          390.48037555013445,
          405.6746309372553,
          484.365282897295,
          375.0603673956009,
          434.8638594271068,
          284.3465720929481,
          240.13610745268895,
          457.5820695774886,
          386.0180537565441,
          362.328742254767,
          280.26124389288265,
          238.0879149463324,
          297.0476851066671,
          344.3931069906251,
          423.6598853474285,
          409.3275047641777,
          342.5196135951151,
          271.4911157682912,
          248.27783910756895,
          272.9999452728968,
          228.7336818337955,
          328.17934690999067,
          402.4199404989888,
          418.46078787905856,
          394.4325054293272,
          333.160441538402,
          403.8427124288767,
          270.09975846532785,
          277.70639096228024,
          274.27252144578927,
          404.5150601451726,
          403.3398021674004,
          407.5942060850276,
          373.0859787649242,
          408.272072448542,
          307.4314162788779,
          391.7142301175096,
          270.6754915671137
         ],
         "yaxis": "y"
        },
        {
         "hovertemplate": "<b>OLS trendline</b><br>power = 0.29382 * year + -241.016<br>R<sup>2</sup>=0.001310<br><br>year=%{x}<br>power=%{y} <b>(trend)</b><extra></extra>",
         "legendgroup": "",
         "marker": {
          "symbol": "circle"
         },
         "mode": "lines",
         "name": "",
         "showlegend": false,
         "type": "scatter",
         "x": [
          1985,
          1985,
          1985,
          1985,
          1985,
          1985,
          1985,
          1985,
          1985,
          1985,
          1985,
          1985,
          1985,
          1985,
          1985,
          1985,
          1985,
          1985,
          1985,
          1986,
          1986,
          1986,
          1986,
          1986,
          1986,
          1986,
          1986,
          1986,
          1986,
          1986,
          1986,
          1986,
          1986,
          1986,
          1986,
          1986,
          1986,
          1986,
          1986,
          1987,
          1987,
          1987,
          1987,
          1987,
          1987,
          1987,
          1987,
          1987,
          1987,
          1987,
          1987,
          1987,
          1987,
          1987,
          1987,
          1987,
          1987,
          1987,
          1987,
          1988,
          1988,
          1988,
          1988,
          1988,
          1988,
          1988,
          1988,
          1988,
          1988,
          1988,
          1988,
          1988,
          1988,
          1988,
          1988,
          1988,
          1989,
          1989,
          1989,
          1989,
          1989,
          1989,
          1989,
          1989,
          1989,
          1989,
          1989,
          1989,
          1989,
          1989,
          1989,
          1989,
          1989,
          1990,
          1990,
          1990,
          1990,
          1990,
          1990,
          1990,
          1990,
          1990,
          1990,
          1990,
          1990,
          1990,
          1990,
          1990,
          1990,
          1990,
          1991,
          1991,
          1991,
          1991,
          1991,
          1991,
          1991,
          1991,
          1991,
          1991,
          1991,
          1991,
          1991,
          1991,
          1991,
          1991,
          1991,
          1991,
          1992,
          1992,
          1992,
          1992,
          1992,
          1992,
          1992,
          1992,
          1992,
          1992,
          1992,
          1992,
          1992,
          1992,
          1992,
          1992,
          1992,
          1992,
          1993,
          1993,
          1993,
          1993,
          1993,
          1993,
          1993,
          1993,
          1993,
          1993,
          1993,
          1993,
          1993,
          1993,
          1993,
          1993,
          1993,
          1994,
          1994,
          1994,
          1994,
          1994,
          1994,
          1994,
          1994,
          1994,
          1994,
          1994,
          1994,
          1994,
          1994,
          1994,
          1994,
          1994,
          1994,
          1995,
          1995,
          1995,
          1995,
          1995,
          1995,
          1995,
          1995,
          1995,
          1995,
          1995,
          1995,
          1995,
          1995,
          1995,
          1995,
          1996,
          1996,
          1996,
          1996,
          1996,
          1996,
          1996,
          1996,
          1996,
          1996,
          1996,
          1996,
          1996,
          1996,
          1996,
          1996,
          1996,
          1996,
          1997,
          1997,
          1997,
          1997,
          1997,
          1997,
          1997,
          1997,
          1997,
          1997,
          1997,
          1997,
          1997,
          1997,
          1997,
          1997,
          1997,
          1997,
          1997,
          1998,
          1998,
          1998,
          1998,
          1998,
          1998,
          1998,
          1998,
          1998,
          1998,
          1998,
          1998,
          1998,
          1998,
          1998,
          1998,
          1998,
          1998,
          1999,
          1999,
          1999,
          1999,
          1999,
          1999,
          1999,
          1999,
          1999,
          1999,
          1999,
          1999,
          1999,
          1999,
          1999,
          1999,
          1999,
          1999,
          2000,
          2000,
          2000,
          2000,
          2000,
          2000,
          2000,
          2000,
          2000,
          2000,
          2000,
          2000,
          2000,
          2000,
          2000,
          2000,
          2000,
          2000,
          2001,
          2001,
          2001,
          2001,
          2001,
          2001,
          2001,
          2001,
          2001,
          2001,
          2001,
          2001,
          2001,
          2001,
          2001,
          2001,
          2001,
          2002,
          2002,
          2002,
          2002,
          2002,
          2002,
          2002,
          2002,
          2002,
          2002,
          2002,
          2002,
          2002,
          2002,
          2002,
          2002,
          2002,
          2003,
          2003,
          2003,
          2003,
          2003,
          2003,
          2003,
          2003,
          2003,
          2003,
          2003,
          2003,
          2003,
          2003,
          2003,
          2003,
          2003,
          2004,
          2004,
          2004,
          2004,
          2004,
          2004,
          2004,
          2004,
          2004,
          2004,
          2004,
          2004,
          2004,
          2004,
          2004,
          2004,
          2004,
          2005,
          2005,
          2005,
          2005,
          2005,
          2005,
          2005,
          2005,
          2005,
          2005,
          2005,
          2005,
          2005,
          2005,
          2005,
          2005,
          2005,
          2005,
          2006,
          2006,
          2006,
          2006,
          2006,
          2006,
          2006,
          2006,
          2006,
          2006,
          2006,
          2006,
          2006,
          2006,
          2006,
          2006,
          2006,
          2006,
          2006,
          2007,
          2007,
          2007,
          2007,
          2007,
          2007,
          2007,
          2007,
          2007,
          2007,
          2007,
          2007,
          2007,
          2007,
          2007,
          2007,
          2007,
          2007,
          2007,
          2008,
          2008,
          2008,
          2008,
          2008,
          2008,
          2008,
          2008,
          2008,
          2008,
          2008,
          2008,
          2008,
          2008,
          2008,
          2008,
          2008,
          2008,
          2008,
          2008,
          2008,
          2008,
          2009,
          2009,
          2009,
          2009,
          2009,
          2009,
          2009,
          2009,
          2009,
          2009,
          2009,
          2009,
          2009,
          2009,
          2009,
          2009,
          2009,
          2009,
          2009,
          2010,
          2010,
          2010,
          2010,
          2010,
          2010,
          2010,
          2010,
          2010,
          2010,
          2010,
          2010,
          2010,
          2010,
          2010,
          2010,
          2010,
          2010,
          2010,
          2011,
          2011,
          2011,
          2011,
          2011,
          2011,
          2011,
          2011,
          2011,
          2011,
          2011,
          2011,
          2011,
          2011,
          2011,
          2011,
          2011,
          2011,
          2011,
          2012,
          2012,
          2012,
          2012,
          2012,
          2012,
          2012,
          2012,
          2012,
          2012,
          2012,
          2012,
          2012,
          2012,
          2012,
          2012,
          2012,
          2012,
          2013,
          2013,
          2013,
          2013,
          2013,
          2013,
          2013,
          2013,
          2013,
          2013,
          2013,
          2013,
          2013,
          2013,
          2013,
          2013,
          2013,
          2013,
          2014,
          2014,
          2014,
          2014,
          2014,
          2014,
          2014,
          2014,
          2014,
          2014,
          2014,
          2014,
          2014,
          2014,
          2014,
          2014,
          2014,
          2014,
          2014,
          2014,
          2015,
          2015,
          2015,
          2015,
          2015,
          2015,
          2015,
          2015,
          2015,
          2015,
          2015,
          2015,
          2015,
          2015,
          2015,
          2015,
          2015,
          2015,
          2015,
          2016,
          2016,
          2016,
          2016,
          2016,
          2016,
          2016,
          2016,
          2016,
          2016,
          2016,
          2016,
          2016,
          2016,
          2016,
          2016,
          2016,
          2016,
          2016,
          2017,
          2017,
          2017,
          2017,
          2017,
          2017,
          2017,
          2017,
          2017,
          2017,
          2017,
          2017,
          2017,
          2017,
          2017,
          2017,
          2017,
          2017,
          2017,
          2018,
          2018,
          2018,
          2018,
          2018,
          2018,
          2018,
          2018,
          2018,
          2018,
          2018,
          2018,
          2018,
          2018,
          2018,
          2018,
          2018,
          2018,
          2018,
          2019,
          2019,
          2019,
          2019,
          2019,
          2019,
          2019,
          2019,
          2019,
          2019,
          2019,
          2019,
          2019,
          2019,
          2019,
          2019,
          2019,
          2019,
          2019,
          2020,
          2020,
          2020,
          2020,
          2020,
          2020,
          2020,
          2020,
          2020,
          2020,
          2020,
          2020,
          2020,
          2020,
          2020,
          2020,
          2020,
          2020,
          2020,
          2020,
          2021,
          2021,
          2021,
          2021,
          2021,
          2021,
          2021,
          2021,
          2021,
          2021,
          2021,
          2021,
          2021,
          2021,
          2021,
          2021,
          2021,
          2021,
          2021,
          2022,
          2022,
          2022,
          2022,
          2022,
          2022,
          2022,
          2022,
          2022,
          2022,
          2022,
          2022,
          2022,
          2022,
          2022,
          2022,
          2022,
          2022,
          2022,
          2023,
          2023,
          2023,
          2023,
          2023,
          2023,
          2023,
          2023,
          2023,
          2023,
          2023,
          2023,
          2023,
          2023,
          2023,
          2023,
          2023,
          2023,
          2023,
          2023
         ],
         "xaxis": "x",
         "y": [
          342.2170858752216,
          342.2170858752216,
          342.2170858752216,
          342.2170858752216,
          342.2170858752216,
          342.2170858752216,
          342.2170858752216,
          342.2170858752216,
          342.2170858752216,
          342.2170858752216,
          342.2170858752216,
          342.2170858752216,
          342.2170858752216,
          342.2170858752216,
          342.2170858752216,
          342.2170858752216,
          342.2170858752216,
          342.2170858752216,
          342.2170858752216,
          342.51090616988273,
          342.51090616988273,
          342.51090616988273,
          342.51090616988273,
          342.51090616988273,
          342.51090616988273,
          342.51090616988273,
          342.51090616988273,
          342.51090616988273,
          342.51090616988273,
          342.51090616988273,
          342.51090616988273,
          342.51090616988273,
          342.51090616988273,
          342.51090616988273,
          342.51090616988273,
          342.51090616988273,
          342.51090616988273,
          342.51090616988273,
          342.51090616988273,
          342.8047264645439,
          342.8047264645439,
          342.8047264645439,
          342.8047264645439,
          342.8047264645439,
          342.8047264645439,
          342.8047264645439,
          342.8047264645439,
          342.8047264645439,
          342.8047264645439,
          342.8047264645439,
          342.8047264645439,
          342.8047264645439,
          342.8047264645439,
          342.8047264645439,
          342.8047264645439,
          342.8047264645439,
          342.8047264645439,
          342.8047264645439,
          342.8047264645439,
          343.098546759205,
          343.098546759205,
          343.098546759205,
          343.098546759205,
          343.098546759205,
          343.098546759205,
          343.098546759205,
          343.098546759205,
          343.098546759205,
          343.098546759205,
          343.098546759205,
          343.098546759205,
          343.098546759205,
          343.098546759205,
          343.098546759205,
          343.098546759205,
          343.098546759205,
          343.39236705386617,
          343.39236705386617,
          343.39236705386617,
          343.39236705386617,
          343.39236705386617,
          343.39236705386617,
          343.39236705386617,
          343.39236705386617,
          343.39236705386617,
          343.39236705386617,
          343.39236705386617,
          343.39236705386617,
          343.39236705386617,
          343.39236705386617,
          343.39236705386617,
          343.39236705386617,
          343.39236705386617,
          343.6861873485273,
          343.6861873485273,
          343.6861873485273,
          343.6861873485273,
          343.6861873485273,
          343.6861873485273,
          343.6861873485273,
          343.6861873485273,
          343.6861873485273,
          343.6861873485273,
          343.6861873485273,
          343.6861873485273,
          343.6861873485273,
          343.6861873485273,
          343.6861873485273,
          343.6861873485273,
          343.6861873485273,
          343.98000764318834,
          343.98000764318834,
          343.98000764318834,
          343.98000764318834,
          343.98000764318834,
          343.98000764318834,
          343.98000764318834,
          343.98000764318834,
          343.98000764318834,
          343.98000764318834,
          343.98000764318834,
          343.98000764318834,
          343.98000764318834,
          343.98000764318834,
          343.98000764318834,
          343.98000764318834,
          343.98000764318834,
          343.98000764318834,
          344.2738279378495,
          344.2738279378495,
          344.2738279378495,
          344.2738279378495,
          344.2738279378495,
          344.2738279378495,
          344.2738279378495,
          344.2738279378495,
          344.2738279378495,
          344.2738279378495,
          344.2738279378495,
          344.2738279378495,
          344.2738279378495,
          344.2738279378495,
          344.2738279378495,
          344.2738279378495,
          344.2738279378495,
          344.2738279378495,
          344.56764823251063,
          344.56764823251063,
          344.56764823251063,
          344.56764823251063,
          344.56764823251063,
          344.56764823251063,
          344.56764823251063,
          344.56764823251063,
          344.56764823251063,
          344.56764823251063,
          344.56764823251063,
          344.56764823251063,
          344.56764823251063,
          344.56764823251063,
          344.56764823251063,
          344.56764823251063,
          344.56764823251063,
          344.8614685271718,
          344.8614685271718,
          344.8614685271718,
          344.8614685271718,
          344.8614685271718,
          344.8614685271718,
          344.8614685271718,
          344.8614685271718,
          344.8614685271718,
          344.8614685271718,
          344.8614685271718,
          344.8614685271718,
          344.8614685271718,
          344.8614685271718,
          344.8614685271718,
          344.8614685271718,
          344.8614685271718,
          344.8614685271718,
          345.1552888218329,
          345.1552888218329,
          345.1552888218329,
          345.1552888218329,
          345.1552888218329,
          345.1552888218329,
          345.1552888218329,
          345.1552888218329,
          345.1552888218329,
          345.1552888218329,
          345.1552888218329,
          345.1552888218329,
          345.1552888218329,
          345.1552888218329,
          345.1552888218329,
          345.1552888218329,
          345.44910911649407,
          345.44910911649407,
          345.44910911649407,
          345.44910911649407,
          345.44910911649407,
          345.44910911649407,
          345.44910911649407,
          345.44910911649407,
          345.44910911649407,
          345.44910911649407,
          345.44910911649407,
          345.44910911649407,
          345.44910911649407,
          345.44910911649407,
          345.44910911649407,
          345.44910911649407,
          345.44910911649407,
          345.44910911649407,
          345.7429294111552,
          345.7429294111552,
          345.7429294111552,
          345.7429294111552,
          345.7429294111552,
          345.7429294111552,
          345.7429294111552,
          345.7429294111552,
          345.7429294111552,
          345.7429294111552,
          345.7429294111552,
          345.7429294111552,
          345.7429294111552,
          345.7429294111552,
          345.7429294111552,
          345.7429294111552,
          345.7429294111552,
          345.7429294111552,
          345.7429294111552,
          346.03674970581625,
          346.03674970581625,
          346.03674970581625,
          346.03674970581625,
          346.03674970581625,
          346.03674970581625,
          346.03674970581625,
          346.03674970581625,
          346.03674970581625,
          346.03674970581625,
          346.03674970581625,
          346.03674970581625,
          346.03674970581625,
          346.03674970581625,
          346.03674970581625,
          346.03674970581625,
          346.03674970581625,
          346.03674970581625,
          346.3305700004774,
          346.3305700004774,
          346.3305700004774,
          346.3305700004774,
          346.3305700004774,
          346.3305700004774,
          346.3305700004774,
          346.3305700004774,
          346.3305700004774,
          346.3305700004774,
          346.3305700004774,
          346.3305700004774,
          346.3305700004774,
          346.3305700004774,
          346.3305700004774,
          346.3305700004774,
          346.3305700004774,
          346.3305700004774,
          346.62439029513854,
          346.62439029513854,
          346.62439029513854,
          346.62439029513854,
          346.62439029513854,
          346.62439029513854,
          346.62439029513854,
          346.62439029513854,
          346.62439029513854,
          346.62439029513854,
          346.62439029513854,
          346.62439029513854,
          346.62439029513854,
          346.62439029513854,
          346.62439029513854,
          346.62439029513854,
          346.62439029513854,
          346.62439029513854,
          346.9182105897997,
          346.9182105897997,
          346.9182105897997,
          346.9182105897997,
          346.9182105897997,
          346.9182105897997,
          346.9182105897997,
          346.9182105897997,
          346.9182105897997,
          346.9182105897997,
          346.9182105897997,
          346.9182105897997,
          346.9182105897997,
          346.9182105897997,
          346.9182105897997,
          346.9182105897997,
          346.9182105897997,
          347.21203088446083,
          347.21203088446083,
          347.21203088446083,
          347.21203088446083,
          347.21203088446083,
          347.21203088446083,
          347.21203088446083,
          347.21203088446083,
          347.21203088446083,
          347.21203088446083,
          347.21203088446083,
          347.21203088446083,
          347.21203088446083,
          347.21203088446083,
          347.21203088446083,
          347.21203088446083,
          347.21203088446083,
          347.505851179122,
          347.505851179122,
          347.505851179122,
          347.505851179122,
          347.505851179122,
          347.505851179122,
          347.505851179122,
          347.505851179122,
          347.505851179122,
          347.505851179122,
          347.505851179122,
          347.505851179122,
          347.505851179122,
          347.505851179122,
          347.505851179122,
          347.505851179122,
          347.505851179122,
          347.7996714737831,
          347.7996714737831,
          347.7996714737831,
          347.7996714737831,
          347.7996714737831,
          347.7996714737831,
          347.7996714737831,
          347.7996714737831,
          347.7996714737831,
          347.7996714737831,
          347.7996714737831,
          347.7996714737831,
          347.7996714737831,
          347.7996714737831,
          347.7996714737831,
          347.7996714737831,
          347.7996714737831,
          348.09349176844427,
          348.09349176844427,
          348.09349176844427,
          348.09349176844427,
          348.09349176844427,
          348.09349176844427,
          348.09349176844427,
          348.09349176844427,
          348.09349176844427,
          348.09349176844427,
          348.09349176844427,
          348.09349176844427,
          348.09349176844427,
          348.09349176844427,
          348.09349176844427,
          348.09349176844427,
          348.09349176844427,
          348.09349176844427,
          348.3873120631053,
          348.3873120631053,
          348.3873120631053,
          348.3873120631053,
          348.3873120631053,
          348.3873120631053,
          348.3873120631053,
          348.3873120631053,
          348.3873120631053,
          348.3873120631053,
          348.3873120631053,
          348.3873120631053,
          348.3873120631053,
          348.3873120631053,
          348.3873120631053,
          348.3873120631053,
          348.3873120631053,
          348.3873120631053,
          348.3873120631053,
          348.68113235776644,
          348.68113235776644,
          348.68113235776644,
          348.68113235776644,
          348.68113235776644,
          348.68113235776644,
          348.68113235776644,
          348.68113235776644,
          348.68113235776644,
          348.68113235776644,
          348.68113235776644,
          348.68113235776644,
          348.68113235776644,
          348.68113235776644,
          348.68113235776644,
          348.68113235776644,
          348.68113235776644,
          348.68113235776644,
          348.68113235776644,
          348.9749526524276,
          348.9749526524276,
          348.9749526524276,
          348.9749526524276,
          348.9749526524276,
          348.9749526524276,
          348.9749526524276,
          348.9749526524276,
          348.9749526524276,
          348.9749526524276,
          348.9749526524276,
          348.9749526524276,
          348.9749526524276,
          348.9749526524276,
          348.9749526524276,
          348.9749526524276,
          348.9749526524276,
          348.9749526524276,
          348.9749526524276,
          348.9749526524276,
          348.9749526524276,
          348.9749526524276,
          349.26877294708873,
          349.26877294708873,
          349.26877294708873,
          349.26877294708873,
          349.26877294708873,
          349.26877294708873,
          349.26877294708873,
          349.26877294708873,
          349.26877294708873,
          349.26877294708873,
          349.26877294708873,
          349.26877294708873,
          349.26877294708873,
          349.26877294708873,
          349.26877294708873,
          349.26877294708873,
          349.26877294708873,
          349.26877294708873,
          349.26877294708873,
          349.5625932417499,
          349.5625932417499,
          349.5625932417499,
          349.5625932417499,
          349.5625932417499,
          349.5625932417499,
          349.5625932417499,
          349.5625932417499,
          349.5625932417499,
          349.5625932417499,
          349.5625932417499,
          349.5625932417499,
          349.5625932417499,
          349.5625932417499,
          349.5625932417499,
          349.5625932417499,
          349.5625932417499,
          349.5625932417499,
          349.5625932417499,
          349.856413536411,
          349.856413536411,
          349.856413536411,
          349.856413536411,
          349.856413536411,
          349.856413536411,
          349.856413536411,
          349.856413536411,
          349.856413536411,
          349.856413536411,
          349.856413536411,
          349.856413536411,
          349.856413536411,
          349.856413536411,
          349.856413536411,
          349.856413536411,
          349.856413536411,
          349.856413536411,
          349.856413536411,
          350.15023383107217,
          350.15023383107217,
          350.15023383107217,
          350.15023383107217,
          350.15023383107217,
          350.15023383107217,
          350.15023383107217,
          350.15023383107217,
          350.15023383107217,
          350.15023383107217,
          350.15023383107217,
          350.15023383107217,
          350.15023383107217,
          350.15023383107217,
          350.15023383107217,
          350.15023383107217,
          350.15023383107217,
          350.15023383107217,
          350.4440541257333,
          350.4440541257333,
          350.4440541257333,
          350.4440541257333,
          350.4440541257333,
          350.4440541257333,
          350.4440541257333,
          350.4440541257333,
          350.4440541257333,
          350.4440541257333,
          350.4440541257333,
          350.4440541257333,
          350.4440541257333,
          350.4440541257333,
          350.4440541257333,
          350.4440541257333,
          350.4440541257333,
          350.4440541257333,
          350.73787442039435,
          350.73787442039435,
          350.73787442039435,
          350.73787442039435,
          350.73787442039435,
          350.73787442039435,
          350.73787442039435,
          350.73787442039435,
          350.73787442039435,
          350.73787442039435,
          350.73787442039435,
          350.73787442039435,
          350.73787442039435,
          350.73787442039435,
          350.73787442039435,
          350.73787442039435,
          350.73787442039435,
          350.73787442039435,
          350.73787442039435,
          350.73787442039435,
          351.0316947150555,
          351.0316947150555,
          351.0316947150555,
          351.0316947150555,
          351.0316947150555,
          351.0316947150555,
          351.0316947150555,
          351.0316947150555,
          351.0316947150555,
          351.0316947150555,
          351.0316947150555,
          351.0316947150555,
          351.0316947150555,
          351.0316947150555,
          351.0316947150555,
          351.0316947150555,
          351.0316947150555,
          351.0316947150555,
          351.0316947150555,
          351.32551500971664,
          351.32551500971664,
          351.32551500971664,
          351.32551500971664,
          351.32551500971664,
          351.32551500971664,
          351.32551500971664,
          351.32551500971664,
          351.32551500971664,
          351.32551500971664,
          351.32551500971664,
          351.32551500971664,
          351.32551500971664,
          351.32551500971664,
          351.32551500971664,
          351.32551500971664,
          351.32551500971664,
          351.32551500971664,
          351.32551500971664,
          351.6193353043778,
          351.6193353043778,
          351.6193353043778,
          351.6193353043778,
          351.6193353043778,
          351.6193353043778,
          351.6193353043778,
          351.6193353043778,
          351.6193353043778,
          351.6193353043778,
          351.6193353043778,
          351.6193353043778,
          351.6193353043778,
          351.6193353043778,
          351.6193353043778,
          351.6193353043778,
          351.6193353043778,
          351.6193353043778,
          351.6193353043778,
          351.91315559903893,
          351.91315559903893,
          351.91315559903893,
          351.91315559903893,
          351.91315559903893,
          351.91315559903893,
          351.91315559903893,
          351.91315559903893,
          351.91315559903893,
          351.91315559903893,
          351.91315559903893,
          351.91315559903893,
          351.91315559903893,
          351.91315559903893,
          351.91315559903893,
          351.91315559903893,
          351.91315559903893,
          351.91315559903893,
          351.91315559903893,
          352.2069758937001,
          352.2069758937001,
          352.2069758937001,
          352.2069758937001,
          352.2069758937001,
          352.2069758937001,
          352.2069758937001,
          352.2069758937001,
          352.2069758937001,
          352.2069758937001,
          352.2069758937001,
          352.2069758937001,
          352.2069758937001,
          352.2069758937001,
          352.2069758937001,
          352.2069758937001,
          352.2069758937001,
          352.2069758937001,
          352.2069758937001,
          352.5007961883612,
          352.5007961883612,
          352.5007961883612,
          352.5007961883612,
          352.5007961883612,
          352.5007961883612,
          352.5007961883612,
          352.5007961883612,
          352.5007961883612,
          352.5007961883612,
          352.5007961883612,
          352.5007961883612,
          352.5007961883612,
          352.5007961883612,
          352.5007961883612,
          352.5007961883612,
          352.5007961883612,
          352.5007961883612,
          352.5007961883612,
          352.5007961883612,
          352.79461648302225,
          352.79461648302225,
          352.79461648302225,
          352.79461648302225,
          352.79461648302225,
          352.79461648302225,
          352.79461648302225,
          352.79461648302225,
          352.79461648302225,
          352.79461648302225,
          352.79461648302225,
          352.79461648302225,
          352.79461648302225,
          352.79461648302225,
          352.79461648302225,
          352.79461648302225,
          352.79461648302225,
          352.79461648302225,
          352.79461648302225,
          353.0884367776834,
          353.0884367776834,
          353.0884367776834,
          353.0884367776834,
          353.0884367776834,
          353.0884367776834,
          353.0884367776834,
          353.0884367776834,
          353.0884367776834,
          353.0884367776834,
          353.0884367776834,
          353.0884367776834,
          353.0884367776834,
          353.0884367776834,
          353.0884367776834,
          353.0884367776834,
          353.0884367776834,
          353.0884367776834,
          353.0884367776834,
          353.38225707234454,
          353.38225707234454,
          353.38225707234454,
          353.38225707234454,
          353.38225707234454,
          353.38225707234454,
          353.38225707234454,
          353.38225707234454,
          353.38225707234454,
          353.38225707234454,
          353.38225707234454,
          353.38225707234454,
          353.38225707234454,
          353.38225707234454,
          353.38225707234454,
          353.38225707234454,
          353.38225707234454,
          353.38225707234454,
          353.38225707234454,
          353.38225707234454
         ],
         "yaxis": "y"
        }
       ],
       "layout": {
        "coloraxis": {
         "colorbar": {
          "title": {
           "text": "stage_distance"
          }
         },
         "colorscale": [
          [
           0,
           "#0d0887"
          ],
          [
           0.1111111111111111,
           "#46039f"
          ],
          [
           0.2222222222222222,
           "#7201a8"
          ],
          [
           0.3333333333333333,
           "#9c179e"
          ],
          [
           0.4444444444444444,
           "#bd3786"
          ],
          [
           0.5555555555555556,
           "#d8576b"
          ],
          [
           0.6666666666666666,
           "#ed7953"
          ],
          [
           0.7777777777777778,
           "#fb9f3a"
          ],
          [
           0.8888888888888888,
           "#fdca26"
          ],
          [
           1,
           "#f0f921"
          ]
         ]
        },
        "legend": {
         "tracegroupgap": 0
        },
        "margin": {
         "t": 60
        },
        "template": {
         "data": {
          "bar": [
           {
            "error_x": {
             "color": "#2a3f5f"
            },
            "error_y": {
             "color": "#2a3f5f"
            },
            "marker": {
             "line": {
              "color": "#E5ECF6",
              "width": 0.5
             },
             "pattern": {
              "fillmode": "overlay",
              "size": 10,
              "solidity": 0.2
             }
            },
            "type": "bar"
           }
          ],
          "barpolar": [
           {
            "marker": {
             "line": {
              "color": "#E5ECF6",
              "width": 0.5
             },
             "pattern": {
              "fillmode": "overlay",
              "size": 10,
              "solidity": 0.2
             }
            },
            "type": "barpolar"
           }
          ],
          "carpet": [
           {
            "aaxis": {
             "endlinecolor": "#2a3f5f",
             "gridcolor": "white",
             "linecolor": "white",
             "minorgridcolor": "white",
             "startlinecolor": "#2a3f5f"
            },
            "baxis": {
             "endlinecolor": "#2a3f5f",
             "gridcolor": "white",
             "linecolor": "white",
             "minorgridcolor": "white",
             "startlinecolor": "#2a3f5f"
            },
            "type": "carpet"
           }
          ],
          "choropleth": [
           {
            "colorbar": {
             "outlinewidth": 0,
             "ticks": ""
            },
            "type": "choropleth"
           }
          ],
          "contour": [
           {
            "colorbar": {
             "outlinewidth": 0,
             "ticks": ""
            },
            "colorscale": [
             [
              0,
              "#0d0887"
             ],
             [
              0.1111111111111111,
              "#46039f"
             ],
             [
              0.2222222222222222,
              "#7201a8"
             ],
             [
              0.3333333333333333,
              "#9c179e"
             ],
             [
              0.4444444444444444,
              "#bd3786"
             ],
             [
              0.5555555555555556,
              "#d8576b"
             ],
             [
              0.6666666666666666,
              "#ed7953"
             ],
             [
              0.7777777777777778,
              "#fb9f3a"
             ],
             [
              0.8888888888888888,
              "#fdca26"
             ],
             [
              1,
              "#f0f921"
             ]
            ],
            "type": "contour"
           }
          ],
          "contourcarpet": [
           {
            "colorbar": {
             "outlinewidth": 0,
             "ticks": ""
            },
            "type": "contourcarpet"
           }
          ],
          "heatmap": [
           {
            "colorbar": {
             "outlinewidth": 0,
             "ticks": ""
            },
            "colorscale": [
             [
              0,
              "#0d0887"
             ],
             [
              0.1111111111111111,
              "#46039f"
             ],
             [
              0.2222222222222222,
              "#7201a8"
             ],
             [
              0.3333333333333333,
              "#9c179e"
             ],
             [
              0.4444444444444444,
              "#bd3786"
             ],
             [
              0.5555555555555556,
              "#d8576b"
             ],
             [
              0.6666666666666666,
              "#ed7953"
             ],
             [
              0.7777777777777778,
              "#fb9f3a"
             ],
             [
              0.8888888888888888,
              "#fdca26"
             ],
             [
              1,
              "#f0f921"
             ]
            ],
            "type": "heatmap"
           }
          ],
          "heatmapgl": [
           {
            "colorbar": {
             "outlinewidth": 0,
             "ticks": ""
            },
            "colorscale": [
             [
              0,
              "#0d0887"
             ],
             [
              0.1111111111111111,
              "#46039f"
             ],
             [
              0.2222222222222222,
              "#7201a8"
             ],
             [
              0.3333333333333333,
              "#9c179e"
             ],
             [
              0.4444444444444444,
              "#bd3786"
             ],
             [
              0.5555555555555556,
              "#d8576b"
             ],
             [
              0.6666666666666666,
              "#ed7953"
             ],
             [
              0.7777777777777778,
              "#fb9f3a"
             ],
             [
              0.8888888888888888,
              "#fdca26"
             ],
             [
              1,
              "#f0f921"
             ]
            ],
            "type": "heatmapgl"
           }
          ],
          "histogram": [
           {
            "marker": {
             "pattern": {
              "fillmode": "overlay",
              "size": 10,
              "solidity": 0.2
             }
            },
            "type": "histogram"
           }
          ],
          "histogram2d": [
           {
            "colorbar": {
             "outlinewidth": 0,
             "ticks": ""
            },
            "colorscale": [
             [
              0,
              "#0d0887"
             ],
             [
              0.1111111111111111,
              "#46039f"
             ],
             [
              0.2222222222222222,
              "#7201a8"
             ],
             [
              0.3333333333333333,
              "#9c179e"
             ],
             [
              0.4444444444444444,
              "#bd3786"
             ],
             [
              0.5555555555555556,
              "#d8576b"
             ],
             [
              0.6666666666666666,
              "#ed7953"
             ],
             [
              0.7777777777777778,
              "#fb9f3a"
             ],
             [
              0.8888888888888888,
              "#fdca26"
             ],
             [
              1,
              "#f0f921"
             ]
            ],
            "type": "histogram2d"
           }
          ],
          "histogram2dcontour": [
           {
            "colorbar": {
             "outlinewidth": 0,
             "ticks": ""
            },
            "colorscale": [
             [
              0,
              "#0d0887"
             ],
             [
              0.1111111111111111,
              "#46039f"
             ],
             [
              0.2222222222222222,
              "#7201a8"
             ],
             [
              0.3333333333333333,
              "#9c179e"
             ],
             [
              0.4444444444444444,
              "#bd3786"
             ],
             [
              0.5555555555555556,
              "#d8576b"
             ],
             [
              0.6666666666666666,
              "#ed7953"
             ],
             [
              0.7777777777777778,
              "#fb9f3a"
             ],
             [
              0.8888888888888888,
              "#fdca26"
             ],
             [
              1,
              "#f0f921"
             ]
            ],
            "type": "histogram2dcontour"
           }
          ],
          "mesh3d": [
           {
            "colorbar": {
             "outlinewidth": 0,
             "ticks": ""
            },
            "type": "mesh3d"
           }
          ],
          "parcoords": [
           {
            "line": {
             "colorbar": {
              "outlinewidth": 0,
              "ticks": ""
             }
            },
            "type": "parcoords"
           }
          ],
          "pie": [
           {
            "automargin": true,
            "type": "pie"
           }
          ],
          "scatter": [
           {
            "fillpattern": {
             "fillmode": "overlay",
             "size": 10,
             "solidity": 0.2
            },
            "type": "scatter"
           }
          ],
          "scatter3d": [
           {
            "line": {
             "colorbar": {
              "outlinewidth": 0,
              "ticks": ""
             }
            },
            "marker": {
             "colorbar": {
              "outlinewidth": 0,
              "ticks": ""
             }
            },
            "type": "scatter3d"
           }
          ],
          "scattercarpet": [
           {
            "marker": {
             "colorbar": {
              "outlinewidth": 0,
              "ticks": ""
             }
            },
            "type": "scattercarpet"
           }
          ],
          "scattergeo": [
           {
            "marker": {
             "colorbar": {
              "outlinewidth": 0,
              "ticks": ""
             }
            },
            "type": "scattergeo"
           }
          ],
          "scattergl": [
           {
            "marker": {
             "colorbar": {
              "outlinewidth": 0,
              "ticks": ""
             }
            },
            "type": "scattergl"
           }
          ],
          "scattermapbox": [
           {
            "marker": {
             "colorbar": {
              "outlinewidth": 0,
              "ticks": ""
             }
            },
            "type": "scattermapbox"
           }
          ],
          "scatterpolar": [
           {
            "marker": {
             "colorbar": {
              "outlinewidth": 0,
              "ticks": ""
             }
            },
            "type": "scatterpolar"
           }
          ],
          "scatterpolargl": [
           {
            "marker": {
             "colorbar": {
              "outlinewidth": 0,
              "ticks": ""
             }
            },
            "type": "scatterpolargl"
           }
          ],
          "scatterternary": [
           {
            "marker": {
             "colorbar": {
              "outlinewidth": 0,
              "ticks": ""
             }
            },
            "type": "scatterternary"
           }
          ],
          "surface": [
           {
            "colorbar": {
             "outlinewidth": 0,
             "ticks": ""
            },
            "colorscale": [
             [
              0,
              "#0d0887"
             ],
             [
              0.1111111111111111,
              "#46039f"
             ],
             [
              0.2222222222222222,
              "#7201a8"
             ],
             [
              0.3333333333333333,
              "#9c179e"
             ],
             [
              0.4444444444444444,
              "#bd3786"
             ],
             [
              0.5555555555555556,
              "#d8576b"
             ],
             [
              0.6666666666666666,
              "#ed7953"
             ],
             [
              0.7777777777777778,
              "#fb9f3a"
             ],
             [
              0.8888888888888888,
              "#fdca26"
             ],
             [
              1,
              "#f0f921"
             ]
            ],
            "type": "surface"
           }
          ],
          "table": [
           {
            "cells": {
             "fill": {
              "color": "#EBF0F8"
             },
             "line": {
              "color": "white"
             }
            },
            "header": {
             "fill": {
              "color": "#C8D4E3"
             },
             "line": {
              "color": "white"
             }
            },
            "type": "table"
           }
          ]
         },
         "layout": {
          "annotationdefaults": {
           "arrowcolor": "#2a3f5f",
           "arrowhead": 0,
           "arrowwidth": 1
          },
          "autotypenumbers": "strict",
          "coloraxis": {
           "colorbar": {
            "outlinewidth": 0,
            "ticks": ""
           }
          },
          "colorscale": {
           "diverging": [
            [
             0,
             "#8e0152"
            ],
            [
             0.1,
             "#c51b7d"
            ],
            [
             0.2,
             "#de77ae"
            ],
            [
             0.3,
             "#f1b6da"
            ],
            [
             0.4,
             "#fde0ef"
            ],
            [
             0.5,
             "#f7f7f7"
            ],
            [
             0.6,
             "#e6f5d0"
            ],
            [
             0.7,
             "#b8e186"
            ],
            [
             0.8,
             "#7fbc41"
            ],
            [
             0.9,
             "#4d9221"
            ],
            [
             1,
             "#276419"
            ]
           ],
           "sequential": [
            [
             0,
             "#0d0887"
            ],
            [
             0.1111111111111111,
             "#46039f"
            ],
            [
             0.2222222222222222,
             "#7201a8"
            ],
            [
             0.3333333333333333,
             "#9c179e"
            ],
            [
             0.4444444444444444,
             "#bd3786"
            ],
            [
             0.5555555555555556,
             "#d8576b"
            ],
            [
             0.6666666666666666,
             "#ed7953"
            ],
            [
             0.7777777777777778,
             "#fb9f3a"
            ],
            [
             0.8888888888888888,
             "#fdca26"
            ],
            [
             1,
             "#f0f921"
            ]
           ],
           "sequentialminus": [
            [
             0,
             "#0d0887"
            ],
            [
             0.1111111111111111,
             "#46039f"
            ],
            [
             0.2222222222222222,
             "#7201a8"
            ],
            [
             0.3333333333333333,
             "#9c179e"
            ],
            [
             0.4444444444444444,
             "#bd3786"
            ],
            [
             0.5555555555555556,
             "#d8576b"
            ],
            [
             0.6666666666666666,
             "#ed7953"
            ],
            [
             0.7777777777777778,
             "#fb9f3a"
            ],
            [
             0.8888888888888888,
             "#fdca26"
            ],
            [
             1,
             "#f0f921"
            ]
           ]
          },
          "colorway": [
           "#636efa",
           "#EF553B",
           "#00cc96",
           "#ab63fa",
           "#FFA15A",
           "#19d3f3",
           "#FF6692",
           "#B6E880",
           "#FF97FF",
           "#FECB52"
          ],
          "font": {
           "color": "#2a3f5f"
          },
          "geo": {
           "bgcolor": "white",
           "lakecolor": "white",
           "landcolor": "#E5ECF6",
           "showlakes": true,
           "showland": true,
           "subunitcolor": "white"
          },
          "hoverlabel": {
           "align": "left"
          },
          "hovermode": "closest",
          "mapbox": {
           "style": "light"
          },
          "paper_bgcolor": "white",
          "plot_bgcolor": "#E5ECF6",
          "polar": {
           "angularaxis": {
            "gridcolor": "white",
            "linecolor": "white",
            "ticks": ""
           },
           "bgcolor": "#E5ECF6",
           "radialaxis": {
            "gridcolor": "white",
            "linecolor": "white",
            "ticks": ""
           }
          },
          "scene": {
           "xaxis": {
            "backgroundcolor": "#E5ECF6",
            "gridcolor": "white",
            "gridwidth": 2,
            "linecolor": "white",
            "showbackground": true,
            "ticks": "",
            "zerolinecolor": "white"
           },
           "yaxis": {
            "backgroundcolor": "#E5ECF6",
            "gridcolor": "white",
            "gridwidth": 2,
            "linecolor": "white",
            "showbackground": true,
            "ticks": "",
            "zerolinecolor": "white"
           },
           "zaxis": {
            "backgroundcolor": "#E5ECF6",
            "gridcolor": "white",
            "gridwidth": 2,
            "linecolor": "white",
            "showbackground": true,
            "ticks": "",
            "zerolinecolor": "white"
           }
          },
          "shapedefaults": {
           "line": {
            "color": "#2a3f5f"
           }
          },
          "ternary": {
           "aaxis": {
            "gridcolor": "white",
            "linecolor": "white",
            "ticks": ""
           },
           "baxis": {
            "gridcolor": "white",
            "linecolor": "white",
            "ticks": ""
           },
           "bgcolor": "#E5ECF6",
           "caxis": {
            "gridcolor": "white",
            "linecolor": "white",
            "ticks": ""
           }
          },
          "title": {
           "x": 0.05
          },
          "xaxis": {
           "automargin": true,
           "gridcolor": "white",
           "linecolor": "white",
           "ticks": "",
           "title": {
            "standoff": 15
           },
           "zerolinecolor": "white",
           "zerolinewidth": 2
          },
          "yaxis": {
           "automargin": true,
           "gridcolor": "white",
           "linecolor": "white",
           "ticks": "",
           "title": {
            "standoff": 15
           },
           "zerolinecolor": "white",
           "zerolinewidth": 2
          }
         }
        },
        "xaxis": {
         "anchor": "y",
         "domain": [
          0,
          1
         ],
         "title": {
          "text": "year"
         }
        },
        "yaxis": {
         "anchor": "x",
         "domain": [
          0,
          1
         ],
         "title": {
          "text": "power"
         }
        }
       }
      }
     },
     "metadata": {},
     "output_type": "display_data"
    }
   ],
   "source": [
    "px.scatter(df[(df.stage_distance > 50) & (df.stage_type != \"ITT\")], x=\"year\", y=\"power\", hover_data=\"stage_url\", color=\"stage_distance\", trendline=\"ols\")\n"
   ]
  },
  {
   "cell_type": "code",
   "execution_count": 82,
   "metadata": {},
   "outputs": [
    {
     "data": {
      "application/vnd.plotly.v1+json": {
       "config": {
        "plotlyServerURL": "https://plot.ly"
       },
       "data": [
        {
         "alignmentgroup": "True",
         "customdata": [
          [
           "https://www.procyclingstats.com/race/tour-de-france/1985/stage-1"
          ],
          [
           "https://www.procyclingstats.com/race/tour-de-france/1985/stage-2"
          ],
          [
           "https://www.procyclingstats.com/race/tour-de-france/1985/stage-4"
          ],
          [
           "https://www.procyclingstats.com/race/tour-de-france/1985/stage-5"
          ],
          [
           "https://www.procyclingstats.com/race/tour-de-france/1985/stage-6"
          ],
          [
           "https://www.procyclingstats.com/race/tour-de-france/1985/stage-7"
          ],
          [
           "https://www.procyclingstats.com/race/tour-de-france/1985/stage-9"
          ],
          [
           "https://www.procyclingstats.com/race/tour-de-france/1985/stage-10"
          ],
          [
           "https://www.procyclingstats.com/race/tour-de-france/1985/stage-11"
          ],
          [
           "https://www.procyclingstats.com/race/tour-de-france/1985/stage-12"
          ],
          [
           "https://www.procyclingstats.com/race/tour-de-france/1985/stage-14"
          ],
          [
           "https://www.procyclingstats.com/race/tour-de-france/1985/stage-15"
          ],
          [
           "https://www.procyclingstats.com/race/tour-de-france/1985/stage-16"
          ],
          [
           "https://www.procyclingstats.com/race/tour-de-france/1985/stage-17"
          ],
          [
           "https://www.procyclingstats.com/race/tour-de-france/1985/stage-18a"
          ],
          [
           "https://www.procyclingstats.com/race/tour-de-france/1985/stage-18b"
          ],
          [
           "https://www.procyclingstats.com/race/tour-de-france/1985/stage-19"
          ],
          [
           "https://www.procyclingstats.com/race/tour-de-france/1985/stage-20"
          ],
          [
           "https://www.procyclingstats.com/race/tour-de-france/1985/stage-22"
          ]
         ],
         "hovertemplate": "year=%{x}<br>power=%{y}<br>stage_url=%{customdata[0]}<extra></extra>",
         "legendgroup": "1985",
         "marker": {
          "color": "#636efa"
         },
         "name": "1985",
         "notched": false,
         "offsetgroup": "1985",
         "orientation": "v",
         "showlegend": true,
         "type": "box",
         "x": [
          1985,
          1985,
          1985,
          1985,
          1985,
          1985,
          1985,
          1985,
          1985,
          1985,
          1985,
          1985,
          1985,
          1985,
          1985,
          1985,
          1985,
          1985,
          1985
         ],
         "x0": " ",
         "xaxis": "x",
         "y": [
          343.0786959692436,
          297.7061528964386,
          285.7981541250865,
          221.2047367856856,
          227.34419739979663,
          165.84584435632996,
          234.97172593939467,
          396.40045233968624,
          397.51672024486095,
          374.70026006820456,
          306.17701769835395,
          283.2574275489217,
          193.25593456286288,
          315.4993932088043,
          493.4330946920642,
          419.1963600088864,
          222.95032693868575,
          196.3653295169792,
          350.8883973134021
         ],
         "y0": " ",
         "yaxis": "y"
        },
        {
         "alignmentgroup": "True",
         "customdata": [
          [
           "https://www.procyclingstats.com/race/tour-de-france/1986/stage-1"
          ],
          [
           "https://www.procyclingstats.com/race/tour-de-france/1986/stage-3"
          ],
          [
           "https://www.procyclingstats.com/race/tour-de-france/1986/stage-4"
          ],
          [
           "https://www.procyclingstats.com/race/tour-de-france/1986/stage-5"
          ],
          [
           "https://www.procyclingstats.com/race/tour-de-france/1986/stage-6"
          ],
          [
           "https://www.procyclingstats.com/race/tour-de-france/1986/stage-7"
          ],
          [
           "https://www.procyclingstats.com/race/tour-de-france/1986/stage-8"
          ],
          [
           "https://www.procyclingstats.com/race/tour-de-france/1986/stage-10"
          ],
          [
           "https://www.procyclingstats.com/race/tour-de-france/1986/stage-11"
          ],
          [
           "https://www.procyclingstats.com/race/tour-de-france/1986/stage-12"
          ],
          [
           "https://www.procyclingstats.com/race/tour-de-france/1986/stage-13"
          ],
          [
           "https://www.procyclingstats.com/race/tour-de-france/1986/stage-14"
          ],
          [
           "https://www.procyclingstats.com/race/tour-de-france/1986/stage-15"
          ],
          [
           "https://www.procyclingstats.com/race/tour-de-france/1986/stage-16"
          ],
          [
           "https://www.procyclingstats.com/race/tour-de-france/1986/stage-17"
          ],
          [
           "https://www.procyclingstats.com/race/tour-de-france/1986/stage-18"
          ],
          [
           "https://www.procyclingstats.com/race/tour-de-france/1986/stage-19"
          ],
          [
           "https://www.procyclingstats.com/race/tour-de-france/1986/stage-21"
          ],
          [
           "https://www.procyclingstats.com/race/tour-de-france/1986/stage-22"
          ],
          [
           "https://www.procyclingstats.com/race/tour-de-france/1986/stage-23"
          ]
         ],
         "hovertemplate": "year=%{x}<br>power=%{y}<br>stage_url=%{customdata[0]}<extra></extra>",
         "legendgroup": "1986",
         "marker": {
          "color": "#EF553B"
         },
         "name": "1986",
         "notched": false,
         "offsetgroup": "1986",
         "orientation": "v",
         "showlegend": true,
         "type": "box",
         "x": [
          1986,
          1986,
          1986,
          1986,
          1986,
          1986,
          1986,
          1986,
          1986,
          1986,
          1986,
          1986,
          1986,
          1986,
          1986,
          1986,
          1986,
          1986,
          1986,
          1986
         ],
         "x0": " ",
         "xaxis": "x",
         "y": [
          254.81903490815705,
          264.3628911398,
          231.74637774748305,
          212.64256943795488,
          229.1403897577572,
          360.2406556332411,
          410.822506737042,
          334.20853011531744,
          341.995127636262,
          377.99995178618224,
          389.3073349893262,
          291.4133794419473,
          285.85346109532185,
          124.20085579782312,
          430.42778164595416,
          511.161564946936,
          307.7917459698285,
          336.8118043705938,
          258.33738660105223,
          240.52832087703976
         ],
         "y0": " ",
         "yaxis": "y"
        },
        {
         "alignmentgroup": "True",
         "customdata": [
          [
           "https://www.procyclingstats.com/race/tour-de-france/1987/stage-1"
          ],
          [
           "https://www.procyclingstats.com/race/tour-de-france/1987/stage-3"
          ],
          [
           "https://www.procyclingstats.com/race/tour-de-france/1987/stage-4"
          ],
          [
           "https://www.procyclingstats.com/race/tour-de-france/1987/stage-5"
          ],
          [
           "https://www.procyclingstats.com/race/tour-de-france/1987/stage-6"
          ],
          [
           "https://www.procyclingstats.com/race/tour-de-france/1987/stage-7"
          ],
          [
           "https://www.procyclingstats.com/race/tour-de-france/1987/stage-8"
          ],
          [
           "https://www.procyclingstats.com/race/tour-de-france/1987/stage-9"
          ],
          [
           "https://www.procyclingstats.com/race/tour-de-france/1987/stage-11"
          ],
          [
           "https://www.procyclingstats.com/race/tour-de-france/1987/stage-12"
          ],
          [
           "https://www.procyclingstats.com/race/tour-de-france/1987/stage-13"
          ],
          [
           "https://www.procyclingstats.com/race/tour-de-france/1987/stage-14"
          ],
          [
           "https://www.procyclingstats.com/race/tour-de-france/1987/stage-15"
          ],
          [
           "https://www.procyclingstats.com/race/tour-de-france/1987/stage-16"
          ],
          [
           "https://www.procyclingstats.com/race/tour-de-france/1987/stage-17"
          ],
          [
           "https://www.procyclingstats.com/race/tour-de-france/1987/stage-19"
          ],
          [
           "https://www.procyclingstats.com/race/tour-de-france/1987/stage-20"
          ],
          [
           "https://www.procyclingstats.com/race/tour-de-france/1987/stage-21"
          ],
          [
           "https://www.procyclingstats.com/race/tour-de-france/1987/stage-22"
          ],
          [
           "https://www.procyclingstats.com/race/tour-de-france/1987/stage-23"
          ],
          [
           "https://www.procyclingstats.com/race/tour-de-france/1987/stage-25"
          ]
         ],
         "hovertemplate": "year=%{x}<br>power=%{y}<br>stage_url=%{customdata[0]}<extra></extra>",
         "legendgroup": "1987",
         "marker": {
          "color": "#00cc96"
         },
         "name": "1987",
         "notched": false,
         "offsetgroup": "1987",
         "orientation": "v",
         "showlegend": true,
         "type": "box",
         "x": [
          1987,
          1987,
          1987,
          1987,
          1987,
          1987,
          1987,
          1987,
          1987,
          1987,
          1987,
          1987,
          1987,
          1987,
          1987,
          1987,
          1987,
          1987,
          1987,
          1987,
          1987
         ],
         "x0": " ",
         "xaxis": "x",
         "y": [
          499.2504541699037,
          null,
          257.5468326923848,
          284.530512741133,
          321.22050968442375,
          343.34538833185525,
          264.78896618786774,
          236.2637391776633,
          166.75797382940658,
          320.8922172246981,
          371.2774251992011,
          453.9495074002194,
          200.9568547592649,
          257.5101758985875,
          184.09900779950627,
          429.8763364477297,
          431.85605276833456,
          448.07122393516056,
          371.6045743253316,
          120.65430263562668,
          293.5832671729561
         ],
         "y0": " ",
         "yaxis": "y"
        },
        {
         "alignmentgroup": "True",
         "customdata": [
          [
           "https://www.procyclingstats.com/race/tour-de-france/1988/stage-1"
          ],
          [
           "https://www.procyclingstats.com/race/tour-de-france/1988/stage-3"
          ],
          [
           "https://www.procyclingstats.com/race/tour-de-france/1988/stage-4"
          ],
          [
           "https://www.procyclingstats.com/race/tour-de-france/1988/stage-5"
          ],
          [
           "https://www.procyclingstats.com/race/tour-de-france/1988/stage-7"
          ],
          [
           "https://www.procyclingstats.com/race/tour-de-france/1988/stage-8"
          ],
          [
           "https://www.procyclingstats.com/race/tour-de-france/1988/stage-9"
          ],
          [
           "https://www.procyclingstats.com/race/tour-de-france/1988/stage-10"
          ],
          [
           "https://www.procyclingstats.com/race/tour-de-france/1988/stage-11"
          ],
          [
           "https://www.procyclingstats.com/race/tour-de-france/1988/stage-12"
          ],
          [
           "https://www.procyclingstats.com/race/tour-de-france/1988/stage-14"
          ],
          [
           "https://www.procyclingstats.com/race/tour-de-france/1988/stage-15"
          ],
          [
           "https://www.procyclingstats.com/race/tour-de-france/1988/stage-17"
          ],
          [
           "https://www.procyclingstats.com/race/tour-de-france/1988/stage-18"
          ],
          [
           "https://www.procyclingstats.com/race/tour-de-france/1988/stage-19"
          ],
          [
           "https://www.procyclingstats.com/race/tour-de-france/1988/stage-20"
          ],
          [
           "https://www.procyclingstats.com/race/tour-de-france/1988/stage-22"
          ]
         ],
         "hovertemplate": "year=%{x}<br>power=%{y}<br>stage_url=%{customdata[0]}<extra></extra>",
         "legendgroup": "1988",
         "marker": {
          "color": "#ab63fa"
         },
         "name": "1988",
         "notched": false,
         "offsetgroup": "1988",
         "orientation": "v",
         "showlegend": true,
         "type": "box",
         "x": [
          1988,
          1988,
          1988,
          1988,
          1988,
          1988,
          1988,
          1988,
          1988,
          1988,
          1988,
          1988,
          1988,
          1988,
          1988,
          1988,
          1988
         ],
         "x0": " ",
         "xaxis": "x",
         "y": [
          296.9863263175012,
          388.9676227303584,
          306.81066894873976,
          449.3231081988809,
          353.1952020036204,
          211.6538443718881,
          358.0726407720233,
          275.2930750132156,
          221.38659439520077,
          471.9377941150842,
          388.50459052144686,
          421.8866677695392,
          339.70571646268246,
          254.7480684924832,
          348.2549645134926,
          167.4304056022803,
          249.9988325216657
         ],
         "y0": " ",
         "yaxis": "y"
        },
        {
         "alignmentgroup": "True",
         "customdata": [
          [
           "https://www.procyclingstats.com/race/tour-de-france/1989/stage-1"
          ],
          [
           "https://www.procyclingstats.com/race/tour-de-france/1989/stage-3"
          ],
          [
           "https://www.procyclingstats.com/race/tour-de-france/1989/stage-4"
          ],
          [
           "https://www.procyclingstats.com/race/tour-de-france/1989/stage-6"
          ],
          [
           "https://www.procyclingstats.com/race/tour-de-france/1989/stage-7"
          ],
          [
           "https://www.procyclingstats.com/race/tour-de-france/1989/stage-8"
          ],
          [
           "https://www.procyclingstats.com/race/tour-de-france/1989/stage-9"
          ],
          [
           "https://www.procyclingstats.com/race/tour-de-france/1989/stage-10"
          ],
          [
           "https://www.procyclingstats.com/race/tour-de-france/1989/stage-11"
          ],
          [
           "https://www.procyclingstats.com/race/tour-de-france/1989/stage-12"
          ],
          [
           "https://www.procyclingstats.com/race/tour-de-france/1989/stage-13"
          ],
          [
           "https://www.procyclingstats.com/race/tour-de-france/1989/stage-14"
          ],
          [
           "https://www.procyclingstats.com/race/tour-de-france/1989/stage-16"
          ],
          [
           "https://www.procyclingstats.com/race/tour-de-france/1989/stage-17"
          ],
          [
           "https://www.procyclingstats.com/race/tour-de-france/1989/stage-18"
          ],
          [
           "https://www.procyclingstats.com/race/tour-de-france/1989/stage-19"
          ],
          [
           "https://www.procyclingstats.com/race/tour-de-france/1989/stage-20"
          ]
         ],
         "hovertemplate": "year=%{x}<br>power=%{y}<br>stage_url=%{customdata[0]}<extra></extra>",
         "legendgroup": "1989",
         "marker": {
          "color": "#FFA15A"
         },
         "name": "1989",
         "notched": false,
         "offsetgroup": "1989",
         "orientation": "v",
         "showlegend": true,
         "type": "box",
         "x": [
          1989,
          1989,
          1989,
          1989,
          1989,
          1989,
          1989,
          1989,
          1989,
          1989,
          1989,
          1989,
          1989,
          1989,
          1989,
          1989,
          1989
         ],
         "x0": " ",
         "xaxis": "x",
         "y": [
          226.76401138914585,
          180.0952128826598,
          332.98375965238023,
          252.66379657259708,
          213.383812761596,
          222.4127803322144,
          493.91650219336935,
          512.494057235048,
          270.8701053328384,
          211.3159150712474,
          223.20691789995607,
          196.659949060782,
          469.9600662554796,
          495.1400398794032,
          444.8220788934216,
          420.2052974389888,
          287.5877666616943
         ],
         "y0": " ",
         "yaxis": "y"
        },
        {
         "alignmentgroup": "True",
         "customdata": [
          [
           "https://www.procyclingstats.com/race/tour-de-france/1990/stage-1"
          ],
          [
           "https://www.procyclingstats.com/race/tour-de-france/1990/stage-3"
          ],
          [
           "https://www.procyclingstats.com/race/tour-de-france/1990/stage-4"
          ],
          [
           "https://www.procyclingstats.com/race/tour-de-france/1990/stage-5"
          ],
          [
           "https://www.procyclingstats.com/race/tour-de-france/1990/stage-6"
          ],
          [
           "https://www.procyclingstats.com/race/tour-de-france/1990/stage-8"
          ],
          [
           "https://www.procyclingstats.com/race/tour-de-france/1990/stage-9"
          ],
          [
           "https://www.procyclingstats.com/race/tour-de-france/1990/stage-10"
          ],
          [
           "https://www.procyclingstats.com/race/tour-de-france/1990/stage-11"
          ],
          [
           "https://www.procyclingstats.com/race/tour-de-france/1990/stage-13"
          ],
          [
           "https://www.procyclingstats.com/race/tour-de-france/1990/stage-14"
          ],
          [
           "https://www.procyclingstats.com/race/tour-de-france/1990/stage-15"
          ],
          [
           "https://www.procyclingstats.com/race/tour-de-france/1990/stage-16"
          ],
          [
           "https://www.procyclingstats.com/race/tour-de-france/1990/stage-17"
          ],
          [
           "https://www.procyclingstats.com/race/tour-de-france/1990/stage-18"
          ],
          [
           "https://www.procyclingstats.com/race/tour-de-france/1990/stage-19"
          ],
          [
           "https://www.procyclingstats.com/race/tour-de-france/1990/stage-21"
          ]
         ],
         "hovertemplate": "year=%{x}<br>power=%{y}<br>stage_url=%{customdata[0]}<extra></extra>",
         "legendgroup": "1990",
         "marker": {
          "color": "#19d3f3"
         },
         "name": "1990",
         "notched": false,
         "offsetgroup": "1990",
         "orientation": "v",
         "showlegend": true,
         "type": "box",
         "x": [
          1990,
          1990,
          1990,
          1990,
          1990,
          1990,
          1990,
          1990,
          1990,
          1990,
          1990,
          1990,
          1990,
          1990,
          1990,
          1990,
          1990
         ],
         "x0": " ",
         "xaxis": "x",
         "y": [
          364.9829321260492,
          321.6807560078995,
          287.3400851083018,
          319.32595711431,
          290.02850091386887,
          304.61229689657296,
          231.87848345433665,
          330.40865215776023,
          353.2439319319383,
          268.1936209406175,
          335.28574536597705,
          200.4124304274185,
          250.32962640802572,
          278.1150728635986,
          184.77910574412627,
          195.58818477644192,
          255.35146442083695
         ],
         "y0": " ",
         "yaxis": "y"
        },
        {
         "alignmentgroup": "True",
         "customdata": [
          [
           "https://www.procyclingstats.com/race/tour-de-france/1991/stage-1"
          ],
          [
           "https://www.procyclingstats.com/race/tour-de-france/1991/stage-3"
          ],
          [
           "https://www.procyclingstats.com/race/tour-de-france/1991/stage-4"
          ],
          [
           "https://www.procyclingstats.com/race/tour-de-france/1991/stage-5"
          ],
          [
           "https://www.procyclingstats.com/race/tour-de-france/1991/stage-6"
          ],
          [
           "https://www.procyclingstats.com/race/tour-de-france/1991/stage-7"
          ],
          [
           "https://www.procyclingstats.com/race/tour-de-france/1991/stage-9"
          ],
          [
           "https://www.procyclingstats.com/race/tour-de-france/1991/stage-10"
          ],
          [
           "https://www.procyclingstats.com/race/tour-de-france/1991/stage-11"
          ],
          [
           "https://www.procyclingstats.com/race/tour-de-france/1991/stage-12"
          ],
          [
           "https://www.procyclingstats.com/race/tour-de-france/1991/stage-13"
          ],
          [
           "https://www.procyclingstats.com/race/tour-de-france/1991/stage-14"
          ],
          [
           "https://www.procyclingstats.com/race/tour-de-france/1991/stage-15"
          ],
          [
           "https://www.procyclingstats.com/race/tour-de-france/1991/stage-16"
          ],
          [
           "https://www.procyclingstats.com/race/tour-de-france/1991/stage-17"
          ],
          [
           "https://www.procyclingstats.com/race/tour-de-france/1991/stage-18"
          ],
          [
           "https://www.procyclingstats.com/race/tour-de-france/1991/stage-19"
          ],
          [
           "https://www.procyclingstats.com/race/tour-de-france/1991/stage-20"
          ],
          [
           "https://www.procyclingstats.com/race/tour-de-france/1991/stage-22"
          ]
         ],
         "hovertemplate": "year=%{x}<br>power=%{y}<br>stage_url=%{customdata[0]}<extra></extra>",
         "legendgroup": "1991",
         "marker": {
          "color": "#FF6692"
         },
         "name": "1991",
         "notched": false,
         "offsetgroup": "1991",
         "orientation": "v",
         "showlegend": true,
         "type": "box",
         "x": [
          1991,
          1991,
          1991,
          1991,
          1991,
          1991,
          1991,
          1991,
          1991,
          1991,
          1991,
          1991,
          1991,
          1991,
          1991,
          1991,
          1991,
          1991,
          1991
         ],
         "x0": " ",
         "xaxis": "x",
         "y": [
          519.5396959073445,
          312.85248543040973,
          271.3480991042289,
          439.878568588808,
          309.1776887564065,
          532.7236838741464,
          415.3465685432608,
          300.1485405966169,
          504.7867313451552,
          424.2884405091627,
          537.9251080770727,
          359.75769781647733,
          364.679022962087,
          301.9533421037687,
          null,
          197.36339615536647,
          275.4072676975793,
          213.2708839501591,
          330.41270223458764
         ],
         "y0": " ",
         "yaxis": "y"
        },
        {
         "alignmentgroup": "True",
         "customdata": [
          [
           "https://www.procyclingstats.com/race/tour-de-france/1992/stage-1"
          ],
          [
           "https://www.procyclingstats.com/race/tour-de-france/1992/stage-2"
          ],
          [
           "https://www.procyclingstats.com/race/tour-de-france/1992/stage-3"
          ],
          [
           "https://www.procyclingstats.com/race/tour-de-france/1992/stage-5"
          ],
          [
           "https://www.procyclingstats.com/race/tour-de-france/1992/stage-6"
          ],
          [
           "https://www.procyclingstats.com/race/tour-de-france/1992/stage-7"
          ],
          [
           "https://www.procyclingstats.com/race/tour-de-france/1992/stage-8"
          ],
          [
           "https://www.procyclingstats.com/race/tour-de-france/1992/stage-10"
          ],
          [
           "https://www.procyclingstats.com/race/tour-de-france/1992/stage-11"
          ],
          [
           "https://www.procyclingstats.com/race/tour-de-france/1992/stage-12"
          ],
          [
           "https://www.procyclingstats.com/race/tour-de-france/1992/stage-13"
          ],
          [
           "https://www.procyclingstats.com/race/tour-de-france/1992/stage-14"
          ],
          [
           "https://www.procyclingstats.com/race/tour-de-france/1992/stage-15"
          ],
          [
           "https://www.procyclingstats.com/race/tour-de-france/1992/stage-16"
          ],
          [
           "https://www.procyclingstats.com/race/tour-de-france/1992/stage-17"
          ],
          [
           "https://www.procyclingstats.com/race/tour-de-france/1992/stage-18"
          ],
          [
           "https://www.procyclingstats.com/race/tour-de-france/1992/stage-20"
          ],
          [
           "https://www.procyclingstats.com/race/tour-de-france/1992/stage-21"
          ]
         ],
         "hovertemplate": "year=%{x}<br>power=%{y}<br>stage_url=%{customdata[0]}<extra></extra>",
         "legendgroup": "1992",
         "marker": {
          "color": "#B6E880"
         },
         "name": "1992",
         "notched": false,
         "offsetgroup": "1992",
         "orientation": "v",
         "showlegend": true,
         "type": "box",
         "x": [
          1992,
          1992,
          1992,
          1992,
          1992,
          1992,
          1992,
          1992,
          1992,
          1992,
          1992,
          1992,
          1992,
          1992,
          1992,
          1992,
          1992,
          1992
         ],
         "x0": " ",
         "xaxis": "x",
         "y": [
          284.8158468432912,
          223.25316440145508,
          256.20114099461034,
          480.97402879653714,
          494.8178229515978,
          442.9762849295961,
          412.8804158028015,
          422.7625330342443,
          226.21715208807296,
          108.5378300132101,
          556.7918581443137,
          586.433377941663,
          251.12271117732627,
          204.58515335008923,
          221.80462137254776,
          224.36960983711376,
          149.4557371847177,
          231.16702202017427
         ],
         "y0": " ",
         "yaxis": "y"
        },
        {
         "alignmentgroup": "True",
         "customdata": [
          [
           "https://www.procyclingstats.com/race/tour-de-france/1993/stage-1"
          ],
          [
           "https://www.procyclingstats.com/race/tour-de-france/1993/stage-2"
          ],
          [
           "https://www.procyclingstats.com/race/tour-de-france/1993/stage-3"
          ],
          [
           "https://www.procyclingstats.com/race/tour-de-france/1993/stage-5"
          ],
          [
           "https://www.procyclingstats.com/race/tour-de-france/1993/stage-6"
          ],
          [
           "https://www.procyclingstats.com/race/tour-de-france/1993/stage-7"
          ],
          [
           "https://www.procyclingstats.com/race/tour-de-france/1993/stage-8"
          ],
          [
           "https://www.procyclingstats.com/race/tour-de-france/1993/stage-10"
          ],
          [
           "https://www.procyclingstats.com/race/tour-de-france/1993/stage-11"
          ],
          [
           "https://www.procyclingstats.com/race/tour-de-france/1993/stage-12"
          ],
          [
           "https://www.procyclingstats.com/race/tour-de-france/1993/stage-13"
          ],
          [
           "https://www.procyclingstats.com/race/tour-de-france/1993/stage-14"
          ],
          [
           "https://www.procyclingstats.com/race/tour-de-france/1993/stage-15"
          ],
          [
           "https://www.procyclingstats.com/race/tour-de-france/1993/stage-16"
          ],
          [
           "https://www.procyclingstats.com/race/tour-de-france/1993/stage-17"
          ],
          [
           "https://www.procyclingstats.com/race/tour-de-france/1993/stage-18"
          ],
          [
           "https://www.procyclingstats.com/race/tour-de-france/1993/stage-20"
          ]
         ],
         "hovertemplate": "year=%{x}<br>power=%{y}<br>stage_url=%{customdata[0]}<extra></extra>",
         "legendgroup": "1993",
         "marker": {
          "color": "#FF97FF"
         },
         "name": "1993",
         "notched": false,
         "offsetgroup": "1993",
         "orientation": "v",
         "showlegend": true,
         "type": "box",
         "x": [
          1993,
          1993,
          1993,
          1993,
          1993,
          1993,
          1993,
          1993,
          1993,
          1993,
          1993,
          1993,
          1993,
          1993,
          1993,
          1993,
          1993
         ],
         "x0": " ",
         "xaxis": "x",
         "y": [
          425.1487695305152,
          296.66801116435005,
          354.3607602888218,
          408.0082296969763,
          579.8896817262973,
          450.4771922755564,
          382.93520196997,
          545.6689406588565,
          423.3561258270824,
          214.22048156633912,
          382.7719735506372,
          322.89337921316854,
          482.9843726572152,
          463.7644878497898,
          469.63664638496783,
          271.2895153695291,
          287.29510891640325
         ],
         "y0": " ",
         "yaxis": "y"
        },
        {
         "alignmentgroup": "True",
         "customdata": [
          [
           "https://www.procyclingstats.com/race/tour-de-france/1994/stage-1"
          ],
          [
           "https://www.procyclingstats.com/race/tour-de-france/1994/stage-2"
          ],
          [
           "https://www.procyclingstats.com/race/tour-de-france/1994/stage-4"
          ],
          [
           "https://www.procyclingstats.com/race/tour-de-france/1994/stage-5"
          ],
          [
           "https://www.procyclingstats.com/race/tour-de-france/1994/stage-6"
          ],
          [
           "https://www.procyclingstats.com/race/tour-de-france/1994/stage-7"
          ],
          [
           "https://www.procyclingstats.com/race/tour-de-france/1994/stage-8"
          ],
          [
           "https://www.procyclingstats.com/race/tour-de-france/1994/stage-10"
          ],
          [
           "https://www.procyclingstats.com/race/tour-de-france/1994/stage-11"
          ],
          [
           "https://www.procyclingstats.com/race/tour-de-france/1994/stage-12"
          ],
          [
           "https://www.procyclingstats.com/race/tour-de-france/1994/stage-13"
          ],
          [
           "https://www.procyclingstats.com/race/tour-de-france/1994/stage-14"
          ],
          [
           "https://www.procyclingstats.com/race/tour-de-france/1994/stage-15"
          ],
          [
           "https://www.procyclingstats.com/race/tour-de-france/1994/stage-16"
          ],
          [
           "https://www.procyclingstats.com/race/tour-de-france/1994/stage-17"
          ],
          [
           "https://www.procyclingstats.com/race/tour-de-france/1994/stage-18"
          ],
          [
           "https://www.procyclingstats.com/race/tour-de-france/1994/stage-20"
          ],
          [
           "https://www.procyclingstats.com/race/tour-de-france/1994/stage-21"
          ]
         ],
         "hovertemplate": "year=%{x}<br>power=%{y}<br>stage_url=%{customdata[0]}<extra></extra>",
         "legendgroup": "1994",
         "marker": {
          "color": "#FECB52"
         },
         "name": "1994",
         "notched": false,
         "offsetgroup": "1994",
         "orientation": "v",
         "showlegend": true,
         "type": "box",
         "x": [
          1994,
          1994,
          1994,
          1994,
          1994,
          1994,
          1994,
          1994,
          1994,
          1994,
          1994,
          1994,
          1994,
          1994,
          1994,
          1994,
          1994,
          1994
         ],
         "x0": " ",
         "xaxis": "x",
         "y": [
          325.5393650266468,
          330.06227916034965,
          356.3722076393916,
          474.3520056038888,
          316.0719684332691,
          395.9116710856207,
          402.5972437837195,
          492.9496544822515,
          354.87713548300525,
          494.8285543105115,
          382.6584388425433,
          217.2696041689327,
          293.6223147545926,
          529.3995814962315,
          561.4830881004743,
          527.1657135924308,
          182.93938840114816,
          296.22438876239227
         ],
         "y0": " ",
         "yaxis": "y"
        },
        {
         "alignmentgroup": "True",
         "customdata": [
          [
           "https://www.procyclingstats.com/race/tour-de-france/1995/stage-1"
          ],
          [
           "https://www.procyclingstats.com/race/tour-de-france/1995/stage-2"
          ],
          [
           "https://www.procyclingstats.com/race/tour-de-france/1995/stage-4"
          ],
          [
           "https://www.procyclingstats.com/race/tour-de-france/1995/stage-5"
          ],
          [
           "https://www.procyclingstats.com/race/tour-de-france/1995/stage-6"
          ],
          [
           "https://www.procyclingstats.com/race/tour-de-france/1995/stage-7"
          ],
          [
           "https://www.procyclingstats.com/race/tour-de-france/1995/stage-9"
          ],
          [
           "https://www.procyclingstats.com/race/tour-de-france/1995/stage-10"
          ],
          [
           "https://www.procyclingstats.com/race/tour-de-france/1995/stage-11"
          ],
          [
           "https://www.procyclingstats.com/race/tour-de-france/1995/stage-12"
          ],
          [
           "https://www.procyclingstats.com/race/tour-de-france/1995/stage-13"
          ],
          [
           "https://www.procyclingstats.com/race/tour-de-france/1995/stage-14"
          ],
          [
           "https://www.procyclingstats.com/race/tour-de-france/1995/stage-15"
          ],
          [
           "https://www.procyclingstats.com/race/tour-de-france/1995/stage-17"
          ],
          [
           "https://www.procyclingstats.com/race/tour-de-france/1995/stage-18"
          ],
          [
           "https://www.procyclingstats.com/race/tour-de-france/1995/stage-20"
          ]
         ],
         "hovertemplate": "year=%{x}<br>power=%{y}<br>stage_url=%{customdata[0]}<extra></extra>",
         "legendgroup": "1995",
         "marker": {
          "color": "#636efa"
         },
         "name": "1995",
         "notched": false,
         "offsetgroup": "1995",
         "orientation": "v",
         "showlegend": true,
         "type": "box",
         "x": [
          1995,
          1995,
          1995,
          1995,
          1995,
          1995,
          1995,
          1995,
          1995,
          1995,
          1995,
          1995,
          1995,
          1995,
          1995,
          1995
         ],
         "x0": " ",
         "xaxis": "x",
         "y": [
          351.4476502339443,
          439.4376592400744,
          387.5690811806476,
          430.1213970746932,
          357.11584498303995,
          260.2071519867769,
          635.8725455971745,
          599.9911971673376,
          253.23837429548956,
          494.0878641813628,
          192.8951413237554,
          431.6844221757782,
          571.9715575717671,
          214.15619761030365,
          385.5850511235369,
          390.32801052792985
         ],
         "y0": " ",
         "yaxis": "y"
        },
        {
         "alignmentgroup": "True",
         "customdata": [
          [
           "https://www.procyclingstats.com/race/tour-de-france/1996/stage-1"
          ],
          [
           "https://www.procyclingstats.com/race/tour-de-france/1996/stage-2"
          ],
          [
           "https://www.procyclingstats.com/race/tour-de-france/1996/stage-3"
          ],
          [
           "https://www.procyclingstats.com/race/tour-de-france/1996/stage-4"
          ],
          [
           "https://www.procyclingstats.com/race/tour-de-france/1996/stage-5"
          ],
          [
           "https://www.procyclingstats.com/race/tour-de-france/1996/stage-6"
          ],
          [
           "https://www.procyclingstats.com/race/tour-de-france/1996/stage-7"
          ],
          [
           "https://www.procyclingstats.com/race/tour-de-france/1996/stage-10"
          ],
          [
           "https://www.procyclingstats.com/race/tour-de-france/1996/stage-11"
          ],
          [
           "https://www.procyclingstats.com/race/tour-de-france/1996/stage-12"
          ],
          [
           "https://www.procyclingstats.com/race/tour-de-france/1996/stage-13"
          ],
          [
           "https://www.procyclingstats.com/race/tour-de-france/1996/stage-14"
          ],
          [
           "https://www.procyclingstats.com/race/tour-de-france/1996/stage-15"
          ],
          [
           "https://www.procyclingstats.com/race/tour-de-france/1996/stage-16"
          ],
          [
           "https://www.procyclingstats.com/race/tour-de-france/1996/stage-17"
          ],
          [
           "https://www.procyclingstats.com/race/tour-de-france/1996/stage-18"
          ],
          [
           "https://www.procyclingstats.com/race/tour-de-france/1996/stage-19"
          ],
          [
           "https://www.procyclingstats.com/race/tour-de-france/1996/stage-21"
          ]
         ],
         "hovertemplate": "year=%{x}<br>power=%{y}<br>stage_url=%{customdata[0]}<extra></extra>",
         "legendgroup": "1996",
         "marker": {
          "color": "#EF553B"
         },
         "name": "1996",
         "notched": false,
         "offsetgroup": "1996",
         "orientation": "v",
         "showlegend": true,
         "type": "box",
         "x": [
          1996,
          1996,
          1996,
          1996,
          1996,
          1996,
          1996,
          1996,
          1996,
          1996,
          1996,
          1996,
          1996,
          1996,
          1996,
          1996,
          1996,
          1996
         ],
         "x0": " ",
         "xaxis": "x",
         "y": [
          334.06064220057,
          262.62922446299,
          235.8888848398652,
          344.11869454992524,
          242.65802139699372,
          203.8245305934009,
          470.5464657596994,
          249.03458025588577,
          231.29498027471487,
          101.0343025803979,
          297.53651571414065,
          319.57642320498667,
          472.1143019992687,
          415.2132886886933,
          474.8520922381142,
          192.6174035806661,
          354.2411466676794,
          395.9473553070814
         ],
         "y0": " ",
         "yaxis": "y"
        },
        {
         "alignmentgroup": "True",
         "customdata": [
          [
           "https://www.procyclingstats.com/race/tour-de-france/1997/stage-1"
          ],
          [
           "https://www.procyclingstats.com/race/tour-de-france/1997/stage-2"
          ],
          [
           "https://www.procyclingstats.com/race/tour-de-france/1997/stage-3"
          ],
          [
           "https://www.procyclingstats.com/race/tour-de-france/1997/stage-4"
          ],
          [
           "https://www.procyclingstats.com/race/tour-de-france/1997/stage-5"
          ],
          [
           "https://www.procyclingstats.com/race/tour-de-france/1997/stage-6"
          ],
          [
           "https://www.procyclingstats.com/race/tour-de-france/1997/stage-7"
          ],
          [
           "https://www.procyclingstats.com/race/tour-de-france/1997/stage-8"
          ],
          [
           "https://www.procyclingstats.com/race/tour-de-france/1997/stage-9"
          ],
          [
           "https://www.procyclingstats.com/race/tour-de-france/1997/stage-10"
          ],
          [
           "https://www.procyclingstats.com/race/tour-de-france/1997/stage-11"
          ],
          [
           "https://www.procyclingstats.com/race/tour-de-france/1997/stage-13"
          ],
          [
           "https://www.procyclingstats.com/race/tour-de-france/1997/stage-14"
          ],
          [
           "https://www.procyclingstats.com/race/tour-de-france/1997/stage-15"
          ],
          [
           "https://www.procyclingstats.com/race/tour-de-france/1997/stage-16"
          ],
          [
           "https://www.procyclingstats.com/race/tour-de-france/1997/stage-17"
          ],
          [
           "https://www.procyclingstats.com/race/tour-de-france/1997/stage-18"
          ],
          [
           "https://www.procyclingstats.com/race/tour-de-france/1997/stage-19"
          ],
          [
           "https://www.procyclingstats.com/race/tour-de-france/1997/stage-21"
          ]
         ],
         "hovertemplate": "year=%{x}<br>power=%{y}<br>stage_url=%{customdata[0]}<extra></extra>",
         "legendgroup": "1997",
         "marker": {
          "color": "#00cc96"
         },
         "name": "1997",
         "notched": false,
         "offsetgroup": "1997",
         "orientation": "v",
         "showlegend": true,
         "type": "box",
         "x": [
          1997,
          1997,
          1997,
          1997,
          1997,
          1997,
          1997,
          1997,
          1997,
          1997,
          1997,
          1997,
          1997,
          1997,
          1997,
          1997,
          1997,
          1997,
          1997
         ],
         "x0": " ",
         "xaxis": "x",
         "y": [
          375.4726843015122,
          361.018711732591,
          307.9967227060929,
          296.9556295795982,
          355.9428064914501,
          240.0677869356975,
          469.4675898888784,
          510.27350983099535,
          446.61181172142864,
          462.4135802715565,
          216.9835125129284,
          451.3976873274145,
          607.2905034915487,
          441.3682327213017,
          283.21664070703923,
          329.42193502773665,
          248.2453706807128,
          330.9039527416193,
          310.55999856198963
         ],
         "y0": " ",
         "yaxis": "y"
        },
        {
         "alignmentgroup": "True",
         "customdata": [
          [
           "https://www.procyclingstats.com/race/tour-de-france/1998/stage-1"
          ],
          [
           "https://www.procyclingstats.com/race/tour-de-france/1998/stage-2"
          ],
          [
           "https://www.procyclingstats.com/race/tour-de-france/1998/stage-3"
          ],
          [
           "https://www.procyclingstats.com/race/tour-de-france/1998/stage-4"
          ],
          [
           "https://www.procyclingstats.com/race/tour-de-france/1998/stage-5"
          ],
          [
           "https://www.procyclingstats.com/race/tour-de-france/1998/stage-6"
          ],
          [
           "https://www.procyclingstats.com/race/tour-de-france/1998/stage-8"
          ],
          [
           "https://www.procyclingstats.com/race/tour-de-france/1998/stage-9"
          ],
          [
           "https://www.procyclingstats.com/race/tour-de-france/1998/stage-10"
          ],
          [
           "https://www.procyclingstats.com/race/tour-de-france/1998/stage-11"
          ],
          [
           "https://www.procyclingstats.com/race/tour-de-france/1998/stage-12"
          ],
          [
           "https://www.procyclingstats.com/race/tour-de-france/1998/stage-13"
          ],
          [
           "https://www.procyclingstats.com/race/tour-de-france/1998/stage-14"
          ],
          [
           "https://www.procyclingstats.com/race/tour-de-france/1998/stage-15"
          ],
          [
           "https://www.procyclingstats.com/race/tour-de-france/1998/stage-16"
          ],
          [
           "https://www.procyclingstats.com/race/tour-de-france/1998/stage-18"
          ],
          [
           "https://www.procyclingstats.com/race/tour-de-france/1998/stage-19"
          ],
          [
           "https://www.procyclingstats.com/race/tour-de-france/1998/stage-21"
          ]
         ],
         "hovertemplate": "year=%{x}<br>power=%{y}<br>stage_url=%{customdata[0]}<extra></extra>",
         "legendgroup": "1998",
         "marker": {
          "color": "#ab63fa"
         },
         "name": "1998",
         "notched": false,
         "offsetgroup": "1998",
         "orientation": "v",
         "showlegend": true,
         "type": "box",
         "x": [
          1998,
          1998,
          1998,
          1998,
          1998,
          1998,
          1998,
          1998,
          1998,
          1998,
          1998,
          1998,
          1998,
          1998,
          1998,
          1998,
          1998,
          1998
         ],
         "x0": " ",
         "xaxis": "x",
         "y": [
          359.4702013923878,
          251.2298650979789,
          524.9233798091042,
          414.6456109010786,
          373.62388364741975,
          427.0652024632924,
          386.17984526670847,
          288.5839576752854,
          533.7851121503668,
          511.1388827006109,
          380.2335078472335,
          230.8902142212831,
          502.4939812982809,
          428.8627059266863,
          415.6507315714359,
          302.4996640980854,
          406.3595590020244,
          312.6824561138636
         ],
         "y0": " ",
         "yaxis": "y"
        },
        {
         "alignmentgroup": "True",
         "customdata": [
          [
           "https://www.procyclingstats.com/race/tour-de-france/1999/stage-1"
          ],
          [
           "https://www.procyclingstats.com/race/tour-de-france/1999/stage-2"
          ],
          [
           "https://www.procyclingstats.com/race/tour-de-france/1999/stage-3"
          ],
          [
           "https://www.procyclingstats.com/race/tour-de-france/1999/stage-4"
          ],
          [
           "https://www.procyclingstats.com/race/tour-de-france/1999/stage-5"
          ],
          [
           "https://www.procyclingstats.com/race/tour-de-france/1999/stage-6"
          ],
          [
           "https://www.procyclingstats.com/race/tour-de-france/1999/stage-7"
          ],
          [
           "https://www.procyclingstats.com/race/tour-de-france/1999/stage-9"
          ],
          [
           "https://www.procyclingstats.com/race/tour-de-france/1999/stage-10"
          ],
          [
           "https://www.procyclingstats.com/race/tour-de-france/1999/stage-11"
          ],
          [
           "https://www.procyclingstats.com/race/tour-de-france/1999/stage-12"
          ],
          [
           "https://www.procyclingstats.com/race/tour-de-france/1999/stage-13"
          ],
          [
           "https://www.procyclingstats.com/race/tour-de-france/1999/stage-14"
          ],
          [
           "https://www.procyclingstats.com/race/tour-de-france/1999/stage-15"
          ],
          [
           "https://www.procyclingstats.com/race/tour-de-france/1999/stage-16"
          ],
          [
           "https://www.procyclingstats.com/race/tour-de-france/1999/stage-17"
          ],
          [
           "https://www.procyclingstats.com/race/tour-de-france/1999/stage-18"
          ],
          [
           "https://www.procyclingstats.com/race/tour-de-france/1999/stage-20"
          ]
         ],
         "hovertemplate": "year=%{x}<br>power=%{y}<br>stage_url=%{customdata[0]}<extra></extra>",
         "legendgroup": "1999",
         "marker": {
          "color": "#FFA15A"
         },
         "name": "1999",
         "notched": false,
         "offsetgroup": "1999",
         "orientation": "v",
         "showlegend": true,
         "type": "box",
         "x": [
          1999,
          1999,
          1999,
          1999,
          1999,
          1999,
          1999,
          1999,
          1999,
          1999,
          1999,
          1999,
          1999,
          1999,
          1999,
          1999,
          1999,
          1999
         ],
         "x0": " ",
         "xaxis": "x",
         "y": [
          372.21173115244216,
          459.4218841296531,
          397.31821916743,
          569.0505141494157,
          364.0577989198488,
          356.96085884174545,
          385.702239211727,
          497.56624238557765,
          481.9933362629465,
          228.3604222590901,
          227.4636534559272,
          216.76260550199515,
          343.3862346354567,
          529.6218897214326,
          459.07733020359217,
          438.06471763631214,
          371.1190459811312,
          436.7770751565825
         ],
         "y0": " ",
         "yaxis": "y"
        },
        {
         "alignmentgroup": "True",
         "customdata": [
          [
           "https://www.procyclingstats.com/race/tour-de-france/2000/stage-2"
          ],
          [
           "https://www.procyclingstats.com/race/tour-de-france/2000/stage-3"
          ],
          [
           "https://www.procyclingstats.com/race/tour-de-france/2000/stage-5"
          ],
          [
           "https://www.procyclingstats.com/race/tour-de-france/2000/stage-6"
          ],
          [
           "https://www.procyclingstats.com/race/tour-de-france/2000/stage-7"
          ],
          [
           "https://www.procyclingstats.com/race/tour-de-france/2000/stage-8"
          ],
          [
           "https://www.procyclingstats.com/race/tour-de-france/2000/stage-9"
          ],
          [
           "https://www.procyclingstats.com/race/tour-de-france/2000/stage-10"
          ],
          [
           "https://www.procyclingstats.com/race/tour-de-france/2000/stage-11"
          ],
          [
           "https://www.procyclingstats.com/race/tour-de-france/2000/stage-12"
          ],
          [
           "https://www.procyclingstats.com/race/tour-de-france/2000/stage-13"
          ],
          [
           "https://www.procyclingstats.com/race/tour-de-france/2000/stage-14"
          ],
          [
           "https://www.procyclingstats.com/race/tour-de-france/2000/stage-15"
          ],
          [
           "https://www.procyclingstats.com/race/tour-de-france/2000/stage-16"
          ],
          [
           "https://www.procyclingstats.com/race/tour-de-france/2000/stage-17"
          ],
          [
           "https://www.procyclingstats.com/race/tour-de-france/2000/stage-18"
          ],
          [
           "https://www.procyclingstats.com/race/tour-de-france/2000/stage-20"
          ],
          [
           "https://www.procyclingstats.com/race/tour-de-france/2000/stage-21"
          ]
         ],
         "hovertemplate": "year=%{x}<br>power=%{y}<br>stage_url=%{customdata[0]}<extra></extra>",
         "legendgroup": "2000",
         "marker": {
          "color": "#19d3f3"
         },
         "name": "2000",
         "notched": false,
         "offsetgroup": "2000",
         "orientation": "v",
         "showlegend": true,
         "type": "box",
         "x": [
          2000,
          2000,
          2000,
          2000,
          2000,
          2000,
          2000,
          2000,
          2000,
          2000,
          2000,
          2000,
          2000,
          2000,
          2000,
          2000,
          2000,
          2000
         ],
         "x0": " ",
         "xaxis": "x",
         "y": [
          329.7579741033189,
          427.3400337462825,
          492.1747429424749,
          409.2173311032101,
          314.98654795767663,
          483.6428376136464,
          334.5332291130874,
          379.69297538346655,
          403.7597764513511,
          416.1215226138673,
          449.2473308150706,
          349.4792788701959,
          390.6515019689609,
          369.1606835386549,
          317.9375665509888,
          296.00129724730584,
          349.220148852575,
          336.350655635504
         ],
         "y0": " ",
         "yaxis": "y"
        },
        {
         "alignmentgroup": "True",
         "customdata": [
          [
           "https://www.procyclingstats.com/race/tour-de-france/2001/stage-1"
          ],
          [
           "https://www.procyclingstats.com/race/tour-de-france/2001/stage-2"
          ],
          [
           "https://www.procyclingstats.com/race/tour-de-france/2001/stage-3"
          ],
          [
           "https://www.procyclingstats.com/race/tour-de-france/2001/stage-4"
          ],
          [
           "https://www.procyclingstats.com/race/tour-de-france/2001/stage-6"
          ],
          [
           "https://www.procyclingstats.com/race/tour-de-france/2001/stage-7"
          ],
          [
           "https://www.procyclingstats.com/race/tour-de-france/2001/stage-8"
          ],
          [
           "https://www.procyclingstats.com/race/tour-de-france/2001/stage-9"
          ],
          [
           "https://www.procyclingstats.com/race/tour-de-france/2001/stage-10"
          ],
          [
           "https://www.procyclingstats.com/race/tour-de-france/2001/stage-12"
          ],
          [
           "https://www.procyclingstats.com/race/tour-de-france/2001/stage-13"
          ],
          [
           "https://www.procyclingstats.com/race/tour-de-france/2001/stage-14"
          ],
          [
           "https://www.procyclingstats.com/race/tour-de-france/2001/stage-15"
          ],
          [
           "https://www.procyclingstats.com/race/tour-de-france/2001/stage-16"
          ],
          [
           "https://www.procyclingstats.com/race/tour-de-france/2001/stage-17"
          ],
          [
           "https://www.procyclingstats.com/race/tour-de-france/2001/stage-19"
          ],
          [
           "https://www.procyclingstats.com/race/tour-de-france/2001/stage-20"
          ]
         ],
         "hovertemplate": "year=%{x}<br>power=%{y}<br>stage_url=%{customdata[0]}<extra></extra>",
         "legendgroup": "2001",
         "marker": {
          "color": "#FF6692"
         },
         "name": "2001",
         "notched": false,
         "offsetgroup": "2001",
         "orientation": "v",
         "showlegend": true,
         "type": "box",
         "x": [
          2001,
          2001,
          2001,
          2001,
          2001,
          2001,
          2001,
          2001,
          2001,
          2001,
          2001,
          2001,
          2001,
          2001,
          2001,
          2001,
          2001
         ],
         "x0": " ",
         "xaxis": "x",
         "y": [
          323.5657637691977,
          479.73050129699874,
          264.0207735770904,
          230.4857977401707,
          273.9311920964359,
          253.7698291349764,
          291.42105291960934,
          356.5737598152655,
          375.9910469067095,
          433.4083556370632,
          512.6901203795346,
          474.0370044069856,
          421.7326604376256,
          220.34856347310068,
          337.2990918511353,
          463.8208678501255,
          363.7842902580091
         ],
         "y0": " ",
         "yaxis": "y"
        },
        {
         "alignmentgroup": "True",
         "customdata": [
          [
           "https://www.procyclingstats.com/race/tour-de-france/2002/stage-1"
          ],
          [
           "https://www.procyclingstats.com/race/tour-de-france/2002/stage-2"
          ],
          [
           "https://www.procyclingstats.com/race/tour-de-france/2002/stage-3"
          ],
          [
           "https://www.procyclingstats.com/race/tour-de-france/2002/stage-5"
          ],
          [
           "https://www.procyclingstats.com/race/tour-de-france/2002/stage-6"
          ],
          [
           "https://www.procyclingstats.com/race/tour-de-france/2002/stage-7"
          ],
          [
           "https://www.procyclingstats.com/race/tour-de-france/2002/stage-8"
          ],
          [
           "https://www.procyclingstats.com/race/tour-de-france/2002/stage-10"
          ],
          [
           "https://www.procyclingstats.com/race/tour-de-france/2002/stage-11"
          ],
          [
           "https://www.procyclingstats.com/race/tour-de-france/2002/stage-12"
          ],
          [
           "https://www.procyclingstats.com/race/tour-de-france/2002/stage-13"
          ],
          [
           "https://www.procyclingstats.com/race/tour-de-france/2002/stage-14"
          ],
          [
           "https://www.procyclingstats.com/race/tour-de-france/2002/stage-15"
          ],
          [
           "https://www.procyclingstats.com/race/tour-de-france/2002/stage-16"
          ],
          [
           "https://www.procyclingstats.com/race/tour-de-france/2002/stage-17"
          ],
          [
           "https://www.procyclingstats.com/race/tour-de-france/2002/stage-18"
          ],
          [
           "https://www.procyclingstats.com/race/tour-de-france/2002/stage-20"
          ]
         ],
         "hovertemplate": "year=%{x}<br>power=%{y}<br>stage_url=%{customdata[0]}<extra></extra>",
         "legendgroup": "2002",
         "marker": {
          "color": "#B6E880"
         },
         "name": "2002",
         "notched": false,
         "offsetgroup": "2002",
         "orientation": "v",
         "showlegend": true,
         "type": "box",
         "x": [
          2002,
          2002,
          2002,
          2002,
          2002,
          2002,
          2002,
          2002,
          2002,
          2002,
          2002,
          2002,
          2002,
          2002,
          2002,
          2002,
          2002
         ],
         "x0": " ",
         "xaxis": "x",
         "y": [
          240.17314061850885,
          431.5402760109645,
          341.33507930429806,
          458.7234223012929,
          472.0655337261318,
          250.71241103841132,
          515.9076075055066,
          512.7822037418803,
          531.1944697029438,
          473.8131477803368,
          215.25155694970448,
          418.9108467793838,
          399.51475951723467,
          372.39992653947104,
          514.8094372446698,
          216.92518666446105,
          335.4828996204669
         ],
         "y0": " ",
         "yaxis": "y"
        },
        {
         "alignmentgroup": "True",
         "customdata": [
          [
           "https://www.procyclingstats.com/race/tour-de-france/2003/stage-1"
          ],
          [
           "https://www.procyclingstats.com/race/tour-de-france/2003/stage-2"
          ],
          [
           "https://www.procyclingstats.com/race/tour-de-france/2003/stage-3"
          ],
          [
           "https://www.procyclingstats.com/race/tour-de-france/2003/stage-5"
          ],
          [
           "https://www.procyclingstats.com/race/tour-de-france/2003/stage-6"
          ],
          [
           "https://www.procyclingstats.com/race/tour-de-france/2003/stage-7"
          ],
          [
           "https://www.procyclingstats.com/race/tour-de-france/2003/stage-8"
          ],
          [
           "https://www.procyclingstats.com/race/tour-de-france/2003/stage-9"
          ],
          [
           "https://www.procyclingstats.com/race/tour-de-france/2003/stage-10"
          ],
          [
           "https://www.procyclingstats.com/race/tour-de-france/2003/stage-11"
          ],
          [
           "https://www.procyclingstats.com/race/tour-de-france/2003/stage-13"
          ],
          [
           "https://www.procyclingstats.com/race/tour-de-france/2003/stage-14"
          ],
          [
           "https://www.procyclingstats.com/race/tour-de-france/2003/stage-15"
          ],
          [
           "https://www.procyclingstats.com/race/tour-de-france/2003/stage-16"
          ],
          [
           "https://www.procyclingstats.com/race/tour-de-france/2003/stage-17"
          ],
          [
           "https://www.procyclingstats.com/race/tour-de-france/2003/stage-18"
          ],
          [
           "https://www.procyclingstats.com/race/tour-de-france/2003/stage-20"
          ]
         ],
         "hovertemplate": "year=%{x}<br>power=%{y}<br>stage_url=%{customdata[0]}<extra></extra>",
         "legendgroup": "2003",
         "marker": {
          "color": "#FF97FF"
         },
         "name": "2003",
         "notched": false,
         "offsetgroup": "2003",
         "orientation": "v",
         "showlegend": true,
         "type": "box",
         "x": [
          2003,
          2003,
          2003,
          2003,
          2003,
          2003,
          2003,
          2003,
          2003,
          2003,
          2003,
          2003,
          2003,
          2003,
          2003,
          2003,
          2003
         ],
         "x0": " ",
         "xaxis": "x",
         "y": [
          282.5380975084299,
          217.072009827756,
          545.5904938077218,
          520.6395020704667,
          285.82141083602886,
          379.2924864057589,
          535.2444036999041,
          463.16487994660486,
          215.67111013344996,
          276.135012761057,
          473.61033242897867,
          472.2056008738291,
          516.5932205621723,
          475.6692559967578,
          393.1932876493204,
          447.7773563115398,
          326.15849330554687
         ],
         "y0": " ",
         "yaxis": "y"
        },
        {
         "alignmentgroup": "True",
         "customdata": [
          [
           "https://www.procyclingstats.com/race/tour-de-france/2004/stage-1"
          ],
          [
           "https://www.procyclingstats.com/race/tour-de-france/2004/stage-2"
          ],
          [
           "https://www.procyclingstats.com/race/tour-de-france/2004/stage-3"
          ],
          [
           "https://www.procyclingstats.com/race/tour-de-france/2004/stage-5"
          ],
          [
           "https://www.procyclingstats.com/race/tour-de-france/2004/stage-6"
          ],
          [
           "https://www.procyclingstats.com/race/tour-de-france/2004/stage-7"
          ],
          [
           "https://www.procyclingstats.com/race/tour-de-france/2004/stage-8"
          ],
          [
           "https://www.procyclingstats.com/race/tour-de-france/2004/stage-9"
          ],
          [
           "https://www.procyclingstats.com/race/tour-de-france/2004/stage-10"
          ],
          [
           "https://www.procyclingstats.com/race/tour-de-france/2004/stage-11"
          ],
          [
           "https://www.procyclingstats.com/race/tour-de-france/2004/stage-12"
          ],
          [
           "https://www.procyclingstats.com/race/tour-de-france/2004/stage-13"
          ],
          [
           "https://www.procyclingstats.com/race/tour-de-france/2004/stage-14"
          ],
          [
           "https://www.procyclingstats.com/race/tour-de-france/2004/stage-15"
          ],
          [
           "https://www.procyclingstats.com/race/tour-de-france/2004/stage-17"
          ],
          [
           "https://www.procyclingstats.com/race/tour-de-france/2004/stage-18"
          ],
          [
           "https://www.procyclingstats.com/race/tour-de-france/2004/stage-20"
          ]
         ],
         "hovertemplate": "year=%{x}<br>power=%{y}<br>stage_url=%{customdata[0]}<extra></extra>",
         "legendgroup": "2004",
         "marker": {
          "color": "#FECB52"
         },
         "name": "2004",
         "notched": false,
         "offsetgroup": "2004",
         "orientation": "v",
         "showlegend": true,
         "type": "box",
         "x": [
          2004,
          2004,
          2004,
          2004,
          2004,
          2004,
          2004,
          2004,
          2004,
          2004,
          2004,
          2004,
          2004,
          2004,
          2004,
          2004,
          2004
         ],
         "x0": " ",
         "xaxis": "x",
         "y": [
          280.48083422203126,
          479.0458318686496,
          439.1419453411018,
          322.91182731517927,
          373.93584370666,
          468.8621606935442,
          268.0859003636165,
          532.8681895109257,
          240.1072263721433,
          254.399690377826,
          403.5383951236794,
          498.7216673066455,
          381.92547423171504,
          244.45446043187872,
          464.5492545057826,
          234.0083612539459,
          313.6408949683628
         ],
         "y0": " ",
         "yaxis": "y"
        },
        {
         "alignmentgroup": "True",
         "customdata": [
          [
           "https://www.procyclingstats.com/race/tour-de-france/2005/stage-2"
          ],
          [
           "https://www.procyclingstats.com/race/tour-de-france/2005/stage-3"
          ],
          [
           "https://www.procyclingstats.com/race/tour-de-france/2005/stage-5"
          ],
          [
           "https://www.procyclingstats.com/race/tour-de-france/2005/stage-6"
          ],
          [
           "https://www.procyclingstats.com/race/tour-de-france/2005/stage-7"
          ],
          [
           "https://www.procyclingstats.com/race/tour-de-france/2005/stage-8"
          ],
          [
           "https://www.procyclingstats.com/race/tour-de-france/2005/stage-9"
          ],
          [
           "https://www.procyclingstats.com/race/tour-de-france/2005/stage-10"
          ],
          [
           "https://www.procyclingstats.com/race/tour-de-france/2005/stage-11"
          ],
          [
           "https://www.procyclingstats.com/race/tour-de-france/2005/stage-12"
          ],
          [
           "https://www.procyclingstats.com/race/tour-de-france/2005/stage-13"
          ],
          [
           "https://www.procyclingstats.com/race/tour-de-france/2005/stage-14"
          ],
          [
           "https://www.procyclingstats.com/race/tour-de-france/2005/stage-15"
          ],
          [
           "https://www.procyclingstats.com/race/tour-de-france/2005/stage-16"
          ],
          [
           "https://www.procyclingstats.com/race/tour-de-france/2005/stage-17"
          ],
          [
           "https://www.procyclingstats.com/race/tour-de-france/2005/stage-18"
          ],
          [
           "https://www.procyclingstats.com/race/tour-de-france/2005/stage-19"
          ],
          [
           "https://www.procyclingstats.com/race/tour-de-france/2005/stage-21"
          ]
         ],
         "hovertemplate": "year=%{x}<br>power=%{y}<br>stage_url=%{customdata[0]}<extra></extra>",
         "legendgroup": "2005",
         "marker": {
          "color": "#636efa"
         },
         "name": "2005",
         "notched": false,
         "offsetgroup": "2005",
         "orientation": "v",
         "showlegend": true,
         "type": "box",
         "x": [
          2005,
          2005,
          2005,
          2005,
          2005,
          2005,
          2005,
          2005,
          2005,
          2005,
          2005,
          2005,
          2005,
          2005,
          2005,
          2005,
          2005,
          2005
         ],
         "x0": " ",
         "xaxis": "x",
         "y": [
          430.8019490138466,
          445.5814064467533,
          505.2473106362088,
          324.7747679235912,
          273.8159135755319,
          379.600751925306,
          375.0299218730204,
          430.607955786952,
          374.4280487244798,
          373.3931652270553,
          463.7536718891068,
          317.6825376833993,
          401.6014500825052,
          363.25856358271,
          210.0312026001978,
          217.8152306103893,
          265.13783919162955,
          282.4016389884609
         ],
         "y0": " ",
         "yaxis": "y"
        },
        {
         "alignmentgroup": "True",
         "customdata": [
          [
           "https://www.procyclingstats.com/race/tour-de-france/2006/stage-1"
          ],
          [
           "https://www.procyclingstats.com/race/tour-de-france/2006/stage-2"
          ],
          [
           "https://www.procyclingstats.com/race/tour-de-france/2006/stage-3"
          ],
          [
           "https://www.procyclingstats.com/race/tour-de-france/2006/stage-4"
          ],
          [
           "https://www.procyclingstats.com/race/tour-de-france/2006/stage-5"
          ],
          [
           "https://www.procyclingstats.com/race/tour-de-france/2006/stage-6"
          ],
          [
           "https://www.procyclingstats.com/race/tour-de-france/2006/stage-8"
          ],
          [
           "https://www.procyclingstats.com/race/tour-de-france/2006/stage-9"
          ],
          [
           "https://www.procyclingstats.com/race/tour-de-france/2006/stage-10"
          ],
          [
           "https://www.procyclingstats.com/race/tour-de-france/2006/stage-11"
          ],
          [
           "https://www.procyclingstats.com/race/tour-de-france/2006/stage-12"
          ],
          [
           "https://www.procyclingstats.com/race/tour-de-france/2006/stage-13"
          ],
          [
           "https://www.procyclingstats.com/race/tour-de-france/2006/stage-14"
          ],
          [
           "https://www.procyclingstats.com/race/tour-de-france/2006/stage-15"
          ],
          [
           "https://www.procyclingstats.com/race/tour-de-france/2006/stage-16"
          ],
          [
           "https://www.procyclingstats.com/race/tour-de-france/2006/stage-17"
          ],
          [
           "https://www.procyclingstats.com/race/tour-de-france/2006/stage-17"
          ],
          [
           "https://www.procyclingstats.com/race/tour-de-france/2006/stage-18"
          ],
          [
           "https://www.procyclingstats.com/race/tour-de-france/2006/stage-20"
          ]
         ],
         "hovertemplate": "year=%{x}<br>power=%{y}<br>stage_url=%{customdata[0]}<extra></extra>",
         "legendgroup": "2006",
         "marker": {
          "color": "#EF553B"
         },
         "name": "2006",
         "notched": false,
         "offsetgroup": "2006",
         "orientation": "v",
         "showlegend": true,
         "type": "box",
         "x": [
          2006,
          2006,
          2006,
          2006,
          2006,
          2006,
          2006,
          2006,
          2006,
          2006,
          2006,
          2006,
          2006,
          2006,
          2006,
          2006,
          2006,
          2006,
          2006
         ],
         "x0": " ",
         "xaxis": "x",
         "y": [
          392.5022687458667,
          232.43887754460587,
          274.40639017948155,
          362.7238633672556,
          369.7264380120593,
          443.6729714267058,
          369.4046938100642,
          427.6447845205393,
          346.90919554103107,
          400.1744446445843,
          288.39550674842553,
          238.652609843862,
          261.25562204032786,
          439.0584668557389,
          392.1588325327342,
          335.73719043199185,
          335.73719043199185,
          278.0578055392209,
          39.10304979799676
         ],
         "y0": " ",
         "yaxis": "y"
        },
        {
         "alignmentgroup": "True",
         "customdata": [
          [
           "https://www.procyclingstats.com/race/tour-de-france/2007/stage-1"
          ],
          [
           "https://www.procyclingstats.com/race/tour-de-france/2007/stage-2"
          ],
          [
           "https://www.procyclingstats.com/race/tour-de-france/2007/stage-3"
          ],
          [
           "https://www.procyclingstats.com/race/tour-de-france/2007/stage-4"
          ],
          [
           "https://www.procyclingstats.com/race/tour-de-france/2007/stage-5"
          ],
          [
           "https://www.procyclingstats.com/race/tour-de-france/2007/stage-6"
          ],
          [
           "https://www.procyclingstats.com/race/tour-de-france/2007/stage-7"
          ],
          [
           "https://www.procyclingstats.com/race/tour-de-france/2007/stage-8"
          ],
          [
           "https://www.procyclingstats.com/race/tour-de-france/2007/stage-9"
          ],
          [
           "https://www.procyclingstats.com/race/tour-de-france/2007/stage-10"
          ],
          [
           "https://www.procyclingstats.com/race/tour-de-france/2007/stage-11"
          ],
          [
           "https://www.procyclingstats.com/race/tour-de-france/2007/stage-12"
          ],
          [
           "https://www.procyclingstats.com/race/tour-de-france/2007/stage-14"
          ],
          [
           "https://www.procyclingstats.com/race/tour-de-france/2007/stage-15"
          ],
          [
           "https://www.procyclingstats.com/race/tour-de-france/2007/stage-15"
          ],
          [
           "https://www.procyclingstats.com/race/tour-de-france/2007/stage-16"
          ],
          [
           "https://www.procyclingstats.com/race/tour-de-france/2007/stage-17"
          ],
          [
           "https://www.procyclingstats.com/race/tour-de-france/2007/stage-18"
          ],
          [
           "https://www.procyclingstats.com/race/tour-de-france/2007/stage-20"
          ]
         ],
         "hovertemplate": "year=%{x}<br>power=%{y}<br>stage_url=%{customdata[0]}<extra></extra>",
         "legendgroup": "2007",
         "marker": {
          "color": "#00cc96"
         },
         "name": "2007",
         "notched": false,
         "offsetgroup": "2007",
         "orientation": "v",
         "showlegend": true,
         "type": "box",
         "x": [
          2007,
          2007,
          2007,
          2007,
          2007,
          2007,
          2007,
          2007,
          2007,
          2007,
          2007,
          2007,
          2007,
          2007,
          2007,
          2007,
          2007,
          2007,
          2007
         ],
         "x0": " ",
         "xaxis": "x",
         "y": [
          412.708765660889,
          358.61917630121087,
          229.966442325278,
          368.3866072674186,
          220.0634536885721,
          269.07745612617657,
          356.45565259567377,
          387.2127056843932,
          326.681206430208,
          222.55222841136265,
          472.1472298747057,
          290.7694620783437,
          350.71456818000115,
          332.92376439981444,
          332.92376439981444,
          366.58440070893016,
          246.01544366933507,
          193.41834033971028,
          250.8263290832776
         ],
         "y0": " ",
         "yaxis": "y"
        },
        {
         "alignmentgroup": "True",
         "customdata": [
          [
           "https://www.procyclingstats.com/race/tour-de-france/2008/stage-1"
          ],
          [
           "https://www.procyclingstats.com/race/tour-de-france/2008/stage-2"
          ],
          [
           "https://www.procyclingstats.com/race/tour-de-france/2008/stage-3"
          ],
          [
           "https://www.procyclingstats.com/race/tour-de-france/2008/stage-5"
          ],
          [
           "https://www.procyclingstats.com/race/tour-de-france/2008/stage-6"
          ],
          [
           "https://www.procyclingstats.com/race/tour-de-france/2008/stage-6"
          ],
          [
           "https://www.procyclingstats.com/race/tour-de-france/2008/stage-7"
          ],
          [
           "https://www.procyclingstats.com/race/tour-de-france/2008/stage-8"
          ],
          [
           "https://www.procyclingstats.com/race/tour-de-france/2008/stage-9"
          ],
          [
           "https://www.procyclingstats.com/race/tour-de-france/2008/stage-9"
          ],
          [
           "https://www.procyclingstats.com/race/tour-de-france/2008/stage-10"
          ],
          [
           "https://www.procyclingstats.com/race/tour-de-france/2008/stage-10"
          ],
          [
           "https://www.procyclingstats.com/race/tour-de-france/2008/stage-11"
          ],
          [
           "https://www.procyclingstats.com/race/tour-de-france/2008/stage-12"
          ],
          [
           "https://www.procyclingstats.com/race/tour-de-france/2008/stage-13"
          ],
          [
           "https://www.procyclingstats.com/race/tour-de-france/2008/stage-14"
          ],
          [
           "https://www.procyclingstats.com/race/tour-de-france/2008/stage-15"
          ],
          [
           "https://www.procyclingstats.com/race/tour-de-france/2008/stage-16"
          ],
          [
           "https://www.procyclingstats.com/race/tour-de-france/2008/stage-17"
          ],
          [
           "https://www.procyclingstats.com/race/tour-de-france/2008/stage-18"
          ],
          [
           "https://www.procyclingstats.com/race/tour-de-france/2008/stage-19"
          ],
          [
           "https://www.procyclingstats.com/race/tour-de-france/2008/stage-21"
          ]
         ],
         "hovertemplate": "year=%{x}<br>power=%{y}<br>stage_url=%{customdata[0]}<extra></extra>",
         "legendgroup": "2008",
         "marker": {
          "color": "#ab63fa"
         },
         "name": "2008",
         "notched": false,
         "offsetgroup": "2008",
         "orientation": "v",
         "showlegend": true,
         "type": "box",
         "x": [
          2008,
          2008,
          2008,
          2008,
          2008,
          2008,
          2008,
          2008,
          2008,
          2008,
          2008,
          2008,
          2008,
          2008,
          2008,
          2008,
          2008,
          2008,
          2008,
          2008,
          2008,
          2008
         ],
         "x0": " ",
         "xaxis": "x",
         "y": [
          254.35616700515243,
          268.357974006719,
          322.1404389621178,
          349.2097293842126,
          376.2202619349307,
          376.2202619349307,
          344.961274308036,
          250.4700801014522,
          337.49440522213035,
          337.49440522213035,
          384.4964848799115,
          384.4964848799115,
          334.3689509407001,
          437.1972870988642,
          332.74836901778235,
          301.1027498490966,
          370.73522004141626,
          345.71833867692635,
          362.0880422767176,
          296.00882948225353,
          460.15980504978086,
          236.5962513717592
         ],
         "y0": " ",
         "yaxis": "y"
        },
        {
         "alignmentgroup": "True",
         "customdata": [
          [
           "https://www.procyclingstats.com/race/tour-de-france/2009/stage-2"
          ],
          [
           "https://www.procyclingstats.com/race/tour-de-france/2009/stage-3"
          ],
          [
           "https://www.procyclingstats.com/race/tour-de-france/2009/stage-5"
          ],
          [
           "https://www.procyclingstats.com/race/tour-de-france/2009/stage-6"
          ],
          [
           "https://www.procyclingstats.com/race/tour-de-france/2009/stage-7"
          ],
          [
           "https://www.procyclingstats.com/race/tour-de-france/2009/stage-8"
          ],
          [
           "https://www.procyclingstats.com/race/tour-de-france/2009/stage-9"
          ],
          [
           "https://www.procyclingstats.com/race/tour-de-france/2009/stage-10"
          ],
          [
           "https://www.procyclingstats.com/race/tour-de-france/2009/stage-11"
          ],
          [
           "https://www.procyclingstats.com/race/tour-de-france/2009/stage-12"
          ],
          [
           "https://www.procyclingstats.com/race/tour-de-france/2009/stage-13"
          ],
          [
           "https://www.procyclingstats.com/race/tour-de-france/2009/stage-14"
          ],
          [
           "https://www.procyclingstats.com/race/tour-de-france/2009/stage-15"
          ],
          [
           "https://www.procyclingstats.com/race/tour-de-france/2009/stage-16"
          ],
          [
           "https://www.procyclingstats.com/race/tour-de-france/2009/stage-16"
          ],
          [
           "https://www.procyclingstats.com/race/tour-de-france/2009/stage-17"
          ],
          [
           "https://www.procyclingstats.com/race/tour-de-france/2009/stage-19"
          ],
          [
           "https://www.procyclingstats.com/race/tour-de-france/2009/stage-20"
          ],
          [
           "https://www.procyclingstats.com/race/tour-de-france/2009/stage-21"
          ]
         ],
         "hovertemplate": "year=%{x}<br>power=%{y}<br>stage_url=%{customdata[0]}<extra></extra>",
         "legendgroup": "2009",
         "marker": {
          "color": "#FFA15A"
         },
         "name": "2009",
         "notched": false,
         "offsetgroup": "2009",
         "orientation": "v",
         "showlegend": true,
         "type": "box",
         "x": [
          2009,
          2009,
          2009,
          2009,
          2009,
          2009,
          2009,
          2009,
          2009,
          2009,
          2009,
          2009,
          2009,
          2009,
          2009,
          2009,
          2009,
          2009,
          2009
         ],
         "x0": " ",
         "xaxis": "x",
         "y": [
          246.59067673561785,
          280.4120395082178,
          379.4933451650677,
          246.0405433752616,
          352.33015619173784,
          338.59460673394136,
          325.40669175562044,
          216.78748455595405,
          413.1164861201325,
          245.5791125508888,
          302.8106960025197,
          232.06420294569435,
          395.5338155806583,
          359.4273838478264,
          359.4273838478264,
          347.3978109729091,
          371.78189865255735,
          356.225491463902,
          284.73715886907786
         ],
         "y0": " ",
         "yaxis": "y"
        },
        {
         "alignmentgroup": "True",
         "customdata": [
          [
           "https://www.procyclingstats.com/race/tour-de-france/2010/stage-1"
          ],
          [
           "https://www.procyclingstats.com/race/tour-de-france/2010/stage-2"
          ],
          [
           "https://www.procyclingstats.com/race/tour-de-france/2010/stage-3"
          ],
          [
           "https://www.procyclingstats.com/race/tour-de-france/2010/stage-4"
          ],
          [
           "https://www.procyclingstats.com/race/tour-de-france/2010/stage-5"
          ],
          [
           "https://www.procyclingstats.com/race/tour-de-france/2010/stage-6"
          ],
          [
           "https://www.procyclingstats.com/race/tour-de-france/2010/stage-7"
          ],
          [
           "https://www.procyclingstats.com/race/tour-de-france/2010/stage-8"
          ],
          [
           "https://www.procyclingstats.com/race/tour-de-france/2010/stage-9"
          ],
          [
           "https://www.procyclingstats.com/race/tour-de-france/2010/stage-10"
          ],
          [
           "https://www.procyclingstats.com/race/tour-de-france/2010/stage-11"
          ],
          [
           "https://www.procyclingstats.com/race/tour-de-france/2010/stage-12"
          ],
          [
           "https://www.procyclingstats.com/race/tour-de-france/2010/stage-13"
          ],
          [
           "https://www.procyclingstats.com/race/tour-de-france/2010/stage-14"
          ],
          [
           "https://www.procyclingstats.com/race/tour-de-france/2010/stage-15"
          ],
          [
           "https://www.procyclingstats.com/race/tour-de-france/2010/stage-16"
          ],
          [
           "https://www.procyclingstats.com/race/tour-de-france/2010/stage-17"
          ],
          [
           "https://www.procyclingstats.com/race/tour-de-france/2010/stage-18"
          ],
          [
           "https://www.procyclingstats.com/race/tour-de-france/2010/stage-20"
          ]
         ],
         "hovertemplate": "year=%{x}<br>power=%{y}<br>stage_url=%{customdata[0]}<extra></extra>",
         "legendgroup": "2010",
         "marker": {
          "color": "#19d3f3"
         },
         "name": "2010",
         "notched": false,
         "offsetgroup": "2010",
         "orientation": "v",
         "showlegend": true,
         "type": "box",
         "x": [
          2010,
          2010,
          2010,
          2010,
          2010,
          2010,
          2010,
          2010,
          2010,
          2010,
          2010,
          2010,
          2010,
          2010,
          2010,
          2010,
          2010,
          2010,
          2010
         ],
         "x0": " ",
         "xaxis": "x",
         "y": [
          335.38875460195953,
          267.4136385058446,
          392.6895361937741,
          381.0325243925831,
          352.6067644084969,
          357.95954888442753,
          412.3785635469213,
          378.31899420842825,
          371.2085834518308,
          145.75660041922762,
          187.36068159532817,
          264.14300109642386,
          275.2393981505324,
          391.1058352355952,
          334.43853506663214,
          320.02823717354704,
          375.2416695530385,
          349.464578049813,
          245.01040010121383
         ],
         "y0": " ",
         "yaxis": "y"
        },
        {
         "alignmentgroup": "True",
         "customdata": [
          [
           "https://www.procyclingstats.com/race/tour-de-france/2011/stage-1"
          ],
          [
           "https://www.procyclingstats.com/race/tour-de-france/2011/stage-3"
          ],
          [
           "https://www.procyclingstats.com/race/tour-de-france/2011/stage-4"
          ],
          [
           "https://www.procyclingstats.com/race/tour-de-france/2011/stage-5"
          ],
          [
           "https://www.procyclingstats.com/race/tour-de-france/2011/stage-6"
          ],
          [
           "https://www.procyclingstats.com/race/tour-de-france/2011/stage-7"
          ],
          [
           "https://www.procyclingstats.com/race/tour-de-france/2011/stage-8"
          ],
          [
           "https://www.procyclingstats.com/race/tour-de-france/2011/stage-9"
          ],
          [
           "https://www.procyclingstats.com/race/tour-de-france/2011/stage-10"
          ],
          [
           "https://www.procyclingstats.com/race/tour-de-france/2011/stage-11"
          ],
          [
           "https://www.procyclingstats.com/race/tour-de-france/2011/stage-12"
          ],
          [
           "https://www.procyclingstats.com/race/tour-de-france/2011/stage-13"
          ],
          [
           "https://www.procyclingstats.com/race/tour-de-france/2011/stage-14"
          ],
          [
           "https://www.procyclingstats.com/race/tour-de-france/2011/stage-15"
          ],
          [
           "https://www.procyclingstats.com/race/tour-de-france/2011/stage-16"
          ],
          [
           "https://www.procyclingstats.com/race/tour-de-france/2011/stage-17"
          ],
          [
           "https://www.procyclingstats.com/race/tour-de-france/2011/stage-18"
          ],
          [
           "https://www.procyclingstats.com/race/tour-de-france/2011/stage-19"
          ],
          [
           "https://www.procyclingstats.com/race/tour-de-france/2011/stage-21"
          ]
         ],
         "hovertemplate": "year=%{x}<br>power=%{y}<br>stage_url=%{customdata[0]}<extra></extra>",
         "legendgroup": "2011",
         "marker": {
          "color": "#FF6692"
         },
         "name": "2011",
         "notched": false,
         "offsetgroup": "2011",
         "orientation": "v",
         "showlegend": true,
         "type": "box",
         "x": [
          2011,
          2011,
          2011,
          2011,
          2011,
          2011,
          2011,
          2011,
          2011,
          2011,
          2011,
          2011,
          2011,
          2011,
          2011,
          2011,
          2011,
          2011,
          2011
         ],
         "x0": " ",
         "xaxis": "x",
         "y": [
          211.38532142811556,
          353.11474591061113,
          242.86861140909943,
          472.2410736825828,
          267.64929689745475,
          272.496295819818,
          439.3372166619452,
          212.91132619605804,
          308.6456114479024,
          283.69427191502325,
          364.94456628936615,
          338.4108046319078,
          428.42166501563815,
          412.6558960129191,
          418.2040707359432,
          380.1756529490728,
          357.3783958033632,
          451.1027338153162,
          261.69511830343447
         ],
         "y0": " ",
         "yaxis": "y"
        },
        {
         "alignmentgroup": "True",
         "customdata": [
          [
           "https://www.procyclingstats.com/race/tour-de-france/2012/stage-1"
          ],
          [
           "https://www.procyclingstats.com/race/tour-de-france/2012/stage-2"
          ],
          [
           "https://www.procyclingstats.com/race/tour-de-france/2012/stage-3"
          ],
          [
           "https://www.procyclingstats.com/race/tour-de-france/2012/stage-4"
          ],
          [
           "https://www.procyclingstats.com/race/tour-de-france/2012/stage-5"
          ],
          [
           "https://www.procyclingstats.com/race/tour-de-france/2012/stage-6"
          ],
          [
           "https://www.procyclingstats.com/race/tour-de-france/2012/stage-7"
          ],
          [
           "https://www.procyclingstats.com/race/tour-de-france/2012/stage-8"
          ],
          [
           "https://www.procyclingstats.com/race/tour-de-france/2012/stage-10"
          ],
          [
           "https://www.procyclingstats.com/race/tour-de-france/2012/stage-11"
          ],
          [
           "https://www.procyclingstats.com/race/tour-de-france/2012/stage-12"
          ],
          [
           "https://www.procyclingstats.com/race/tour-de-france/2012/stage-13"
          ],
          [
           "https://www.procyclingstats.com/race/tour-de-france/2012/stage-14"
          ],
          [
           "https://www.procyclingstats.com/race/tour-de-france/2012/stage-15"
          ],
          [
           "https://www.procyclingstats.com/race/tour-de-france/2012/stage-16"
          ],
          [
           "https://www.procyclingstats.com/race/tour-de-france/2012/stage-17"
          ],
          [
           "https://www.procyclingstats.com/race/tour-de-france/2012/stage-18"
          ],
          [
           "https://www.procyclingstats.com/race/tour-de-france/2012/stage-20"
          ]
         ],
         "hovertemplate": "year=%{x}<br>power=%{y}<br>stage_url=%{customdata[0]}<extra></extra>",
         "legendgroup": "2012",
         "marker": {
          "color": "#B6E880"
         },
         "name": "2012",
         "notched": false,
         "offsetgroup": "2012",
         "orientation": "v",
         "showlegend": true,
         "type": "box",
         "x": [
          2012,
          2012,
          2012,
          2012,
          2012,
          2012,
          2012,
          2012,
          2012,
          2012,
          2012,
          2012,
          2012,
          2012,
          2012,
          2012,
          2012,
          2012
         ],
         "x0": " ",
         "xaxis": "x",
         "y": [
          223.6943798808404,
          360.4947003099427,
          231.3180112848912,
          334.17994207808414,
          350.33294142084446,
          420.8736642981789,
          368.0033515837179,
          397.7355014512349,
          375.93082837104896,
          446.7937488114555,
          322.7931122977058,
          408.066230092432,
          323.3436905914508,
          397.884421814552,
          386.219088213825,
          470.1016358410697,
          464.432927056432,
          269.0825021290224
         ],
         "y0": " ",
         "yaxis": "y"
        },
        {
         "alignmentgroup": "True",
         "customdata": [
          [
           "https://www.procyclingstats.com/race/tour-de-france/2013/stage-1"
          ],
          [
           "https://www.procyclingstats.com/race/tour-de-france/2013/stage-2"
          ],
          [
           "https://www.procyclingstats.com/race/tour-de-france/2013/stage-3"
          ],
          [
           "https://www.procyclingstats.com/race/tour-de-france/2013/stage-5"
          ],
          [
           "https://www.procyclingstats.com/race/tour-de-france/2013/stage-6"
          ],
          [
           "https://www.procyclingstats.com/race/tour-de-france/2013/stage-7"
          ],
          [
           "https://www.procyclingstats.com/race/tour-de-france/2013/stage-8"
          ],
          [
           "https://www.procyclingstats.com/race/tour-de-france/2013/stage-9"
          ],
          [
           "https://www.procyclingstats.com/race/tour-de-france/2013/stage-10"
          ],
          [
           "https://www.procyclingstats.com/race/tour-de-france/2013/stage-12"
          ],
          [
           "https://www.procyclingstats.com/race/tour-de-france/2013/stage-13"
          ],
          [
           "https://www.procyclingstats.com/race/tour-de-france/2013/stage-14"
          ],
          [
           "https://www.procyclingstats.com/race/tour-de-france/2013/stage-15"
          ],
          [
           "https://www.procyclingstats.com/race/tour-de-france/2013/stage-16"
          ],
          [
           "https://www.procyclingstats.com/race/tour-de-france/2013/stage-18"
          ],
          [
           "https://www.procyclingstats.com/race/tour-de-france/2013/stage-19"
          ],
          [
           "https://www.procyclingstats.com/race/tour-de-france/2013/stage-20"
          ],
          [
           "https://www.procyclingstats.com/race/tour-de-france/2013/stage-21"
          ]
         ],
         "hovertemplate": "year=%{x}<br>power=%{y}<br>stage_url=%{customdata[0]}<extra></extra>",
         "legendgroup": "2013",
         "marker": {
          "color": "#FF97FF"
         },
         "name": "2013",
         "notched": false,
         "offsetgroup": "2013",
         "orientation": "v",
         "showlegend": true,
         "type": "box",
         "x": [
          2013,
          2013,
          2013,
          2013,
          2013,
          2013,
          2013,
          2013,
          2013,
          2013,
          2013,
          2013,
          2013,
          2013,
          2013,
          2013,
          2013,
          2013
         ],
         "x0": " ",
         "xaxis": "x",
         "y": [
          386.97181014093775,
          358.6707510312815,
          220.40993312282157,
          231.0982389276944,
          384.2724392865578,
          248.57205082854864,
          397.09961844032273,
          371.1197294641521,
          329.6267506908931,
          419.0546197615601,
          459.92720356859047,
          268.74027731752426,
          424.78287651959977,
          385.6389681757889,
          424.6963637744428,
          343.36599278088016,
          444.11285206357616,
          262.02772123575454
         ],
         "y0": " ",
         "yaxis": "y"
        },
        {
         "alignmentgroup": "True",
         "customdata": [
          [
           "https://www.procyclingstats.com/race/tour-de-france/2014/stage-1"
          ],
          [
           "https://www.procyclingstats.com/race/tour-de-france/2014/stage-2"
          ],
          [
           "https://www.procyclingstats.com/race/tour-de-france/2014/stage-3"
          ],
          [
           "https://www.procyclingstats.com/race/tour-de-france/2014/stage-4"
          ],
          [
           "https://www.procyclingstats.com/race/tour-de-france/2014/stage-5"
          ],
          [
           "https://www.procyclingstats.com/race/tour-de-france/2014/stage-6"
          ],
          [
           "https://www.procyclingstats.com/race/tour-de-france/2014/stage-7"
          ],
          [
           "https://www.procyclingstats.com/race/tour-de-france/2014/stage-8"
          ],
          [
           "https://www.procyclingstats.com/race/tour-de-france/2014/stage-9"
          ],
          [
           "https://www.procyclingstats.com/race/tour-de-france/2014/stage-10"
          ],
          [
           "https://www.procyclingstats.com/race/tour-de-france/2014/stage-11"
          ],
          [
           "https://www.procyclingstats.com/race/tour-de-france/2014/stage-12"
          ],
          [
           "https://www.procyclingstats.com/race/tour-de-france/2014/stage-13"
          ],
          [
           "https://www.procyclingstats.com/race/tour-de-france/2014/stage-14"
          ],
          [
           "https://www.procyclingstats.com/race/tour-de-france/2014/stage-15"
          ],
          [
           "https://www.procyclingstats.com/race/tour-de-france/2014/stage-16"
          ],
          [
           "https://www.procyclingstats.com/race/tour-de-france/2014/stage-17"
          ],
          [
           "https://www.procyclingstats.com/race/tour-de-france/2014/stage-18"
          ],
          [
           "https://www.procyclingstats.com/race/tour-de-france/2014/stage-19"
          ],
          [
           "https://www.procyclingstats.com/race/tour-de-france/2014/stage-21"
          ]
         ],
         "hovertemplate": "year=%{x}<br>power=%{y}<br>stage_url=%{customdata[0]}<extra></extra>",
         "legendgroup": "2014",
         "marker": {
          "color": "#FECB52"
         },
         "name": "2014",
         "notched": false,
         "offsetgroup": "2014",
         "orientation": "v",
         "showlegend": true,
         "type": "box",
         "x": [
          2014,
          2014,
          2014,
          2014,
          2014,
          2014,
          2014,
          2014,
          2014,
          2014,
          2014,
          2014,
          2014,
          2014,
          2014,
          2014,
          2014,
          2014,
          2014,
          2014
         ],
         "x0": " ",
         "xaxis": "x",
         "y": [
          221.1337160488193,
          214.03535294626116,
          345.6950553648264,
          423.0490892402348,
          429.807474270517,
          452.7608308776286,
          267.30182970358493,
          346.28125326111103,
          389.8844083123555,
          395.2046426616737,
          255.79353033658805,
          231.00500025045525,
          374.3938233037996,
          394.8834428928611,
          419.6971851253624,
          308.08993328848646,
          431.51423654705394,
          403.02824435396167,
          403.4228787592752,
          316.0642929128472
         ],
         "y0": " ",
         "yaxis": "y"
        },
        {
         "alignmentgroup": "True",
         "customdata": [
          [
           "https://www.procyclingstats.com/race/tour-de-france/2015/stage-2"
          ],
          [
           "https://www.procyclingstats.com/race/tour-de-france/2015/stage-3"
          ],
          [
           "https://www.procyclingstats.com/race/tour-de-france/2015/stage-4"
          ],
          [
           "https://www.procyclingstats.com/race/tour-de-france/2015/stage-5"
          ],
          [
           "https://www.procyclingstats.com/race/tour-de-france/2015/stage-6"
          ],
          [
           "https://www.procyclingstats.com/race/tour-de-france/2015/stage-7"
          ],
          [
           "https://www.procyclingstats.com/race/tour-de-france/2015/stage-8"
          ],
          [
           "https://www.procyclingstats.com/race/tour-de-france/2015/stage-10"
          ],
          [
           "https://www.procyclingstats.com/race/tour-de-france/2015/stage-11"
          ],
          [
           "https://www.procyclingstats.com/race/tour-de-france/2015/stage-12"
          ],
          [
           "https://www.procyclingstats.com/race/tour-de-france/2015/stage-13"
          ],
          [
           "https://www.procyclingstats.com/race/tour-de-france/2015/stage-14"
          ],
          [
           "https://www.procyclingstats.com/race/tour-de-france/2015/stage-15"
          ],
          [
           "https://www.procyclingstats.com/race/tour-de-france/2015/stage-16"
          ],
          [
           "https://www.procyclingstats.com/race/tour-de-france/2015/stage-17"
          ],
          [
           "https://www.procyclingstats.com/race/tour-de-france/2015/stage-18"
          ],
          [
           "https://www.procyclingstats.com/race/tour-de-france/2015/stage-19"
          ],
          [
           "https://www.procyclingstats.com/race/tour-de-france/2015/stage-20"
          ],
          [
           "https://www.procyclingstats.com/race/tour-de-france/2015/stage-21"
          ]
         ],
         "hovertemplate": "year=%{x}<br>power=%{y}<br>stage_url=%{customdata[0]}<extra></extra>",
         "legendgroup": "2015",
         "marker": {
          "color": "#636efa"
         },
         "name": "2015",
         "notched": false,
         "offsetgroup": "2015",
         "orientation": "v",
         "showlegend": true,
         "type": "box",
         "x": [
          2015,
          2015,
          2015,
          2015,
          2015,
          2015,
          2015,
          2015,
          2015,
          2015,
          2015,
          2015,
          2015,
          2015,
          2015,
          2015,
          2015,
          2015,
          2015
         ],
         "x0": " ",
         "xaxis": "x",
         "y": [
          436.9462475683313,
          306.0655680583222,
          328.1525808571062,
          342.245637040366,
          194.99856053557755,
          383.1569955751872,
          237.6505658080997,
          345.39570413813334,
          387.68218634118745,
          374.05568452362127,
          242.36450469369709,
          371.5216962137755,
          315.88178508039465,
          316.749841867143,
          447.2395532900209,
          360.3739563743504,
          407.655369153142,
          400.8358417498148,
          267.2323424988304
         ],
         "y0": " ",
         "yaxis": "y"
        },
        {
         "alignmentgroup": "True",
         "customdata": [
          [
           "https://www.procyclingstats.com/race/tour-de-france/2016/stage-1"
          ],
          [
           "https://www.procyclingstats.com/race/tour-de-france/2016/stage-2"
          ],
          [
           "https://www.procyclingstats.com/race/tour-de-france/2016/stage-3"
          ],
          [
           "https://www.procyclingstats.com/race/tour-de-france/2016/stage-4"
          ],
          [
           "https://www.procyclingstats.com/race/tour-de-france/2016/stage-5"
          ],
          [
           "https://www.procyclingstats.com/race/tour-de-france/2016/stage-6"
          ],
          [
           "https://www.procyclingstats.com/race/tour-de-france/2016/stage-7"
          ],
          [
           "https://www.procyclingstats.com/race/tour-de-france/2016/stage-8"
          ],
          [
           "https://www.procyclingstats.com/race/tour-de-france/2016/stage-9"
          ],
          [
           "https://www.procyclingstats.com/race/tour-de-france/2016/stage-10"
          ],
          [
           "https://www.procyclingstats.com/race/tour-de-france/2016/stage-11"
          ],
          [
           "https://www.procyclingstats.com/race/tour-de-france/2016/stage-12"
          ],
          [
           "https://www.procyclingstats.com/race/tour-de-france/2016/stage-14"
          ],
          [
           "https://www.procyclingstats.com/race/tour-de-france/2016/stage-15"
          ],
          [
           "https://www.procyclingstats.com/race/tour-de-france/2016/stage-16"
          ],
          [
           "https://www.procyclingstats.com/race/tour-de-france/2016/stage-17"
          ],
          [
           "https://www.procyclingstats.com/race/tour-de-france/2016/stage-19"
          ],
          [
           "https://www.procyclingstats.com/race/tour-de-france/2016/stage-20"
          ],
          [
           "https://www.procyclingstats.com/race/tour-de-france/2016/stage-21"
          ]
         ],
         "hovertemplate": "year=%{x}<br>power=%{y}<br>stage_url=%{customdata[0]}<extra></extra>",
         "legendgroup": "2016",
         "marker": {
          "color": "#EF553B"
         },
         "name": "2016",
         "notched": false,
         "offsetgroup": "2016",
         "orientation": "v",
         "showlegend": true,
         "type": "box",
         "x": [
          2016,
          2016,
          2016,
          2016,
          2016,
          2016,
          2016,
          2016,
          2016,
          2016,
          2016,
          2016,
          2016,
          2016,
          2016,
          2016,
          2016,
          2016,
          2016
         ],
         "x0": " ",
         "xaxis": "x",
         "y": [
          262.0952539628529,
          246.7485958994789,
          172.27720245270905,
          256.9762522205851,
          371.1358586933227,
          216.71558759912543,
          387.87072931826987,
          383.50005060034334,
          398.274410580498,
          352.99380868567465,
          322.7968862154513,
          323.1054229925997,
          159.96391718893017,
          383.5965707515473,
          324.1749568740436,
          420.2659306426144,
          439.1519502334947,
          379.1256861036286,
          333.94988340256134
         ],
         "y0": " ",
         "yaxis": "y"
        },
        {
         "alignmentgroup": "True",
         "customdata": [
          [
           "https://www.procyclingstats.com/race/tour-de-france/2017/stage-2"
          ],
          [
           "https://www.procyclingstats.com/race/tour-de-france/2017/stage-3"
          ],
          [
           "https://www.procyclingstats.com/race/tour-de-france/2017/stage-4"
          ],
          [
           "https://www.procyclingstats.com/race/tour-de-france/2017/stage-5"
          ],
          [
           "https://www.procyclingstats.com/race/tour-de-france/2017/stage-6"
          ],
          [
           "https://www.procyclingstats.com/race/tour-de-france/2017/stage-7"
          ],
          [
           "https://www.procyclingstats.com/race/tour-de-france/2017/stage-8"
          ],
          [
           "https://www.procyclingstats.com/race/tour-de-france/2017/stage-9"
          ],
          [
           "https://www.procyclingstats.com/race/tour-de-france/2017/stage-10"
          ],
          [
           "https://www.procyclingstats.com/race/tour-de-france/2017/stage-11"
          ],
          [
           "https://www.procyclingstats.com/race/tour-de-france/2017/stage-12"
          ],
          [
           "https://www.procyclingstats.com/race/tour-de-france/2017/stage-13"
          ],
          [
           "https://www.procyclingstats.com/race/tour-de-france/2017/stage-14"
          ],
          [
           "https://www.procyclingstats.com/race/tour-de-france/2017/stage-15"
          ],
          [
           "https://www.procyclingstats.com/race/tour-de-france/2017/stage-16"
          ],
          [
           "https://www.procyclingstats.com/race/tour-de-france/2017/stage-17"
          ],
          [
           "https://www.procyclingstats.com/race/tour-de-france/2017/stage-18"
          ],
          [
           "https://www.procyclingstats.com/race/tour-de-france/2017/stage-19"
          ],
          [
           "https://www.procyclingstats.com/race/tour-de-france/2017/stage-21"
          ]
         ],
         "hovertemplate": "year=%{x}<br>power=%{y}<br>stage_url=%{customdata[0]}<extra></extra>",
         "legendgroup": "2017",
         "marker": {
          "color": "#00cc96"
         },
         "name": "2017",
         "notched": false,
         "offsetgroup": "2017",
         "orientation": "v",
         "showlegend": true,
         "type": "box",
         "x": [
          2017,
          2017,
          2017,
          2017,
          2017,
          2017,
          2017,
          2017,
          2017,
          2017,
          2017,
          2017,
          2017,
          2017,
          2017,
          2017,
          2017,
          2017,
          2017
         ],
         "x0": " ",
         "xaxis": "x",
         "y": [
          392.7814134845256,
          392.7167808650832,
          357.9057694104984,
          415.62062638395935,
          367.92539713656447,
          358.229792035753,
          397.8344172617474,
          364.0642855473409,
          411.6325260300346,
          395.448808090987,
          384.0628275254777,
          418.69764708620914,
          365.02969891223086,
          221.47018137927853,
          479.9383705033789,
          383.4083438073012,
          427.7858345082656,
          389.1459255668327,
          359.2620140260269
         ],
         "y0": " ",
         "yaxis": "y"
        },
        {
         "alignmentgroup": "True",
         "customdata": [
          [
           "https://www.procyclingstats.com/race/tour-de-france/2018/stage-1"
          ],
          [
           "https://www.procyclingstats.com/race/tour-de-france/2018/stage-2"
          ],
          [
           "https://www.procyclingstats.com/race/tour-de-france/2018/stage-4"
          ],
          [
           "https://www.procyclingstats.com/race/tour-de-france/2018/stage-5"
          ],
          [
           "https://www.procyclingstats.com/race/tour-de-france/2018/stage-6"
          ],
          [
           "https://www.procyclingstats.com/race/tour-de-france/2018/stage-7"
          ],
          [
           "https://www.procyclingstats.com/race/tour-de-france/2018/stage-8"
          ],
          [
           "https://www.procyclingstats.com/race/tour-de-france/2018/stage-9"
          ],
          [
           "https://www.procyclingstats.com/race/tour-de-france/2018/stage-10"
          ],
          [
           "https://www.procyclingstats.com/race/tour-de-france/2018/stage-11"
          ],
          [
           "https://www.procyclingstats.com/race/tour-de-france/2018/stage-12"
          ],
          [
           "https://www.procyclingstats.com/race/tour-de-france/2018/stage-13"
          ],
          [
           "https://www.procyclingstats.com/race/tour-de-france/2018/stage-14"
          ],
          [
           "https://www.procyclingstats.com/race/tour-de-france/2018/stage-15"
          ],
          [
           "https://www.procyclingstats.com/race/tour-de-france/2018/stage-16"
          ],
          [
           "https://www.procyclingstats.com/race/tour-de-france/2018/stage-17"
          ],
          [
           "https://www.procyclingstats.com/race/tour-de-france/2018/stage-18"
          ],
          [
           "https://www.procyclingstats.com/race/tour-de-france/2018/stage-19"
          ],
          [
           "https://www.procyclingstats.com/race/tour-de-france/2018/stage-21"
          ]
         ],
         "hovertemplate": "year=%{x}<br>power=%{y}<br>stage_url=%{customdata[0]}<extra></extra>",
         "legendgroup": "2018",
         "marker": {
          "color": "#ab63fa"
         },
         "name": "2018",
         "notched": false,
         "offsetgroup": "2018",
         "orientation": "v",
         "showlegend": true,
         "type": "box",
         "x": [
          2018,
          2018,
          2018,
          2018,
          2018,
          2018,
          2018,
          2018,
          2018,
          2018,
          2018,
          2018,
          2018,
          2018,
          2018,
          2018,
          2018,
          2018,
          2018
         ],
         "x0": " ",
         "xaxis": "x",
         "y": [
          394.8478119416639,
          420.8356884257798,
          393.5757666452486,
          261.2598018833705,
          257.231860702174,
          344.0565483503185,
          337.9516826861264,
          417.5632047274837,
          397.280171556184,
          462.4554544886427,
          428.1872191149843,
          429.9019897447874,
          201.78293119892328,
          327.9243139346748,
          355.9472622114123,
          500.6700836441244,
          435.271842481322,
          387.1044322544191,
          340.824114631294
         ],
         "y0": " ",
         "yaxis": "y"
        },
        {
         "alignmentgroup": "True",
         "customdata": [
          [
           "https://www.procyclingstats.com/race/tour-de-france/2019/stage-1"
          ],
          [
           "https://www.procyclingstats.com/race/tour-de-france/2019/stage-3"
          ],
          [
           "https://www.procyclingstats.com/race/tour-de-france/2019/stage-4"
          ],
          [
           "https://www.procyclingstats.com/race/tour-de-france/2019/stage-5"
          ],
          [
           "https://www.procyclingstats.com/race/tour-de-france/2019/stage-6"
          ],
          [
           "https://www.procyclingstats.com/race/tour-de-france/2019/stage-7"
          ],
          [
           "https://www.procyclingstats.com/race/tour-de-france/2019/stage-8"
          ],
          [
           "https://www.procyclingstats.com/race/tour-de-france/2019/stage-9"
          ],
          [
           "https://www.procyclingstats.com/race/tour-de-france/2019/stage-10"
          ],
          [
           "https://www.procyclingstats.com/race/tour-de-france/2019/stage-11"
          ],
          [
           "https://www.procyclingstats.com/race/tour-de-france/2019/stage-12"
          ],
          [
           "https://www.procyclingstats.com/race/tour-de-france/2019/stage-14"
          ],
          [
           "https://www.procyclingstats.com/race/tour-de-france/2019/stage-15"
          ],
          [
           "https://www.procyclingstats.com/race/tour-de-france/2019/stage-16"
          ],
          [
           "https://www.procyclingstats.com/race/tour-de-france/2019/stage-17"
          ],
          [
           "https://www.procyclingstats.com/race/tour-de-france/2019/stage-18"
          ],
          [
           "https://www.procyclingstats.com/race/tour-de-france/2019/stage-19"
          ],
          [
           "https://www.procyclingstats.com/race/tour-de-france/2019/stage-20"
          ],
          [
           "https://www.procyclingstats.com/race/tour-de-france/2019/stage-21"
          ]
         ],
         "hovertemplate": "year=%{x}<br>power=%{y}<br>stage_url=%{customdata[0]}<extra></extra>",
         "legendgroup": "2019",
         "marker": {
          "color": "#FFA15A"
         },
         "name": "2019",
         "notched": false,
         "offsetgroup": "2019",
         "orientation": "v",
         "showlegend": true,
         "type": "box",
         "x": [
          2019,
          2019,
          2019,
          2019,
          2019,
          2019,
          2019,
          2019,
          2019,
          2019,
          2019,
          2019,
          2019,
          2019,
          2019,
          2019,
          2019,
          2019,
          2019
         ],
         "x0": " ",
         "xaxis": "x",
         "y": [
          272.22907255170327,
          304.29621383054746,
          217.98694138439865,
          267.6408762697816,
          365.16371007132113,
          178.8006434505483,
          231.7019558290613,
          214.46708316600285,
          298.05531741320067,
          258.4472865758254,
          324.3010448325298,
          424.1654778116892,
          417.0745406388753,
          277.8721906449715,
          251.46787641169288,
          358.02692755786444,
          413.9050979817105,
          420.7236782559369,
          329.59011071077833
         ],
         "y0": " ",
         "yaxis": "y"
        },
        {
         "alignmentgroup": "True",
         "customdata": [
          [
           "https://www.procyclingstats.com/race/tour-de-france/2020/stage-1"
          ],
          [
           "https://www.procyclingstats.com/race/tour-de-france/2020/stage-2"
          ],
          [
           "https://www.procyclingstats.com/race/tour-de-france/2020/stage-3"
          ],
          [
           "https://www.procyclingstats.com/race/tour-de-france/2020/stage-4"
          ],
          [
           "https://www.procyclingstats.com/race/tour-de-france/2020/stage-5"
          ],
          [
           "https://www.procyclingstats.com/race/tour-de-france/2020/stage-6"
          ],
          [
           "https://www.procyclingstats.com/race/tour-de-france/2020/stage-7"
          ],
          [
           "https://www.procyclingstats.com/race/tour-de-france/2020/stage-8"
          ],
          [
           "https://www.procyclingstats.com/race/tour-de-france/2020/stage-9"
          ],
          [
           "https://www.procyclingstats.com/race/tour-de-france/2020/stage-10"
          ],
          [
           "https://www.procyclingstats.com/race/tour-de-france/2020/stage-11"
          ],
          [
           "https://www.procyclingstats.com/race/tour-de-france/2020/stage-12"
          ],
          [
           "https://www.procyclingstats.com/race/tour-de-france/2020/stage-13"
          ],
          [
           "https://www.procyclingstats.com/race/tour-de-france/2020/stage-14"
          ],
          [
           "https://www.procyclingstats.com/race/tour-de-france/2020/stage-15"
          ],
          [
           "https://www.procyclingstats.com/race/tour-de-france/2020/stage-16"
          ],
          [
           "https://www.procyclingstats.com/race/tour-de-france/2020/stage-17"
          ],
          [
           "https://www.procyclingstats.com/race/tour-de-france/2020/stage-18"
          ],
          [
           "https://www.procyclingstats.com/race/tour-de-france/2020/stage-19"
          ],
          [
           "https://www.procyclingstats.com/race/tour-de-france/2020/stage-21"
          ]
         ],
         "hovertemplate": "year=%{x}<br>power=%{y}<br>stage_url=%{customdata[0]}<extra></extra>",
         "legendgroup": "2020",
         "marker": {
          "color": "#19d3f3"
         },
         "name": "2020",
         "notched": false,
         "offsetgroup": "2020",
         "orientation": "v",
         "showlegend": true,
         "type": "box",
         "x": [
          2020,
          2020,
          2020,
          2020,
          2020,
          2020,
          2020,
          2020,
          2020,
          2020,
          2020,
          2020,
          2020,
          2020,
          2020,
          2020,
          2020,
          2020,
          2020,
          2020
         ],
         "x0": " ",
         "xaxis": "x",
         "y": [
          232.99765308069112,
          342.4065174696891,
          185.5011387537843,
          385.9912284717436,
          345.9788803609513,
          382.05778794813807,
          335.46476922630325,
          318.2515785958526,
          385.11215535896025,
          431.6474196575701,
          330.90230477558856,
          254.21451167698297,
          405.2821844995814,
          361.1289973619328,
          399.2892279714549,
          395.6629816167812,
          397.2612421106158,
          402.4791258691737,
          289.0546354975441,
          349.2307352936815
         ],
         "y0": " ",
         "yaxis": "y"
        },
        {
         "alignmentgroup": "True",
         "customdata": [
          [
           "https://www.procyclingstats.com/race/tour-de-france/2021/stage-1"
          ],
          [
           "https://www.procyclingstats.com/race/tour-de-france/2021/stage-2"
          ],
          [
           "https://www.procyclingstats.com/race/tour-de-france/2021/stage-3"
          ],
          [
           "https://www.procyclingstats.com/race/tour-de-france/2021/stage-4"
          ],
          [
           "https://www.procyclingstats.com/race/tour-de-france/2021/stage-6"
          ],
          [
           "https://www.procyclingstats.com/race/tour-de-france/2021/stage-7"
          ],
          [
           "https://www.procyclingstats.com/race/tour-de-france/2021/stage-8"
          ],
          [
           "https://www.procyclingstats.com/race/tour-de-france/2021/stage-9"
          ],
          [
           "https://www.procyclingstats.com/race/tour-de-france/2021/stage-10"
          ],
          [
           "https://www.procyclingstats.com/race/tour-de-france/2021/stage-11"
          ],
          [
           "https://www.procyclingstats.com/race/tour-de-france/2021/stage-12"
          ],
          [
           "https://www.procyclingstats.com/race/tour-de-france/2021/stage-13"
          ],
          [
           "https://www.procyclingstats.com/race/tour-de-france/2021/stage-14"
          ],
          [
           "https://www.procyclingstats.com/race/tour-de-france/2021/stage-15"
          ],
          [
           "https://www.procyclingstats.com/race/tour-de-france/2021/stage-16"
          ],
          [
           "https://www.procyclingstats.com/race/tour-de-france/2021/stage-17"
          ],
          [
           "https://www.procyclingstats.com/race/tour-de-france/2021/stage-18"
          ],
          [
           "https://www.procyclingstats.com/race/tour-de-france/2021/stage-19"
          ],
          [
           "https://www.procyclingstats.com/race/tour-de-france/2021/stage-21"
          ]
         ],
         "hovertemplate": "year=%{x}<br>power=%{y}<br>stage_url=%{customdata[0]}<extra></extra>",
         "legendgroup": "2021",
         "marker": {
          "color": "#FF6692"
         },
         "name": "2021",
         "notched": false,
         "offsetgroup": "2021",
         "orientation": "v",
         "showlegend": true,
         "type": "box",
         "x": [
          2021,
          2021,
          2021,
          2021,
          2021,
          2021,
          2021,
          2021,
          2021,
          2021,
          2021,
          2021,
          2021,
          2021,
          2021,
          2021,
          2021,
          2021,
          2021
         ],
         "x0": " ",
         "xaxis": "x",
         "y": [
          256.6593642335089,
          257.5687369925625,
          292.0673958603121,
          451.9056189583087,
          516.906314097867,
          305.4304975226749,
          385.31852001338143,
          399.1544448479607,
          279.03588207030674,
          366.31196917223264,
          276.2087192903501,
          255.26744176535877,
          360.4376996353591,
          351.2895384867418,
          361.5212485220742,
          385.1079340746912,
          437.9902814211687,
          260.117625125823,
          316.52838050969024
         ],
         "y0": " ",
         "yaxis": "y"
        },
        {
         "alignmentgroup": "True",
         "customdata": [
          [
           "https://www.procyclingstats.com/race/tour-de-france/2022/stage-2"
          ],
          [
           "https://www.procyclingstats.com/race/tour-de-france/2022/stage-3"
          ],
          [
           "https://www.procyclingstats.com/race/tour-de-france/2022/stage-4"
          ],
          [
           "https://www.procyclingstats.com/race/tour-de-france/2022/stage-5"
          ],
          [
           "https://www.procyclingstats.com/race/tour-de-france/2022/stage-6"
          ],
          [
           "https://www.procyclingstats.com/race/tour-de-france/2022/stage-7"
          ],
          [
           "https://www.procyclingstats.com/race/tour-de-france/2022/stage-8"
          ],
          [
           "https://www.procyclingstats.com/race/tour-de-france/2022/stage-9"
          ],
          [
           "https://www.procyclingstats.com/race/tour-de-france/2022/stage-10"
          ],
          [
           "https://www.procyclingstats.com/race/tour-de-france/2022/stage-11"
          ],
          [
           "https://www.procyclingstats.com/race/tour-de-france/2022/stage-12"
          ],
          [
           "https://www.procyclingstats.com/race/tour-de-france/2022/stage-13"
          ],
          [
           "https://www.procyclingstats.com/race/tour-de-france/2022/stage-14"
          ],
          [
           "https://www.procyclingstats.com/race/tour-de-france/2022/stage-15"
          ],
          [
           "https://www.procyclingstats.com/race/tour-de-france/2022/stage-16"
          ],
          [
           "https://www.procyclingstats.com/race/tour-de-france/2022/stage-17"
          ],
          [
           "https://www.procyclingstats.com/race/tour-de-france/2022/stage-18"
          ],
          [
           "https://www.procyclingstats.com/race/tour-de-france/2022/stage-19"
          ],
          [
           "https://www.procyclingstats.com/race/tour-de-france/2022/stage-21"
          ]
         ],
         "hovertemplate": "year=%{x}<br>power=%{y}<br>stage_url=%{customdata[0]}<extra></extra>",
         "legendgroup": "2022",
         "marker": {
          "color": "#B6E880"
         },
         "name": "2022",
         "notched": false,
         "offsetgroup": "2022",
         "orientation": "v",
         "showlegend": true,
         "type": "box",
         "x": [
          2022,
          2022,
          2022,
          2022,
          2022,
          2022,
          2022,
          2022,
          2022,
          2022,
          2022,
          2022,
          2022,
          2022,
          2022,
          2022,
          2022,
          2022,
          2022
         ],
         "x0": " ",
         "xaxis": "x",
         "y": [
          394.8947165762118,
          390.48037555013445,
          405.6746309372553,
          484.365282897295,
          375.0603673956009,
          434.8638594271068,
          284.3465720929481,
          240.13610745268895,
          457.5820695774886,
          386.0180537565441,
          362.328742254767,
          280.26124389288265,
          238.0879149463324,
          297.0476851066671,
          344.3931069906251,
          423.6598853474285,
          409.3275047641777,
          342.5196135951151,
          271.4911157682912
         ],
         "y0": " ",
         "yaxis": "y"
        },
        {
         "alignmentgroup": "True",
         "customdata": [
          [
           "https://www.procyclingstats.com/race/tour-de-france/2023/stage-1"
          ],
          [
           "https://www.procyclingstats.com/race/tour-de-france/2023/stage-2"
          ],
          [
           "https://www.procyclingstats.com/race/tour-de-france/2023/stage-3"
          ],
          [
           "https://www.procyclingstats.com/race/tour-de-france/2023/stage-4"
          ],
          [
           "https://www.procyclingstats.com/race/tour-de-france/2023/stage-5"
          ],
          [
           "https://www.procyclingstats.com/race/tour-de-france/2023/stage-6"
          ],
          [
           "https://www.procyclingstats.com/race/tour-de-france/2023/stage-7"
          ],
          [
           "https://www.procyclingstats.com/race/tour-de-france/2023/stage-8"
          ],
          [
           "https://www.procyclingstats.com/race/tour-de-france/2023/stage-9"
          ],
          [
           "https://www.procyclingstats.com/race/tour-de-france/2023/stage-10"
          ],
          [
           "https://www.procyclingstats.com/race/tour-de-france/2023/stage-11"
          ],
          [
           "https://www.procyclingstats.com/race/tour-de-france/2023/stage-12"
          ],
          [
           "https://www.procyclingstats.com/race/tour-de-france/2023/stage-13"
          ],
          [
           "https://www.procyclingstats.com/race/tour-de-france/2023/stage-14"
          ],
          [
           "https://www.procyclingstats.com/race/tour-de-france/2023/stage-15"
          ],
          [
           "https://www.procyclingstats.com/race/tour-de-france/2023/stage-17"
          ],
          [
           "https://www.procyclingstats.com/race/tour-de-france/2023/stage-18"
          ],
          [
           "https://www.procyclingstats.com/race/tour-de-france/2023/stage-19"
          ],
          [
           "https://www.procyclingstats.com/race/tour-de-france/2023/stage-20"
          ],
          [
           "https://www.procyclingstats.com/race/tour-de-france/2023/stage-21"
          ]
         ],
         "hovertemplate": "year=%{x}<br>power=%{y}<br>stage_url=%{customdata[0]}<extra></extra>",
         "legendgroup": "2023",
         "marker": {
          "color": "#FF97FF"
         },
         "name": "2023",
         "notched": false,
         "offsetgroup": "2023",
         "orientation": "v",
         "showlegend": true,
         "type": "box",
         "x": [
          2023,
          2023,
          2023,
          2023,
          2023,
          2023,
          2023,
          2023,
          2023,
          2023,
          2023,
          2023,
          2023,
          2023,
          2023,
          2023,
          2023,
          2023,
          2023,
          2023
         ],
         "x0": " ",
         "xaxis": "x",
         "y": [
          248.27783910756895,
          272.9999452728968,
          228.7336818337955,
          328.17934690999067,
          402.4199404989888,
          418.46078787905856,
          394.4325054293272,
          333.160441538402,
          403.8427124288767,
          270.09975846532785,
          277.70639096228024,
          274.27252144578927,
          404.5150601451726,
          403.3398021674004,
          407.5942060850276,
          373.0859787649242,
          408.272072448542,
          307.4314162788779,
          391.7142301175096,
          270.6754915671137
         ],
         "y0": " ",
         "yaxis": "y"
        }
       ],
       "layout": {
        "boxmode": "overlay",
        "legend": {
         "title": {
          "text": "year"
         },
         "tracegroupgap": 0
        },
        "margin": {
         "t": 60
        },
        "template": {
         "data": {
          "bar": [
           {
            "error_x": {
             "color": "#2a3f5f"
            },
            "error_y": {
             "color": "#2a3f5f"
            },
            "marker": {
             "line": {
              "color": "#E5ECF6",
              "width": 0.5
             },
             "pattern": {
              "fillmode": "overlay",
              "size": 10,
              "solidity": 0.2
             }
            },
            "type": "bar"
           }
          ],
          "barpolar": [
           {
            "marker": {
             "line": {
              "color": "#E5ECF6",
              "width": 0.5
             },
             "pattern": {
              "fillmode": "overlay",
              "size": 10,
              "solidity": 0.2
             }
            },
            "type": "barpolar"
           }
          ],
          "carpet": [
           {
            "aaxis": {
             "endlinecolor": "#2a3f5f",
             "gridcolor": "white",
             "linecolor": "white",
             "minorgridcolor": "white",
             "startlinecolor": "#2a3f5f"
            },
            "baxis": {
             "endlinecolor": "#2a3f5f",
             "gridcolor": "white",
             "linecolor": "white",
             "minorgridcolor": "white",
             "startlinecolor": "#2a3f5f"
            },
            "type": "carpet"
           }
          ],
          "choropleth": [
           {
            "colorbar": {
             "outlinewidth": 0,
             "ticks": ""
            },
            "type": "choropleth"
           }
          ],
          "contour": [
           {
            "colorbar": {
             "outlinewidth": 0,
             "ticks": ""
            },
            "colorscale": [
             [
              0,
              "#0d0887"
             ],
             [
              0.1111111111111111,
              "#46039f"
             ],
             [
              0.2222222222222222,
              "#7201a8"
             ],
             [
              0.3333333333333333,
              "#9c179e"
             ],
             [
              0.4444444444444444,
              "#bd3786"
             ],
             [
              0.5555555555555556,
              "#d8576b"
             ],
             [
              0.6666666666666666,
              "#ed7953"
             ],
             [
              0.7777777777777778,
              "#fb9f3a"
             ],
             [
              0.8888888888888888,
              "#fdca26"
             ],
             [
              1,
              "#f0f921"
             ]
            ],
            "type": "contour"
           }
          ],
          "contourcarpet": [
           {
            "colorbar": {
             "outlinewidth": 0,
             "ticks": ""
            },
            "type": "contourcarpet"
           }
          ],
          "heatmap": [
           {
            "colorbar": {
             "outlinewidth": 0,
             "ticks": ""
            },
            "colorscale": [
             [
              0,
              "#0d0887"
             ],
             [
              0.1111111111111111,
              "#46039f"
             ],
             [
              0.2222222222222222,
              "#7201a8"
             ],
             [
              0.3333333333333333,
              "#9c179e"
             ],
             [
              0.4444444444444444,
              "#bd3786"
             ],
             [
              0.5555555555555556,
              "#d8576b"
             ],
             [
              0.6666666666666666,
              "#ed7953"
             ],
             [
              0.7777777777777778,
              "#fb9f3a"
             ],
             [
              0.8888888888888888,
              "#fdca26"
             ],
             [
              1,
              "#f0f921"
             ]
            ],
            "type": "heatmap"
           }
          ],
          "heatmapgl": [
           {
            "colorbar": {
             "outlinewidth": 0,
             "ticks": ""
            },
            "colorscale": [
             [
              0,
              "#0d0887"
             ],
             [
              0.1111111111111111,
              "#46039f"
             ],
             [
              0.2222222222222222,
              "#7201a8"
             ],
             [
              0.3333333333333333,
              "#9c179e"
             ],
             [
              0.4444444444444444,
              "#bd3786"
             ],
             [
              0.5555555555555556,
              "#d8576b"
             ],
             [
              0.6666666666666666,
              "#ed7953"
             ],
             [
              0.7777777777777778,
              "#fb9f3a"
             ],
             [
              0.8888888888888888,
              "#fdca26"
             ],
             [
              1,
              "#f0f921"
             ]
            ],
            "type": "heatmapgl"
           }
          ],
          "histogram": [
           {
            "marker": {
             "pattern": {
              "fillmode": "overlay",
              "size": 10,
              "solidity": 0.2
             }
            },
            "type": "histogram"
           }
          ],
          "histogram2d": [
           {
            "colorbar": {
             "outlinewidth": 0,
             "ticks": ""
            },
            "colorscale": [
             [
              0,
              "#0d0887"
             ],
             [
              0.1111111111111111,
              "#46039f"
             ],
             [
              0.2222222222222222,
              "#7201a8"
             ],
             [
              0.3333333333333333,
              "#9c179e"
             ],
             [
              0.4444444444444444,
              "#bd3786"
             ],
             [
              0.5555555555555556,
              "#d8576b"
             ],
             [
              0.6666666666666666,
              "#ed7953"
             ],
             [
              0.7777777777777778,
              "#fb9f3a"
             ],
             [
              0.8888888888888888,
              "#fdca26"
             ],
             [
              1,
              "#f0f921"
             ]
            ],
            "type": "histogram2d"
           }
          ],
          "histogram2dcontour": [
           {
            "colorbar": {
             "outlinewidth": 0,
             "ticks": ""
            },
            "colorscale": [
             [
              0,
              "#0d0887"
             ],
             [
              0.1111111111111111,
              "#46039f"
             ],
             [
              0.2222222222222222,
              "#7201a8"
             ],
             [
              0.3333333333333333,
              "#9c179e"
             ],
             [
              0.4444444444444444,
              "#bd3786"
             ],
             [
              0.5555555555555556,
              "#d8576b"
             ],
             [
              0.6666666666666666,
              "#ed7953"
             ],
             [
              0.7777777777777778,
              "#fb9f3a"
             ],
             [
              0.8888888888888888,
              "#fdca26"
             ],
             [
              1,
              "#f0f921"
             ]
            ],
            "type": "histogram2dcontour"
           }
          ],
          "mesh3d": [
           {
            "colorbar": {
             "outlinewidth": 0,
             "ticks": ""
            },
            "type": "mesh3d"
           }
          ],
          "parcoords": [
           {
            "line": {
             "colorbar": {
              "outlinewidth": 0,
              "ticks": ""
             }
            },
            "type": "parcoords"
           }
          ],
          "pie": [
           {
            "automargin": true,
            "type": "pie"
           }
          ],
          "scatter": [
           {
            "fillpattern": {
             "fillmode": "overlay",
             "size": 10,
             "solidity": 0.2
            },
            "type": "scatter"
           }
          ],
          "scatter3d": [
           {
            "line": {
             "colorbar": {
              "outlinewidth": 0,
              "ticks": ""
             }
            },
            "marker": {
             "colorbar": {
              "outlinewidth": 0,
              "ticks": ""
             }
            },
            "type": "scatter3d"
           }
          ],
          "scattercarpet": [
           {
            "marker": {
             "colorbar": {
              "outlinewidth": 0,
              "ticks": ""
             }
            },
            "type": "scattercarpet"
           }
          ],
          "scattergeo": [
           {
            "marker": {
             "colorbar": {
              "outlinewidth": 0,
              "ticks": ""
             }
            },
            "type": "scattergeo"
           }
          ],
          "scattergl": [
           {
            "marker": {
             "colorbar": {
              "outlinewidth": 0,
              "ticks": ""
             }
            },
            "type": "scattergl"
           }
          ],
          "scattermapbox": [
           {
            "marker": {
             "colorbar": {
              "outlinewidth": 0,
              "ticks": ""
             }
            },
            "type": "scattermapbox"
           }
          ],
          "scatterpolar": [
           {
            "marker": {
             "colorbar": {
              "outlinewidth": 0,
              "ticks": ""
             }
            },
            "type": "scatterpolar"
           }
          ],
          "scatterpolargl": [
           {
            "marker": {
             "colorbar": {
              "outlinewidth": 0,
              "ticks": ""
             }
            },
            "type": "scatterpolargl"
           }
          ],
          "scatterternary": [
           {
            "marker": {
             "colorbar": {
              "outlinewidth": 0,
              "ticks": ""
             }
            },
            "type": "scatterternary"
           }
          ],
          "surface": [
           {
            "colorbar": {
             "outlinewidth": 0,
             "ticks": ""
            },
            "colorscale": [
             [
              0,
              "#0d0887"
             ],
             [
              0.1111111111111111,
              "#46039f"
             ],
             [
              0.2222222222222222,
              "#7201a8"
             ],
             [
              0.3333333333333333,
              "#9c179e"
             ],
             [
              0.4444444444444444,
              "#bd3786"
             ],
             [
              0.5555555555555556,
              "#d8576b"
             ],
             [
              0.6666666666666666,
              "#ed7953"
             ],
             [
              0.7777777777777778,
              "#fb9f3a"
             ],
             [
              0.8888888888888888,
              "#fdca26"
             ],
             [
              1,
              "#f0f921"
             ]
            ],
            "type": "surface"
           }
          ],
          "table": [
           {
            "cells": {
             "fill": {
              "color": "#EBF0F8"
             },
             "line": {
              "color": "white"
             }
            },
            "header": {
             "fill": {
              "color": "#C8D4E3"
             },
             "line": {
              "color": "white"
             }
            },
            "type": "table"
           }
          ]
         },
         "layout": {
          "annotationdefaults": {
           "arrowcolor": "#2a3f5f",
           "arrowhead": 0,
           "arrowwidth": 1
          },
          "autotypenumbers": "strict",
          "coloraxis": {
           "colorbar": {
            "outlinewidth": 0,
            "ticks": ""
           }
          },
          "colorscale": {
           "diverging": [
            [
             0,
             "#8e0152"
            ],
            [
             0.1,
             "#c51b7d"
            ],
            [
             0.2,
             "#de77ae"
            ],
            [
             0.3,
             "#f1b6da"
            ],
            [
             0.4,
             "#fde0ef"
            ],
            [
             0.5,
             "#f7f7f7"
            ],
            [
             0.6,
             "#e6f5d0"
            ],
            [
             0.7,
             "#b8e186"
            ],
            [
             0.8,
             "#7fbc41"
            ],
            [
             0.9,
             "#4d9221"
            ],
            [
             1,
             "#276419"
            ]
           ],
           "sequential": [
            [
             0,
             "#0d0887"
            ],
            [
             0.1111111111111111,
             "#46039f"
            ],
            [
             0.2222222222222222,
             "#7201a8"
            ],
            [
             0.3333333333333333,
             "#9c179e"
            ],
            [
             0.4444444444444444,
             "#bd3786"
            ],
            [
             0.5555555555555556,
             "#d8576b"
            ],
            [
             0.6666666666666666,
             "#ed7953"
            ],
            [
             0.7777777777777778,
             "#fb9f3a"
            ],
            [
             0.8888888888888888,
             "#fdca26"
            ],
            [
             1,
             "#f0f921"
            ]
           ],
           "sequentialminus": [
            [
             0,
             "#0d0887"
            ],
            [
             0.1111111111111111,
             "#46039f"
            ],
            [
             0.2222222222222222,
             "#7201a8"
            ],
            [
             0.3333333333333333,
             "#9c179e"
            ],
            [
             0.4444444444444444,
             "#bd3786"
            ],
            [
             0.5555555555555556,
             "#d8576b"
            ],
            [
             0.6666666666666666,
             "#ed7953"
            ],
            [
             0.7777777777777778,
             "#fb9f3a"
            ],
            [
             0.8888888888888888,
             "#fdca26"
            ],
            [
             1,
             "#f0f921"
            ]
           ]
          },
          "colorway": [
           "#636efa",
           "#EF553B",
           "#00cc96",
           "#ab63fa",
           "#FFA15A",
           "#19d3f3",
           "#FF6692",
           "#B6E880",
           "#FF97FF",
           "#FECB52"
          ],
          "font": {
           "color": "#2a3f5f"
          },
          "geo": {
           "bgcolor": "white",
           "lakecolor": "white",
           "landcolor": "#E5ECF6",
           "showlakes": true,
           "showland": true,
           "subunitcolor": "white"
          },
          "hoverlabel": {
           "align": "left"
          },
          "hovermode": "closest",
          "mapbox": {
           "style": "light"
          },
          "paper_bgcolor": "white",
          "plot_bgcolor": "#E5ECF6",
          "polar": {
           "angularaxis": {
            "gridcolor": "white",
            "linecolor": "white",
            "ticks": ""
           },
           "bgcolor": "#E5ECF6",
           "radialaxis": {
            "gridcolor": "white",
            "linecolor": "white",
            "ticks": ""
           }
          },
          "scene": {
           "xaxis": {
            "backgroundcolor": "#E5ECF6",
            "gridcolor": "white",
            "gridwidth": 2,
            "linecolor": "white",
            "showbackground": true,
            "ticks": "",
            "zerolinecolor": "white"
           },
           "yaxis": {
            "backgroundcolor": "#E5ECF6",
            "gridcolor": "white",
            "gridwidth": 2,
            "linecolor": "white",
            "showbackground": true,
            "ticks": "",
            "zerolinecolor": "white"
           },
           "zaxis": {
            "backgroundcolor": "#E5ECF6",
            "gridcolor": "white",
            "gridwidth": 2,
            "linecolor": "white",
            "showbackground": true,
            "ticks": "",
            "zerolinecolor": "white"
           }
          },
          "shapedefaults": {
           "line": {
            "color": "#2a3f5f"
           }
          },
          "ternary": {
           "aaxis": {
            "gridcolor": "white",
            "linecolor": "white",
            "ticks": ""
           },
           "baxis": {
            "gridcolor": "white",
            "linecolor": "white",
            "ticks": ""
           },
           "bgcolor": "#E5ECF6",
           "caxis": {
            "gridcolor": "white",
            "linecolor": "white",
            "ticks": ""
           }
          },
          "title": {
           "x": 0.05
          },
          "xaxis": {
           "automargin": true,
           "gridcolor": "white",
           "linecolor": "white",
           "ticks": "",
           "title": {
            "standoff": 15
           },
           "zerolinecolor": "white",
           "zerolinewidth": 2
          },
          "yaxis": {
           "automargin": true,
           "gridcolor": "white",
           "linecolor": "white",
           "ticks": "",
           "title": {
            "standoff": 15
           },
           "zerolinecolor": "white",
           "zerolinewidth": 2
          }
         }
        },
        "xaxis": {
         "anchor": "y",
         "categoryarray": [
          1985,
          1986,
          1987,
          1988,
          1989,
          1990,
          1991,
          1992,
          1993,
          1994,
          1995,
          1996,
          1997,
          1998,
          1999,
          2000,
          2001,
          2002,
          2003,
          2004,
          2005,
          2006,
          2007,
          2008,
          2009,
          2010,
          2011,
          2012,
          2013,
          2014,
          2015,
          2016,
          2017,
          2018,
          2019,
          2020,
          2021,
          2022,
          2023
         ],
         "categoryorder": "array",
         "domain": [
          0,
          1
         ],
         "title": {
          "text": "year"
         }
        },
        "yaxis": {
         "anchor": "x",
         "domain": [
          0,
          1
         ],
         "title": {
          "text": "power"
         }
        }
       }
      }
     },
     "metadata": {},
     "output_type": "display_data"
    }
   ],
   "source": [
    "px.box(df[(df.stage_distance > 50) & (df.stage_type != \"ITT\")], x=\"year\", y=\"power\", hover_data=\"stage_url\", color=\"year\")"
   ]
  }
 ],
 "metadata": {
  "kernelspec": {
   "display_name": "Python 3.8.12 ('tf_27')",
   "language": "python",
   "name": "python3"
  },
  "language_info": {
   "codemirror_mode": {
    "name": "ipython",
    "version": 3
   },
   "file_extension": ".py",
   "mimetype": "text/x-python",
   "name": "python",
   "nbconvert_exporter": "python",
   "pygments_lexer": "ipython3",
   "version": "3.10.13"
  },
  "orig_nbformat": 4,
  "vscode": {
   "interpreter": {
    "hash": "026d596df1a9c90936e0a1b58c5e0cebd8aa7206170f4912021e32f2c9a9c065"
   }
  }
 },
 "nbformat": 4,
 "nbformat_minor": 2
}
