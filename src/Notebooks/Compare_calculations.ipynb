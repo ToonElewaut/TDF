{
 "cells": [
  {
   "cell_type": "markdown",
   "metadata": {},
   "source": [
    "Checking calculations compared to strava rider data for the 2023 TDF"
   ]
  },
  {
   "cell_type": "code",
   "execution_count": 5,
   "metadata": {},
   "outputs": [],
   "source": [
    "import numpy as np\n",
    "import pandas as pd\n",
    "from procyclingstats import Stage, Rider\n",
    "import power_helper as ph\n",
    "import plotly.express as px\n",
    "df = pd.read_csv(\"Data_edited.csv\").iloc[:,1:]\n",
    "df = df[df.year == 2023]"
   ]
  },
  {
   "cell_type": "code",
   "execution_count": 31,
   "metadata": {},
   "outputs": [],
   "source": [
    "# Get stage data for each person\n",
    "def to_seconds(time):\n",
    "    h, m, s = time.split(':')\n",
    "    return int(h) * 3600 + int(m) * 60 + int(s)\n",
    "\n",
    "# Get stages\n",
    "def get_stages(stage_index, name, df):\n",
    "    stage = Stage(df.iloc[stage_index].stage_url)\n",
    "    rider_stats = next(item for item in stage.results('rider_name', 'time', 'rider_url') if item['rider_name'] == name)\n",
    "    velocity = (stage.distance()*1000)/to_seconds(rider_stats['time'])\n",
    "    weight = Rider(rider_stats['rider_url']).weight()\n",
    "    return velocity, weight\n",
    "\n",
    "def get_velocities(velocities, np, name, df):\n",
    "    for i, avg in enumerate(np):\n",
    "        if avg != 0:\n",
    "            velocities.append(get_stages(i, name, df))\n",
    "        else:\n",
    "            velocities.append(0)\n",
    "    return velocities\n",
    "    \n",
    "def get_velocities_weights(velocities, weights,np, name, df):\n",
    "    for i, avg in enumerate(np):\n",
    "        if avg != 0:\n",
    "            v, w = get_stages(i, name, df)\n",
    "            velocities.append(v)\n",
    "            weights.append(w)\n",
    "        else:\n",
    "            velocities.append(0)\n",
    "            weights.append(0)\n",
    "            \n",
    "    return velocities, weights\n",
    "import power_helper as ph\n",
    "\n",
    "# 2023 TDF power numbers \n",
    "# Victor Campenaerts 72Kg Time trail\n",
    "# Florian Vermeersch 85Kg One day racer\n",
    "# JOHANNESSEN Tobias Halland 62kg  CLIMBER\n",
    "# Victor lafay 65kg CLIMBER\n",
    "# Egan Bernal 60 KG GC/climber\n",
    "# Michal Kwiatkowski 68KG GC/climber/TT\n",
    "# Stage 1: \n",
    "Campenaerts_avg = [237, 238, 201, 152, 296, 227, 186, 228, 247, 263, 185, 264, 174, 0, 0, 270, 246, 0, 0, 0, 179]\n",
    "Campenaerts_NP =  [306, 312, 253, 230, 353, 277, 244, 305, 319, 339, 252, 327, 237, 0, 0, 315, 287, 0, 0, 0, 268]\n",
    "Johannessen_avg=  [239, 223, 189, 144, 251, 282, 160, 199, 221, 249, 183, 000, 212, 242, 227, 316, 279, 173, 225, 280, 164]\n",
    "Johannessen_np =  [292, 284, 242, 205, 303, 322, 209, 257, 271, 310, 241, 000, 259, 289, 288, 330, 315, 231, 272, 334, 251]\n",
    "Lafay_avg      =  [254, 243, 214, 158, 260, 290, 192, 252, 231, 249, 217, 283, 255, 265, 000, 000, 261, 206, 258, 0, 0] #DNF last 2 stages\n",
    "Lafay_np       =  [308, 308, 275, 218, 306, 258, 249, 306, 271, 315, 273, 337, 290, 303, 000, 000, 302, 253, 303, 000, 000]\n",
    "Bernal_avg      = [219, 211, 180, 138, 243, 242, 160, 206, 211, 220, 206, 231, 241, 233, 210, 291, 145, 167, 208, 260, 144]\n",
    "Bernal_np       = [267, 265, 228, 200, 284, 284, 215, 258, 257, 273, 257, 282, 270, 282, 263, 298, 252, 210, 264, 299, 217]\n",
    "Kwiatowski_avg  = [226, 212, 189, 161, 240, 268, 193, 227, 278, 256, 197, 215, 270, 240, 216, 320, 272, 176, 216, 267, 151]\n",
    "Kwiatowski_np   = [286, 283, 250, 229, 302, 317, 248, 280, 228, 313, 260, 280, 315, 294, 270, 339, 320, 235, 289, 313, 250]\n",
    "\n",
    "# df['Campenaerts_velocities'] = get_velocities([], Campenaerts_NP, \"CAMPENAERTS Victor\", df)\n",
    "# df['Campenaerts_NP'] = Campenaerts_NP\n",
    "\n",
    "# df['JOHANNESSEN_velocities'] = get_velocities([], Johannessen_np, \"JOHANNESSEN Tobias Halland\", df)\n",
    "# df['JOHANNESSEN_NP'] = Johannessen_np\n",
    "\n",
    "# df['Lafay_velocities'] = get_velocities([], Lafay_np, \"LAFAY Victor\", df)\n",
    "# df['Lafay_NP'] = Lafay_np\n",
    "\n",
    "# df['Bernal_velocities'] = get_velocities([], Bernal_np, \"BERNAL Egan\", df)\n",
    "# df['Bernal_NP'] = Bernal_np\n",
    "\n",
    "# df['Kwiatkowski_velocities'] = get_velocities([], Kwiatowski_np, \"KWIATKOWSKI Michał\", df)\n",
    "# df['Kwiatkowski_NP'] = Kwiatowski_np\n",
    "\n",
    "# df_search = df[['stage_distance', 'stage_grade', 'profile_icon', \n",
    "#                 'Campenaerts_velocities', 'Campenaerts_NP', \n",
    "#                 'JOHANNESSEN_velocities', 'JOHANNESSEN_NP', \n",
    "#                 'Lafay_velocities', 'Lafay_NP', \n",
    "#                 'Bernal_velocities', 'Bernal_NP', \n",
    "#                 'Kwiatkowski_velocities', 'Kwiatkowski_NP']]\n",
    "# df_search.to_csv('searched_powers.csv')"
   ]
  },
  {
   "cell_type": "code",
   "execution_count": 32,
   "metadata": {},
   "outputs": [
    {
     "name": "stderr",
     "output_type": "stream",
     "text": [
      "/tmp/ipykernel_7258/1590996136.py:4: FutureWarning: The behavior of DataFrame concatenation with empty or all-NA entries is deprecated. In a future version, this will no longer exclude empty or all-NA columns when determining the result dtypes. To retain the old behavior, exclude the relevant entries before the concat operation.\n",
      "  power_df = pd.concat((power_df,\n"
     ]
    }
   ],
   "source": [
    "def add_to_df(avg, np, name,df, power_df):\n",
    "      clen = len(avg)\n",
    "      v, w = get_velocities_weights([], [], avg, name, df)\n",
    "      power_df = pd.concat((power_df,\n",
    "                              pd.DataFrame(\n",
    "                                    {'Stage_id':df.iloc[:clen].index, 'year':df.iloc[:clen].year, \n",
    "                                    'stage_type':df.iloc[:clen].stage_type, 'profile_icon':df.iloc[:clen].profile_icon, \n",
    "                                    'Name':[name]*clen, \n",
    "                                    'stage_distance': df.iloc[:clen].stage_distance, 'stage_grade': df.iloc[:clen].stage_grade, \n",
    "                                    'velocity': v, 'Power_Avg': avg, 'Power_NP': np, 'weight':w}\n",
    "                              )))\n",
    "      return power_df\n",
    "      \n",
    "      \n",
    "power_df = pd.DataFrame(columns=['Stage_id', 'year', 'stage_type', 'profile_icon', 'Name', 'stage_distance', 'stage_grade', 'velocity', 'Power_Avg', 'Power_NP'])\n",
    "power_df = add_to_df(Campenaerts_avg, Campenaerts_NP,'CAMPENAERTS Victor', df, power_df)\n",
    "power_df = add_to_df(Johannessen_avg, Johannessen_np,'JOHANNESSEN Tobias Halland', df, power_df)\n",
    "power_df = add_to_df(Lafay_avg, Lafay_np,\"LAFAY Victor\", df, power_df)\n",
    "power_df = add_to_df(Bernal_avg, Bernal_np,\"BERNAL Egan\", df, power_df)\n",
    "power_df = add_to_df(Kwiatowski_avg, Kwiatowski_np,\"KWIATKOWSKI Michał\", df, power_df)\n",
    "\n",
    "power_df = power_df[power_df.Power_Avg != 0]\n",
    "power_df = power_df.reset_index(drop=True)"
   ]
  },
  {
   "cell_type": "code",
   "execution_count": 40,
   "metadata": {},
   "outputs": [],
   "source": [
    "power_df.to_excel('Power_df.xlsx')"
   ]
  },
  {
   "cell_type": "code",
   "execution_count": 37,
   "metadata": {},
   "outputs": [],
   "source": [
    "df_search = pd.read_csv(\"searched_powers.csv\")"
   ]
  },
  {
   "cell_type": "code",
   "execution_count": 38,
   "metadata": {},
   "outputs": [],
   "source": [
    "flat =  df_search[(df_search.profile_icon == 'p1')]\n",
    "hilly = df_search[(df_search.profile_icon == 'p2') | (df_search.profile_icon == 'p3')]\n",
    "mountains = df_search[(df_search.profile_icon == 'p4') | (df_search.profile_icon == 'p5')]"
   ]
  },
  {
   "cell_type": "code",
   "execution_count": 53,
   "metadata": {},
   "outputs": [
    {
     "name": "stdout",
     "output_type": "stream",
     "text": [
      "21.020979575255552\n",
      "12.931007194970796\n",
      "9.677467332558363\n",
      "Best Combination: [([0.5, 0.5], [1.0, 1.0]), ([0.5, 1.0], [0.5, 1.0]), ([1.5, 1.5], [0.5, 0.5])]\n",
      "Best Result: [21.020979575255552, 12.931007194970796, 9.677467332558363]\n"
     ]
    }
   ],
   "source": [
    "# 2023 TDF power numbers \n",
    "# Victor Campenaerts 72Kg Time trail\n",
    "# JOHANNESSEN Tobias Halland 62kg  CLIMBER\n",
    "# Victor lafay 65kg CLIMBER\n",
    "# Egan Bernal 60 KG GC/climber\n",
    "# KWIATKOWSKI Michał 68KG GC/climber/TT\n",
    "\n",
    "def get_powers(slope_mod, velocity_mod, df):\n",
    "    avg = 0\n",
    "    for stage in df.itertuples():\n",
    "        if stage.Campenaerts_velocities != 0.0:\n",
    "            avg = np.mean((avg, \n",
    "                          abs(ph.cycling_power_profile_mods(stage.stage_grade, 72, stage.Campenaerts_velocities, stage.profile_icon, slope_mod, velocity_mod) \n",
    "                          - stage.Campenaerts_NP)))\n",
    "        if stage.JOHANNESSEN_velocities != 0.0:\n",
    "            avg = np.mean((avg, \n",
    "                          abs(ph.cycling_power_profile_mods(stage.stage_grade, 62, stage.JOHANNESSEN_velocities, stage.profile_icon, slope_mod, velocity_mod) \n",
    "                          - stage.JOHANNESSEN_NP)))\n",
    "        if stage.Lafay_velocities != 0.0:\n",
    "            avg = np.mean((avg, \n",
    "                          abs(ph.cycling_power_profile_mods(stage.stage_grade, 65, stage.Lafay_velocities, stage.profile_icon, slope_mod, velocity_mod) \n",
    "                          - stage.Lafay_NP)))\n",
    "        if stage.Bernal_velocities != 0.0:\n",
    "            avg = np.mean((avg, \n",
    "                          abs(ph.cycling_power_profile_mods(stage.stage_grade, 60, stage.Bernal_velocities, stage.profile_icon, slope_mod, velocity_mod) \n",
    "                          - stage.Bernal_NP)))\n",
    "        if stage.Kwiatkowski_velocities != 0.0:\n",
    "            avg = np.mean((avg, \n",
    "                          abs(ph.cycling_power_profile_mods(stage.stage_grade, 68, stage.Kwiatkowski_velocities, stage.profile_icon, slope_mod, velocity_mod) \n",
    "                          - stage.Kwiatkowski_NP)))\n",
    "    return avg\n",
    "            \n",
    "        \n",
    "\n",
    "slope_mods = [0,0]\n",
    "velocity_mods = [0,0]\n",
    "\n",
    "best_result = float('+inf')\n",
    "best_results = []\n",
    "best_combination = None\n",
    "best_combinations = []\n",
    "dfs = [flat, hilly, mountains]\n",
    "\n",
    "for i, df in enumerate(dfs):\n",
    "    for slope_mod_uphill in range(5,30, 5):\n",
    "        for slope_mod_flat in range(5,30, 5):\n",
    "            for velocity_mod_flat in range(5,30, 5):\n",
    "                for velocity_mod_uphill in range(5,30, 5):\n",
    "                    current_result = get_powers([slope_mod_flat/10, slope_mod_uphill/10], \n",
    "                                                [velocity_mod_flat/10, velocity_mod_uphill/10], \n",
    "                                                df)\n",
    "                    if current_result < best_result:\n",
    "                        best_result = current_result\n",
    "                        best_combination = ([slope_mod_flat/10, slope_mod_uphill/10], [velocity_mod_flat/10, velocity_mod_uphill/10])\n",
    "                        \n",
    "    print(best_result)\n",
    "    best_results.append(best_result)\n",
    "    best_combinations.append(best_combination)\n",
    "\n",
    "print(\"Best Combination:\", best_combinations[:])\n",
    "print(\"Best Result:\", best_results[:])\n"
   ]
  },
  {
   "cell_type": "code",
   "execution_count": 91,
   "metadata": {},
   "outputs": [],
   "source": [
    "def get_powers(slope_mod, velocity_mod, df):\n",
    "    estimates = []\n",
    "    actuals = []\n",
    "    for stage in df.itertuples():\n",
    "        if stage.Campenaerts_velocities != 0.0:\n",
    "            estimates.append(ph.cycling_power_profile_mods(stage.stage_grade, 72, stage.Campenaerts_velocities, stage.profile_icon, slope_mod, velocity_mod))\n",
    "            actuals.append(stage.Campenaerts_NP)\n",
    "        if stage.JOHANNESSEN_velocities != 0.0:\n",
    "            estimates.append(ph.cycling_power_profile_mods(stage.stage_grade, 62, stage.JOHANNESSEN_velocities, stage.profile_icon, slope_mod, velocity_mod))\n",
    "            actuals.append(stage.JOHANNESSEN_NP)\n",
    "        if stage.Lafay_velocities != 0.0:\n",
    "            estimates.append(ph.cycling_power_profile_mods(stage.stage_grade, 65, stage.Lafay_velocities, stage.profile_icon, slope_mod, velocity_mod))\n",
    "            actuals.append(stage.Lafay_NP)\n",
    "        if stage.Bernal_velocities != 0.0:\n",
    "            estimates.append(ph.cycling_power_profile_mods(stage.stage_grade, 60, stage.Bernal_velocities, stage.profile_icon, slope_mod, velocity_mod))\n",
    "            actuals.append(stage.Bernal_NP)\n",
    "        if stage.Kwiatkowski_velocities != 0.0:\n",
    "            estimates.append(ph.cycling_power_profile_mods(stage.stage_grade, 68, stage.Kwiatkowski_velocities, stage.profile_icon, slope_mod, velocity_mod))\n",
    "            actuals.append(stage.Kwiatkowski_NP)\n",
    "            \n",
    "    return estimates, actuals\n",
    "            \n",
    "flat_estimates, flat_actuals = get_powers([0.5, 0.5], [1.0, 1.0], flat)\n",
    "hilly_estimates, hilly_actuals = get_powers([0.5, 1.0], [0.5, 1.0], hilly)\n",
    "mountain_estimates, mountain_actuals = get_powers([1.5, 1.5], [0.5, 0.5], mountains)\n",
    "estimates = flat_estimates + hilly_estimates + mountain_estimates\n",
    "actuals = flat_actuals + hilly_actuals + mountain_actuals"
   ]
  },
  {
   "cell_type": "code",
   "execution_count": 95,
   "metadata": {},
   "outputs": [
    {
     "data": {
      "application/vnd.plotly.v1+json": {
       "config": {
        "plotlyServerURL": "https://plot.ly"
       },
       "data": [
        {
         "hovertemplate": "variable=wide_variable_0<br>index=%{x}<br>value=%{y}<extra></extra>",
         "legendgroup": "wide_variable_0",
         "marker": {
          "color": "#636efa",
          "symbol": "circle"
         },
         "mode": "markers",
         "name": "estimate",
         "orientation": "v",
         "showlegend": true,
         "type": "scatter",
         "x": [
          0,
          1,
          2,
          3,
          4,
          5,
          6,
          7,
          8,
          9,
          10,
          11,
          12,
          13,
          14,
          15,
          16,
          17,
          18,
          19,
          20,
          21,
          22,
          23,
          24,
          25,
          26,
          27,
          28,
          29,
          30,
          31,
          32,
          33,
          34,
          35,
          36,
          37,
          38
         ],
         "xaxis": "x",
         "y": [
          337.8604151803523,
          311.5025014453496,
          297.8115917300868,
          338.39998740546264,
          327.84735335603006,
          293.96381545327046,
          324.6929392624352,
          276.55077044115546,
          300.2703085791841,
          338.28856009567306,
          347.55038632352534,
          277.26091041531845,
          278.613857570119,
          289.4922168008268,
          289.40869652321754,
          289.4140880560998,
          256.8885005634909,
          263.09697677684403,
          273.8311406460655,
          333.33087562425544,
          288.22061177304795,
          289.0869610165129,
          304.5040933409166,
          306.1484791163772,
          281.345224068619,
          269.8613996338569,
          287.8111088616233,
          291.44277558619063,
          309.72566901756625,
          280.90613109685415,
          317.713245520663,
          306.2123185965213,
          327.4853820965808,
          287.5351259999848,
          270.2095666278078,
          341.0741093360803,
          341.8909744987827,
          298.185112568082,
          300.7491400270811
         ],
         "yaxis": "y"
        },
        {
         "hovertemplate": "variable=wide_variable_1<br>index=%{x}<br>value=%{y}<extra></extra>",
         "legendgroup": "wide_variable_1",
         "marker": {
          "color": "#EF553B",
          "symbol": "circle"
         },
         "mode": "markers",
         "name": "actual",
         "orientation": "v",
         "showlegend": true,
         "type": "scatter",
         "x": [
          0,
          1,
          2,
          3,
          4,
          5,
          6,
          7,
          8,
          9,
          10,
          11,
          12,
          13,
          14,
          15,
          16,
          17,
          18,
          19,
          20,
          21,
          22,
          23,
          24,
          25,
          26,
          27,
          28,
          29,
          30,
          31,
          32,
          33,
          34,
          35,
          36,
          37,
          38
         ],
         "xaxis": "x",
         "y": [
          353,
          303,
          306,
          284,
          302,
          277,
          322,
          258,
          284,
          317,
          319,
          271,
          271,
          257,
          228,
          237,
          259,
          290,
          270,
          315,
          289,
          303,
          282,
          294,
          288,
          263,
          270,
          315,
          330,
          298,
          339,
          287,
          315,
          302,
          252,
          320,
          334,
          299,
          313
         ],
         "yaxis": "y"
        }
       ],
       "layout": {
        "legend": {
         "title": {
          "text": "variable"
         },
         "tracegroupgap": 0
        },
        "margin": {
         "t": 60
        },
        "template": {
         "data": {
          "bar": [
           {
            "error_x": {
             "color": "#2a3f5f"
            },
            "error_y": {
             "color": "#2a3f5f"
            },
            "marker": {
             "line": {
              "color": "#E5ECF6",
              "width": 0.5
             },
             "pattern": {
              "fillmode": "overlay",
              "size": 10,
              "solidity": 0.2
             }
            },
            "type": "bar"
           }
          ],
          "barpolar": [
           {
            "marker": {
             "line": {
              "color": "#E5ECF6",
              "width": 0.5
             },
             "pattern": {
              "fillmode": "overlay",
              "size": 10,
              "solidity": 0.2
             }
            },
            "type": "barpolar"
           }
          ],
          "carpet": [
           {
            "aaxis": {
             "endlinecolor": "#2a3f5f",
             "gridcolor": "white",
             "linecolor": "white",
             "minorgridcolor": "white",
             "startlinecolor": "#2a3f5f"
            },
            "baxis": {
             "endlinecolor": "#2a3f5f",
             "gridcolor": "white",
             "linecolor": "white",
             "minorgridcolor": "white",
             "startlinecolor": "#2a3f5f"
            },
            "type": "carpet"
           }
          ],
          "choropleth": [
           {
            "colorbar": {
             "outlinewidth": 0,
             "ticks": ""
            },
            "type": "choropleth"
           }
          ],
          "contour": [
           {
            "colorbar": {
             "outlinewidth": 0,
             "ticks": ""
            },
            "colorscale": [
             [
              0,
              "#0d0887"
             ],
             [
              0.1111111111111111,
              "#46039f"
             ],
             [
              0.2222222222222222,
              "#7201a8"
             ],
             [
              0.3333333333333333,
              "#9c179e"
             ],
             [
              0.4444444444444444,
              "#bd3786"
             ],
             [
              0.5555555555555556,
              "#d8576b"
             ],
             [
              0.6666666666666666,
              "#ed7953"
             ],
             [
              0.7777777777777778,
              "#fb9f3a"
             ],
             [
              0.8888888888888888,
              "#fdca26"
             ],
             [
              1,
              "#f0f921"
             ]
            ],
            "type": "contour"
           }
          ],
          "contourcarpet": [
           {
            "colorbar": {
             "outlinewidth": 0,
             "ticks": ""
            },
            "type": "contourcarpet"
           }
          ],
          "heatmap": [
           {
            "colorbar": {
             "outlinewidth": 0,
             "ticks": ""
            },
            "colorscale": [
             [
              0,
              "#0d0887"
             ],
             [
              0.1111111111111111,
              "#46039f"
             ],
             [
              0.2222222222222222,
              "#7201a8"
             ],
             [
              0.3333333333333333,
              "#9c179e"
             ],
             [
              0.4444444444444444,
              "#bd3786"
             ],
             [
              0.5555555555555556,
              "#d8576b"
             ],
             [
              0.6666666666666666,
              "#ed7953"
             ],
             [
              0.7777777777777778,
              "#fb9f3a"
             ],
             [
              0.8888888888888888,
              "#fdca26"
             ],
             [
              1,
              "#f0f921"
             ]
            ],
            "type": "heatmap"
           }
          ],
          "heatmapgl": [
           {
            "colorbar": {
             "outlinewidth": 0,
             "ticks": ""
            },
            "colorscale": [
             [
              0,
              "#0d0887"
             ],
             [
              0.1111111111111111,
              "#46039f"
             ],
             [
              0.2222222222222222,
              "#7201a8"
             ],
             [
              0.3333333333333333,
              "#9c179e"
             ],
             [
              0.4444444444444444,
              "#bd3786"
             ],
             [
              0.5555555555555556,
              "#d8576b"
             ],
             [
              0.6666666666666666,
              "#ed7953"
             ],
             [
              0.7777777777777778,
              "#fb9f3a"
             ],
             [
              0.8888888888888888,
              "#fdca26"
             ],
             [
              1,
              "#f0f921"
             ]
            ],
            "type": "heatmapgl"
           }
          ],
          "histogram": [
           {
            "marker": {
             "pattern": {
              "fillmode": "overlay",
              "size": 10,
              "solidity": 0.2
             }
            },
            "type": "histogram"
           }
          ],
          "histogram2d": [
           {
            "colorbar": {
             "outlinewidth": 0,
             "ticks": ""
            },
            "colorscale": [
             [
              0,
              "#0d0887"
             ],
             [
              0.1111111111111111,
              "#46039f"
             ],
             [
              0.2222222222222222,
              "#7201a8"
             ],
             [
              0.3333333333333333,
              "#9c179e"
             ],
             [
              0.4444444444444444,
              "#bd3786"
             ],
             [
              0.5555555555555556,
              "#d8576b"
             ],
             [
              0.6666666666666666,
              "#ed7953"
             ],
             [
              0.7777777777777778,
              "#fb9f3a"
             ],
             [
              0.8888888888888888,
              "#fdca26"
             ],
             [
              1,
              "#f0f921"
             ]
            ],
            "type": "histogram2d"
           }
          ],
          "histogram2dcontour": [
           {
            "colorbar": {
             "outlinewidth": 0,
             "ticks": ""
            },
            "colorscale": [
             [
              0,
              "#0d0887"
             ],
             [
              0.1111111111111111,
              "#46039f"
             ],
             [
              0.2222222222222222,
              "#7201a8"
             ],
             [
              0.3333333333333333,
              "#9c179e"
             ],
             [
              0.4444444444444444,
              "#bd3786"
             ],
             [
              0.5555555555555556,
              "#d8576b"
             ],
             [
              0.6666666666666666,
              "#ed7953"
             ],
             [
              0.7777777777777778,
              "#fb9f3a"
             ],
             [
              0.8888888888888888,
              "#fdca26"
             ],
             [
              1,
              "#f0f921"
             ]
            ],
            "type": "histogram2dcontour"
           }
          ],
          "mesh3d": [
           {
            "colorbar": {
             "outlinewidth": 0,
             "ticks": ""
            },
            "type": "mesh3d"
           }
          ],
          "parcoords": [
           {
            "line": {
             "colorbar": {
              "outlinewidth": 0,
              "ticks": ""
             }
            },
            "type": "parcoords"
           }
          ],
          "pie": [
           {
            "automargin": true,
            "type": "pie"
           }
          ],
          "scatter": [
           {
            "fillpattern": {
             "fillmode": "overlay",
             "size": 10,
             "solidity": 0.2
            },
            "type": "scatter"
           }
          ],
          "scatter3d": [
           {
            "line": {
             "colorbar": {
              "outlinewidth": 0,
              "ticks": ""
             }
            },
            "marker": {
             "colorbar": {
              "outlinewidth": 0,
              "ticks": ""
             }
            },
            "type": "scatter3d"
           }
          ],
          "scattercarpet": [
           {
            "marker": {
             "colorbar": {
              "outlinewidth": 0,
              "ticks": ""
             }
            },
            "type": "scattercarpet"
           }
          ],
          "scattergeo": [
           {
            "marker": {
             "colorbar": {
              "outlinewidth": 0,
              "ticks": ""
             }
            },
            "type": "scattergeo"
           }
          ],
          "scattergl": [
           {
            "marker": {
             "colorbar": {
              "outlinewidth": 0,
              "ticks": ""
             }
            },
            "type": "scattergl"
           }
          ],
          "scattermapbox": [
           {
            "marker": {
             "colorbar": {
              "outlinewidth": 0,
              "ticks": ""
             }
            },
            "type": "scattermapbox"
           }
          ],
          "scatterpolar": [
           {
            "marker": {
             "colorbar": {
              "outlinewidth": 0,
              "ticks": ""
             }
            },
            "type": "scatterpolar"
           }
          ],
          "scatterpolargl": [
           {
            "marker": {
             "colorbar": {
              "outlinewidth": 0,
              "ticks": ""
             }
            },
            "type": "scatterpolargl"
           }
          ],
          "scatterternary": [
           {
            "marker": {
             "colorbar": {
              "outlinewidth": 0,
              "ticks": ""
             }
            },
            "type": "scatterternary"
           }
          ],
          "surface": [
           {
            "colorbar": {
             "outlinewidth": 0,
             "ticks": ""
            },
            "colorscale": [
             [
              0,
              "#0d0887"
             ],
             [
              0.1111111111111111,
              "#46039f"
             ],
             [
              0.2222222222222222,
              "#7201a8"
             ],
             [
              0.3333333333333333,
              "#9c179e"
             ],
             [
              0.4444444444444444,
              "#bd3786"
             ],
             [
              0.5555555555555556,
              "#d8576b"
             ],
             [
              0.6666666666666666,
              "#ed7953"
             ],
             [
              0.7777777777777778,
              "#fb9f3a"
             ],
             [
              0.8888888888888888,
              "#fdca26"
             ],
             [
              1,
              "#f0f921"
             ]
            ],
            "type": "surface"
           }
          ],
          "table": [
           {
            "cells": {
             "fill": {
              "color": "#EBF0F8"
             },
             "line": {
              "color": "white"
             }
            },
            "header": {
             "fill": {
              "color": "#C8D4E3"
             },
             "line": {
              "color": "white"
             }
            },
            "type": "table"
           }
          ]
         },
         "layout": {
          "annotationdefaults": {
           "arrowcolor": "#2a3f5f",
           "arrowhead": 0,
           "arrowwidth": 1
          },
          "autotypenumbers": "strict",
          "coloraxis": {
           "colorbar": {
            "outlinewidth": 0,
            "ticks": ""
           }
          },
          "colorscale": {
           "diverging": [
            [
             0,
             "#8e0152"
            ],
            [
             0.1,
             "#c51b7d"
            ],
            [
             0.2,
             "#de77ae"
            ],
            [
             0.3,
             "#f1b6da"
            ],
            [
             0.4,
             "#fde0ef"
            ],
            [
             0.5,
             "#f7f7f7"
            ],
            [
             0.6,
             "#e6f5d0"
            ],
            [
             0.7,
             "#b8e186"
            ],
            [
             0.8,
             "#7fbc41"
            ],
            [
             0.9,
             "#4d9221"
            ],
            [
             1,
             "#276419"
            ]
           ],
           "sequential": [
            [
             0,
             "#0d0887"
            ],
            [
             0.1111111111111111,
             "#46039f"
            ],
            [
             0.2222222222222222,
             "#7201a8"
            ],
            [
             0.3333333333333333,
             "#9c179e"
            ],
            [
             0.4444444444444444,
             "#bd3786"
            ],
            [
             0.5555555555555556,
             "#d8576b"
            ],
            [
             0.6666666666666666,
             "#ed7953"
            ],
            [
             0.7777777777777778,
             "#fb9f3a"
            ],
            [
             0.8888888888888888,
             "#fdca26"
            ],
            [
             1,
             "#f0f921"
            ]
           ],
           "sequentialminus": [
            [
             0,
             "#0d0887"
            ],
            [
             0.1111111111111111,
             "#46039f"
            ],
            [
             0.2222222222222222,
             "#7201a8"
            ],
            [
             0.3333333333333333,
             "#9c179e"
            ],
            [
             0.4444444444444444,
             "#bd3786"
            ],
            [
             0.5555555555555556,
             "#d8576b"
            ],
            [
             0.6666666666666666,
             "#ed7953"
            ],
            [
             0.7777777777777778,
             "#fb9f3a"
            ],
            [
             0.8888888888888888,
             "#fdca26"
            ],
            [
             1,
             "#f0f921"
            ]
           ]
          },
          "colorway": [
           "#636efa",
           "#EF553B",
           "#00cc96",
           "#ab63fa",
           "#FFA15A",
           "#19d3f3",
           "#FF6692",
           "#B6E880",
           "#FF97FF",
           "#FECB52"
          ],
          "font": {
           "color": "#2a3f5f"
          },
          "geo": {
           "bgcolor": "white",
           "lakecolor": "white",
           "landcolor": "#E5ECF6",
           "showlakes": true,
           "showland": true,
           "subunitcolor": "white"
          },
          "hoverlabel": {
           "align": "left"
          },
          "hovermode": "closest",
          "mapbox": {
           "style": "light"
          },
          "paper_bgcolor": "white",
          "plot_bgcolor": "#E5ECF6",
          "polar": {
           "angularaxis": {
            "gridcolor": "white",
            "linecolor": "white",
            "ticks": ""
           },
           "bgcolor": "#E5ECF6",
           "radialaxis": {
            "gridcolor": "white",
            "linecolor": "white",
            "ticks": ""
           }
          },
          "scene": {
           "xaxis": {
            "backgroundcolor": "#E5ECF6",
            "gridcolor": "white",
            "gridwidth": 2,
            "linecolor": "white",
            "showbackground": true,
            "ticks": "",
            "zerolinecolor": "white"
           },
           "yaxis": {
            "backgroundcolor": "#E5ECF6",
            "gridcolor": "white",
            "gridwidth": 2,
            "linecolor": "white",
            "showbackground": true,
            "ticks": "",
            "zerolinecolor": "white"
           },
           "zaxis": {
            "backgroundcolor": "#E5ECF6",
            "gridcolor": "white",
            "gridwidth": 2,
            "linecolor": "white",
            "showbackground": true,
            "ticks": "",
            "zerolinecolor": "white"
           }
          },
          "shapedefaults": {
           "line": {
            "color": "#2a3f5f"
           }
          },
          "ternary": {
           "aaxis": {
            "gridcolor": "white",
            "linecolor": "white",
            "ticks": ""
           },
           "baxis": {
            "gridcolor": "white",
            "linecolor": "white",
            "ticks": ""
           },
           "bgcolor": "#E5ECF6",
           "caxis": {
            "gridcolor": "white",
            "linecolor": "white",
            "ticks": ""
           }
          },
          "title": {
           "x": 0.05
          },
          "xaxis": {
           "automargin": true,
           "gridcolor": "white",
           "linecolor": "white",
           "ticks": "",
           "title": {
            "standoff": 15
           },
           "zerolinecolor": "white",
           "zerolinewidth": 2
          },
          "yaxis": {
           "automargin": true,
           "gridcolor": "white",
           "linecolor": "white",
           "ticks": "",
           "title": {
            "standoff": 15
           },
           "zerolinecolor": "white",
           "zerolinewidth": 2
          }
         }
        },
        "xaxis": {
         "anchor": "y",
         "domain": [
          0,
          1
         ],
         "title": {
          "text": "index"
         }
        },
        "yaxis": {
         "anchor": "x",
         "domain": [
          0,
          1
         ],
         "range": [
          0,
          400
         ],
         "title": {
          "text": "value"
         }
        }
       }
      }
     },
     "metadata": {},
     "output_type": "display_data"
    }
   ],
   "source": [
    "\n",
    "fig = px.scatter(y=[mountain_estimates, mountain_actuals], range_y=[0,400])\n",
    "fig.data[0].name = \"estimate\"\n",
    "fig.data[1].name = \"actual\"\n",
    "fig.show()"
   ]
  }
 ],
 "metadata": {
  "kernelspec": {
   "display_name": "Python 3",
   "language": "python",
   "name": "python3"
  },
  "language_info": {
   "codemirror_mode": {
    "name": "ipython",
    "version": 3
   },
   "file_extension": ".py",
   "mimetype": "text/x-python",
   "name": "python",
   "nbconvert_exporter": "python",
   "pygments_lexer": "ipython3",
   "version": "3.10.13"
  }
 },
 "nbformat": 4,
 "nbformat_minor": 2
}
