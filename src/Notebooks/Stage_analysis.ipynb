{
 "cells": [
  {
   "cell_type": "code",
   "execution_count": 17,
   "metadata": {},
   "outputs": [],
   "source": [
    "import numpy as np\n",
    "import pandas as pd\n",
    "import os\n",
    "import pickle \n",
    "import procyclingstats\n",
    "import sys\n",
    "sys.path.insert(1, '/mnt/HDD/Code/TDF/src')\n",
    "import power_helper as ph\n",
    "import plotly.express as px"
   ]
  },
  {
   "cell_type": "code",
   "execution_count": 18,
   "metadata": {},
   "outputs": [],
   "source": [
    "df = pd.read_csv(\"../Data/Data_edited.csv\")\n",
    "# Riders strikes\n",
    "df = df.drop(axis=0, index=248) # 1996 stage 9\n",
    "df = df.drop(axis=0, index=234) # 1995 stage 16\n",
    "# Calculate power for full tour with fixed grade\n",
    "total_climbed = df.groupby(\"year\").stage_vertical_meters.sum()\n",
    "total_distance = df.groupby(\"year\").stage_distance.sum()\n",
    "gc_weights = df.groupby(\"year\").gc_weight.mean()\n",
    "gc_time = df.groupby(\"year\").gc_stage_time.sum()\n",
    "total_grades = total_climbed/(total_distance*1000)\n",
    "velocity = (total_distance*1000)/gc_time\n",
    "year_power = ph.cycling_power(total_grades, gc_weights, velocity)"
   ]
  },
  {
   "cell_type": "code",
   "execution_count": 5,
   "metadata": {},
   "outputs": [
    {
     "data": {
      "text/plain": [
       "'Arrival'"
      ]
     },
     "execution_count": 5,
     "metadata": {},
     "output_type": "execute_result"
    }
   ],
   "source": [
    "['year', 'Departure', 'Arrival', 'Type', 'Profile', 'Stage winner', 'GC leader', 'Time',  'Distance', 'Vertical meters', 'Speed', 'Power'][2]"
   ]
  },
  {
   "cell_type": "code",
   "execution_count": 28,
   "metadata": {},
   "outputs": [],
   "source": [
    "a = df.iloc[2].reset_index()['index'].values"
   ]
  },
  {
   "cell_type": "code",
   "execution_count": 29,
   "metadata": {},
   "outputs": [
    {
     "data": {
      "text/plain": [
       "array(['Unnamed: 0', 'year', 'Race_url', 'stage', 'stage_url',\n",
       "       'stage_type', 'stage_winner_time_str', 'profile_icon',\n",
       "       'stage_winner', 'stage_winner_url', 'stage_winner_time',\n",
       "       'stage_distance', 'gc_stage_time_str', 'stage_vertical_meters',\n",
       "       'gc_leader', 'gc_leader_url', 'gc_stage_time', 'power',\n",
       "       'gc_weight', 'gc_height', 'stage_grade', 'gc_speed',\n",
       "       'stage_departure', 'stage_arrival'], dtype=object)"
      ]
     },
     "execution_count": 29,
     "metadata": {},
     "output_type": "execute_result"
    }
   ],
   "source": [
    "a"
   ]
  },
  {
   "cell_type": "code",
   "execution_count": null,
   "metadata": {},
   "outputs": [],
   "source": []
  },
  {
   "cell_type": "code",
   "execution_count": null,
   "metadata": {},
   "outputs": [],
   "source": [
    "# Power to speed\n",
    "\n",
    "# avg_grades =  df.groupby(\"year\").stage_vertical_meters.sum() / (df.groupby(\"year\").stage_distance.sum()*1000) \n",
    "avg_speed = ((df.groupby(\"year\").stage_distance.sum()*1000) / df.groupby(\"year\").gc_stage_time.sum()) * 3.6\n",
    "\n",
    "import plotly.graph_objects as go\n",
    "from plotly.subplots import make_subplots\n",
    "\n",
    "# Create figure with secondary y-axis\n",
    "fig = make_subplots(specs=[[{\"secondary_y\": True}]])\n",
    "\n",
    "# Add traces\n",
    "fig.add_trace(\n",
    "    go.Scatter(x=df.year.unique(), y=df.groupby(\"year\").power.mean(), name=\"power\"),\n",
    "    secondary_y=False,\n",
    ")\n",
    "\n",
    "fig.add_trace(\n",
    "    go.Scatter(x=df.year.unique(), y=avg_speed, name=\"speed\"),\n",
    "    secondary_y=True,\n",
    ")\n",
    "\n",
    "fig.add_trace(\n",
    "    go.Scatter(x=df.year.unique(), y=year_power, name=\"year_power\")\n",
    ")\n",
    "\n",
    "# Add figure title\n",
    "fig.update_layout(\n",
    "    title_text=\"Power and speed by year\"\n",
    ")\n",
    "\n",
    "# Set x-axis title\n",
    "fig.update_xaxes(title_text=\"Year\")\n",
    "\n",
    "# Set y-axes titles\n",
    "fig.update_yaxes(title_text=\"<b>Power</b>\", secondary_y=False)\n",
    "fig.update_yaxes(title_text=\"<b>Grade</b>\", secondary_y=True)\n",
    "fig.update_yaxes(range = [0,500])\n",
    "fig.update_yaxes(range = [30,50], secondary_y=True)\n",
    "\n",
    "fig.show()"
   ]
  },
  {
   "cell_type": "code",
   "execution_count": null,
   "metadata": {},
   "outputs": [],
   "source": [
    "px.scatter(color=df.year.unique(), x=df.groupby(\"year\").stage_vertical_meters.sum(), y=df.groupby(\"year\").stage_distance.sum(), title=\"Distance compared to elevation gain over the years\")\n"
   ]
  },
  {
   "cell_type": "code",
   "execution_count": null,
   "metadata": {},
   "outputs": [],
   "source": [
    "px.scatter(df,x=\"year\", y=\"stage_grade\", title=\"Stage grades per year\")\n"
   ]
  },
  {
   "cell_type": "code",
   "execution_count": null,
   "metadata": {},
   "outputs": [],
   "source": [
    "\n",
    "fig = px.scatter(df.groupby(\"year\").power.median(), title=\"Median stage power compared to full tour power\")\n",
    "fig.add_scatter(x=year_power.index, y=year_power.values)\n",
    "fig.show()"
   ]
  },
  {
   "cell_type": "code",
   "execution_count": null,
   "metadata": {},
   "outputs": [],
   "source": [
    "px.scatter(df[(df.stage_distance > 50) & (df.stage_type != \"ITT\")], x=\"year\", y=\"power\", hover_data=\"stage_url\", color=\"stage_distance\", trendline=\"ols\")\n"
   ]
  },
  {
   "cell_type": "code",
   "execution_count": null,
   "metadata": {},
   "outputs": [],
   "source": [
    "px.box(df[(df.stage_distance > 50) & (df.stage_type != \"ITT\")], x=\"year\", y=\"power\", hover_data=\"stage_url\", color=\"year\")"
   ]
  }
 ],
 "metadata": {
  "kernelspec": {
   "display_name": "Python 3.8.12 ('tf_27')",
   "language": "python",
   "name": "python3"
  },
  "language_info": {
   "codemirror_mode": {
    "name": "ipython",
    "version": 3
   },
   "file_extension": ".py",
   "mimetype": "text/x-python",
   "name": "python",
   "nbconvert_exporter": "python",
   "pygments_lexer": "ipython3",
   "version": "3.10.13"
  },
  "orig_nbformat": 4,
  "vscode": {
   "interpreter": {
    "hash": "026d596df1a9c90936e0a1b58c5e0cebd8aa7206170f4912021e32f2c9a9c065"
   }
  }
 },
 "nbformat": 4,
 "nbformat_minor": 2
}
