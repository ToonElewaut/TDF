{
 "cells": [
  {
   "cell_type": "code",
   "execution_count": null,
   "metadata": {},
   "outputs": [],
   "source": [
    "import numpy as np\n",
    "import pandas as pd\n",
    "import os\n",
    "import pickle \n",
    "import procyclingstats\n",
    "import power_helper as ph\n"
   ]
  },
  {
   "cell_type": "code",
   "execution_count": null,
   "metadata": {},
   "outputs": [],
   "source": [
    "# Get stage data from 1985-2023\n",
    "from procyclingstats import Race, Stage\n",
    "\n",
    "stages_dict = {\"year\":[0],\"Race_url\": [\"\"], \n",
    "                   \"stage\": [\"\"], \"stage_url\":[\"\"], \"stage_type\":[\"\"],  \"profile_icon\":[\"\"],\n",
    "                   \"stage_winner\":[\"\"], \"stage_winner_url\":[\"\"], \n",
    "                   \"stage_winner_time\":[\"\"], \"stage_distance\":[0.0], \n",
    "                   \"stage_vertical_meters\":[0.0], \"gc_leader\":[\"\"], \n",
    "                   \"gc_leader_url\":[\"\"], \"gc_stage_time\":[\"\"]}\n",
    "\n",
    "for year in range(1985,2024):\n",
    "    race = Race(\"race/tour-de-france/\" + str(year))\n",
    "    for race_stage in race.stages(\"stage_url\"):\n",
    "        stage = Stage(race_stage[\"stage_url\"])\n",
    "        # No gc results in protested stages \n",
    "        # No results in TTT \n",
    "        if (stage.stage_type() != \"TTT\"):\n",
    "            if len(stage.results(\"rider_name\")) > 0 and len(stage.gc(\"rider_name\")) > 0: \n",
    "                stages_dict[\"year\"].append(year)\n",
    "                stages_dict[\"Race_url\"].append(\"race/tour-de-france/\" + str(year))\n",
    "                stages_dict[\"stage\"].append(stage.arrival())\n",
    "                stages_dict[\"stage_url\"].append(stage.url)\n",
    "                stages_dict[\"stage_type\"].append(stage.stage_type())\n",
    "                stages_dict[\"profile_icon\"].append(stage.profile_icon())\n",
    "                stages_dict[\"stage_winner\"].append(stage.results('rider_name')[0])\n",
    "                stages_dict[\"stage_winner_url\"].append(stage.results('rider_url')[0])\n",
    "                stages_dict[\"stage_winner_time\"].append(stage.results('time')[0])\n",
    "                stages_dict[\"stage_distance\"].append(stage.distance())\n",
    "                stages_dict[\"stage_vertical_meters\"].append(stage.vertical_meters())\n",
    "                stages_dict[\"gc_leader\"].append(stage.gc(\"rider_name\")[0])\n",
    "                stages_dict[\"gc_leader_url\"].append(stage.gc(\"rider_url\")[0])\n",
    "                stages_dict[\"gc_stage_time\"].append([d for d in stage.results(\"rider_name\",\"time\") if d['rider_name'] in stage.gc(\"rider_name\")[0]['rider_name']][0]['time'])\n",
    "\n",
    "        \n",
    "    \n",
    "\n",
    "df = pd.DataFrame(stages_dict)"
   ]
  },
  {
   "cell_type": "code",
   "execution_count": null,
   "metadata": {},
   "outputs": [],
   "source": [
    "df.to_csv(\"Data_raw.csv\")"
   ]
  },
  {
   "cell_type": "code",
   "execution_count": null,
   "metadata": {},
   "outputs": [],
   "source": [
    "# Convert_dataset\n",
    "import ast\n",
    "def to_seconds(time):\n",
    "    h, m, s = time.split(':')\n",
    "    return int(h) * 3600 + int(m) * 60 + int(s)\n",
    "\n",
    "# Read raw data\n",
    "df = pd.read_csv(\"Data_raw.csv\").iloc[1:]\n",
    "\n",
    "df.stage_winner = df.stage_winner.apply(lambda x: ast.literal_eval(x)['rider_name']) # convert json to text\n",
    "df.stage_winner_url = df.stage_winner_url.apply(lambda x: ast.literal_eval(x)['rider_url']) # convert json to text\n",
    "df.stage_winner_time = df.stage_winner_time.apply(lambda x: ast.literal_eval(x)['time']) # convert json to text\n",
    "df.insert(6, \"stage_winner_time_str\", df.stage_winner_time, True) # insert time\n",
    "df.stage_winner_time = df.stage_winner_time.apply(to_seconds) # convert time to seconds for power calculations\n",
    "df.gc_leader = df.gc_leader.apply(lambda x: ast.literal_eval(x)['rider_name']) # convert json to text\n",
    "df.gc_leader_url = df.gc_leader_url.apply(lambda x: ast.literal_eval(x)['rider_url']) # convert json to text\n",
    "\n",
    "df.insert(12, \"gc_stage_time_str\", df.gc_stage_time, True) # Insert gc time\n",
    "df.gc_stage_time = df.gc_stage_time.apply(to_seconds) # convert gc time to seconds\n",
    "df['power'] = np.zeros(len(df)) # add power column\n",
    "df['gc_weight'] = np.zeros(len(df)) # add gc_weight column\n",
    "df['gc_height'] = np.zeros(len(df)) # add gc_height column\n",
    "df['stage_grade'] = df.stage_vertical_meters / (df.stage_distance * 1000) # add stage_grade\n",
    "df['gc_speed'] = (df.stage_distance *1000) / df.gc_stage_time # add velocity\n",
    "\n",
    "from procyclingstats import Stage, Rider\n",
    "\n",
    "# Get height and weight data for gc riders\n",
    "for i, stage in enumerate(df.itertuples(), 1):\n",
    "    rider = Rider(stage.gc_leader_url)\n",
    "    \n",
    "    try:\n",
    "        df.loc[i, 'gc_weight'] = rider.weight()\n",
    "        df.loc[i, 'gc_height'] = rider.height()\n",
    "    except (AttributeError, IndexError):\n",
    "        # print(\"No weight/height for \" + rider.name())\n",
    "        df.loc[i, 'gc_weight'] = 65\n",
    "        df.loc[i, 'gc_height'] = 1.70\n",
    "        \n",
    "powers = []\n",
    "for row in df.itertuples():\n",
    "    powers.append(ph.cycling_power_profile(row.stage_grade, row.gc_weight, row.gc_speed, row.profile_icon))\n",
    "    \n",
    "df.power = powers"
   ]
  }
 ],
 "metadata": {
  "kernelspec": {
   "display_name": "Python 3.8.12 ('tf_27')",
   "language": "python",
   "name": "python3"
  },
  "language_info": {
   "codemirror_mode": {
    "name": "ipython",
    "version": 3
   },
   "file_extension": ".py",
   "mimetype": "text/x-python",
   "name": "python",
   "nbconvert_exporter": "python",
   "pygments_lexer": "ipython3",
   "version": "3.10.13"
  },
  "orig_nbformat": 4,
  "vscode": {
   "interpreter": {
    "hash": "026d596df1a9c90936e0a1b58c5e0cebd8aa7206170f4912021e32f2c9a9c065"
   }
  }
 },
 "nbformat": 4,
 "nbformat_minor": 2
}
